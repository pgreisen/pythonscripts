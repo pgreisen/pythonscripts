{
 "cells": [
  {
   "cell_type": "code",
   "execution_count": 1,
   "metadata": {},
   "outputs": [],
   "source": [
    "import python_codon_tables"
   ]
  },
  {
   "cell_type": "code",
   "execution_count": 2,
   "metadata": {
    "hideCode": false
   },
   "outputs": [],
   "source": [
    "aa_table = {\n",
    "    '*' : \"End\",\n",
    "    'A' : 'Ala',\n",
    "    'C' : \"Cys\",\n",
    "    'D' : \"Asp\",\n",
    "    'E' : \"Glu\",\n",
    "    'F' : \"Phe\",\n",
    "    'G' : \"Gly\",\n",
    "    'H' : \"His\",\n",
    "    'I' : \"Ile\",\n",
    "    'K' : \"Lys\",\n",
    "    'L' : \"Leu\",\n",
    "    'M' : \"Met\",\n",
    "    'N' : \"Asn\",\n",
    "    'P' : \"Pro\",\n",
    "    'Q' : \"Gln\",\n",
    "    'R' : \"Arg\",\n",
    "    'S' : \"Ser\",\n",
    "    'T' : \"Thr\",\n",
    "    'V' : \"Val\",\n",
    "    'W' : \"Trp\",\n",
    "    'Y' : \"Tyr\"\n",
    "}"
   ]
  },
  {
   "cell_type": "code",
   "execution_count": 3,
   "metadata": {
    "hideCode": false
   },
   "outputs": [],
   "source": [
    "aa2_table = {\n",
    "    \"End\" : '*',\n",
    "    'Ala' : 'A',\n",
    "    \"Cys\" : 'C',\n",
    "    \"Asp\" : 'D',\n",
    "    \"Glu\" : 'E',\n",
    "    \"Phe\" : 'F',\n",
    "    \"Gly\" : 'G',\n",
    "    \"His\" : 'H',\n",
    "    \"Ile\" : 'I',\n",
    "    \"Lys\" : 'K',\n",
    "    \"Leu\" : 'L',\n",
    "    \"Met\" : 'M',\n",
    "    \"Asn\" : 'N',\n",
    "    \"Pro\" : 'P',\n",
    "    \"Gln\" : 'Q',\n",
    "    \"Arg\" : 'R',\n",
    "    \"Ser\" : 'S',\n",
    "    \"Thr\" : 'T',\n",
    "    \"Val\" : 'V',\n",
    "    \"Trp\" : 'W',\n",
    "    \"Tyr\" : 'Y'  \n",
    "}"
   ]
  },
  {
   "cell_type": "code",
   "execution_count": 23,
   "metadata": {},
   "outputs": [],
   "source": [
    "codontables = python_codon_tables.available_codon_tables_names"
   ]
  },
  {
   "cell_type": "code",
   "execution_count": 5,
   "metadata": {
    "hideCode": false
   },
   "outputs": [],
   "source": [
    "for i in codontables:\n",
    "    with open(\"codon-usage_\"+str(i)+\".txt\",'w') as f:\n",
    "        table = python_codon_tables.get_codons_table(i)\n",
    "        for j in table.keys():\n",
    "            for k in table[j].keys():\n",
    "                f.write( aa_table[j]+\"\\t\"+k+\"\\t\"+str(table[j][k])+\"\\n\")"
   ]
  },
  {
   "cell_type": "code",
   "execution_count": 20,
   "metadata": {
    "hideCode": false
   },
   "outputs": [
    {
     "name": "stdout",
     "output_type": "stream",
     "text": [
      "A\n",
      "R\n",
      "N\n",
      "D\n",
      "C\n",
      "*\n",
      "Q\n",
      "E\n",
      "G\n",
      "H\n",
      "I\n",
      "L\n",
      "K\n",
      "M\n",
      "F\n",
      "P\n",
      "S\n",
      "T\n",
      "W\n",
      "Y\n",
      "V\n"
     ]
    }
   ],
   "source": [
    "#test_file = \"codon-usage_b_subtilis_1423.txt\"\n",
    "test_file = \"codon-usage_pichia.txt\"\n",
    "table ={}\n",
    "with open(test_file,'r') as f:\n",
    "    for line in f:\n",
    "        tmpline = line.split()\n",
    "        key = aa2_table[tmpline[0]]\n",
    "        if(key not in table.keys()):\n",
    "            table[key] = {}\n",
    "        table[key][tmpline[1]] = float(tmpline[2])"
   ]
  },
  {
   "cell_type": "code",
   "execution_count": 10,
   "metadata": {
    "hideCode": false
   },
   "outputs": [],
   "source": [
    "from typing import Dict, List"
   ]
  },
  {
   "cell_type": "code",
   "execution_count": 11,
   "metadata": {
    "hideCode": false
   },
   "outputs": [],
   "source": [
    "# Lattice syntax\n",
    "def get_aa_to_codons( table ):\n",
    "    aa_to_codons : Dict[str, List[str]] = {}  # the map that we want\n",
    "    for aa, codons in table.items():\n",
    "        aa_freqs = [(c, freq) for c, freq in codons.items()]\n",
    "        aa_freqs = sorted(aa_freqs, key=lambda cs: cs[1], reverse=True)\n",
    "        aa_to_codons[aa] = [c for c, _ in aa_freqs]\n",
    "    return aa_to_codons"
   ]
  },
  {
   "cell_type": "code",
   "execution_count": 16,
   "metadata": {
    "hideCode": false
   },
   "outputs": [],
   "source": [
    "aa_to_codons2 = get_aa_to_codons(table)"
   ]
  },
  {
   "cell_type": "code",
   "execution_count": 25,
   "metadata": {
    "hideCode": false
   },
   "outputs": [
    {
     "name": "stdout",
     "output_type": "stream",
     "text": [
      "{'*': {'TAA': 0.64, 'TAG': 0.07, 'TGA': 0.29}, 'A': {'GCA': 0.21, 'GCC': 0.27, 'GCG': 0.36, 'GCT': 0.16}, 'C': {'TGC': 0.56, 'TGT': 0.44}, 'D': {'GAC': 0.37, 'GAT': 0.63}, 'E': {'GAA': 0.69, 'GAG': 0.31}, 'F': {'TTC': 0.43, 'TTT': 0.57}, 'G': {'GGA': 0.11, 'GGC': 0.41, 'GGG': 0.15, 'GGT': 0.34}, 'H': {'CAC': 0.43, 'CAT': 0.57}, 'I': {'ATA': 0.07, 'ATC': 0.42, 'ATT': 0.51}, 'K': {'AAA': 0.76, 'AAG': 0.24}, 'L': {'CTA': 0.04, 'CTC': 0.1, 'CTG': 0.5, 'CTT': 0.1, 'TTA': 0.13, 'TTG': 0.13}, 'M': {'ATG': 1.0}, 'N': {'AAC': 0.55, 'AAT': 0.45}, 'P': {'CCA': 0.19, 'CCC': 0.12, 'CCG': 0.53, 'CCT': 0.16}, 'Q': {'CAA': 0.35, 'CAG': 0.65}, 'R': {'AGA': 0.04, 'AGG': 0.02, 'CGA': 0.06, 'CGC': 0.4, 'CGG': 0.1, 'CGT': 0.38}, 'S': {'AGC': 0.28, 'AGT': 0.15, 'TCA': 0.12, 'TCC': 0.15, 'TCG': 0.15, 'TCT': 0.15}, 'T': {'ACA': 0.13, 'ACC': 0.44, 'ACG': 0.27, 'ACT': 0.16}, 'V': {'GTA': 0.15, 'GTC': 0.22, 'GTG': 0.37, 'GTT': 0.26}, 'W': {'TGG': 1.0}, 'Y': {'TAC': 0.43, 'TAT': 0.57}}\n"
     ]
    }
   ],
   "source": [
    "#organism = '1423'\n",
    "#organism = '4922'\n",
    "organism = '1917' # Niessle\n",
    "organism = '316407'\n",
    "aa_to_codons : Dict[str, List[str]] = {}  # the map that we want\n",
    "table = python_codon_tables.get_codons_table(organism)\n",
    "print(table)\n",
    "for aa, codons in table.items():\n",
    "    aa_freqs = [(c, freq) for c, freq in codons.items()]\n",
    "    aa_freqs = sorted(aa_freqs, key=lambda cs: cs[1], reverse=True)\n",
    "    aa_to_codons[aa] = [c for c, _ in aa_freqs]"
   ]
  },
  {
   "cell_type": "code",
   "execution_count": 14,
   "metadata": {},
   "outputs": [
    {
     "name": "stdout",
     "output_type": "stream",
     "text": [
      "Not\n",
      "Not\n",
      "Not\n",
      "Ok\n",
      "Not\n",
      "Not\n",
      "Not\n",
      "Not\n",
      "Not\n",
      "Not\n",
      "Not\n",
      "Not\n",
      "Not\n",
      "Not\n",
      "Not\n",
      "Not\n",
      "Ok\n",
      "Not\n",
      "Not\n",
      "Not\n",
      "Not\n"
     ]
    }
   ],
   "source": [
    "for x_values, y_values in zip(aa_to_codons.items(), aa_to_codons2.items()):\n",
    "        if x_values == y_values:\n",
    "            print('Ok'), x_values, y_values\n",
    "        else:\n",
    "            print('Not'), x_values, y_values"
   ]
  }
 ],
 "metadata": {
  "kernelspec": {
   "display_name": "Python 3",
   "language": "python",
   "name": "python3"
  },
  "language_info": {
   "codemirror_mode": {
    "name": "ipython",
    "version": 3
   },
   "file_extension": ".py",
   "mimetype": "text/x-python",
   "name": "python",
   "nbconvert_exporter": "python",
   "pygments_lexer": "ipython3",
   "version": "3.6.8"
  }
 },
 "nbformat": 4,
 "nbformat_minor": 2
}
