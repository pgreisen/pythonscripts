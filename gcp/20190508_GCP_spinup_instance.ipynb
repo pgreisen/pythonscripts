{
 "cells": [
  {
   "cell_type": "code",
   "execution_count": 1,
   "metadata": {},
   "outputs": [],
   "source": [
    "%%capture\n",
    "!pip install --upgrade google-api-python-client\n",
    "!pip install google-auth\n",
    "!pip install oauth2client\n",
    "!pip install google-cloud\n",
    "!pip install google-cloud-storage"
   ]
  },
  {
   "cell_type": "markdown",
   "metadata": {},
   "source": [
    "You need to create credentials before you can use the scripts below ( see https://cloud.google.com/docs/authentication/getting-started)"
   ]
  },
  {
   "cell_type": "code",
   "execution_count": 3,
   "metadata": {},
   "outputs": [],
   "source": [
    "import gcp as gcp"
   ]
  },
  {
   "cell_type": "code",
   "execution_count": 4,
   "metadata": {},
   "outputs": [
    {
     "name": "stdout",
     "output_type": "stream",
     "text": [
      "Help on module gcp:\n",
      "\n",
      "NAME\n",
      "    gcp\n",
      "\n",
      "DESCRIPTION\n",
      "    #import argparse\n",
      "    #import googleapiclient\n",
      "\n",
      "CLASSES\n",
      "    builtins.object\n",
      "        gpc\n",
      "    \n",
      "    class gpc(builtins.object)\n",
      "     |  Methods defined here:\n",
      "     |  \n",
      "     |  __init__(self)\n",
      "     |      Initialize self.  See help(type(self)) for accurate signature.\n",
      "     |  \n",
      "     |  create_instance(self, compute, project, zone, name, bucket)\n",
      "     |      :param project:\n",
      "     |      :param zone:\n",
      "     |      :param name:\n",
      "     |      :param bucket:\n",
      "     |      :return:\n",
      "     |  \n",
      "     |  list_instances(self, compute, project, zone)\n",
      "     |  \n",
      "     |  test(self)\n",
      "     |  \n",
      "     |  wait_for_operation(self, compute, project, zone, operation)\n",
      "     |  \n",
      "     |  ----------------------------------------------------------------------\n",
      "     |  Data descriptors defined here:\n",
      "     |  \n",
      "     |  __dict__\n",
      "     |      dictionary for instance variables (if defined)\n",
      "     |  \n",
      "     |  __weakref__\n",
      "     |      list of weak references to the object (if defined)\n",
      "\n",
      "FILE\n",
      "    /Users/pgreisen/pythonscripts/gcp/gcp.py\n",
      "\n",
      "\n"
     ]
    }
   ],
   "source": []
  },
  {
   "cell_type": "code",
   "execution_count": null,
   "metadata": {},
   "outputs": [],
   "source": [
    "assert 1 == 0 "
   ]
  },
  {
   "cell_type": "code",
   "execution_count": 2,
   "metadata": {},
   "outputs": [],
   "source": [
    "import argparse\n",
    "import googleapiclient\n",
    "from googleapiclient import discovery\n",
    "from six.moves import input\n",
    "from pprint import pprint\n",
    "import subprocess\n",
    "import json\n",
    "import googleapiclient\n",
    "from googleapiclient import discovery\n",
    "from six.moves import input\n",
    "import time\n",
    "import os\n",
    "import shlex\n",
    "from google.cloud import storage\n",
    "from google.cloud import *\n",
    "path_to_key = '/Users/pgreisen/Projects/Enevolv/keys_gcp/ngsdataanalysis-08329a276003.json'\n",
    "os.environ['GOOGLE_APPLICATION_CREDENTIALS'] = path_to_key"
   ]
  },
  {
   "cell_type": "code",
   "execution_count": 3,
   "metadata": {},
   "outputs": [],
   "source": [
    "try:\n",
    "    from oauth2client.client import GoogleCredentials  # pylint: disable=g-import-not-at-top\n",
    "    import google.auth.exceptions  # pylint: disable=g-import-not-at-top\n",
    "    from googleapiclient import discovery  # pylint: disable=g-import-not-at-top\n",
    "    from googleapiclient import errors  # pylint: disable=g-import-not-at-top\n",
    "except ImportError:\n",
    "    print(\"Warning, google-api-python-client or google-auth not installed, can't connect to GCP instances.\")"
   ]
  },
  {
   "cell_type": "code",
   "execution_count": 4,
   "metadata": {},
   "outputs": [],
   "source": [
    "try:\n",
    "    credentials = GoogleCredentials.get_application_default()\n",
    "except google.auth.exceptions.DefaultCredentialsError:\n",
    "    print(\"No credentials set\")"
   ]
  },
  {
   "cell_type": "code",
   "execution_count": 5,
   "metadata": {},
   "outputs": [],
   "source": [
    "# initiate the resource manager to monitor projects\n",
    "resourcemanager = discovery.build('cloudresourcemanager', 'v1', credentials=credentials)"
   ]
  },
  {
   "cell_type": "code",
   "execution_count": 6,
   "metadata": {},
   "outputs": [],
   "source": [
    "# Use default credentials\n",
    "credentials = GoogleCredentials.get_application_default()\n",
    "# Build and initialize the API\n",
    "compute_client = googleapiclient.discovery.build('compute', 'v1', credentials=credentials)"
   ]
  },
  {
   "cell_type": "code",
   "execution_count": 7,
   "metadata": {},
   "outputs": [
    {
     "name": "stdout",
     "output_type": "stream",
     "text": [
      "['us-east1-b', 'us-east1-c', 'us-east1-d', 'us-east4-c', 'us-east4-b', 'us-east4-a', 'us-central1-c', 'us-central1-a', 'us-central1-f', 'us-central1-b', 'us-west1-b', 'us-west1-c', 'us-west1-a', 'europe-west4-a', 'europe-west4-b', 'europe-west4-c', 'europe-west1-b', 'europe-west1-d', 'europe-west1-c', 'europe-west3-c', 'europe-west3-a', 'europe-west3-b', 'europe-west2-c', 'europe-west2-b', 'europe-west2-a', 'asia-east1-b', 'asia-east1-a', 'asia-east1-c', 'asia-southeast1-b', 'asia-southeast1-a', 'asia-southeast1-c', 'asia-northeast1-b', 'asia-northeast1-c', 'asia-northeast1-a', 'asia-south1-c', 'asia-south1-b', 'asia-south1-a', 'australia-southeast1-b', 'australia-southeast1-c', 'australia-southeast1-a', 'southamerica-east1-b', 'southamerica-east1-c', 'southamerica-east1-a', 'asia-east2-a', 'asia-east2-b', 'asia-east2-c', 'asia-northeast2-a', 'asia-northeast2-b', 'asia-northeast2-c', 'europe-north1-a', 'europe-north1-b', 'europe-north1-c', 'europe-west6-a', 'europe-west6-b', 'europe-west6-c', 'northamerica-northeast1-a', 'northamerica-northeast1-b', 'northamerica-northeast1-c', 'us-west2-a', 'us-west2-b', 'us-west2-c']\n"
     ]
    }
   ],
   "source": [
    "zone_list = []\n",
    "# temp debug\n",
    "project_id = 'ngsdataanalysis'\n",
    "zone_result = compute_client.zones().list(project=project_id).execute()\n",
    "for zone_rows in zone_result['items']:\n",
    "    zone_list.append(zone_rows['name'])\n",
    "    \n",
    "    \n",
    "print(zone_list)  "
   ]
  },
  {
   "cell_type": "code",
   "execution_count": 8,
   "metadata": {},
   "outputs": [
    {
     "name": "stdout",
     "output_type": "stream",
     "text": [
      "<Bucket: enevolv_ngs-1>\n"
     ]
    }
   ],
   "source": [
    "# set further up in the code\n",
    "os.environ['GOOGLE_APPLICATION_CREDENTIALS'] = path_to_key\n",
    "\n",
    "# Instantiates a client\n",
    "storage_client = storage.Client()\n",
    "\n",
    "# List all the buckets available\n",
    "for bucket in storage_client.list_buckets():\n",
    "    print(bucket)"
   ]
  },
  {
   "cell_type": "code",
   "execution_count": 9,
   "metadata": {},
   "outputs": [],
   "source": [
    "def create_instance(compute, project, zone, name, bucket):\n",
    "    # Get the latest Debian Jessie image.\n",
    "    ##image_response = compute.images().getFromFamily(\n",
    "    ##    project='debian-cloud', family='debian-8').execute()\n",
    "    ## Images can be identified here\n",
    "    ## https://cloud.google.com/compute/docs/images#os-compute-support\n",
    "    #image_response = compute.images().getFromFamily(\n",
    "    #    project=project).execute()\n",
    "    #source_disk_image = image_response['selfLink']\n",
    "    ## , family='ubuntu-1404-lts'\n",
    "    # Configure the machine\n",
    "    machine_type = \"zones/%s/machineTypes/n1-standard-1\" % zone\n",
    "    config = {\n",
    "        'name': name,\n",
    "        'machineType': machine_type,\n",
    "\n",
    "        # Specify the boot disk and the image to use as a source.\n",
    "        'disks': [\n",
    "            {\n",
    "                'boot': True,\n",
    "                'autoDelete': True,\n",
    "                'initializeParams': {\n",
    "                'sourceImage': 'https://www.googleapis.com/compute/v1/projects/ubuntu-os-cloud/global/images/family/ubuntu-1404-lts'\n",
    "                }\n",
    "            }\n",
    "        ],\n",
    "\n",
    "        # Specify a network interface with NAT to access the public\n",
    "        # internet.\n",
    "        'networkInterfaces': [{\n",
    "            'network': 'global/networks/default',\n",
    "            'accessConfigs': [\n",
    "                {'type': 'ONE_TO_ONE_NAT', 'name': 'External NAT'}\n",
    "            ]\n",
    "        }]\n",
    "    }\n",
    "    return compute.instances().insert(\n",
    "        project=project,\n",
    "        zone=zone,\n",
    "        body=config).execute()"
   ]
  },
  {
   "cell_type": "code",
   "execution_count": 10,
   "metadata": {},
   "outputs": [],
   "source": [
    "def wait_for_operation(compute, project, zone, operation):\n",
    "    print('Waiting for operation to finish...')\n",
    "    while True:\n",
    "        result = compute.zoneOperations().get(\n",
    "            project=project,\n",
    "            zone=zone,\n",
    "            operation=operation).execute()\n",
    "\n",
    "        if result['status'] == 'DONE':\n",
    "            print(\"done.\")\n",
    "            if 'error' in result:\n",
    "                raise Exception(result['error'])\n",
    "            return result\n",
    "\n",
    "        time.sleep(1)  "
   ]
  },
  {
   "cell_type": "code",
   "execution_count": 11,
   "metadata": {},
   "outputs": [],
   "source": [
    "def list_instances(compute, project, zone):\n",
    "    result = compute.instances().list(project=project, zone=zone).execute()\n",
    "    return result['items']"
   ]
  },
  {
   "cell_type": "code",
   "execution_count": 12,
   "metadata": {},
   "outputs": [
    {
     "name": "stdout",
     "output_type": "stream",
     "text": [
      "Creating instance.\n"
     ]
    }
   ],
   "source": [
    "compute = googleapiclient.discovery.build('compute', 'v1')\n",
    "print('Creating instance.')\n",
    "# Project\n",
    "project = 'ngsdataanalysis'\n",
    "# zone\n",
    "zone = 'us-east1-b'\n",
    "## Name to identify instance\n",
    "name = 'ubuntu-1404-trusty-v20190429'\n",
    "## Bucket - not defined for first run\n",
    "backet = 'empty-stuff'\n",
    "\n",
    "#compute.instances().start(project=project, zone=zone, instance=*).execute()\n",
    "# instance_name = 'ubuntu-1404-trusty-v20190429'\n",
    "instance_name = 'testpg'\n",
    "operation = create_instance(compute, project, zone, instance_name, bucket)"
   ]
  },
  {
   "cell_type": "code",
   "execution_count": 13,
   "metadata": {},
   "outputs": [
    {
     "name": "stdout",
     "output_type": "stream",
     "text": [
      "Waiting for operation to finish...\n",
      "done.\n",
      "Instances in project ngsdataanalysis and zone us-east1-b:\n",
      " - testpg\n",
      "\n",
      "Instance created.\n",
      "It will take a minute or two for the instance to complete work.\n",
      "Check this URL: http://storage.googleapis.com/<Bucket: enevolv_ngs-1>/output.png\n",
      "Once the image is uploaded press enter to delete the instance.\n",
      "\n"
     ]
    }
   ],
   "source": [
    "instance_name = name\n",
    "wait_for_operation(compute, project, zone, operation['name'])\n",
    "\n",
    "instances = list_instances(compute, project, zone)\n",
    "\n",
    "print('Instances in project %s and zone %s:' % (project, zone))\n",
    "for instance in instances:\n",
    "    print(' - ' + instance['name'])\n",
    "    print(\"\"\"\n",
    "Instance created.\n",
    "It will take a minute or two for the instance to complete work.\n",
    "Check this URL: http://storage.googleapis.com/{}/output.png\n",
    "Once the image is uploaded press enter to delete the instance.\n",
    "\"\"\".format(bucket))"
   ]
  },
  {
   "cell_type": "code",
   "execution_count": 14,
   "metadata": {},
   "outputs": [
    {
     "ename": "AssertionError",
     "evalue": "",
     "output_type": "error",
     "traceback": [
      "\u001b[0;31m---------------------------------------------------------------------------\u001b[0m",
      "\u001b[0;31mAssertionError\u001b[0m                            Traceback (most recent call last)",
      "\u001b[0;32m<ipython-input-14-e99f91a18d62>\u001b[0m in \u001b[0;36m<module>\u001b[0;34m\u001b[0m\n\u001b[0;32m----> 1\u001b[0;31m \u001b[0;32massert\u001b[0m \u001b[0;36m1\u001b[0m \u001b[0;34m==\u001b[0m \u001b[0;36m0\u001b[0m\u001b[0;34m\u001b[0m\u001b[0;34m\u001b[0m\u001b[0m\n\u001b[0m",
      "\u001b[0;31mAssertionError\u001b[0m: "
     ]
    }
   ],
   "source": [
    "assert 1 == 0"
   ]
  },
  {
   "cell_type": "code",
   "execution_count": null,
   "metadata": {},
   "outputs": [],
   "source": [
    "    if wait:\n",
    "        input()\n",
    "\n",
    "    print('Deleting instance.')\n",
    "\n",
    "    operation = delete_instance(compute, project, zone, instance_name)\n",
    "    wait_for_operation(compute, project, zone, operation['name'])\n",
    "\n",
    "def list_instances(compute, project, zone):\n",
    "    result = compute.instances().list(project=project, zone=zone).execute()\n",
    "    return result['items']\n",
    "\n",
    "\n",
    "def create_instance(compute, project, zone, name, bucket):\n",
    "    # Get the latest Debian Jessie image.\n",
    "    image_response = compute.images().getFromFamily(\n",
    "        project='debian-cloud', family='debian-8').execute()\n",
    "    source_disk_image = image_response['selfLink']\n",
    "\n",
    "    # Configure the machine\n",
    "    machine_type = \"zones/%s/machineTypes/n1-standard-1\" % zone\n",
    "    startup_script = open(\n",
    "        os.path.join(\n",
    "            os.path.dirname(__file__), 'startup-script.sh'), 'r').read()\n",
    "    image_url = \"http://storage.googleapis.com/gce-demo-input/photo.jpg\"\n",
    "    image_caption = \"Ready for dessert?\"\n",
    "\n",
    "    config = {\n",
    "        'name': name,\n",
    "        'machineType': machine_type,\n",
    "\n",
    "        # Specify the boot disk and the image to use as a source.\n",
    "        'disks': [\n",
    "            {\n",
    "                'boot': True,\n",
    "                'autoDelete': True,\n",
    "                'initializeParams': {\n",
    "                    'sourceImage': source_disk_image,\n",
    "                }\n",
    "            }\n",
    "        ],\n",
    "\n",
    "        # Specify a network interface with NAT to access the public\n",
    "        # internet.\n",
    "        'networkInterfaces': [{\n",
    "            'network': 'global/networks/default',\n",
    "            'accessConfigs': [\n",
    "                {'type': 'ONE_TO_ONE_NAT', 'name': 'External NAT'}\n",
    "            ]\n",
    "        }],\n",
    "\n",
    "        # Allow the instance to access cloud storage and logging.\n",
    "        'serviceAccounts': [{\n",
    "            'email': 'default',\n",
    "            'scopes': [\n",
    "                'https://www.googleapis.com/auth/devstorage.read_write',\n",
    "                'https://www.googleapis.com/auth/logging.write'\n",
    "            ]\n",
    "        }],\n",
    "\n",
    "        # Metadata is readable from the instance and allows you to\n",
    "        # pass configuration from deployment scripts to instances.\n",
    "        'metadata': {\n",
    "            'items': [{\n",
    "                # Startup script is automatically executed by the\n",
    "                # instance upon startup.\n",
    "                'key': 'startup-script',\n",
    "                'value': startup_script\n",
    "            }, {\n",
    "                'key': 'url',\n",
    "                'value': image_url\n",
    "            }, {\n",
    "                'key': 'text',\n",
    "                'value': image_caption\n",
    "            }, {\n",
    "                'key': 'bucket',\n",
    "                'value': bucket\n",
    "            }]\n",
    "        }\n",
    "    }\n",
    "\n",
    "    return compute.instances().insert(\n",
    "        project=project,\n",
    "        zone=zone,\n",
    "        body=config).execute()\n",
    "\n",
    "def wait_for_operation(compute, project, zone, operation):\n",
    "    print('Waiting for operation to finish...')\n",
    "    while True:\n",
    "        result = compute.zoneOperations().get(\n",
    "            project=project,\n",
    "            zone=zone,\n",
    "            operation=operation).execute()\n",
    "\n",
    "        if result['status'] == 'DONE':\n",
    "            print(\"done.\")\n",
    "            if 'error' in result:\n",
    "                raise Exception(result['error'])\n",
    "            return result\n",
    "\n",
    "        time.sleep(1)  \n",
    "\n",
    "def delete_instance(compute, project, zone, name):\n",
    "    return compute.instances().delete(\n",
    "        project=project,\n",
    "        zone=zone,\n",
    "        instance=name).execute()\n",
    "\n",
    "if __name__ == '__main__':\n",
    "    parser = argparse.ArgumentParser(\n",
    "        description=__doc__,\n",
    "        formatter_class=argparse.RawDescriptionHelpFormatter)\n",
    "    parser.add_argument('project_id', help='Your Google Cloud project ID.')\n",
    "    parser.add_argument(\n",
    "        'bucket_name', help='Your Google Cloud Storage bucket name.')\n",
    "    parser.add_argument(\n",
    "        '--zone',\n",
    "        default='us-central1-c',\n",
    "        help='Compute Engine zone to deploy to.')\n",
    "    parser.add_argument(\n",
    "        '--name', default='cloud-demo-instance', help='New instance name.')\n",
    "\n",
    "    args = parser.parse_args()\n",
    "\n",
    "    main(args.project_id, args.bucket_name, args.zone, args.name)"
   ]
  }
 ],
 "metadata": {
  "kernelspec": {
   "display_name": "Python 3",
   "language": "python",
   "name": "python3"
  },
  "language_info": {
   "codemirror_mode": {
    "name": "ipython",
    "version": 3
   },
   "file_extension": ".py",
   "mimetype": "text/x-python",
   "name": "python",
   "nbconvert_exporter": "python",
   "pygments_lexer": "ipython3",
   "version": "3.6.8"
  }
 },
 "nbformat": 4,
 "nbformat_minor": 2
}
