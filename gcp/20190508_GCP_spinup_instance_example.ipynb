{
 "cells": [
  {
   "cell_type": "code",
   "execution_count": 1,
   "metadata": {},
   "outputs": [],
   "source": [
    "%%capture\n",
    "!pip install --upgrade google-api-python-client\n",
    "!pip install google-auth\n",
    "!pip install oauth2client\n",
    "!pip install google-cloud\n",
    "!pip install google-cloud-storage"
   ]
  },
  {
   "cell_type": "markdown",
   "metadata": {},
   "source": [
    "You need to create credentials before you can use the scripts below ( see https://cloud.google.com/docs/authentication/getting-started)"
   ]
  },
  {
   "cell_type": "code",
   "execution_count": 2,
   "metadata": {},
   "outputs": [],
   "source": [
    "from EnevolvGCP import EnevolvGCP as enevolvgcp\n",
    "enevolvgcp = enevolvgcp()"
   ]
  },
  {
   "cell_type": "code",
   "execution_count": 4,
   "metadata": {},
   "outputs": [],
   "source": [
    "import googleapiclient\n",
    "from pprint import pprint\n",
    "import json\n",
    "import time\n",
    "import os\n",
    "import shlex\n",
    "from google.cloud import storage\n",
    "from google.cloud import *\n",
    "path_to_key = '/Users/pgreisen/Projects/Enevolv/keys_gcp/ngsdataanalysis-08329a276003.json'\n",
    "os.environ['GOOGLE_APPLICATION_CREDENTIALS'] = path_to_key"
   ]
  },
  {
   "cell_type": "code",
   "execution_count": 5,
   "metadata": {},
   "outputs": [],
   "source": [
    "try:\n",
    "    from oauth2client.client import GoogleCredentials  # pylint: disable=g-import-not-at-top\n",
    "    import google.auth.exceptions  # pylint: disable=g-import-not-at-top\n",
    "    from googleapiclient import discovery  # pylint: disable=g-import-not-at-top\n",
    "    from googleapiclient import errors  # pylint: disable=g-import-not-at-top\n",
    "except ImportError:\n",
    "    print(\"Warning, google-api-python-client or google-auth not installed, can't connect to GCP instances.\")"
   ]
  },
  {
   "cell_type": "code",
   "execution_count": 6,
   "metadata": {},
   "outputs": [],
   "source": [
    "try:\n",
    "    credentials = GoogleCredentials.get_application_default()\n",
    "except google.auth.exceptions.DefaultCredentialsError:\n",
    "    print(\"No credentials set\")"
   ]
  },
  {
   "cell_type": "code",
   "execution_count": 7,
   "metadata": {},
   "outputs": [
    {
     "name": "stdout",
     "output_type": "stream",
     "text": [
      "Creating instance.\n"
     ]
    }
   ],
   "source": [
    "compute = googleapiclient.discovery.build('compute', 'v1')\n",
    "print('Creating instance.')\n",
    "# Assign project to instance\n",
    "project = 'ngsdataanalysis'\n",
    "# zone\n",
    "zone = 'us-east1-b'\n",
    "# instance name for identification\n",
    "name = 'testenevolv3withdocker'\n",
    "operation = enevolvgcp.create_instance(compute, project, zone, name)"
   ]
  },
  {
   "cell_type": "code",
   "execution_count": 8,
   "metadata": {},
   "outputs": [
    {
     "name": "stdout",
     "output_type": "stream",
     "text": [
      "Waiting for operation to finish...\n",
      "done.\n",
      "Instances in project ngsdataanalysis and zone us-east1-b:\n",
      " - ngsbase\n",
      " - testenevolv3withdocker\n"
     ]
    }
   ],
   "source": [
    "instance_name = name\n",
    "enevolvgcp.wait_for_operation(compute, project, zone, operation['name'])\n",
    "instances = enevolvgcp.list_instances(compute, project, zone)\n",
    "print('Instances in project %s and zone %s:' % (project, zone))\n",
    "for instance in instances:\n",
    "    print(' - ' + instance['name'])"
   ]
  },
  {
   "cell_type": "code",
   "execution_count": 34,
   "metadata": {},
   "outputs": [],
   "source": [
    "network_ = dict(instance['networkInterfaces'][0])\n",
    "ipadr = dict(network_['accessConfigs'][0])\n",
    "natip = ipadr['natIP']"
   ]
  },
  {
   "cell_type": "markdown",
   "metadata": {},
   "source": [
    "Access the instance using ssh through e.g. gcloud compute ssh instance_name_here"
   ]
  },
  {
   "cell_type": "code",
   "execution_count": null,
   "metadata": {},
   "outputs": [],
   "source": []
  }
 ],
 "metadata": {
  "kernelspec": {
   "display_name": "Python 3",
   "language": "python",
   "name": "python3"
  },
  "language_info": {
   "codemirror_mode": {
    "name": "ipython",
    "version": 3
   },
   "file_extension": ".py",
   "mimetype": "text/x-python",
   "name": "python",
   "nbconvert_exporter": "python",
   "pygments_lexer": "ipython3",
   "version": "3.6.8"
  }
 },
 "nbformat": 4,
 "nbformat_minor": 2
}
