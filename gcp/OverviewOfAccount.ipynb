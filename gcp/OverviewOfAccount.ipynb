{
 "cells": [
  {
   "cell_type": "code",
   "execution_count": 1,
   "metadata": {},
   "outputs": [],
   "source": [
    "import googleapiclient.discovery\n",
    "from oauth2client.client import GoogleCredentials"
   ]
  },
  {
   "cell_type": "code",
   "execution_count": 18,
   "metadata": {},
   "outputs": [],
   "source": [
    "import argparse\n",
    "import googleapiclient\n",
    "from googleapiclient import discovery\n",
    "from six.moves import input\n",
    "from pprint import pprint\n",
    "import time\n",
    "import subprocess\n",
    "import json\n",
    "import argparse\n",
    "import googleapiclient\n",
    "from googleapiclient import discovery\n",
    "from six.moves import input\n",
    "import time\n",
    "import os\n",
    "\n",
    "import shlex\n",
    "from google.cloud import storage\n",
    "import os\n",
    "from google.cloud import *\n",
    "#path_to_key = '/Users/pgreisen/Projects/Enevolv/keys_gcp/ngsdataanalysis-08329a276003.json'\n",
    "path_to_key = '/Users/pgreisen/Projects/Enevolv/keys_gcp/ngsdataanalysis-b3db1f51b89f.json'\n",
    "os.environ['GOOGLE_APPLICATION_CREDENTIALS'] = path_to_key"
   ]
  },
  {
   "cell_type": "code",
   "execution_count": 19,
   "metadata": {},
   "outputs": [],
   "source": [
    "try:\n",
    "    from oauth2client.client import GoogleCredentials  # pylint: disable=g-import-not-at-top\n",
    "    import google.auth.exceptions  # pylint: disable=g-import-not-at-top\n",
    "    from googleapiclient import discovery  # pylint: disable=g-import-not-at-top\n",
    "    from googleapiclient import errors  # pylint: disable=g-import-not-at-top\n",
    "except ImportError:\n",
    "    print(\"Warning, google-api-python-client or google-auth not installed, can't connect to GCP instances.\")"
   ]
  },
  {
   "cell_type": "code",
   "execution_count": 20,
   "metadata": {},
   "outputs": [],
   "source": [
    "try:\n",
    "    credentials = GoogleCredentials.get_application_default()\n",
    "except google.auth.exceptions.DefaultCredentialsError:\n",
    "    print(\"No credentials set\")"
   ]
  },
  {
   "cell_type": "code",
   "execution_count": 21,
   "metadata": {},
   "outputs": [],
   "source": [
    "def get_billing_id(cloud_billing_client):\n",
    "    # Get billing account\n",
    "    billing_result = cloud_billing_client.billingAccounts().list().execute()\n",
    "    print(\"Billing result: \",billing_result)\n",
    "    return billing_result[\"billingAccounts\"][0]['name']"
   ]
  },
  {
   "cell_type": "code",
   "execution_count": 22,
   "metadata": {},
   "outputs": [],
   "source": [
    "def get_project_list(cloud_billing_client,billing_id):\n",
    "    # Get list of all projects in the billing id\n",
    "    project_list = []\n",
    "    project_result = cloud_billing_client.billingAccounts().projects().list(name=billing_id).execute()\n",
    "    for project_row in project_result[\"projectBillingInfo\"]:\n",
    "        project_list.append(project_row[\"projectId\"])\n",
    "    return project_list"
   ]
  },
  {
   "cell_type": "code",
   "execution_count": 23,
   "metadata": {},
   "outputs": [],
   "source": [
    "def get_instance_data(compute_client, project_list):\n",
    "    # Get list & details of all instances for all projects in the project list\n",
    "    output = []\n",
    "    for project_id in project_list:\n",
    "        # First get the list of zones\n",
    "        zone_list = []\n",
    "        zone_result = compute_client.zones().list(project=project_id).execute()\n",
    "        for zone_rows in zone_result['items']:\n",
    "            zone_list.append(zone_rows['name'])\n",
    "        for zone_name in zone_list:\n",
    "            # For every zone for each project, get the instance details\n",
    "            instances_result = compute_client.instances().list(project=project_id, zone=zone_name).execute()\n",
    "            if 'items' in instances_result: # Get instance details only when there are instances in the given zone\n",
    "                for instance_row in instances_result[\"items\"]:\n",
    "                    output_row = []\n",
    "                    metadata_dict = {}\n",
    "                    output_row.append(project_id) # Project ID as the first field\n",
    "                    output_row.extend([instance_row[\"name\"],instance_row[\"labels\"][\"app-name\"],instance_row[\"labels\"][\"biz-unit\"],instance_row[\"labels\"][\"env-name\"]])\n",
    "                    # Get nested metadat key-value entries\n",
    "                    for metadata_entry in instance_row[\"metadata\"][\"items\"]:\n",
    "                        metadata_dict[metadata_entry['key']] = metadata_entry['value']\n",
    "                    output_row.extend([metadata_dict['server-role'], metadata_dict['server-type'], metadata_dict['os-image']])\n",
    "                    output.append(output_row)\n",
    "    return output"
   ]
  },
  {
   "cell_type": "code",
   "execution_count": 24,
   "metadata": {},
   "outputs": [],
   "source": [
    "def write_output(header_row,output):\n",
    "    # Write CSV format output to stdout\n",
    "    print(header_row)\n",
    "    for row in output:\n",
    "        print(','.join(row))"
   ]
  },
  {
   "cell_type": "code",
   "execution_count": 25,
   "metadata": {},
   "outputs": [
    {
     "name": "stdout",
     "output_type": "stream",
     "text": [
      "Billing result:  {}\n"
     ]
    },
    {
     "ename": "KeyError",
     "evalue": "'billingAccounts'",
     "output_type": "error",
     "traceback": [
      "\u001b[0;31m---------------------------------------------------------------------------\u001b[0m",
      "\u001b[0;31mKeyError\u001b[0m                                  Traceback (most recent call last)",
      "\u001b[0;32m<ipython-input-25-7254c20f1257>\u001b[0m in \u001b[0;36m<module>\u001b[0;34m\u001b[0m\n\u001b[1;32m     15\u001b[0m \u001b[0;34m\u001b[0m\u001b[0m\n\u001b[1;32m     16\u001b[0m \u001b[0;32mif\u001b[0m \u001b[0m__name__\u001b[0m \u001b[0;34m==\u001b[0m \u001b[0;34m\"__main__\"\u001b[0m\u001b[0;34m:\u001b[0m\u001b[0;34m\u001b[0m\u001b[0;34m\u001b[0m\u001b[0m\n\u001b[0;32m---> 17\u001b[0;31m     \u001b[0mmain\u001b[0m\u001b[0;34m(\u001b[0m\u001b[0;34m)\u001b[0m\u001b[0;34m\u001b[0m\u001b[0;34m\u001b[0m\u001b[0m\n\u001b[0m",
      "\u001b[0;32m<ipython-input-25-7254c20f1257>\u001b[0m in \u001b[0;36mmain\u001b[0;34m()\u001b[0m\n\u001b[1;32m      8\u001b[0m     \u001b[0mcloud_billing_client\u001b[0m \u001b[0;34m=\u001b[0m \u001b[0mgoogleapiclient\u001b[0m\u001b[0;34m.\u001b[0m\u001b[0mdiscovery\u001b[0m\u001b[0;34m.\u001b[0m\u001b[0mbuild\u001b[0m\u001b[0;34m(\u001b[0m\u001b[0;34m'cloudbilling'\u001b[0m\u001b[0;34m,\u001b[0m \u001b[0;34m'v1'\u001b[0m\u001b[0;34m,\u001b[0m \u001b[0mcredentials\u001b[0m\u001b[0;34m=\u001b[0m\u001b[0mcredentials\u001b[0m\u001b[0;34m)\u001b[0m\u001b[0;34m\u001b[0m\u001b[0;34m\u001b[0m\u001b[0m\n\u001b[1;32m      9\u001b[0m \u001b[0;34m\u001b[0m\u001b[0m\n\u001b[0;32m---> 10\u001b[0;31m     \u001b[0mbilling_id\u001b[0m \u001b[0;34m=\u001b[0m \u001b[0mget_billing_id\u001b[0m\u001b[0;34m(\u001b[0m\u001b[0mcloud_billing_client\u001b[0m\u001b[0;34m)\u001b[0m \u001b[0;31m# get billing id\u001b[0m\u001b[0;34m\u001b[0m\u001b[0;34m\u001b[0m\u001b[0m\n\u001b[0m\u001b[1;32m     11\u001b[0m     \u001b[0mproject_list\u001b[0m \u001b[0;34m=\u001b[0m \u001b[0mget_project_list\u001b[0m\u001b[0;34m(\u001b[0m\u001b[0mcloud_billing_client\u001b[0m\u001b[0;34m,\u001b[0m\u001b[0mbilling_id\u001b[0m\u001b[0;34m)\u001b[0m \u001b[0;31m# get project list for the given billing id\u001b[0m\u001b[0;34m\u001b[0m\u001b[0;34m\u001b[0m\u001b[0m\n\u001b[1;32m     12\u001b[0m     \u001b[0moutput\u001b[0m \u001b[0;34m=\u001b[0m \u001b[0mget_instance_data\u001b[0m\u001b[0;34m(\u001b[0m\u001b[0mcompute_client\u001b[0m\u001b[0;34m,\u001b[0m\u001b[0mproject_list\u001b[0m\u001b[0;34m)\u001b[0m \u001b[0;31m# get instance details for the list of projects\u001b[0m\u001b[0;34m\u001b[0m\u001b[0;34m\u001b[0m\u001b[0m\n",
      "\u001b[0;32m<ipython-input-21-61e9f63c1b12>\u001b[0m in \u001b[0;36mget_billing_id\u001b[0;34m(cloud_billing_client)\u001b[0m\n\u001b[1;32m      3\u001b[0m     \u001b[0mbilling_result\u001b[0m \u001b[0;34m=\u001b[0m \u001b[0mcloud_billing_client\u001b[0m\u001b[0;34m.\u001b[0m\u001b[0mbillingAccounts\u001b[0m\u001b[0;34m(\u001b[0m\u001b[0;34m)\u001b[0m\u001b[0;34m.\u001b[0m\u001b[0mlist\u001b[0m\u001b[0;34m(\u001b[0m\u001b[0;34m)\u001b[0m\u001b[0;34m.\u001b[0m\u001b[0mexecute\u001b[0m\u001b[0;34m(\u001b[0m\u001b[0;34m)\u001b[0m\u001b[0;34m\u001b[0m\u001b[0;34m\u001b[0m\u001b[0m\n\u001b[1;32m      4\u001b[0m     \u001b[0mprint\u001b[0m\u001b[0;34m(\u001b[0m\u001b[0;34m\"Billing result: \"\u001b[0m\u001b[0;34m,\u001b[0m\u001b[0mbilling_result\u001b[0m\u001b[0;34m)\u001b[0m\u001b[0;34m\u001b[0m\u001b[0;34m\u001b[0m\u001b[0m\n\u001b[0;32m----> 5\u001b[0;31m     \u001b[0;32mreturn\u001b[0m \u001b[0mbilling_result\u001b[0m\u001b[0;34m[\u001b[0m\u001b[0;34m\"billingAccounts\"\u001b[0m\u001b[0;34m]\u001b[0m\u001b[0;34m[\u001b[0m\u001b[0;36m0\u001b[0m\u001b[0;34m]\u001b[0m\u001b[0;34m[\u001b[0m\u001b[0;34m'name'\u001b[0m\u001b[0;34m]\u001b[0m\u001b[0;34m\u001b[0m\u001b[0;34m\u001b[0m\u001b[0m\n\u001b[0m",
      "\u001b[0;31mKeyError\u001b[0m: 'billingAccounts'"
     ]
    }
   ],
   "source": [
    "def main():\n",
    "    # Change the header row based on your requirement\n",
    "    header_row = \"project_id,name,labels-app-name,labels-biz-unit,labels-env-name,metadata-server-role,metadata-server-type,metadata-os-image\"\n",
    "    # Use default credentials\n",
    "    credentials = GoogleCredentials.get_application_default()\n",
    "    # Build and initialize the API\n",
    "    compute_client = googleapiclient.discovery.build('compute', 'v1', credentials=credentials)\n",
    "    cloud_billing_client = googleapiclient.discovery.build('cloudbilling', 'v1', credentials=credentials)\n",
    "\n",
    "    billing_id = get_billing_id(cloud_billing_client) # get billing id\n",
    "    project_list = get_project_list(cloud_billing_client,billing_id) # get project list for the given billing id\n",
    "    output = get_instance_data(compute_client,project_list) # get instance details for the list of projects\n",
    "    write_output(header_row,output)\n",
    "\n",
    "\n",
    "if __name__ == \"__main__\":\n",
    "    main()"
   ]
  },
  {
   "cell_type": "code",
   "execution_count": null,
   "metadata": {},
   "outputs": [],
   "source": []
  }
 ],
 "metadata": {
  "kernelspec": {
   "display_name": "Python 3",
   "language": "python",
   "name": "python3"
  },
  "language_info": {
   "codemirror_mode": {
    "name": "ipython",
    "version": 3
   },
   "file_extension": ".py",
   "mimetype": "text/x-python",
   "name": "python",
   "nbconvert_exporter": "python",
   "pygments_lexer": "ipython3",
   "version": "3.6.8"
  }
 },
 "nbformat": 4,
 "nbformat_minor": 2
}
