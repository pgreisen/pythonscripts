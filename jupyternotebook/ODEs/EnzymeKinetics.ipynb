{
 "cells": [
  {
   "cell_type": "code",
   "execution_count": 1,
   "metadata": {},
   "outputs": [],
   "source": [
    "import numpy as np\n",
    "from scipy.integrate import odeint\n",
    "import matplotlib.pyplot as plt\n",
    "%matplotlib inline"
   ]
  },
  {
   "cell_type": "code",
   "execution_count": 2,
   "metadata": {},
   "outputs": [],
   "source": [
    "from __future__ import print_function\n",
    "from ipywidgets import interact, interactive, fixed, interact_manual\n"
   ]
  },
  {
   "cell_type": "code",
   "execution_count": 3,
   "metadata": {},
   "outputs": [],
   "source": [
    "from ipywidgets import widgets, HBox, Output\n",
    "import plotly as py\n",
    "from plotly.offline import iplot\n",
    "from IPython.display import display"
   ]
  },
  {
   "cell_type": "code",
   "execution_count": 4,
   "metadata": {},
   "outputs": [
    {
     "data": {
      "application/vnd.jupyter.widget-view+json": {
       "model_id": "d2775f67e0374a9781047d4b32c5c4f4",
       "version_major": 2,
       "version_minor": 0
      },
      "text/plain": [
       "interactive(children=(IntSlider(value=5000, description='t', max=10000), IntSlider(value=1, description='sub',…"
      ]
     },
     "metadata": {},
     "output_type": "display_data"
    },
    {
     "data": {
      "text/plain": [
       "<function __main__.f(t, sub, prod, Vmax, Km)>"
      ]
     },
     "execution_count": 4,
     "metadata": {},
     "output_type": "execute_result"
    }
   ],
   "source": [
    "# Vmax = 1.0\n",
    "# Km = 1.5\n",
    "\n",
    "def df(c,t,Vmax,Km):\n",
    "    s = c[0]\n",
    "    p = c[1]\n",
    "    dsdt = -Vmax*s / (Km + s)\n",
    "    dpdt = Vmax *s / (Km + s)\n",
    "    return [dsdt,dpdt]\n",
    "\n",
    "def f(t,sub,prod,Vmax,Km):\n",
    "    c0 = [sub,prod] # ,Vmax,Km]\n",
    "    t = np.linspace(0,2,t)\n",
    "    sol = odeint(df,c0,t,args=(Vmax,Km))\n",
    "    plt.plot(sol)\n",
    "\n",
    "interact(f,t=(0,10000),sub=(0,2),prod=0,Vmax=(1.0,10.0),Km=(0.1,10))"
   ]
  },
  {
   "cell_type": "code",
   "execution_count": 5,
   "metadata": {},
   "outputs": [],
   "source": [
    "def func_two_enz(c,t,kf1,kr1,kcat1,kf2,kr2,kcat2):\n",
    "    s1 =  c[0]\n",
    "    es1 = c[1]\n",
    "    p1 = c[2]\n",
    "    e1 = c[3]\n",
    "    es2 = c[4]\n",
    "    p2 = c[5]\n",
    "    e2 = c[6]\n",
    "    \n",
    "    ds1 = -kf1*e1*s1 + kr1*es1\n",
    "    des1 = kf1*e1*s1 - kr1*es1 - kcat1*es1\n",
    "    dp1 = kcat1*es1\n",
    "    de1 = -kf1*e1*s1 + kr1*es1 + kcat1*es1\n",
    "\n",
    "    ds2 = -kf2*e2*s1 + kr2*es2\n",
    "    des2 = kf2*e2*s1 - kr2*es2 - kcat2*es2\n",
    "    dp2 = kcat2*es2\n",
    "    de2 = -kf2*e2*s1 + kr2*es2 + kcat2*es2\n",
    "    \n",
    "    return [ds1, des1, dp1 , de1, des2, dp2 , de2]\n",
    "    "
   ]
  },
  {
   "cell_type": "code",
   "execution_count": 18,
   "metadata": {},
   "outputs": [
    {
     "data": {
      "application/vnd.jupyter.widget-view+json": {
       "model_id": "5ed47eba91d844238a7a39f654c9e30b",
       "version_major": 2,
       "version_minor": 0
      },
      "text/plain": [
       "interactive(children=(IntSlider(value=3, description='stop', max=5, min=2), IntSlider(value=5, description='s1…"
      ]
     },
     "metadata": {},
     "output_type": "display_data"
    },
    {
     "data": {
      "text/plain": [
       "<function __main__.f(stop, s1, es1, p1, e1, es2, p2, e2, kf1, kr1, kcat1, kf2, kr2, kcat2)>"
      ]
     },
     "execution_count": 18,
     "metadata": {},
     "output_type": "execute_result"
    }
   ],
   "source": [
    "def f(stop,s1,es1,p1,e1,es2,p2,e2,kf1,kr1,kcat1,kf2,kr2,kcat2):\n",
    "    t=10000\n",
    "    c0 = [s1,es1,p1,e1,es2,p2,e2]\n",
    "    t = np.linspace(0,stop,t)\n",
    "    sol = odeint(func_two_enz,c0,t,args=(kf1,kr1,kcat1,kf2,kr2,kcat2))\n",
    "    \n",
    "    dsdt1 = sol[:,0]\n",
    "    desdt1 = sol[:,1]\n",
    "    dpdt1 = sol[:,2]\n",
    "    dedt1 = sol[:,3]\n",
    "    desdt2 = sol[:,4]\n",
    "    dpdt2 = sol[:,5]\n",
    "    dedt2 = sol[:,6]\n",
    "    KM1 = (kr1+kcat1)/kf1\n",
    "    KM2 = (kr2+kcat2)/kf2\n",
    "    \n",
    "    kcatkm1 = kcat1/KM1\n",
    "    kcatkm2 = kcat2/KM2\n",
    "    print(\"Ratio KM1/KM2: \", round(KM1/KM2,4))\n",
    "    print(\"Ratio kcat/KM: \", round(kcatkm1/kcatkm2,4))\n",
    "    plt.plot(t, dsdt1, c='k', label=\"Substrate\")\n",
    "    plt.plot(t, dpdt1, label=\"Product1\")\n",
    "    plt.plot(t, dpdt2, label=\"Product2\")\n",
    "    plt.legend()\n",
    "    \n",
    "interact(f,stop=(2,5),s1=(0,10),es1=(0,1),p1=(0,1),e1=(1,5),es2=(0,1),p2=(0,1),e2=(0,5),\\\n",
    "         kf1=(0.1,4),kr1=(0.1,4),kcat1=(0.5,5),kf2=(0.1,4),kr2=(0.01,1),kcat2=(0.01,1))"
   ]
  },
  {
   "cell_type": "code",
   "execution_count": null,
   "metadata": {},
   "outputs": [],
   "source": []
  }
 ],
 "metadata": {
  "kernelspec": {
   "display_name": "Python 3",
   "language": "python",
   "name": "python3"
  },
  "language_info": {
   "codemirror_mode": {
    "name": "ipython",
    "version": 3
   },
   "file_extension": ".py",
   "mimetype": "text/x-python",
   "name": "python",
   "nbconvert_exporter": "python",
   "pygments_lexer": "ipython3",
   "version": "3.6.8"
  },
  "toc": {
   "nav_menu": {},
   "number_sections": true,
   "sideBar": true,
   "skip_h1_title": false,
   "toc_cell": false,
   "toc_position": {},
   "toc_section_display": "block",
   "toc_window_display": false
  }
 },
 "nbformat": 4,
 "nbformat_minor": 2
}
