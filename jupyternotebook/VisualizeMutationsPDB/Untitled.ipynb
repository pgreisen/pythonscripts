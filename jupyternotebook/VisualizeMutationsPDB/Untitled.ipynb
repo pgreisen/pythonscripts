{
 "cells": [
  {
   "cell_type": "markdown",
   "metadata": {},
   "source": [
    "# Visualize mutations on protein structure"
   ]
  },
  {
   "cell_type": "code",
   "execution_count": 1,
   "metadata": {},
   "outputs": [],
   "source": [
    "# Input: mutation file with following syntax (M123W\\n H135K)\n",
    "# PDB file"
   ]
  },
  {
   "cell_type": "code",
   "execution_count": 2,
   "metadata": {},
   "outputs": [],
   "source": [
    "from rdkit import Chem\n",
    "from rdkit.Chem import AllChem\n",
    "from rdkit.Chem import rdMolTransforms as rdmt\n",
    "import numpy as np\n",
    "# from rdkit import Chem\n",
    "from rdkit.Chem.Draw import IPythonConsole\n",
    "from rdkit.Chem.Draw import MolDrawing, DrawingOptions\n",
    "from rdkit.Geometry import rdGeometry as geom\n",
    "import py3Dmol\n",
    "from rdkit import Chem\n",
    "from rdkit.Chem import AllChem\n",
    "from ipywidgets import interact, interactive, fixed\n",
    "from ipywidgets import interact, widgets\n",
    "from IPython.display import display\n",
    "import py3Dmol"
   ]
  },
  {
   "cell_type": "code",
   "execution_count": null,
   "metadata": {},
   "outputs": [],
   "source": [
    "def get_mutations(mutationfile):\n",
    "    muts = {}\n",
    "    with open(mutationfile,'r') as f:\n",
    "        for line in f:\n",
    "            key = line.strip()\n",
    "            muts[key] = key[1:-1]\n",
    "    return muts"
   ]
  },
  {
   "cell_type": "code",
   "execution_count": null,
   "metadata": {},
   "outputs": [],
   "source": [
    "PDBFILE = \n",
    "MUTFILE = "
   ]
  },
  {
   "cell_type": "code",
   "execution_count": null,
   "metadata": {},
   "outputs": [],
   "source": [
    "\n",
    "pdbdata=open(PDBFILE, 'r').read()\n",
    "view=py3Dmol.view()\n",
    "proteinchain = {'chain':'A'}\n",
    "view.addModel(pdbdata,'pdb')\n",
    "view.setStyle(proteinchain,{'cartoon': {'color':'white'}})\n",
    "\n",
    "\n",
    "\n",
    "# Active site: D49, H156, H245, H288, H291, D329, H330, H425 (Cyan)\n",
    "design_residues_nr = ['49', '156', '245', '288', '291', '329', '330', '425']\n",
    "for i in design_residues_nr:\n",
    "    mod_res = {'resi': i, 'chain': 'A'}\n",
    "    col = 'cyan'\n",
    "    c_col = col + 'Carbon'\n",
    "    view.addStyle(mod_res, {'stick':{'colorscheme':c_col, 'radius': 0.2}})\n",
    "\n",
    "view.addLabel(\"F144E\", {'fontSize':10,'fontColor': 'black','backgroundColor':'white'}, {'resi': 177, 'chain': 'A'})\n",
    "view.addLabel(\"G191R\", {'fontSize':10,'fontColor': 'black','backgroundColor':'white'}, {'resi': 224, 'chain': 'A'})\n",
    "view.addLabel(\"Q525K\", {'fontSize':10,'fontColor': 'black','backgroundColor':'white'}, {'resi': 558, 'chain': 'A'})\n",
    "\n",
    "\n",
    "# V2: E107K-R417E (Red)\n",
    "design_residues_nr = ['140','450']\n",
    "for i in design_residues_nr:    \n",
    "    mod_res = {'resi': i, 'chain': 'A'}\n",
    "    col = 'red'\n",
    "    c_col = col + 'Carbon'\n",
    "    view.addStyle(mod_res, {'stick':{'colorscheme':c_col, 'radius': 0.2}})    \n",
    "\n",
    "view.addLabel(\"E107K\", {'fontSize':10,'fontColor': 'black','backgroundColor':'white'}, {'resi': 140, 'chain': 'A'})\n",
    "view.addLabel(\"R417E\", {'fontSize':10,'fontColor': 'black','backgroundColor':'white'}, {'resi': 450, 'chain': 'A'})\n",
    "\n",
    "    \n",
    "# V3: H103M-F144E-R417D\n",
    "design_residues_nr = ['136','177','450']\n",
    "for i in design_residues_nr:    \n",
    "    mod_res = {'resi': i, 'chain': 'A'}\n",
    "    col = 'blue'\n",
    "    c_col = col + 'Carbon'\n",
    "    view.addStyle(mod_res, {'stick':{'colorscheme':c_col, 'radius': 0.2}})\n",
    " \n",
    "view.addLabel(\"H103M\", {'fontSize':10,'fontColor': 'black','backgroundColor':'white'}, {'resi': 136, 'chain': 'A'})\n",
    "view.addLabel(\"F144E\", {'fontSize':10,'fontColor': 'black','backgroundColor':'white'}, {'resi': 177, 'chain': 'A'})\n",
    "view.addLabel(\"R417D\", {'fontSize':10,'fontColor': 'black','backgroundColor':'white'}, {'resi': 450, 'chain': 'A'})\n",
    "\n",
    "view.addStyle(fen, {'stick':{'colorscheme':'cyan'+ 'Carbon', 'radius': 0.2}})\n",
    "view.addStyle(fen, {'sphere':{'color':'gray', 'opacity': 0.5}})          \n",
    "view.zoomTo(fen,0.5)\n",
    "view.show()"
   ]
  }
 ],
 "metadata": {
  "kernelspec": {
   "display_name": "Python 3",
   "language": "python",
   "name": "python3"
  },
  "language_info": {
   "codemirror_mode": {
    "name": "ipython",
    "version": 3
   },
   "file_extension": ".py",
   "mimetype": "text/x-python",
   "name": "python",
   "nbconvert_exporter": "python",
   "pygments_lexer": "ipython3",
   "version": "3.6.8"
  }
 },
 "nbformat": 4,
 "nbformat_minor": 2
}
