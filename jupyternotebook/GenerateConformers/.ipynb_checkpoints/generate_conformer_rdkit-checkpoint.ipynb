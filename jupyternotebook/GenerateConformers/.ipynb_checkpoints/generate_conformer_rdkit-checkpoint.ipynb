{
 "cells": [
  {
   "cell_type": "markdown",
   "metadata": {
    "extensions": {
     "jupyter_dashboards": {
      "version": 1,
      "views": {
       "grid_default": {
        "col": 0,
        "height": 8,
        "hidden": false,
        "row": 0,
        "width": 12
       },
       "report_default": {}
      }
     }
    },
    "slideshow": {
     "slide_type": "slide"
    }
   },
   "source": [
    "# Design of biosensors\n"
   ]
  },
  {
   "cell_type": "markdown",
   "metadata": {
    "extensions": {
     "jupyter_dashboards": {
      "version": 1,
      "views": {
       "grid_default": {
        "col": 4,
        "height": 4,
        "hidden": false,
        "row": 8,
        "width": 5
       },
       "report_default": {}
      }
     }
    }
   },
   "source": [
    "Data were obtained from pubchem \n",
    "\n",
    "(https://pubchem.ncbi.nlm.nih.gov/compound/3345#section=Top)"
   ]
  },
  {
   "cell_type": "code",
   "execution_count": 1,
   "metadata": {
    "extensions": {
     "jupyter_dashboards": {
      "version": 1,
      "views": {
       "grid_default": {
        "hidden": true
       },
       "report_default": {}
      }
     }
    },
    "scrolled": true,
    "slideshow": {
     "slide_type": "skip"
    }
   },
   "outputs": [],
   "source": [
    "%%capture\n",
    "!pip install ipywidgets\n",
    "!pip install py3Dmol"
   ]
  },
  {
   "cell_type": "code",
   "execution_count": 2,
   "metadata": {
    "extensions": {
     "jupyter_dashboards": {
      "version": 1,
      "views": {
       "grid_default": {
        "col": 0,
        "height": 4,
        "hidden": false,
        "row": 12,
        "width": 4
       },
       "report_default": {}
      }
     }
    },
    "scrolled": true,
    "slideshow": {
     "slide_type": "skip"
    }
   },
   "outputs": [
    {
     "name": "stdout",
     "output_type": "stream",
     "text": [
      "Enabling notebook extension jupyter-js-widgets/extension...\r\n",
      "      - Validating: \u001b[32mOK\u001b[0m\r\n"
     ]
    }
   ],
   "source": [
    "!jupyter nbextension enable --py --sys-prefix widgetsnbextension"
   ]
  },
  {
   "cell_type": "code",
   "execution_count": 3,
   "metadata": {},
   "outputs": [],
   "source": [
    "#tca_smiles = \"C1=CC=C(C=C1)/C=C/C(=O)O\"\n",
    "fen = \"CCC(=O)N(C1CC[NH+](CC1)CCC2=CC=CC=C2)C3=CC=CC=C3\"\n",
    "\n",
    "# SMILES from pubchem except CVX build from RVX\n",
    "ligands = {'FEN' : fen }"
   ]
  },
  {
   "cell_type": "code",
   "execution_count": 4,
   "metadata": {
    "extensions": {
     "jupyter_dashboards": {
      "version": 1,
      "views": {
       "grid_default": {
        "hidden": true
       },
       "report_default": {}
      }
     }
    },
    "scrolled": true,
    "slideshow": {
     "slide_type": "skip"
    }
   },
   "outputs": [],
   "source": [
    "import shutil,subprocess,os\n",
    "from rdkit import Chem\n",
    "from rdkit.Chem import AllChem\n",
    "from rdkit.Chem import rdMolTransforms as rdmt\n",
    "import numpy as np\n",
    "# from rdkit import Chem\n",
    "from rdkit.Chem.Draw import IPythonConsole\n",
    "from rdkit.Chem.Draw import MolDrawing, DrawingOptions\n",
    "from rdkit.Geometry import rdGeometry as geom\n",
    "import py3Dmol\n",
    "from rdkit import Chem\n",
    "from rdkit.Chem import AllChem\n",
    "from ipywidgets import interact, interactive, fixed\n",
    "from ipywidgets import interact, widgets\n",
    "from IPython.display import display"
   ]
  },
  {
   "cell_type": "code",
   "execution_count": 5,
   "metadata": {
    "extensions": {
     "jupyter_dashboards": {
      "version": 1,
      "views": {
       "grid_default": {
        "hidden": true
       },
       "report_default": {}
      }
     }
    },
    "scrolled": true,
    "slideshow": {
     "slide_type": "skip"
    }
   },
   "outputs": [],
   "source": [
    "def drawit(m,p,confId=-1):\n",
    "    mb = Chem.MolToMolBlock(m,confId=confId)\n",
    "    p.removeAllModels()\n",
    "    p.addModel(mb,'sdf')\n",
    "    p.setStyle({'stick':{}})\n",
    "    p.setBackgroundColor('0xeeeeee')\n",
    "    p.zoomTo()\n",
    "    return p.show()"
   ]
  },
  {
   "cell_type": "code",
   "execution_count": 6,
   "metadata": {
    "extensions": {
     "jupyter_dashboards": {
      "version": 1,
      "views": {
       "grid_default": {
        "hidden": true
       },
       "report_default": {}
      }
     }
    },
    "scrolled": true,
    "slideshow": {
     "slide_type": "skip"
    }
   },
   "outputs": [],
   "source": [
    "def generate_molecule(name,smiles):\n",
    "    \"\"\"\n",
    "    Generate the 3D molecular structure based on input SMILES\n",
    "    ----------\n",
    "    name : name of molecule\n",
    "    smiles: SMILES of molecule\n",
    "    Returns\n",
    "    ----------\n",
    "    Mol \n",
    "    \n",
    "    \"\"\"\n",
    "    LIGAND_NAME = name\n",
    "    m = Chem.MolFromSmiles(smiles)\n",
    "    m_h = Chem.AddHs(m)\n",
    "    # Embeed the geometry\n",
    "    AllChem.EmbedMolecule(m_h, AllChem.ETKDG())\n",
    "    # Setting name of molecule\n",
    "    m_h.SetProp(\"_Name\",LIGAND_NAME)\n",
    "    return m_h"
   ]
  },
  {
   "cell_type": "code",
   "execution_count": 7,
   "metadata": {
    "extensions": {
     "jupyter_dashboards": {
      "version": 1,
      "views": {
       "grid_default": {
        "hidden": true
       },
       "report_default": {}
      }
     }
    },
    "scrolled": true,
    "slideshow": {
     "slide_type": "skip"
    }
   },
   "outputs": [],
   "source": [
    "def get_conformers(mol,nr=500,rmsthreshold=0.1):\n",
    "    \"\"\"\n",
    "    Generate 3D conformers of molecule using CSD-method\n",
    "    ----------\n",
    "    mol : RKdit molecule\n",
    "    nr : integer, number of conformers to be generate\n",
    "    rmsthreshold : float, prune conformers that are less rms away from another conf\n",
    "    Returns\n",
    "    ----------\n",
    "    List of new conformation IDs\n",
    "    \"\"\"\n",
    "    # Generate conformers on the CSD-method\n",
    "    return AllChem.EmbedMultipleConfs(mol, numConfs=nr,useBasicKnowledge=True,\\\n",
    "                                      pruneRmsThresh=rmsthreshold,useExpTorsionAnglePrefs=True)"
   ]
  },
  {
   "cell_type": "code",
   "execution_count": 8,
   "metadata": {
    "extensions": {
     "jupyter_dashboards": {
      "version": 1,
      "views": {
       "grid_default": {
        "hidden": true
       },
       "report_default": {}
      }
     }
    },
    "scrolled": true,
    "slideshow": {
     "slide_type": "skip"
    }
   },
   "outputs": [],
   "source": [
    "mols = {}\n",
    "for name in ligands.keys():\n",
    "    mols[name] = generate_molecule(name,ligands[name])"
   ]
  },
  {
   "cell_type": "code",
   "execution_count": 9,
   "metadata": {
    "extensions": {
     "jupyter_dashboards": {
      "version": 1,
      "views": {
       "grid_default": {
        "col": 4,
        "height": 5,
        "hidden": false,
        "row": 12,
        "width": 4
       },
       "report_default": {}
      }
     }
    },
    "scrolled": true,
    "slideshow": {
     "slide_type": "slide"
    }
   },
   "outputs": [
    {
     "data": {
      "image/png": "[encoded data removed]",
      "text/plain": [
       "<rdkit.Chem.rdchem.Mol at 0x122a0c030>"
      ]
     },
     "execution_count": 9,
     "metadata": {},
     "output_type": "execute_result"
    }
   ],
   "source": [
    "mols[\"FEN\"]"
   ]
  },
  {
   "cell_type": "code",
   "execution_count": 10,
   "metadata": {},
   "outputs": [],
   "source": [
    "for i in ligands.keys():\n",
    "    cids = get_conformers(mols[i], 50,0.1)\n",
    "    # Do a short minimization and compute the RMSD\n",
    "    for cid in cids:\n",
    "        _ = AllChem.MMFFOptimizeMolecule(mols[i], confId=cid)\n",
    "    rmslist = []\n",
    "    AllChem.AlignMolConformers(mols[i], RMSlist=rmslist)"
   ]
  },
  {
   "cell_type": "code",
   "execution_count": 11,
   "metadata": {
    "extensions": {
     "jupyter_dashboards": {
      "version": 1,
      "views": {
       "grid_default": {
        "hidden": true
       },
       "report_default": {}
      }
     }
    },
    "scrolled": true,
    "slideshow": {
     "slide_type": "skip"
    }
   },
   "outputs": [],
   "source": [
    "molecule_widget = widgets.Dropdown(\n",
    "    options=list(mols.keys()),\n",
    "    value=list(mols.keys())[0],\n",
    "    description='Molecule:',\n",
    "    disabled=False,\n",
    ")"
   ]
  },
  {
   "cell_type": "code",
   "execution_count": 12,
   "metadata": {
    "extensions": {
     "jupyter_dashboards": {
      "version": 1,
      "views": {
       "grid_default": {
        "hidden": true
       },
       "report_default": {}
      }
     }
    },
    "scrolled": true,
    "slideshow": {
     "slide_type": "skip"
    }
   },
   "outputs": [],
   "source": [
    "molconf_widget = widgets.Label(\n",
    "    value = 'Number of conformers: '+str(mols[molecule_widget.value].GetNumConformers())\n",
    ")"
   ]
  },
  {
   "cell_type": "code",
   "execution_count": 13,
   "metadata": {
    "extensions": {
     "jupyter_dashboards": {
      "version": 1,
      "views": {
       "grid_default": {
        "hidden": true
       },
       "report_default": {}
      }
     }
    },
    "scrolled": true,
    "slideshow": {
     "slide_type": "skip"
    }
   },
   "outputs": [],
   "source": [
    "def select_molecule(molecule):\n",
    "    new_i = widgets.interactive(print_city, country=countryW, city=geoWs[country['new']])\n",
    "    i.children = new_i.children\n",
    "    \n",
    "def on_change(change):\n",
    "    from IPython.display import clear_output\n",
    "    clear_output()\n",
    "    molconf_widget.value = 'Number of conformers: '+str(mols[change['new']].GetNumConformers())\n",
    "    display(container)\n",
    "    interact(drawit,m=fixed(mols[change['new']]),p=fixed(p),confId=(0,mols[change['new']].GetNumConformers()-1));"
   ]
  },
  {
   "cell_type": "code",
   "execution_count": 14,
   "metadata": {
    "extensions": {
     "jupyter_dashboards": {
      "version": 1,
      "views": {
       "grid_default": {
        "col": 0,
        "height": 12,
        "hidden": false,
        "row": 17,
        "width": 8
       },
       "report_default": {}
      }
     }
    },
    "scrolled": false,
    "slideshow": {
     "slide_type": "slide"
    }
   },
   "outputs": [
    {
     "data": {
      "application/vnd.jupyter.widget-view+json": {
       "model_id": "c7c1213f918b4bc496dd67f47d487eb2",
       "version_major": 2,
       "version_minor": 0
      },
      "text/plain": [
       "HBox(children=(Dropdown(description='Molecule:', options=('FEN',), value='FEN'), Label(value='Number of confor…"
      ]
     },
     "metadata": {},
     "output_type": "display_data"
    },
    {
     "data": {
      "application/vnd.jupyter.widget-view+json": {
       "model_id": "0601a249f39449b2985243b8f2e7a345",
       "version_major": 2,
       "version_minor": 0
      },
      "text/plain": [
       "interactive(children=(IntSlider(value=0, description='confId', max=49), Output()), _dom_classes=('widget-inter…"
      ]
     },
     "metadata": {},
     "output_type": "display_data"
    }
   ],
   "source": [
    "container = widgets.HBox([molecule_widget, molconf_widget])\n",
    "display(container)\n",
    "# now construct the view and interactive widget:\n",
    "p = py3Dmol.view(width=600,height=400)\n",
    "# this is the widget that needs to tricker events\n",
    "molecule_widget.observe(on_change, names='value')\n",
    "interact(drawit,m=fixed(mols[molecule_widget.value]),p=fixed(p),confId=(0,mols[molecule_widget.value].GetNumConformers()-1));"
   ]
  },
  {
   "cell_type": "code",
   "execution_count": 15,
   "metadata": {},
   "outputs": [],
   "source": [
    "def generate_rosetta_input(mol,name,charge=0):\n",
    "    try:\n",
    "        os.mkdir(name)\n",
    "    except:\n",
    "        print(\"Directory already there!\")\n",
    "    os.chdir(name)\n",
    "    w = Chem.SDWriter(name+'.sdf')\n",
    "    for i in mol.GetConformers():\n",
    "        w.write(mol,confId=i.GetId())\n",
    "    w.close()\n",
    "    parm_exe=\"python2.7 /Users/pgreisen/Programs/Rosetta/Rosetta/main/source/scripts/python/public/molfile_to_params.py \"\n",
    "    exe=parm_exe+\" \"+name+\".sdf -n \"+name+\" --conformers-in-one-file --recharge=\"+str(charge)+\" -c \"\n",
    "    subprocess.Popen(exe,shell=True)\n",
    "    print(exe)\n",
    "    os.chdir('../')"
   ]
  },
  {
   "cell_type": "code",
   "execution_count": 16,
   "metadata": {},
   "outputs": [],
   "source": [
    "pth=os.getcwd()"
   ]
  },
  {
   "cell_type": "code",
   "execution_count": 17,
   "metadata": {},
   "outputs": [
    {
     "name": "stdout",
     "output_type": "stream",
     "text": [
      "Directory already there!\n",
      "python2.7 /Users/pgreisen/Programs/Rosetta/Rosetta/main/source/scripts/python/public/molfile_to_params.py  FEN.sdf -n FEN --conformers-in-one-file --recharge=1 -c \n"
     ]
    }
   ],
   "source": [
    "os.chdir(pth)\n",
    "for key in mols:\n",
    "    generate_rosetta_input(mols[key],key,Chem.GetFormalCharge(mols[key]) )"
   ]
  },
  {
   "cell_type": "code",
   "execution_count": null,
   "metadata": {},
   "outputs": [],
   "source": []
  }
 ],
 "metadata": {
  "extensions": {
   "jupyter_dashboards": {
    "activeView": "grid_default",
    "version": 1,
    "views": {
     "grid_default": {
      "cellMargin": 10,
      "defaultCellHeight": 20,
      "maxColumns": 12,
      "name": "grid",
      "type": "grid"
     },
     "report_default": {
      "name": "report",
      "type": "report"
     }
    }
   }
  },
  "kernelspec": {
   "display_name": "Python 3",
   "language": "python",
   "name": "python3"
  },
  "language_info": {
   "codemirror_mode": {
    "name": "ipython",
    "version": 3
   },
   "file_extension": ".py",
   "mimetype": "text/x-python",
   "name": "python",
   "nbconvert_exporter": "python",
   "pygments_lexer": "ipython3",
   "version": "3.6.8"
  },
  "toc": {
   "nav_menu": {},
   "number_sections": true,
   "sideBar": true,
   "skip_h1_title": false,
   "toc_cell": false,
   "toc_position": {},
   "toc_section_display": "block",
   "toc_window_display": false
  }
 },
 "nbformat": 4,
 "nbformat_minor": 2
}
