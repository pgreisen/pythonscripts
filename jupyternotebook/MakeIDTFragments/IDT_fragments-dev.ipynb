{
 "cells": [
  {
   "cell_type": "markdown",
   "metadata": {},
   "source": [
    "This generates gblocks of designs from fasta files. The clusters can be specified in to 8 or 12 to fit a 96 well plate. "
   ]
  },
  {
   "cell_type": "markdown",
   "metadata": {},
   "source": [
    "Take difference between minimum and maximum of design based on name. Next, use kmeans to cluster designs into N-number of\n",
    "cluster points. "
   ]
  },
  {
   "cell_type": "code",
   "execution_count": 1,
   "metadata": {},
   "outputs": [],
   "source": [
    "import pandas as pd\n",
    "import seaborn as sns\n",
    "import numpy as np\n",
    "import matplotlib.pyplot as plt\n",
    "%matplotlib inline"
   ]
  },
  {
   "cell_type": "code",
   "execution_count": 2,
   "metadata": {},
   "outputs": [],
   "source": [
    "from datetime import date\n",
    "today = date.today()\n",
    "# input and output file defined here:\n",
    "# File name of output file\n",
    "ofile = str(today)+\"_DNA_sequence\"\n",
    "# inputfile \n",
    "# Needs to be DNA sequences - if it is amino acids\n",
    "# one can convert it like this\n",
    "'''\n",
    "echo \"argument 1: template DNA\";\n",
    "echo \"argument 2: fastafile with designs\";\n",
    "echo \"argument 3: Codons to use\";\n",
    "python /Users/pgreisen/pythonscripts/develop/insert_mutation_into_DNA_string/run_insert.py $1 $2 $3 \n",
    "\n",
    "where the fastafile has to be named A21G_H56R_1\n",
    "\n",
    "\n",
    "''' \n",
    "ifile = \"2019-08-22_aa_sequences.fasta\""
   ]
  },
  {
   "cell_type": "code",
   "execution_count": 3,
   "metadata": {},
   "outputs": [],
   "source": [
    "import pandas as pd\n",
    "# parameters needed for the run\n",
    "## bsaI sites for cloning\n",
    "preseq = \"GTCACGGTCTCA\"\n",
    "postseq = \"CGAGACCAGTCA\"\n",
    "# range of basepair offset\n",
    "bp_offset_nterm = 3\n",
    "bp_offset_cterm = 3\n",
    "bp_offset = 12\n",
    "# envoke print statements\n",
    "debug = 0\n",
    "# variable parameter for the gene length\n",
    "# g-blocks to synthetize\n",
    "cutoff = [250,500,750,1000]\n",
    "cluster_size = 12"
   ]
  },
  {
   "cell_type": "code",
   "execution_count": 4,
   "metadata": {},
   "outputs": [],
   "source": [
    "# prices taken from here (Tubes): \n",
    "# https://www.idtdna.com/pages/products/genes-and-gene-fragments/gblocks-gene-fragments\n",
    "idt_gblock = {\n",
    "    250 : 71.10,\n",
    "    500 : 71.10,\n",
    "    750 : 80.10,\n",
    "    1000 : 89.10,\n",
    "    1250 : 143.10\n",
    "}"
   ]
  },
  {
   "cell_type": "code",
   "execution_count": 5,
   "metadata": {},
   "outputs": [],
   "source": [
    "def get_price(length):\n",
    "    ln = int(length)\n",
    "    if ln <= 250:\n",
    "        return 71.10\n",
    "    elif ln <= 500: \n",
    "        return 71.10\n",
    "    elif ln <= 750:\n",
    "        return 80.10\n",
    "    elif ln <= 1000:\n",
    "        return 89.10\n",
    "    elif ln <= 1250:\n",
    "        return 143.10\n",
    "    elif ln <= 1500:\n",
    "        return 179.1\n",
    "    else:\n",
    "        return \"Error\""
   ]
  },
  {
   "cell_type": "code",
   "execution_count": null,
   "metadata": {},
   "outputs": [],
   "source": [
    "def write_fasta_file_w_variants(df):\n",
    "    lengt = []\n",
    "    with open(ofile+\".fasta\",'w') as f:\n",
    "        for varname, dnaseq, st, end in zip(df[\"VarName\"],df[\"seq(DNA)\"],df[\"start_cut_DNA\"],df[\"end_cut_DNA\"]):\n",
    "            f.write(varname+\"\\n\")\n",
    "            lengt.append(len(preseq+dnaseq[st:end]+postseq))\n",
    "            f.write(preseq+dnaseq[st:end]+postseq+\"\\n\")\n",
    "    return lengt"
   ]
  },
  {
   "cell_type": "code",
   "execution_count": 6,
   "metadata": {},
   "outputs": [],
   "source": [
    "def read_fastafile(ifile):\n",
    "    sequences = {}\n",
    "    with open(ifile,'r') as f:\n",
    "        for line in f:\n",
    "            if(line[0] == \">\"):\n",
    "                tmp = line.split()\n",
    "                ids = tmp[0]\n",
    "                sequences[ids] = \"\"\n",
    "            else:\n",
    "                tmp = line.strip()\n",
    "                sequences[ids] = sequences[ids] + tmp\n",
    "    return sequences"
   ]
  },
  {
   "cell_type": "code",
   "execution_count": 7,
   "metadata": {},
   "outputs": [],
   "source": [
    "def reassign_missing_variants(df):\n",
    "    '''\n",
    "    '''\n",
    "    reassign_cluster = {}\n",
    "    # sub-divide the rest into exciting cluster\n",
    "    for i,j,k,c,l in zip(df.index, df[\"start_DNA_w_padding\"], df[\"end_DNA_w_padding\"], df[\"Clustered\"],df[\"Size_of_gene\"]):\n",
    "        if(c == 0):\n",
    "            for key in dict_w_start_stop:\n",
    "                if( (j >= dict_w_start_stop[key][0]) & (k <= dict_w_start_stop[key][1])):\n",
    "                    # add and sort such that we can add it to the\n",
    "                    # shortest gene cluster\n",
    "                    tmpkey = \"index_\"+str(i)\n",
    "                    reassign_cluster[tmpkey] = (i,j,k,c,key,dict_w_start_stop[key][2])\n",
    "    # sort dictionary\n",
    "    listofTuples = sorted(reassign_cluster.items() ,  key=lambda x: x[-1] )\n",
    "    r_c = dict(listofTuples)\n",
    "    for key in reassign_cluster.keys():\n",
    "        df.iloc[r_c[key][0], df.columns.get_loc(\"Clustered\")] = 1\n",
    "        df.iloc[r_c[key][0], df.columns.get_loc(\"Cluster_name\")] = r_c[key][4]\n",
    "        df.iloc[r_c[key][0], df.columns.get_loc(\"Size_of_gene\")] = r_c[key][5]\n",
    "    return df"
   ]
  },
  {
   "cell_type": "code",
   "execution_count": 8,
   "metadata": {},
   "outputs": [],
   "source": [
    "sequences = read_fastafile(ifile)\n",
    "df_sequences = pd.DataFrame.from_dict(sequences,orient='index',columns=['seq(DNA)'] )\n",
    "df_sequences.reset_index(inplace=True)\n",
    "df_sequences = df_sequences.rename(columns={'index':'VarName'})"
   ]
  },
  {
   "cell_type": "code",
   "execution_count": 9,
   "metadata": {},
   "outputs": [],
   "source": [
    "def set_residue_numbers(seq_df):\n",
    "    # initialize new columns\n",
    "    seq_df[\"start_DNA\"] = 0 \n",
    "    seq_df[\"end_DNA\"] = 0 \n",
    "    # loop over keys in hash\n",
    "    # Contain all the positions mutated\n",
    "    residue_nr = []\n",
    "    # contains residue numbers for each variant\n",
    "    tmpresiduenr = {}\n",
    "    for index,varname in zip(seq_df.index,seq_df[\"VarName\"]):\n",
    "        new_array = []\n",
    "        nametmp_ = varname[1:].split(\"_\")\n",
    "        for j in nametmp_:\n",
    "            new_array.append( int(j[1:-1] ) )\n",
    "        mn = min(new_array)\n",
    "        mx = max(new_array)\n",
    "        # The -3 is due to counting from 0 and protein vs DNA\n",
    "        seq_df.iloc[index,seq_df.columns.get_loc(\"start_DNA\")] = 3*mn-3\n",
    "        # \n",
    "        seq_df.iloc[index,seq_df.columns.get_loc(\"end_DNA\")] = 3*mx\n",
    "    return seq_df"
   ]
  },
  {
   "cell_type": "code",
   "execution_count": 10,
   "metadata": {},
   "outputs": [],
   "source": [
    "df_sequences = set_residue_numbers(df_sequences)\n",
    "df_sequences[\"start_DNA_w_padding\"] = df_sequences[\"start_DNA\"] - bp_offset\n",
    "df_sequences[\"end_DNA_w_padding\"] = df_sequences[\"end_DNA\"] + bp_offset"
   ]
  },
  {
   "cell_type": "code",
   "execution_count": 11,
   "metadata": {},
   "outputs": [],
   "source": [
    "df_sequences.sort_values(by=[\"start_DNA_w_padding\",\"end_DNA_w_padding\"],inplace=True)\n",
    "df_sequences[\"length_DNA_w_padding\"] = df_sequences[\"end_DNA_w_padding\"] - df_sequences[\"start_DNA_w_padding\"]"
   ]
  },
  {
   "cell_type": "code",
   "execution_count": 12,
   "metadata": {},
   "outputs": [],
   "source": [
    "df_sequences[\"Clustered\"] = 0\n",
    "df_sequences[\"Cluster_name\"] = \"\"\n",
    "df_sequences[\"Size_of_gene\"] = 0"
   ]
  },
  {
   "cell_type": "code",
   "execution_count": 13,
   "metadata": {},
   "outputs": [],
   "source": [
    "def get_clusters(df,min_size_cluster,cutoff,gb=\"start_DNA_w_padding\", parameter=\"length_DNA_w_padding\"):\n",
    "    # remove lengths greater than cutoff\n",
    "    temp = df[(df[parameter] < cutoff) & (df[\"Clustered\"] != 1) ]\n",
    "    # count how many \n",
    "    tmp_= temp.groupby(gb).count().reset_index()\n",
    "    # only clusters of certain size are investigated\n",
    "    tmp_ = tmp_[tmp_[\"VarName\"] >= min_size_cluster]\n",
    "    return tmp_\n",
    "\n",
    "def set_clusters(df,init_values, cutoff):\n",
    "    for i,j,l,c in zip(df.index, df[\"start_DNA_w_padding\"], df[\"length_DNA_w_padding\"],df[\"Clustered\"]):\n",
    "        \n",
    "        # bool value so you dont overwrite existing clusters\n",
    "        if(c == 1):\n",
    "            continue\n",
    "        elif((j in init_values) & (l < cutoff)):\n",
    "            df.iloc[i, df.columns.get_loc(\"Clustered\")] = 1\n",
    "            df.iloc[i, df.columns.get_loc(\"Cluster_name\")] = \"cluster_\"+str(j)+\"_\"+str(j+cutoff)+\"_\"+str(cutoff)\n",
    "            df.iloc[i, df.columns.get_loc(\"Size_of_gene\")] = cutoff\n",
    "        else:\n",
    "            continue\n",
    "    return df\n",
    "#min_size_cluster = 3\n",
    "df = df_sequences.copy()\n",
    "df = df.reset_index()"
   ]
  },
  {
   "cell_type": "code",
   "execution_count": 14,
   "metadata": {},
   "outputs": [
    {
     "data": {
      "text/plain": [
       "<matplotlib.collections.PathCollection at 0x1a217590f0>"
      ]
     },
     "execution_count": 14,
     "metadata": {},
     "output_type": "execute_result"
    },
    {
     "data": {
      "image/png": "[encoded data removed]",
      "text/plain": [
       "<Figure size 432x288 with 1 Axes>"
      ]
     },
     "metadata": {
      "needs_background": "light"
     },
     "output_type": "display_data"
    }
   ],
   "source": [
    "from pandas import DataFrame\n",
    "import matplotlib.pyplot as plt\n",
    "from sklearn.cluster import KMeans\n",
    "df_cluster = DataFrame(df,columns=['start_DNA_w_padding', 'end_DNA_w_padding'])\n",
    "kmeans = KMeans(n_clusters=cluster_size).fit(df_cluster)\n",
    "centroids = kmeans.cluster_centers_\n",
    "plt.scatter(df_cluster['start_DNA_w_padding'], df_cluster['end_DNA_w_padding'], c= kmeans.labels_.astype(float), s=50, alpha=0.5)\n",
    "plt.scatter(centroids[:, 0], centroids[:, 1], c='red', s=50)"
   ]
  },
  {
   "cell_type": "code",
   "execution_count": 16,
   "metadata": {},
   "outputs": [],
   "source": [
    "cluster_map = pd.DataFrame()\n",
    "cluster_map['data_index'] = df.index.values\n",
    "cluster_map['cluster'] = kmeans.labels_"
   ]
  },
  {
   "cell_type": "code",
   "execution_count": 17,
   "metadata": {},
   "outputs": [],
   "source": [
    "# merge dataframes\n",
    "df_kmeans = pd.merge(right=df, right_index=True, left=cluster_map, left_index=True)"
   ]
  },
  {
   "cell_type": "code",
   "execution_count": 18,
   "metadata": {},
   "outputs": [
    {
     "data": {
      "text/plain": [
       "Index(['data_index', 'cluster', 'index', 'VarName', 'seq(DNA)', 'start_DNA',\n",
       "       'end_DNA', 'start_DNA_w_padding', 'end_DNA_w_padding',\n",
       "       'length_DNA_w_padding', 'Clustered', 'Cluster_name', 'Size_of_gene'],\n",
       "      dtype='object')"
      ]
     },
     "execution_count": 18,
     "metadata": {},
     "output_type": "execute_result"
    }
   ],
   "source": [
    "df_kmeans.columns"
   ]
  },
  {
   "cell_type": "code",
   "execution_count": 19,
   "metadata": {},
   "outputs": [],
   "source": [
    "df_kmeans.drop(labels=['data_index', 'index',\\\n",
    "                       'start_DNA_w_padding', 'end_DNA_w_padding','length_DNA_w_padding',\\\n",
    "                       'Clustered','Size_of_gene','Cluster_name'], axis=1,inplace=True)"
   ]
  },
  {
   "cell_type": "code",
   "execution_count": 20,
   "metadata": {},
   "outputs": [
    {
     "data": {
      "text/plain": [
       "Index(['cluster', 'VarName', 'seq(DNA)', 'start_DNA', 'end_DNA'], dtype='object')"
      ]
     },
     "execution_count": 20,
     "metadata": {},
     "output_type": "execute_result"
    }
   ],
   "source": [
    "df_kmeans.columns"
   ]
  },
  {
   "cell_type": "code",
   "execution_count": 21,
   "metadata": {},
   "outputs": [],
   "source": [
    "nr_clusters = list(set(kmeans.labels_))\n",
    "df_kmeans['start_cut_DNA'] = 0\n",
    "df_kmeans['end_cut_DNA'] = 0\n",
    "df_kmeans['Size_of_gene'] = 0\n",
    "df_kmeans['Cluster_name'] = \"\"\n",
    "\n",
    "for cluster_ in nr_clusters:\n",
    "    # get each cluster\n",
    "    subcluster = df_kmeans[df_kmeans['cluster'] == cluster_]\n",
    "    # print(subcluster)\n",
    "    # start cut DNA\n",
    "    mn_ = min(subcluster['start_DNA'])\n",
    "    # end cut DNA\n",
    "    mx_ = max(subcluster['end_DNA'])\n",
    "    # size of gene\n",
    "    length_ = mx_-mn_\n",
    "    # cluster name\n",
    "    clustername_ = \"Cluster_\"+str(mn_)+\"_\"+str(mx_)+\"_cluster_nr_\"+str(cluster_)\n",
    "    for i in df_kmeans.index:\n",
    "        if(df_kmeans.iloc[i,df_kmeans.columns.get_loc('cluster')] == cluster_):\n",
    "            \n",
    "            df_kmeans.iloc[i,df_kmeans.columns.get_loc('start_cut_DNA')] = mn_ - bp_offset\n",
    "            df_kmeans.iloc[i,df_kmeans.columns.get_loc('end_cut_DNA')] = mx_ + bp_offset\n",
    "            df_kmeans.iloc[i,df_kmeans.columns.get_loc('Size_of_gene')] = length_ + bp_offset\n",
    "            df_kmeans.iloc[i,df_kmeans.columns.get_loc('Cluster_name')]= clustername_"
   ]
  },
  {
   "cell_type": "code",
   "execution_count": 22,
   "metadata": {},
   "outputs": [
    {
     "data": {
      "text/html": [
       "<div>\n",
       "<style scoped>\n",
       "    .dataframe tbody tr th:only-of-type {\n",
       "        vertical-align: middle;\n",
       "    }\n",
       "\n",
       "    .dataframe tbody tr th {\n",
       "        vertical-align: top;\n",
       "    }\n",
       "\n",
       "    .dataframe thead th {\n",
       "        text-align: right;\n",
       "    }\n",
       "</style>\n",
       "<table border=\"1\" class=\"dataframe\">\n",
       "  <thead>\n",
       "    <tr style=\"text-align: right;\">\n",
       "      <th></th>\n",
       "      <th>cluster</th>\n",
       "      <th>VarName</th>\n",
       "      <th>seq(DNA)</th>\n",
       "      <th>start_DNA</th>\n",
       "      <th>end_DNA</th>\n",
       "      <th>start_cut_DNA</th>\n",
       "      <th>end_cut_DNA</th>\n",
       "      <th>Size_of_gene</th>\n",
       "      <th>Cluster_name</th>\n",
       "    </tr>\n",
       "  </thead>\n",
       "  <tbody>\n",
       "    <tr>\n",
       "      <th>0</th>\n",
       "      <td>4</td>\n",
       "      <td>&gt;N21I</td>\n",
       "      <td>GCGAACCCGCGTGAAAACTTCCTGAAATGCTTCTCTCAGTACATCC...</td>\n",
       "      <td>60</td>\n",
       "      <td>63</td>\n",
       "      <td>48</td>\n",
       "      <td>75</td>\n",
       "      <td>15</td>\n",
       "      <td>Cluster_60_63_cluster_nr_4</td>\n",
       "    </tr>\n",
       "    <tr>\n",
       "      <th>1</th>\n",
       "      <td>1</td>\n",
       "      <td>&gt;V76H</td>\n",
       "      <td>GCGAACCCGCGTGAAAACTTCCTGAAATGCTTCTCTCAGTACATCC...</td>\n",
       "      <td>225</td>\n",
       "      <td>228</td>\n",
       "      <td>213</td>\n",
       "      <td>240</td>\n",
       "      <td>15</td>\n",
       "      <td>Cluster_225_228_cluster_nr_1</td>\n",
       "    </tr>\n",
       "    <tr>\n",
       "      <th>2</th>\n",
       "      <td>8</td>\n",
       "      <td>&gt;S89F</td>\n",
       "      <td>GCGAACCCGCGTGAAAACTTCCTGAAATGCTTCTCTCAGTACATCC...</td>\n",
       "      <td>264</td>\n",
       "      <td>267</td>\n",
       "      <td>252</td>\n",
       "      <td>279</td>\n",
       "      <td>15</td>\n",
       "      <td>Cluster_264_267_cluster_nr_8</td>\n",
       "    </tr>\n",
       "    <tr>\n",
       "      <th>3</th>\n",
       "      <td>3</td>\n",
       "      <td>&gt;N169K</td>\n",
       "      <td>GCGAACCCGCGTGAAAACTTCCTGAAATGCTTCTCTCAGTACATCC...</td>\n",
       "      <td>504</td>\n",
       "      <td>507</td>\n",
       "      <td>492</td>\n",
       "      <td>519</td>\n",
       "      <td>15</td>\n",
       "      <td>Cluster_504_507_cluster_nr_3</td>\n",
       "    </tr>\n",
       "    <tr>\n",
       "      <th>4</th>\n",
       "      <td>5</td>\n",
       "      <td>&gt;E209A</td>\n",
       "      <td>GCGAACCCGCGTGAAAACTTCCTGAAATGCTTCTCTCAGTACATCC...</td>\n",
       "      <td>624</td>\n",
       "      <td>627</td>\n",
       "      <td>612</td>\n",
       "      <td>639</td>\n",
       "      <td>15</td>\n",
       "      <td>Cluster_624_627_cluster_nr_5</td>\n",
       "    </tr>\n",
       "  </tbody>\n",
       "</table>\n",
       "</div>"
      ],
      "text/plain": [
       "   cluster VarName                                           seq(DNA)  \\\n",
       "0        4   >N21I  GCGAACCCGCGTGAAAACTTCCTGAAATGCTTCTCTCAGTACATCC...   \n",
       "1        1   >V76H  GCGAACCCGCGTGAAAACTTCCTGAAATGCTTCTCTCAGTACATCC...   \n",
       "2        8   >S89F  GCGAACCCGCGTGAAAACTTCCTGAAATGCTTCTCTCAGTACATCC...   \n",
       "3        3  >N169K  GCGAACCCGCGTGAAAACTTCCTGAAATGCTTCTCTCAGTACATCC...   \n",
       "4        5  >E209A  GCGAACCCGCGTGAAAACTTCCTGAAATGCTTCTCTCAGTACATCC...   \n",
       "\n",
       "   start_DNA  end_DNA  start_cut_DNA  end_cut_DNA  Size_of_gene  \\\n",
       "0         60       63             48           75            15   \n",
       "1        225      228            213          240            15   \n",
       "2        264      267            252          279            15   \n",
       "3        504      507            492          519            15   \n",
       "4        624      627            612          639            15   \n",
       "\n",
       "                   Cluster_name  \n",
       "0    Cluster_60_63_cluster_nr_4  \n",
       "1  Cluster_225_228_cluster_nr_1  \n",
       "2  Cluster_264_267_cluster_nr_8  \n",
       "3  Cluster_504_507_cluster_nr_3  \n",
       "4  Cluster_624_627_cluster_nr_5  "
      ]
     },
     "execution_count": 22,
     "metadata": {},
     "output_type": "execute_result"
    }
   ],
   "source": [
    "df_kmeans.head()"
   ]
  },
  {
   "cell_type": "code",
   "execution_count": 23,
   "metadata": {},
   "outputs": [
    {
     "name": "stdout",
     "output_type": "stream",
     "text": [
      "The price of the order is:  853.2\n",
      "Number of unique cluster:  12\n",
      "Size of the different clusters:  Cluster_name\n",
      "Cluster_1011_1014_cluster_nr_7    1\n",
      "Cluster_225_228_cluster_nr_1      1\n",
      "Cluster_264_267_cluster_nr_8      1\n",
      "Cluster_504_507_cluster_nr_3      1\n",
      "Cluster_60_63_cluster_nr_4        1\n",
      "Cluster_624_627_cluster_nr_5      1\n",
      "Cluster_678_681_cluster_nr_10     1\n",
      "Cluster_702_705_cluster_nr_0      1\n",
      "Cluster_735_738_cluster_nr_9      1\n",
      "Cluster_777_780_cluster_nr_6      1\n",
      "Cluster_945_948_cluster_nr_11     1\n",
      "Cluster_963_966_cluster_nr_2      1\n",
      "Name: VarName, dtype: int64\n"
     ]
    }
   ],
   "source": [
    "# Calculate price\n",
    "df_kmeans[\"IDT_price\"] = df_kmeans[\"Size_of_gene\"].apply(get_price)\n",
    "print(\"The price of the order is: \",df_kmeans[\"IDT_price\"].sum())\n",
    "print(\"Number of unique cluster: \", len(df_kmeans[\"Cluster_name\"].unique()))\n",
    "tmp = df_kmeans.groupby(\"Cluster_name\").count()\n",
    "print(\"Size of the different clusters: \",tmp[\"VarName\"] )"
   ]
  },
  {
   "cell_type": "code",
   "execution_count": 24,
   "metadata": {},
   "outputs": [],
   "source": [
    "df_kmeans.to_excel(ofile+\".xlsx\")"
   ]
  },
  {
   "cell_type": "code",
   "execution_count": 25,
   "metadata": {},
   "outputs": [],
   "source": [
    "a = write_fasta_file_w_variants(df_kmeans)"
   ]
  }
 ],
 "metadata": {
  "kernelspec": {
   "display_name": "Python 3",
   "language": "python",
   "name": "python3"
  },
  "language_info": {
   "codemirror_mode": {
    "name": "ipython",
    "version": 3
   },
   "file_extension": ".py",
   "mimetype": "text/x-python",
   "name": "python",
   "nbconvert_exporter": "python",
   "pygments_lexer": "ipython3",
   "version": "3.6.8"
  }
 },
 "nbformat": 4,
 "nbformat_minor": 2
}
