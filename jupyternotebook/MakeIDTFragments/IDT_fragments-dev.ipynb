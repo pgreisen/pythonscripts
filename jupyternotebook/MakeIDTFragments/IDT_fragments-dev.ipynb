{
 "cells": [
  {
   "cell_type": "markdown",
   "metadata": {},
   "source": [
    "This generates gblocks of designs from fasta files. The clusters can be specified in to 8 or 12 to fit a 96 well plate. "
   ]
  },
  {
   "cell_type": "markdown",
   "metadata": {},
   "source": [
    "Take difference between minimum and maximum of design based on name. Next, use kmeans to cluster designs into N-number of\n",
    "cluster points. "
   ]
  },
  {
   "cell_type": "code",
   "execution_count": 1,
   "metadata": {},
   "outputs": [],
   "source": [
    "import pandas as pd\n",
    "import seaborn as sns\n",
    "import numpy as np\n",
    "import matplotlib.pyplot as plt\n",
    "%matplotlib inline"
   ]
  },
  {
   "cell_type": "code",
   "execution_count": 2,
   "metadata": {},
   "outputs": [],
   "source": [
    "from Bio.Restriction import *\n",
    "from Bio.Seq import Seq\n",
    "from datetime import date\n",
    "from Bio.Alphabet import generic_dna, generic_protein\n",
    "today = date.today()"
   ]
  },
  {
   "cell_type": "code",
   "execution_count": 3,
   "metadata": {},
   "outputs": [],
   "source": [
    "# inputfile to be defined by the user\n",
    "ref_dna_file = \"AP-HT_input_vector_BsaI_scrubbed.fa\"\n",
    "designs_aa_fasta_file = \"init_designs.fasta\"\n",
    "codon_table_file = \"codon-usage_Plentus.txt\"\n",
    "# number of clusters to divide the sequences into\n",
    "cluster_size = 12\n",
    "ofile = str(today)+\"_data\""
   ]
  },
  {
   "cell_type": "code",
   "execution_count": 4,
   "metadata": {},
   "outputs": [],
   "source": [
    "def get_fasta_sequence(designs_aa_fasta_file):\n",
    "    sequences_ = {}\n",
    "    with open(designs_aa_fasta_file, 'r') as f:\n",
    "        for line in f:\n",
    "            if (line[0] == \">\"):\n",
    "                tmp = line.split()\n",
    "                ids = tmp[0]\n",
    "                sequences_[ids] = \"\"\n",
    "            else:\n",
    "                tmp = line.strip()\n",
    "                sequences_[ids] = sequences_[ids] + tmp\n",
    "    return sequences_"
   ]
  },
  {
   "cell_type": "code",
   "execution_count": 5,
   "metadata": {},
   "outputs": [],
   "source": [
    "# make sure that the names are correct with respect to the reference sequence\n",
    "import sys\n",
    "sys.path.append(\"/Users/pgreisen/pythonscripts/develop/insert_mutation_into_DNA_string\")\n",
    "import InsertSubstitutions\n",
    "ris = InsertSubstitutions.InsertSubstitutions()\n",
    "\n",
    "# get reference DNA\n",
    "ref_dna = get_fasta_sequence(ref_dna_file)\n",
    "# get the AA sequence of the designs\n",
    "sequences = get_fasta_sequence(designs_aa_fasta_file)\n",
    "ref_key = list(ref_dna.keys())[0]"
   ]
  },
  {
   "cell_type": "code",
   "execution_count": 6,
   "metadata": {},
   "outputs": [],
   "source": [
    "# Rename sequence to reference DNA\n",
    "ref_dna_bp = Seq(ref_dna[ref_key])\n",
    "ref_dna_peptide_seq = ref_dna_bp.translate()"
   ]
  },
  {
   "cell_type": "code",
   "execution_count": 7,
   "metadata": {},
   "outputs": [],
   "source": [
    "import sys\n",
    "sys.path.append(\"/Users/pgreisen/pythonscripts/develop/RenameToNative\")\n",
    "import RenameRelativeToNativeSeq as rrn\n",
    "r_ = rrn.DiffFasta()"
   ]
  },
  {
   "cell_type": "code",
   "execution_count": 8,
   "metadata": {},
   "outputs": [],
   "source": [
    "sequences_renamed = {}\n",
    "for i in sequences.keys():\n",
    "    var_ = r_.diff_sequence_a_b(ref_dna_peptide_seq, sequences[i])\n",
    "    sequences_renamed[var_[:-1]] = sequences[i]"
   ]
  },
  {
   "cell_type": "code",
   "execution_count": 9,
   "metadata": {},
   "outputs": [],
   "source": [
    "# Insert substitutions into DNA string\n",
    "dna_seqs = {}\n",
    "for key in sequences_renamed.keys():\n",
    "    stop_of_list = -1\n",
    "    mut_header = \"\"\n",
    "    tmpheader = key.split('_')\n",
    "    integer_ = isinstance(tmpheader[-1], int)\n",
    "    if(integer_ == False):\n",
    "        stop_of_list = len(tmpheader)\n",
    "    for i in tmpheader[0:stop_of_list]:\n",
    "        mut_header += i+\"_\"\n",
    "    fastaheader, sequence = ris.run( ref_dna_file, codon_table_file, mut_header[:-1])\n",
    "    assert len(sequence) == len(ref_dna[ref_key])\n",
    "    dna_seqs[fastaheader] = sequence"
   ]
  },
  {
   "cell_type": "code",
   "execution_count": 10,
   "metadata": {},
   "outputs": [],
   "source": [
    "import pandas as pd\n",
    "# parameters needed for the run\n",
    "# bsaI sites for cloning\n",
    "preseq = \"GTCACGGTCTCA\"\n",
    "postseq = \"CGAGACCAGTCA\"\n",
    "# range of basepair offset\n",
    "bp_offset_nterm = 3\n",
    "bp_offset_cterm = 3\n",
    "bp_offset = 3\n",
    "# variable parameter for the gene length\n",
    "# g-blocks to synthetize\n",
    "cutoff = [250,500,750,1000]"
   ]
  },
  {
   "cell_type": "code",
   "execution_count": 11,
   "metadata": {},
   "outputs": [],
   "source": [
    "# prices taken from here (Tubes): \n",
    "# https://www.idtdna.com/pages/products/genes-and-gene-fragments/gblocks-gene-fragments\n",
    "idt_gblock = {\n",
    "    250 : 71.10,\n",
    "    500 : 71.10,\n",
    "    750 : 80.10,\n",
    "    1000 : 89.10,\n",
    "    1250 : 143.10\n",
    "}"
   ]
  },
  {
   "cell_type": "code",
   "execution_count": 12,
   "metadata": {},
   "outputs": [],
   "source": [
    "def get_price(length):\n",
    "    ln = int(length)\n",
    "    if ln <= 250:\n",
    "        return 71.10\n",
    "    elif ln <= 500: \n",
    "        return 71.10\n",
    "    elif ln <= 750:\n",
    "        return 80.10\n",
    "    elif ln <= 1000:\n",
    "        return 89.10\n",
    "    elif ln <= 1250:\n",
    "        return 143.10\n",
    "    elif ln <= 1500:\n",
    "        return 179.1\n",
    "    else:\n",
    "        return \"Error\""
   ]
  },
  {
   "cell_type": "code",
   "execution_count": 13,
   "metadata": {},
   "outputs": [],
   "source": [
    "def write_fasta_file_w_variants(df):\n",
    "    lengt = []\n",
    "    with open(ofile+\".fasta\",'w') as f:\n",
    "        for i, varname, dnaseq, st, end in zip(df.index, df[\"VarName\"],df[\"seq(DNA)\"],df[\"start_cut_DNA\"],df[\"end_cut_DNA\"]):\n",
    "            f.write(varname+\"\\n\")\n",
    "            lengt.append(len(preseq+dnaseq[st:end]+postseq))\n",
    "            idt_seq_ = preseq+dnaseq[st:end]+postseq\n",
    "            a = Analysis(restrictionbatch=RestrictionBatch(['BsaI']),sequence=Seq(idt_seq_) )\n",
    "            prot_sites_ = a.full()\n",
    "            prot_key = list(prot_sites_.keys())[0]\n",
    "            cutsites = ', '.join(map(str, prot_sites_[prot_key]))\n",
    "            df.iloc[i, df.columns.get_loc(\"bsaI_sites\")] = cutsites\n",
    "            df.iloc[i, df.columns.get_loc(\"IDT_gene\")] = idt_seq_\n",
    "            f.write(idt_seq_+\"\\n\")\n",
    "    return df"
   ]
  },
  {
   "cell_type": "code",
   "execution_count": 14,
   "metadata": {},
   "outputs": [],
   "source": [
    "def read_fastafile(ifile):\n",
    "    sequences = {}\n",
    "    with open(ifile,'r') as f:\n",
    "        for line in f:\n",
    "            if(line[0] == \">\"):\n",
    "                tmp = line.split()\n",
    "                ids = tmp[0]\n",
    "                sequences[ids] = \"\"\n",
    "            else:\n",
    "                tmp = line.strip()\n",
    "                sequences[ids] = sequences[ids] + tmp\n",
    "    return sequences"
   ]
  },
  {
   "cell_type": "code",
   "execution_count": 15,
   "metadata": {},
   "outputs": [],
   "source": [
    "def reassign_missing_variants(df):\n",
    "    '''\n",
    "    '''\n",
    "    reassign_cluster = {}\n",
    "    # sub-divide the rest into exciting cluster\n",
    "    for i,j,k,c,l in zip(df.index, df[\"start_DNA_w_padding\"], df[\"end_DNA_w_padding\"], df[\"Clustered\"],df[\"Size_of_gene\"]):\n",
    "        if(c == 0):\n",
    "            for key in dict_w_start_stop:\n",
    "                if( (j >= dict_w_start_stop[key][0]) & (k <= dict_w_start_stop[key][1])):\n",
    "                    # add and sort such that we can add it to the\n",
    "                    # shortest gene cluster\n",
    "                    tmpkey = \"index_\"+str(i)\n",
    "                    reassign_cluster[tmpkey] = (i,j,k,c,key,dict_w_start_stop[key][2])\n",
    "    # sort dictionary\n",
    "    listofTuples = sorted(reassign_cluster.items() ,  key=lambda x: x[-1] )\n",
    "    r_c = dict(listofTuples)\n",
    "    for key in reassign_cluster.keys():\n",
    "        df.iloc[r_c[key][0], df.columns.get_loc(\"Clustered\")] = 1\n",
    "        df.iloc[r_c[key][0], df.columns.get_loc(\"Cluster_name\")] = r_c[key][4]\n",
    "        df.iloc[r_c[key][0], df.columns.get_loc(\"Size_of_gene\")] = r_c[key][5]\n",
    "    return df"
   ]
  },
  {
   "cell_type": "code",
   "execution_count": 16,
   "metadata": {},
   "outputs": [],
   "source": [
    "# Create a dataframe with the AA and DNA sequences\n",
    "df_sequences = pd.DataFrame.from_dict(dna_seqs,orient='index',columns=['seq(DNA)'] )\n",
    "df_sequences.reset_index(inplace=True)\n",
    "df_sequences = df_sequences.rename(columns={'index':'VarName'})\n",
    "df_sequences[\"VarName\"] = df_sequences[\"VarName\"].str.replace(\">\",\"\")"
   ]
  },
  {
   "cell_type": "code",
   "execution_count": 17,
   "metadata": {},
   "outputs": [],
   "source": [
    "def set_residue_numbers(seq_df):\n",
    "    # initialize new columns\n",
    "    seq_df[\"start_DNA\"] = 0 \n",
    "    seq_df[\"end_DNA\"] = 0 \n",
    "    # loop over keys in hash\n",
    "    # Contain all the positions mutated\n",
    "    residue_nr = []\n",
    "    # contains residue numbers for each variant\n",
    "    tmpresiduenr = {}\n",
    "    for index, varname in zip(seq_df.index, seq_df[\"VarName\"]):\n",
    "        new_array = []\n",
    "        nametmp_ = varname.split(\"_\")\n",
    "        for j in nametmp_:\n",
    "            new_array.append( int(j[1:-1] ) )\n",
    "        mn = min(new_array)\n",
    "        mx = max(new_array)\n",
    "        # The -3 is due to counting from 0 and protein vs DNA\n",
    "        seq_df.iloc[index,seq_df.columns.get_loc(\"start_DNA\")] = 3*mn-3\n",
    "        # \n",
    "        seq_df.iloc[index,seq_df.columns.get_loc(\"end_DNA\")] = 3*mx\n",
    "    return seq_df"
   ]
  },
  {
   "cell_type": "code",
   "execution_count": 18,
   "metadata": {},
   "outputs": [],
   "source": [
    "df_sequences = set_residue_numbers(df_sequences)\n",
    "df_sequences[\"start_DNA_w_padding\"] = df_sequences[\"start_DNA\"] - bp_offset\n",
    "df_sequences[\"end_DNA_w_padding\"] = df_sequences[\"end_DNA\"] + bp_offset"
   ]
  },
  {
   "cell_type": "code",
   "execution_count": 19,
   "metadata": {},
   "outputs": [],
   "source": [
    "df_sequences.sort_values(by=[\"start_DNA_w_padding\",\"end_DNA_w_padding\"],inplace=True)\n",
    "df_sequences[\"length_DNA_w_padding\"] = df_sequences[\"end_DNA_w_padding\"] - df_sequences[\"start_DNA_w_padding\"]"
   ]
  },
  {
   "cell_type": "code",
   "execution_count": 20,
   "metadata": {},
   "outputs": [],
   "source": [
    "df_sequences[\"Clustered\"] = 0\n",
    "df_sequences[\"Cluster_name\"] = \"\"\n",
    "df_sequences[\"Size_of_gene\"] = 0"
   ]
  },
  {
   "cell_type": "code",
   "execution_count": 21,
   "metadata": {},
   "outputs": [],
   "source": [
    "def get_clusters(df,min_size_cluster,cutoff,gb=\"start_DNA_w_padding\", parameter=\"length_DNA_w_padding\"):\n",
    "    # remove lengths greater than cutoff\n",
    "    temp = df[(df[parameter] < cutoff) & (df[\"Clustered\"] != 1) ]\n",
    "    # count how many \n",
    "    tmp_= temp.groupby(gb).count().reset_index()\n",
    "    # only clusters of certain size are investigated\n",
    "    tmp_ = tmp_[tmp_[\"VarName\"] >= min_size_cluster]\n",
    "    return tmp_\n",
    "\n",
    "def set_clusters(df,init_values, cutoff):\n",
    "    for i,j,l,c in zip(df.index, df[\"start_DNA_w_padding\"], df[\"length_DNA_w_padding\"],df[\"Clustered\"]):\n",
    "        \n",
    "        # bool value so you dont overwrite existing clusters\n",
    "        if(c == 1):\n",
    "            continue\n",
    "        elif((j in init_values) & (l < cutoff)):\n",
    "            df.iloc[i, df.columns.get_loc(\"Clustered\")] = 1\n",
    "            df.iloc[i, df.columns.get_loc(\"Cluster_name\")] = \"cluster_\"+str(j)+\"_\"+str(j+cutoff)+\"_\"+str(cutoff)\n",
    "            df.iloc[i, df.columns.get_loc(\"Size_of_gene\")] = cutoff\n",
    "        else:\n",
    "            continue\n",
    "    return df\n",
    "df = df_sequences.copy()\n",
    "df = df.reset_index()"
   ]
  },
  {
   "cell_type": "code",
   "execution_count": 22,
   "metadata": {},
   "outputs": [
    {
     "data": {
      "text/plain": [
       "<matplotlib.collections.PathCollection at 0x1a1c23c3c8>"
      ]
     },
     "execution_count": 22,
     "metadata": {},
     "output_type": "execute_result"
    },
    {
     "data": {
      "image/png": "[encoded data removed]",
      "text/plain": [
       "<Figure size 432x288 with 1 Axes>"
      ]
     },
     "metadata": {
      "needs_background": "light"
     },
     "output_type": "display_data"
    }
   ],
   "source": [
    "from pandas import DataFrame\n",
    "import matplotlib.pyplot as plt\n",
    "from sklearn.cluster import KMeans\n",
    "df_cluster = DataFrame(df,columns=['start_DNA_w_padding', 'end_DNA_w_padding'])\n",
    "kmeans = KMeans(n_clusters=cluster_size).fit(df_cluster)\n",
    "centroids = kmeans.cluster_centers_\n",
    "plt.scatter(df_cluster['start_DNA_w_padding'], df_cluster['end_DNA_w_padding'], c= kmeans.labels_.astype(float), s=50, alpha=0.5)\n",
    "plt.scatter(centroids[:, 0], centroids[:, 1], c='red', s=50)"
   ]
  },
  {
   "cell_type": "code",
   "execution_count": 23,
   "metadata": {},
   "outputs": [],
   "source": [
    "cluster_map = pd.DataFrame()\n",
    "cluster_map['data_index'] = df.index.values\n",
    "cluster_map['cluster'] = kmeans.labels_"
   ]
  },
  {
   "cell_type": "code",
   "execution_count": 24,
   "metadata": {},
   "outputs": [],
   "source": [
    "# merge dataframes\n",
    "df_kmeans = pd.merge(right=df, right_index=True, left=cluster_map, left_index=True)"
   ]
  },
  {
   "cell_type": "code",
   "execution_count": 25,
   "metadata": {},
   "outputs": [],
   "source": [
    "df_kmeans.drop(labels=['data_index', 'index',\\\n",
    "                       'start_DNA_w_padding', 'end_DNA_w_padding','length_DNA_w_padding',\\\n",
    "                       'Clustered','Size_of_gene','Cluster_name'], axis=1,inplace=True)"
   ]
  },
  {
   "cell_type": "code",
   "execution_count": 26,
   "metadata": {},
   "outputs": [],
   "source": [
    "nr_clusters = list(set(kmeans.labels_))\n",
    "df_kmeans['start_cut_DNA'] = 0\n",
    "df_kmeans['end_cut_DNA'] = 0\n",
    "df_kmeans['Size_of_gene'] = 0\n",
    "df_kmeans['Cluster_name'] = \"\"\n",
    "\n",
    "for cluster_ in nr_clusters:\n",
    "    # get each cluster\n",
    "    subcluster = df_kmeans[df_kmeans['cluster'] == cluster_]\n",
    "    # start cut DNA\n",
    "    mn_ = min(subcluster['start_DNA'])\n",
    "    # end cut DNA\n",
    "    mx_ = max(subcluster['end_DNA'])\n",
    "    # size of gene\n",
    "    length_ = mx_-mn_\n",
    "    # cluster name\n",
    "    clustername_ = \"Cluster_\"+str(mn_)+\"_\"+str(mx_)+\"_cluster_nr_\"+str(cluster_)\n",
    "    for i in df_kmeans.index:\n",
    "        if(df_kmeans.iloc[i,df_kmeans.columns.get_loc('cluster')] == cluster_):\n",
    "            df_kmeans.iloc[i,df_kmeans.columns.get_loc('start_cut_DNA')] = mn_ - bp_offset\n",
    "            df_kmeans.iloc[i,df_kmeans.columns.get_loc('end_cut_DNA')] = mx_ + bp_offset\n",
    "            df_kmeans.iloc[i,df_kmeans.columns.get_loc('Size_of_gene')] = length_ + bp_offset\n",
    "            df_kmeans.iloc[i,df_kmeans.columns.get_loc('Cluster_name')]= clustername_"
   ]
  },
  {
   "cell_type": "code",
   "execution_count": 28,
   "metadata": {},
   "outputs": [
    {
     "name": "stdout",
     "output_type": "stream",
     "text": [
      "The price of the order is:  7660.799999999999\n",
      "Number of unique cluster:  12\n",
      "Size of the different clusters:  Cluster_name\n",
      "Cluster_222_1374_cluster_nr_5      1\n",
      "Cluster_225_1698_cluster_nr_2      3\n",
      "Cluster_420_1698_cluster_nr_10     1\n",
      "Cluster_429_1374_cluster_nr_4      1\n",
      "Cluster_429_1527_cluster_nr_11     2\n",
      "Cluster_429_1533_cluster_nr_0      1\n",
      "Cluster_429_1698_cluster_nr_6      5\n",
      "Cluster_441_1374_cluster_nr_7      3\n",
      "Cluster_441_1698_cluster_nr_1     10\n",
      "Cluster_447_1533_cluster_nr_9      1\n",
      "Cluster_447_1698_cluster_nr_8      9\n",
      "Cluster_552_1698_cluster_nr_3     11\n",
      "Name: VarName, dtype: int64\n"
     ]
    }
   ],
   "source": [
    "# Calculate price\n",
    "df_kmeans[\"IDT_price\"] = df_kmeans[\"Size_of_gene\"].apply(get_price)\n",
    "print(\"The price of the order is: \",df_kmeans[\"IDT_price\"].sum())\n",
    "print(\"Number of unique cluster: \", len(df_kmeans[\"Cluster_name\"].unique()))\n",
    "tmp = df_kmeans.groupby(\"Cluster_name\").count()\n",
    "print(\"Size of the different clusters: \",tmp[\"VarName\"] )"
   ]
  },
  {
   "cell_type": "code",
   "execution_count": 29,
   "metadata": {},
   "outputs": [],
   "source": [
    "# sets the IDT gene and bsaI cut-sites\n",
    "df_kmeans[\"bsaI_sites\"] = \"\"\n",
    "df_kmeans[\"IDT_gene\"] = \"\"\n",
    "df_kmeans = write_fasta_file_w_variants(df_kmeans)"
   ]
  },
  {
   "cell_type": "code",
   "execution_count": 30,
   "metadata": {},
   "outputs": [],
   "source": [
    "from Bio.Seq import Seq\n",
    "from Bio.Alphabet import generic_dna, generic_protein\n",
    "df_kmeans[\"AA_seq\"] = \"\"\n",
    "for i,j in zip(df_kmeans.index, df_kmeans[\"IDT_gene\"]):\n",
    "    tmpseq_ = j[len(preseq):-len(postseq)]\n",
    "    my_seq = Seq(tmpseq_)\n",
    "    df_kmeans.iloc[i,df_kmeans.columns.get_loc(\"AA_seq\")] = my_seq.translate()"
   ]
  },
  {
   "cell_type": "code",
   "execution_count": 31,
   "metadata": {},
   "outputs": [],
   "source": [
    "df_kmeans.to_excel(ofile+\".xlsx\",index=False)"
   ]
  },
  {
   "cell_type": "markdown",
   "metadata": {},
   "source": [
    "with open(\"aa_test.fasta\",'w') as f:\n",
    "    for i,j in zip(df_kmeans[\"VarName\"],df_kmeans[\"AA_seq\"]):\n",
    "        f.write(\">\"+i+\"\\n\")\n",
    "        f.write(str(j)+\"\\n\")"
   ]
  }
 ],
 "metadata": {
  "kernelspec": {
   "display_name": "Python 3",
   "language": "python",
   "name": "python3"
  },
  "language_info": {
   "codemirror_mode": {
    "name": "ipython",
    "version": 3
   },
   "file_extension": ".py",
   "mimetype": "text/x-python",
   "name": "python",
   "nbconvert_exporter": "python",
   "pygments_lexer": "ipython3",
   "version": "3.6.8"
  }
 },
 "nbformat": 4,
 "nbformat_minor": 2
}
