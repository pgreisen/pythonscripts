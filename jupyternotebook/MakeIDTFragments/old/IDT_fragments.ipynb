{
 "cells": [
  {
   "cell_type": "markdown",
   "metadata": {},
   "source": [
    "This generates gblocks of designs from fasta files. The clusters can be specified in to 8 or 12 to fit a 96 well plate. "
   ]
  },
  {
   "cell_type": "markdown",
   "metadata": {},
   "source": [
    "Take difference between minimum and maximum of design based on name. Next, use kmeans to cluster designs into N-number of\n",
    "cluster points. "
   ]
  },
  {
   "cell_type": "code",
   "execution_count": 29,
   "metadata": {},
   "outputs": [],
   "source": [
    "# input and output file defined here:\n",
    "# File name of output file\n",
    "ofile = \"20190820_DNA_sequence.fasta\"\n",
    "# inputfile\n",
    "ifile = \"20180926_Elanco_b13G_designs_462.fasta\""
   ]
  },
  {
   "cell_type": "code",
   "execution_count": 30,
   "metadata": {},
   "outputs": [],
   "source": [
    "import pandas as pd\n",
    "# parameters needed for the run\n",
    "## bsaI sites for cloning\n",
    "preseq = \"GTCACGGTCTCA\"\n",
    "postseq = \"CGAGACCAGTCA\"\n",
    "# range of basepair offset\n",
    "bp_offset_nterm = 3\n",
    "bp_offset_cterm = 3\n",
    "bp_offset = 12\n",
    "# envoke print statements\n",
    "debug = 0\n",
    "# variable parameter for the gene length\n",
    "# g-blocks to synthetize\n",
    "cutoff = [250,500,750,1000]\n",
    "cluster_size = 16"
   ]
  },
  {
   "cell_type": "code",
   "execution_count": 31,
   "metadata": {},
   "outputs": [],
   "source": [
    "# prices taken from here (Tubes): \n",
    "# https://www.idtdna.com/pages/products/genes-and-gene-fragments/gblocks-gene-fragments\n",
    "idt_gblock = {\n",
    "    250 : 71.10,\n",
    "    500 : 71.10,\n",
    "    750 : 80.10,\n",
    "    1000 : 89.10,\n",
    "    1250 : 143.10\n",
    "}"
   ]
  },
  {
   "cell_type": "code",
   "execution_count": 32,
   "metadata": {},
   "outputs": [],
   "source": [
    "def get_price(length):\n",
    "    ln = int(length)\n",
    "    if ln <= 250:\n",
    "        return 71.10\n",
    "    elif ln <= 500: \n",
    "        return 71.10\n",
    "    elif ln <= 750:\n",
    "        return 80.10\n",
    "    elif ln <= 1000:\n",
    "        return 89.10\n",
    "    elif ln <= 1250:\n",
    "        return 143.10\n",
    "    elif ln <= 1500:\n",
    "        return 179.1\n",
    "    else:\n",
    "        return \"Error\""
   ]
  },
  {
   "cell_type": "code",
   "execution_count": 33,
   "metadata": {},
   "outputs": [],
   "source": [
    "def read_fastafile(ifile):\n",
    "    sequences = {}\n",
    "    with open(ifile,'r') as f:\n",
    "        for line in f:\n",
    "            if(line[0] == \">\"):\n",
    "                tmp = line.split()\n",
    "                ids = tmp[0]\n",
    "                sequences[ids] = \"\"\n",
    "            else:\n",
    "                tmp = line.strip()\n",
    "                sequences[ids] = sequences[ids] + tmp\n",
    "    return sequences"
   ]
  },
  {
   "cell_type": "code",
   "execution_count": 34,
   "metadata": {},
   "outputs": [],
   "source": [
    "def reassign_missing_variants(df):\n",
    "    '''\n",
    "    '''\n",
    "    reassign_cluster = {}\n",
    "    # sub-divide the rest into exciting cluster\n",
    "    for i,j,k,c,l in zip(df.index, df[\"start_DNA_w_padding\"], df[\"end_DNA_w_padding\"], df[\"Clustered\"],df[\"Size_of_gene\"]):\n",
    "        if(c == 0):\n",
    "            for key in dict_w_start_stop:\n",
    "                if( (j >= dict_w_start_stop[key][0]) & (k <= dict_w_start_stop[key][1])):\n",
    "                    # add and sort such that we can add it to the\n",
    "                    # shortest gene cluster\n",
    "                    tmpkey = \"index_\"+str(i)\n",
    "                    reassign_cluster[tmpkey] = (i,j,k,c,key,dict_w_start_stop[key][2])\n",
    "    # sort dictionary\n",
    "    listofTuples = sorted(reassign_cluster.items() ,  key=lambda x: x[-1] )\n",
    "    r_c = dict(listofTuples)\n",
    "    for key in reassign_cluster.keys():\n",
    "        df.iloc[r_c[key][0], df.columns.get_loc(\"Clustered\")] = 1\n",
    "        df.iloc[r_c[key][0], df.columns.get_loc(\"Cluster_name\")] = r_c[key][4]\n",
    "        df.iloc[r_c[key][0], df.columns.get_loc(\"Size_of_gene\")] = r_c[key][5]\n",
    "    return df"
   ]
  },
  {
   "cell_type": "code",
   "execution_count": 35,
   "metadata": {},
   "outputs": [],
   "source": [
    "sequences = read_fastafile(ifile)\n",
    "df_sequences = pd.DataFrame.from_dict(sequences,orient='index',columns=['seq(DNA)'] )\n",
    "df_sequences.reset_index(inplace=True)\n",
    "df_sequences = df_sequences.rename(columns={'index':'VarName'})"
   ]
  },
  {
   "cell_type": "code",
   "execution_count": 36,
   "metadata": {},
   "outputs": [],
   "source": [
    "def set_residue_numbers(seq_df):\n",
    "    # initialize new columns\n",
    "    seq_df[\"start_DNA\"] = 0 \n",
    "    seq_df[\"end_DNA\"] = 0 \n",
    "    # loop over keys in hash\n",
    "    # Contain all the positions mutated\n",
    "    residue_nr = []\n",
    "    # contains residue numbers for each variant\n",
    "    tmpresiduenr = {}\n",
    "    for index,varname in zip(seq_df.index,seq_df[\"VarName\"]):\n",
    "        new_array = []\n",
    "        nametmp_ = varname[1:].split(\"_\")\n",
    "        for j in nametmp_:\n",
    "            new_array.append( int(j[1:-1] ) )\n",
    "        mn = min(new_array)\n",
    "        mx = max(new_array)\n",
    "        # The -3 is due to counting from 0 and protein vs DNA\n",
    "        seq_df.iloc[index,seq_df.columns.get_loc(\"start_DNA\")] = 3*mn-3\n",
    "        # \n",
    "        seq_df.iloc[index,seq_df.columns.get_loc(\"end_DNA\")] = 3*mx\n",
    "    return seq_df"
   ]
  },
  {
   "cell_type": "code",
   "execution_count": 37,
   "metadata": {},
   "outputs": [],
   "source": [
    "df_sequences = set_residue_numbers(df_sequences)\n",
    "df_sequences[\"start_DNA_w_padding\"] = df_sequences[\"start_DNA\"] - bp_offset\n",
    "df_sequences[\"end_DNA_w_padding\"] = df_sequences[\"end_DNA\"] + bp_offset"
   ]
  },
  {
   "cell_type": "code",
   "execution_count": 38,
   "metadata": {},
   "outputs": [],
   "source": [
    "df_sequences.sort_values(by=[\"start_DNA_w_padding\",\"end_DNA_w_padding\"],inplace=True)\n",
    "df_sequences[\"length_DNA_w_padding\"] = df_sequences[\"end_DNA_w_padding\"] - df_sequences[\"start_DNA_w_padding\"]"
   ]
  },
  {
   "cell_type": "code",
   "execution_count": 39,
   "metadata": {},
   "outputs": [],
   "source": [
    "df_sequences[\"Clustered\"] = 0\n",
    "df_sequences[\"Cluster_name\"] = \"\"\n",
    "df_sequences[\"Size_of_gene\"] = 0"
   ]
  },
  {
   "cell_type": "code",
   "execution_count": 40,
   "metadata": {},
   "outputs": [],
   "source": [
    "def get_clusters(df,min_size_cluster,cutoff,gb=\"start_DNA_w_padding\", parameter=\"length_DNA_w_padding\"):\n",
    "    # remove lengths greater than cutoff\n",
    "    temp = df[(df[parameter] < cutoff) & (df[\"Clustered\"] != 1) ]\n",
    "    # count how many \n",
    "    tmp_= temp.groupby(gb).count().reset_index()\n",
    "    # only clusters of certain size are investigated\n",
    "    tmp_ = tmp_[tmp_[\"VarName\"] >= min_size_cluster]\n",
    "    return tmp_\n",
    "\n",
    "def set_clusters(df,init_values, cutoff):\n",
    "    for i,j,l,c in zip(df.index, df[\"start_DNA_w_padding\"], df[\"length_DNA_w_padding\"],df[\"Clustered\"]):\n",
    "        \n",
    "        # bool value so you dont overwrite existing clusters\n",
    "        if(c == 1):\n",
    "            continue\n",
    "        elif((j in init_values) & (l < cutoff)):\n",
    "            df.iloc[i, df.columns.get_loc(\"Clustered\")] = 1\n",
    "            df.iloc[i, df.columns.get_loc(\"Cluster_name\")] = \"cluster_\"+str(j)+\"_\"+str(j+cutoff)+\"_\"+str(cutoff)\n",
    "            df.iloc[i, df.columns.get_loc(\"Size_of_gene\")] = cutoff\n",
    "        else:\n",
    "            continue\n",
    "    return df\n",
    "min_size_cluster = 3\n",
    "df_test = df_sequences.copy()\n",
    "df_test = df_test.reset_index()"
   ]
  },
  {
   "cell_type": "code",
   "execution_count": 41,
   "metadata": {},
   "outputs": [
    {
     "data": {
      "text/html": [
       "<div>\n",
       "<style scoped>\n",
       "    .dataframe tbody tr th:only-of-type {\n",
       "        vertical-align: middle;\n",
       "    }\n",
       "\n",
       "    .dataframe tbody tr th {\n",
       "        vertical-align: top;\n",
       "    }\n",
       "\n",
       "    .dataframe thead th {\n",
       "        text-align: right;\n",
       "    }\n",
       "</style>\n",
       "<table border=\"1\" class=\"dataframe\">\n",
       "  <thead>\n",
       "    <tr style=\"text-align: right;\">\n",
       "      <th></th>\n",
       "      <th>index</th>\n",
       "      <th>VarName</th>\n",
       "      <th>seq(DNA)</th>\n",
       "      <th>start_DNA</th>\n",
       "      <th>end_DNA</th>\n",
       "      <th>start_DNA_w_padding</th>\n",
       "      <th>end_DNA_w_padding</th>\n",
       "      <th>length_DNA_w_padding</th>\n",
       "      <th>Clustered</th>\n",
       "      <th>Cluster_name</th>\n",
       "      <th>Size_of_gene</th>\n",
       "    </tr>\n",
       "  </thead>\n",
       "  <tbody>\n",
       "    <tr>\n",
       "      <th>0</th>\n",
       "      <td>8</td>\n",
       "      <td>&gt;N21I</td>\n",
       "      <td>GCGAACCCGCGTGAAAACTTCCTGAAATGCTTCTCTCAGTACATCC...</td>\n",
       "      <td>60</td>\n",
       "      <td>63</td>\n",
       "      <td>48</td>\n",
       "      <td>75</td>\n",
       "      <td>27</td>\n",
       "      <td>0</td>\n",
       "      <td></td>\n",
       "      <td>0</td>\n",
       "    </tr>\n",
       "    <tr>\n",
       "      <th>1</th>\n",
       "      <td>9</td>\n",
       "      <td>&gt;N21I_S89F</td>\n",
       "      <td>GCGAACCCGCGTGAAAACTTCCTGAAATGCTTCTCTCAGTACATCC...</td>\n",
       "      <td>60</td>\n",
       "      <td>267</td>\n",
       "      <td>48</td>\n",
       "      <td>279</td>\n",
       "      <td>231</td>\n",
       "      <td>0</td>\n",
       "      <td></td>\n",
       "      <td>0</td>\n",
       "    </tr>\n",
       "    <tr>\n",
       "      <th>2</th>\n",
       "      <td>17</td>\n",
       "      <td>&gt;V76H</td>\n",
       "      <td>GCGAACCCGCGTGAAAACTTCCTGAAATGCTTCTCTCAGTACATCC...</td>\n",
       "      <td>225</td>\n",
       "      <td>228</td>\n",
       "      <td>213</td>\n",
       "      <td>240</td>\n",
       "      <td>27</td>\n",
       "      <td>0</td>\n",
       "      <td></td>\n",
       "      <td>0</td>\n",
       "    </tr>\n",
       "    <tr>\n",
       "      <th>3</th>\n",
       "      <td>11</td>\n",
       "      <td>&gt;N246H_V76H</td>\n",
       "      <td>GCGAACCCGCGTGAAAACTTCCTGAAATGCTTCTCTCAGTACATCC...</td>\n",
       "      <td>225</td>\n",
       "      <td>738</td>\n",
       "      <td>213</td>\n",
       "      <td>750</td>\n",
       "      <td>537</td>\n",
       "      <td>0</td>\n",
       "      <td></td>\n",
       "      <td>0</td>\n",
       "    </tr>\n",
       "    <tr>\n",
       "      <th>4</th>\n",
       "      <td>7</td>\n",
       "      <td>&gt;N169K</td>\n",
       "      <td>GCGAACCCGCGTGAAAACTTCCTGAAATGCTTCTCTCAGTACATCC...</td>\n",
       "      <td>504</td>\n",
       "      <td>507</td>\n",
       "      <td>492</td>\n",
       "      <td>519</td>\n",
       "      <td>27</td>\n",
       "      <td>0</td>\n",
       "      <td></td>\n",
       "      <td>0</td>\n",
       "    </tr>\n",
       "  </tbody>\n",
       "</table>\n",
       "</div>"
      ],
      "text/plain": [
       "   index      VarName                                           seq(DNA)  \\\n",
       "0      8        >N21I  GCGAACCCGCGTGAAAACTTCCTGAAATGCTTCTCTCAGTACATCC...   \n",
       "1      9   >N21I_S89F  GCGAACCCGCGTGAAAACTTCCTGAAATGCTTCTCTCAGTACATCC...   \n",
       "2     17        >V76H  GCGAACCCGCGTGAAAACTTCCTGAAATGCTTCTCTCAGTACATCC...   \n",
       "3     11  >N246H_V76H  GCGAACCCGCGTGAAAACTTCCTGAAATGCTTCTCTCAGTACATCC...   \n",
       "4      7       >N169K  GCGAACCCGCGTGAAAACTTCCTGAAATGCTTCTCTCAGTACATCC...   \n",
       "\n",
       "   start_DNA  end_DNA  start_DNA_w_padding  end_DNA_w_padding  \\\n",
       "0         60       63                   48                 75   \n",
       "1         60      267                   48                279   \n",
       "2        225      228                  213                240   \n",
       "3        225      738                  213                750   \n",
       "4        504      507                  492                519   \n",
       "\n",
       "   length_DNA_w_padding  Clustered Cluster_name  Size_of_gene  \n",
       "0                    27          0                          0  \n",
       "1                   231          0                          0  \n",
       "2                    27          0                          0  \n",
       "3                   537          0                          0  \n",
       "4                    27          0                          0  "
      ]
     },
     "execution_count": 41,
     "metadata": {},
     "output_type": "execute_result"
    }
   ],
   "source": [
    "df_test.head()"
   ]
  },
  {
   "cell_type": "code",
   "execution_count": 42,
   "metadata": {},
   "outputs": [],
   "source": [
    "for i in cutoff:\n",
    "    test = get_clusters(df_test, min_size_cluster,i)\n",
    "    if( len(test) != 0):\n",
    "        init_values = list(test.sort_values(by=[\"VarName\"],ascending=False)[\"start_DNA_w_padding\"])\n",
    "        df_test = set_clusters(df_test,init_values, i )"
   ]
  },
  {
   "cell_type": "code",
   "execution_count": 43,
   "metadata": {},
   "outputs": [],
   "source": [
    "min_size_cluster = 1\n",
    "for i in cutoff:\n",
    "    test = get_clusters(df_test, min_size_cluster,i)\n",
    "    if( len(test) != 0):\n",
    "        init_values = list(test.sort_values(by=[\"VarName\"],ascending=False)[\"start_DNA_w_padding\"])\n",
    "        df_test = set_clusters(df_test,init_values, i )"
   ]
  },
  {
   "cell_type": "code",
   "execution_count": 44,
   "metadata": {},
   "outputs": [],
   "source": [
    "tmp = list(set(df_test[\"Cluster_name\"]))\n",
    "dict_w_start_stop = {}\n",
    "for i in tmp:\n",
    "    if(i != ''):\n",
    "        tmpval = i.strip().split(\"_\")\n",
    "        dict_w_start_stop[i] = (int(tmpval[1]),int(tmpval[2]),int(tmpval[3]) )"
   ]
  },
  {
   "cell_type": "code",
   "execution_count": 45,
   "metadata": {},
   "outputs": [],
   "source": [
    "tmp = list(set(df_test[\"Cluster_name\"]))\n",
    "dict_w_start_stop = {}\n",
    "for i in tmp:\n",
    "    if(i != ''):\n",
    "        tmpval = i.strip().split(\"_\")\n",
    "        dict_w_start_stop[i] = (int(tmpval[1]),int(tmpval[2]),int(tmpval[3]) )      \n",
    "df_test = reassign_missing_variants(df_test)"
   ]
  },
  {
   "cell_type": "code",
   "execution_count": 46,
   "metadata": {},
   "outputs": [],
   "source": [
    "cutoff = [1250, 1500]\n",
    "for i in cutoff:\n",
    "    test = get_clusters(df_test, min_size_cluster,i)\n",
    "    if( len(test) != 0):\n",
    "        init_values = list(test.sort_values(by=[\"VarName\"],ascending=False)[\"start_DNA_w_padding\"])\n",
    "        df_test = set_clusters(df_test,init_values, i )"
   ]
  },
  {
   "cell_type": "code",
   "execution_count": 47,
   "metadata": {},
   "outputs": [
    {
     "name": "stdout",
     "output_type": "stream",
     "text": [
      "\n"
     ]
    }
   ],
   "source": [
    "# set the right length of the DNA based on the longest variant\n",
    "# in the cluster\n",
    "a = dict(df_test.groupby(\"Cluster_name\")[\"length_DNA_w_padding\"].max()) \n",
    "try:\n",
    "    del a['']\n",
    "except:\n",
    "    print(\"\")\n",
    "for i,j in zip(df_test.index, df_test[\"Cluster_name\"]):\n",
    "    for k in a.keys():\n",
    "        if(k == j):\n",
    "            tmpk = k.split(\"_\")\n",
    "            newname = tmpk[0]+\"_\"+tmpk[1]+\"_\"+str(int(tmpk[1])+a[k])+\"_\"+tmpk[-1]\n",
    "            df_test.iloc[i,df_test.columns.get_loc(\"Cluster_name\")] = newname"
   ]
  },
  {
   "cell_type": "code",
   "execution_count": 48,
   "metadata": {},
   "outputs": [],
   "source": [
    "# insert the cut sites for the DNA\n",
    "df_test[\"start_cut_DNA\"] = 0\n",
    "df_test[\"end_cut_DNA\"] = 0 \n",
    "for i,j in zip(df_test.index, df_test[\"Cluster_name\"]):\n",
    "    if(j == ''):\n",
    "        continue\n",
    "    tmp_ = j.split(\"_\")\n",
    "    st_ = int(tmp_[1])\n",
    "    end_ = int(tmp_[2])\n",
    "    df_test.iloc[i,df_test.columns.get_loc(\"start_cut_DNA\")] = st_\n",
    "    df_test.iloc[i,df_test.columns.get_loc(\"end_cut_DNA\")] = end_    "
   ]
  },
  {
   "cell_type": "code",
   "execution_count": 49,
   "metadata": {},
   "outputs": [
    {
     "name": "stdout",
     "output_type": "stream",
     "text": [
      "The price of the order is:  1288.7999999999997\n",
      "Number of unique cluster:  12\n",
      "Size of the different clusters:  Cluster_name\n",
      "cluster_213_240_250     1\n",
      "cluster_213_750_750     1\n",
      "cluster_48_279_250      2\n",
      "cluster_492_519_250     1\n",
      "cluster_612_792_250     4\n",
      "cluster_666_792_250     3\n",
      "cluster_690_717_250     1\n",
      "cluster_723_750_250     1\n",
      "cluster_765_792_250     1\n",
      "cluster_933_960_250     1\n",
      "cluster_951_978_250     1\n",
      "cluster_999_1026_250    1\n",
      "Name: VarName, dtype: int64\n"
     ]
    }
   ],
   "source": [
    "# Calculate price\n",
    "df_test[\"IDT_price\"] = df_test[\"Size_of_gene\"].apply(get_price)\n",
    "print(\"The price of the order is: \",df_test[\"IDT_price\"].sum())\n",
    "print(\"Number of unique cluster: \", len(df_test[\"Cluster_name\"].unique()))\n",
    "tmp = df_test.groupby(\"Cluster_name\").count()\n",
    "print(\"Size of the different clusters: \",tmp[\"VarName\"] )"
   ]
  },
  {
   "cell_type": "code",
   "execution_count": 50,
   "metadata": {},
   "outputs": [],
   "source": [
    "df_test.to_excel(\"20190611_elanco_gene_order_74variants.xlsx\",index=False)"
   ]
  },
  {
   "cell_type": "code",
   "execution_count": 51,
   "metadata": {},
   "outputs": [],
   "source": [
    "def write_fasta_file_w_variants(df):\n",
    "    with open(\"20190610_elannco_variants.fasta\",'w') as f:\n",
    "        for varname, dnaseq, st, end in zip(df[\"VarName\"],df[\"seq(DNA)\"],df[\"start_cut_DNA\"],df[\"end_cut_DNA\"]):\n",
    "            f.write(varname+\"\\n\")\n",
    "            f.write(preseq+dnaseq[st:end]+postseq+\"\\n\")\n",
    "write_fasta_file_w_variants(df_test)"
   ]
  },
  {
   "cell_type": "code",
   "execution_count": 23,
   "metadata": {},
   "outputs": [],
   "source": [
    "# recluster all variants\n",
    "df_rc = pd.read_excel(\"20190611_elanco_gene_order_74variants.xlsx\")"
   ]
  },
  {
   "cell_type": "code",
   "execution_count": 24,
   "metadata": {},
   "outputs": [],
   "source": [
    "df_rc.columns\n",
    "df_rc.drop(labels=[\"index\"],axis=1,inplace=True)"
   ]
  },
  {
   "cell_type": "code",
   "execution_count": 25,
   "metadata": {},
   "outputs": [],
   "source": [
    "# cluster only variants <= 1000 bp\n",
    "df_rc = df_rc[df_rc[\"Size_of_gene\"] > 1000]\n",
    "df_rc.reset_index(inplace=True)\n",
    "df_rc.to_excel(\"20190614_gene_above_1000.xlsx\", index=False)"
   ]
  },
  {
   "cell_type": "code",
   "execution_count": 55,
   "metadata": {},
   "outputs": [
    {
     "data": {
      "text/html": [
       "<div>\n",
       "<style scoped>\n",
       "    .dataframe tbody tr th:only-of-type {\n",
       "        vertical-align: middle;\n",
       "    }\n",
       "\n",
       "    .dataframe tbody tr th {\n",
       "        vertical-align: top;\n",
       "    }\n",
       "\n",
       "    .dataframe thead th {\n",
       "        text-align: right;\n",
       "    }\n",
       "</style>\n",
       "<table border=\"1\" class=\"dataframe\">\n",
       "  <thead>\n",
       "    <tr style=\"text-align: right;\">\n",
       "      <th></th>\n",
       "      <th>index</th>\n",
       "      <th>VarName</th>\n",
       "      <th>seq(DNA)</th>\n",
       "      <th>start_DNA</th>\n",
       "      <th>end_DNA</th>\n",
       "      <th>start_DNA_w_padding</th>\n",
       "      <th>end_DNA_w_padding</th>\n",
       "      <th>length_DNA_w_padding</th>\n",
       "      <th>Clustered</th>\n",
       "      <th>Cluster_name</th>\n",
       "      <th>Size_of_gene</th>\n",
       "      <th>start_cut_DNA</th>\n",
       "      <th>end_cut_DNA</th>\n",
       "      <th>IDT_price</th>\n",
       "    </tr>\n",
       "  </thead>\n",
       "  <tbody>\n",
       "  </tbody>\n",
       "</table>\n",
       "</div>"
      ],
      "text/plain": [
       "Empty DataFrame\n",
       "Columns: [index, VarName, seq(DNA), start_DNA, end_DNA, start_DNA_w_padding, end_DNA_w_padding, length_DNA_w_padding, Clustered, Cluster_name, Size_of_gene, start_cut_DNA, end_cut_DNA, IDT_price]\n",
       "Index: []"
      ]
     },
     "execution_count": 55,
     "metadata": {},
     "output_type": "execute_result"
    }
   ],
   "source": [
    "from pandas import DataFrame\n",
    "import matplotlib.pyplot as plt\n",
    "from sklearn.cluster import KMeans\n",
    "df = DataFrame(df_rc,columns=[\"start_cut_DNA\",\"end_cut_DNA\"])\n",
    "kmeans = KMeans(n_clusters=cluster_size).fit(df)\n",
    "centroids = kmeans.cluster_centers_\n",
    "plt.scatter(df[\"start_cut_DNA\"], df[\"end_cut_DNA\"], c= kmeans.labels_.astype(float), s=50, alpha=0.5)\n",
    "plt.scatter(centroids[:, 0], centroids[:, 1], c='red', s=50)"
   ]
  },
  {
   "cell_type": "code",
   "execution_count": 56,
   "metadata": {},
   "outputs": [
    {
     "name": "stderr",
     "output_type": "stream",
     "text": [
      "/Users/pgreisen/anaconda3/lib/python3.6/site-packages/sklearn/cluster/k_means_.py:971: ConvergenceWarning: Number of distinct clusters (12) found smaller than n_clusters (16). Possibly due to duplicate points in X.\n",
      "  return_n_iter=True)\n"
     ]
    },
    {
     "data": {
      "text/plain": [
       "<matplotlib.collections.PathCollection at 0x1a1ea0d898>"
      ]
     },
     "execution_count": 56,
     "metadata": {},
     "output_type": "execute_result"
    },
    {
     "data": {
      "image/png": "[encoded data removed]",
      "text/plain": [
       "<Figure size 432x288 with 1 Axes>"
      ]
     },
     "metadata": {
      "needs_background": "light"
     },
     "output_type": "display_data"
    }
   ],
   "source": [
    "from pandas import DataFrame\n",
    "import matplotlib.pyplot as plt\n",
    "from sklearn.cluster import KMeans\n",
    "df = DataFrame(df_test,columns=[\"start_cut_DNA\",\"end_cut_DNA\"])\n",
    "kmeans = KMeans(n_clusters=cluster_size).fit(df)\n",
    "centroids = kmeans.cluster_centers_\n",
    "plt.scatter(df[\"start_cut_DNA\"], df[\"end_cut_DNA\"], c= kmeans.labels_.astype(float), s=50, alpha=0.5)\n",
    "plt.scatter(centroids[:, 0], centroids[:, 1], c='red', s=50)"
   ]
  },
  {
   "cell_type": "code",
   "execution_count": 57,
   "metadata": {},
   "outputs": [
    {
     "name": "stdout",
     "output_type": "stream",
     "text": [
      "[ 2  2  6  0  5  4  4  4  4  7  7  7  9 10  1  3 11  8]\n"
     ]
    }
   ],
   "source": [
    "print(kmeans.labels_)"
   ]
  },
  {
   "cell_type": "code",
   "execution_count": 58,
   "metadata": {},
   "outputs": [],
   "source": [
    "#data = pd.read_csv('filename')\n",
    "#km = KMeans(n_clusters=5).fit(data)\n",
    "cluster_map = pd.DataFrame()\n",
    "cluster_map['data_index'] = df_rc.index.values\n",
    "cluster_map['cluster'] = kmeans.labels_"
   ]
  },
  {
   "cell_type": "code",
   "execution_count": null,
   "metadata": {},
   "outputs": [],
   "source": [
    "# merge dataframes\n",
    "df_kmeans = pd.merge(right=df_rc, right_index=True, left=cluster_map, left_index=True)\n"
   ]
  },
  {
   "cell_type": "code",
   "execution_count": null,
   "metadata": {},
   "outputs": [],
   "source": [
    "df_kmeans.columns"
   ]
  },
  {
   "cell_type": "code",
   "execution_count": null,
   "metadata": {},
   "outputs": [],
   "source": [
    "df_kmeans.drop(labels=['data_index', 'index',\\\n",
    "                       'start_DNA_w_padding', 'end_DNA_w_padding','length_DNA_w_padding',\\\n",
    "                       'Clustered','Size_of_gene','IDT_price',\n",
    "                      'start_cut_DNA','end_cut_DNA','Cluster_name'], axis=1,inplace=True)"
   ]
  },
  {
   "cell_type": "code",
   "execution_count": null,
   "metadata": {},
   "outputs": [],
   "source": [
    "df_kmeans.columns"
   ]
  },
  {
   "cell_type": "code",
   "execution_count": null,
   "metadata": {},
   "outputs": [],
   "source": [
    "nr_clusters = list(set(kmeans.labels_))\n",
    "df_kmeans['start_cut_DNA'] = 0\n",
    "df_kmeans['end_cut_DNA'] = 0\n",
    "df_kmeans['Size_of_gene'] = 0\n",
    "df_kmeans['Cluster_name'] = \"\"\n",
    "\n",
    "for cluster_ in nr_clusters:\n",
    "    # get each cluster\n",
    "    subcluster = df_kmeans[df_kmeans['cluster'] == cluster_]\n",
    "    # print(subcluster)\n",
    "    # start cut DNA\n",
    "    mn_ = min(subcluster['start_DNA'])\n",
    "    # end cut DNA\n",
    "    mx_ = max(subcluster['end_DNA'])\n",
    "    # size of gene\n",
    "    length_ = mx_-mn_\n",
    "    # cluster name\n",
    "    clustername_ = \"Cluster_\"+str(mn_)+\"_\"+str(mx_)+\"_cluster_nr_\"+str(cluster_)\n",
    "    for i in df_kmeans.index:\n",
    "        if(df_kmeans.iloc[i,df_kmeans.columns.get_loc('cluster')] == cluster_):\n",
    "            \n",
    "            df_kmeans.iloc[i,df_kmeans.columns.get_loc('start_cut_DNA')] = mn_ - bp_offset\n",
    "            df_kmeans.iloc[i,df_kmeans.columns.get_loc('end_cut_DNA')] = mx_ + bp_offset\n",
    "            df_kmeans.iloc[i,df_kmeans.columns.get_loc('Size_of_gene')] = length_ + bp_offset\n",
    "            df_kmeans.iloc[i,df_kmeans.columns.get_loc('Cluster_name')]= clustername_"
   ]
  },
  {
   "cell_type": "code",
   "execution_count": null,
   "metadata": {},
   "outputs": [],
   "source": [
    "df_kmeans.head()"
   ]
  },
  {
   "cell_type": "code",
   "execution_count": null,
   "metadata": {},
   "outputs": [],
   "source": [
    "# Calculate price\n",
    "df_kmeans[\"IDT_price\"] = df_kmeans[\"Size_of_gene\"].apply(get_price)\n",
    "print(\"The price of the order is: \",df_kmeans[\"IDT_price\"].sum())\n",
    "print(\"Number of unique cluster: \", len(df_kmeans[\"Cluster_name\"].unique()))\n",
    "tmp = df_kmeans.groupby(\"Cluster_name\").count()\n",
    "print(\"Size of the different clusters: \",tmp[\"VarName\"] )"
   ]
  },
  {
   "cell_type": "code",
   "execution_count": null,
   "metadata": {},
   "outputs": [],
   "source": [
    "df_kmeans.to_excel(\"20190614_gene_above_1000.xlsx\")"
   ]
  },
  {
   "cell_type": "code",
   "execution_count": null,
   "metadata": {},
   "outputs": [],
   "source": [
    "df1 = pd.read_excel(\"20190614_gene_below_1000.xlsx\")\n",
    "df2 = pd.read_excel(\"20190614_gene_above_1000.xlsx\")\n",
    "dftot = pd.concat([df1,df2],axis=0)\n",
    "dftot.reset_index(inplace=True)"
   ]
  },
  {
   "cell_type": "code",
   "execution_count": null,
   "metadata": {},
   "outputs": [],
   "source": [
    "dftot.to_excel(\"20190614_elanco_DNA_68variants.xlsx\")"
   ]
  },
  {
   "cell_type": "code",
   "execution_count": null,
   "metadata": {},
   "outputs": [],
   "source": [
    "def write_fasta_file_w_variants(df):\n",
    "    lengt = []\n",
    "    with open(\"20190614_elannco_variants.fasta\",'w') as f:\n",
    "        for varname, dnaseq, st, end in zip(df[\"VarName\"],df[\"seq(DNA)\"],df[\"start_cut_DNA\"],df[\"end_cut_DNA\"]):\n",
    "            f.write(varname+\"\\n\")\n",
    "            lengt.append(len(preseq+dnaseq[st:end]+postseq))\n",
    "            f.write(preseq+dnaseq[st:end]+postseq+\"\\n\")\n",
    "    return lengt\n",
    "a = write_fasta_file_w_variants(dftot)"
   ]
  },
  {
   "cell_type": "code",
   "execution_count": null,
   "metadata": {},
   "outputs": [],
   "source": []
  }
 ],
 "metadata": {
  "kernelspec": {
   "display_name": "Python 3",
   "language": "python",
   "name": "python3"
  },
  "language_info": {
   "codemirror_mode": {
    "name": "ipython",
    "version": 3
   },
   "file_extension": ".py",
   "mimetype": "text/x-python",
   "name": "python",
   "nbconvert_exporter": "python",
   "pygments_lexer": "ipython3",
   "version": "3.6.8"
  }
 },
 "nbformat": 4,
 "nbformat_minor": 2
}
