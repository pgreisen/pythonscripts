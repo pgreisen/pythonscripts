{
 "cells": [
  {
   "cell_type": "code",
   "execution_count": 2,
   "metadata": {},
   "outputs": [
    {
     "name": "stdout",
     "output_type": "stream",
     "text": [
      "Requirement already satisfied: requests in /Users/pgreisen/anaconda3/lib/python3.6/site-packages (2.22.0)\r\n",
      "Requirement already satisfied: idna<2.9,>=2.5 in /Users/pgreisen/anaconda3/lib/python3.6/site-packages (from requests) (2.8)\r\n",
      "Requirement already satisfied: chardet<3.1.0,>=3.0.2 in /Users/pgreisen/anaconda3/lib/python3.6/site-packages (from requests) (3.0.4)\r\n",
      "Requirement already satisfied: certifi>=2017.4.17 in /Users/pgreisen/anaconda3/lib/python3.6/site-packages (from requests) (2019.6.16)\r\n",
      "Requirement already satisfied: urllib3!=1.25.0,!=1.25.1,<1.26,>=1.21.1 in /Users/pgreisen/anaconda3/lib/python3.6/site-packages (from requests) (1.25.3)\r\n"
     ]
    }
   ],
   "source": [
    "!pip install requests"
   ]
  },
  {
   "cell_type": "code",
   "execution_count": 3,
   "metadata": {},
   "outputs": [],
   "source": [
    "import requests"
   ]
  },
  {
   "cell_type": "code",
   "execution_count": 4,
   "metadata": {},
   "outputs": [],
   "source": [
    "# Documentation available here: \n",
    "# https://www.ebi.ac.uk/training/online/sites/ebi.ac.uk.training.online/files/UniProt_programmatically_py3.pdf\n"
   ]
  },
  {
   "cell_type": "code",
   "execution_count": 6,
   "metadata": {},
   "outputs": [],
   "source": [
    "BASE = 'http://www.uniprot.org'\n",
    "KB_ENDPOINT = '/uniprot/'\n",
    "TOOL_ENDPOINT = '/uploadlists/'"
   ]
  },
  {
   "cell_type": "code",
   "execution_count": 10,
   "metadata": {},
   "outputs": [
    {
     "name": "stdout",
     "output_type": "stream",
     "text": [
      ">sp|P25206|MCM3_MOUSE DNA replication licensing factor MCM3 OS=Mus musculus OX=10090 GN=Mcm3 PE=1 SV=2\n",
      "MAGTVVLDDVELREAQRDYLDFLDDEEDQGIYQNKVRELISDNQYRLIVSVNDLRRKNEK\n",
      "RANRLLNNAFEELVAFQRALKDFVASIDATYAKQYE\n"
     ]
    }
   ],
   "source": [
    "payload = {'query': 'name :\"polymerase alpha\" AND taxonomy:mus AND reviewed:yes','format': 'fasta',\n",
    "# comment the following line to exclude isoforms\n",
    "'include': 'yes',}\n",
    "result = requests.get(BASE + KB_ENDPOINT, params=payload)\n",
    "if result.ok:\n",
    "    print(result.text[:200])\n",
    "else:\n",
    "    print('Something went wrong: ', result.status_code)"
   ]
  },
  {
   "cell_type": "code",
   "execution_count": 20,
   "metadata": {},
   "outputs": [
    {
     "name": "stdout",
     "output_type": "stream",
     "text": [
      "\n"
     ]
    }
   ],
   "source": [
    "# \"entryName\":\"DUS1 HUMAN\"\n",
    "payload = {'query': 'entryName: DUS1 HUMAN','format': 'tab',\\\n",
    "           'columns': 'id,entry_name,reviewed,protein_names,organism,ec,keywords','include': 'yes'}\n",
    "# comment the following line to exclude isoforms\n",
    "result = requests.get(BASE + KB_ENDPOINT, params=payload)\n",
    "if result.ok:\n",
    "    print(result.text[:200])\n",
    "else:\n",
    "    print('Something went wrong: ', result.status_code)"
   ]
  },
  {
   "cell_type": "code",
   "execution_count": 29,
   "metadata": {
    "hidePrompt": true
   },
   "outputs": [],
   "source": [
    "fastaheaders = []\n",
    "with open(\"PF00221_selected_sequences.fa\",'r') as f:\n",
    "    for line in f:\n",
    "        if(line[0] == '>'):\n",
    "            headerinfo = line[1:].split('.')[0]\n",
    "            fastaheaders.append(headerinfo)"
   ]
  },
  {
   "cell_type": "code",
   "execution_count": 30,
   "metadata": {},
   "outputs": [
    {
     "name": "stdout",
     "output_type": "stream",
     "text": [
      "['A0A062UY68', 'A0A063ZL42', 'A0A0P9FZU0', 'A0A0W1R3J7', 'A0A0W1SMK9', 'A0A135VDR6', 'A0A135VB27', 'A0A135VJK5', 'A0A135VQG1', 'A0A151E8N4', 'A0A151EDD5', 'A0A151F020', 'A0A151FCF0', 'A0A1F3BDF6', 'A0A1G8S9A8', 'A0A1G9PD93', 'A0A1G9UCN7', 'A0A1H1J3S4', 'A0A1H3LAB0', 'A0A1H8QQU8', 'A0A1I0NBH4', 'A0A1I2UB01', 'A0A1I6HER7', 'A0A1N7BTM0', 'A0A1Q7M039', 'A0A1Q7M898', 'A0A1Q7MGY7', 'A0A1Q7MM48', 'A0A1Q9N350', 'A0A1Q9NVE7', 'A0A1Q9P452', 'A0A1Q9PCK1', 'A0A1Q9PCS8', 'A0A1V4C932', 'A0A1Y3ADP2', 'A0A1Z9NGB9', 'A0A1Z9U4S5', 'A0A202ED86', 'A0A218ZV29', 'A0A238VSC0', 'A0A256ZJ72', 'A0A2A3SX03', 'A0A2A5QY05', 'A0A2A5VKS6', 'A0A2A5VVK1', 'A0A2E9CE47', 'A4WKX2', 'A8M9E8', 'B5I9J9', 'D2S0I3', 'D2S0N8', 'D3T1B9', 'D4GRM0', 'D9Q0Z1', 'E1QRN9', 'E4NT40', 'I3R9R6', 'I3RB43', 'I7CNA6', 'J3EXD0', 'L0A7M0', 'L0ABZ8', 'L0IC82', 'L0K1U1', 'L9W057', 'L9XMM4', 'M0B4Y0', 'M0CD35', 'M0DFW6', 'M0H9Q6', 'M0LGU2', 'M0LYX1', 'M0LZ77', 'M0MKE3', 'M0MPN3', 'M7TEY7', 'M7U4J6', 'N6VP01', 'N6VPP7', 'N6WKA2', 'Q5V1C0', 'Q6L2V9', 'Q9HLI6', 'Q9HQD5', 'S0ANG1', 'T0LFV8', 'T0LKM5', 'T0LL52', 'T0M1V5', 'T0LTG1', 'T0N6K7', 'W0K1W5']\n"
     ]
    }
   ],
   "source": [
    "print(fastaheaders)"
   ]
  },
  {
   "cell_type": "code",
   "execution_count": 21,
   "metadata": {},
   "outputs": [],
   "source": [
    "# Show plots as part of the notebook\n",
    "%matplotlib inline\n",
    "\n",
    "# Standard library packages\n",
    "import io\n",
    "\n",
    "# Import Seaborn for graphics and plotting\n",
    "import seaborn as sns\n",
    "\n",
    "# Import bioservices module, to run remote UniProt queries\n",
    "from bioservices import UniProt\n",
    "\n",
    "# Import Pandas, so we can use dataframes\n",
    "import pandas as pd"
   ]
  },
  {
   "cell_type": "code",
   "execution_count": 23,
   "metadata": {},
   "outputs": [],
   "source": [
    "service = UniProt() # it is good practice to have a meaningful variable name"
   ]
  },
  {
   "cell_type": "code",
   "execution_count": 26,
   "metadata": {},
   "outputs": [
    {
     "name": "stdout",
     "output_type": "stream",
     "text": [
      "Entry\tEntry name\tStatus\tProtein names\tGene names\tOrganism\tLength\n",
      "A0A135VB27\tA0A135VB27_9ARCH\tunreviewed\tProbable histidine ammonia-lyase (Histidase) (EC 4.3.1.3)\thutH AM324_01915\tCandidatus Thorarchaeota archaeon SMTZ1-83\t501\n",
      " <class 'str'>\n"
     ]
    }
   ],
   "source": [
    "# Make a query string, and run a remote search at UniProt,\n",
    "# getting the result as tabular format\n",
    "query = \"A0A135VB27\"\n",
    "result = service.search(query, frmt=\"tab\")\n",
    "\n",
    "# Inspect the result\n",
    "print(result,type(result))\n"
   ]
  },
  {
   "cell_type": "code",
   "execution_count": 32,
   "metadata": {},
   "outputs": [
    {
     "name": "stdout",
     "output_type": "stream",
     "text": [
      "Entry\tEntry name\tStatus\tProtein names\tGene names\tOrganism\tLength\n",
      "B5I9J9\tB5I9J9_ACIB4\tunreviewed\tProbable histidine ammonia-lyase (Histidase) (EC 4.3.1.3)\thutH Aboo_0719 ABOONEI_1827\tAciduliprofundum boonei (strain DSM 19572 / T469)\t498\n",
      "\n",
      "Entry\tEntry name\tStatus\tProtein names\tGene names\tOrganism\tLength\n",
      "D9Q0Z1\tD9Q0Z1_ACIS3\tunreviewed\tHistidine ammonia-lyase (EC 4.3.1.3)\tASAC_0572\tAcidilobus saccharovorans (strain DSM 16705 / JCM 18335 / VKM B-2471 / 345-15)\t470\n",
      "\n"
     ]
    }
   ],
   "source": [
    "for i in fastaheaders:\n",
    "    query = i # \"A0A135VB27\"\n",
    "    result = service.search(query, frmt=\"tab\")\n",
    "    # Inspect the result\n",
    "    if(\"Acid\" in result):\n",
    "        print(result)\n"
   ]
  }
 ],
 "metadata": {
  "kernelspec": {
   "display_name": "Python 3",
   "language": "python",
   "name": "python3"
  },
  "language_info": {
   "codemirror_mode": {
    "name": "ipython",
    "version": 3
   },
   "file_extension": ".py",
   "mimetype": "text/x-python",
   "name": "python",
   "nbconvert_exporter": "python",
   "pygments_lexer": "ipython3",
   "version": "3.6.8"
  }
 },
 "nbformat": 4,
 "nbformat_minor": 2
}
