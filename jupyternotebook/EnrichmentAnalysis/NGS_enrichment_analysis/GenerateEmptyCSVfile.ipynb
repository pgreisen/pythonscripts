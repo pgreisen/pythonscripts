{
 "cells": [
  {
   "cell_type": "code",
   "execution_count": null,
   "metadata": {},
   "outputs": [],
   "source": [
    "# Generate empty csv file with counts"
   ]
  },
  {
   "cell_type": "code",
   "execution_count": null,
   "metadata": {},
   "outputs": [],
   "source": [
    "import pandas as pd\n",
    "import random"
   ]
  },
  {
   "cell_type": "code",
   "execution_count": null,
   "metadata": {},
   "outputs": [],
   "source": [
    "#help(random)\n",
    "# return integer between a and b\n",
    "# randint(self, a, b)"
   ]
  },
  {
   "cell_type": "code",
   "execution_count": null,
   "metadata": {},
   "outputs": [],
   "source": [
    "df = pd.DataFrame(data=None, columns=[\"Id\",\"c_0\",\"c_1\",\"c_2\",\"c_3\"],index=range(0,25000))\n",
    "df.head()"
   ]
  },
  {
   "cell_type": "code",
   "execution_count": null,
   "metadata": {},
   "outputs": [],
   "source": [
    "df.tail()"
   ]
  },
  {
   "cell_type": "code",
   "execution_count": null,
   "metadata": {},
   "outputs": [],
   "source": [
    "# populate with fake data\n",
    "for i in df.index:\n",
    "    if(int(i) != 99):\n",
    "        df.iloc[i,df.columns.get_loc(\"Id\")] = \"ID_\"+str(i)\n",
    "        df.iloc[i,df.columns.get_loc(\"c_0\")] = random.randint(50, 200)\n",
    "        df.iloc[i,df.columns.get_loc(\"c_1\")] = random.randint(20, 2000)\n",
    "        df.iloc[i,df.columns.get_loc(\"c_2\")] = random.randint(10, 5000)\n",
    "        df.iloc[i,df.columns.get_loc(\"c_3\")] = random.randint(10, 10000)\n",
    "    if(int(i) == 99):\n",
    "        df.iloc[i,df.columns.get_loc(\"Id\")] = \"WT\"\n",
    "        df.iloc[i,df.columns.get_loc(\"c_0\")] = random.randint(50, 200)\n",
    "        df.iloc[i,df.columns.get_loc(\"c_1\")] = random.randint(20, 2000)\n",
    "        df.iloc[i,df.columns.get_loc(\"c_2\")] = random.randint(10, 5000)\n",
    "        df.iloc[i,df.columns.get_loc(\"c_3\")] = random.randint(10, 10000)    "
   ]
  },
  {
   "cell_type": "code",
   "execution_count": null,
   "metadata": {},
   "outputs": [],
   "source": [
    "df.tail()"
   ]
  },
  {
   "cell_type": "code",
   "execution_count": null,
   "metadata": {},
   "outputs": [],
   "source": [
    "df.to_csv(\"test.csv\")"
   ]
  },
  {
   "cell_type": "code",
   "execution_count": null,
   "metadata": {},
   "outputs": [],
   "source": []
  }
 ],
 "metadata": {
  "kernelspec": {
   "display_name": "Python 3",
   "language": "python",
   "name": "python3"
  },
  "language_info": {
   "codemirror_mode": {
    "name": "ipython",
    "version": 3
   },
   "file_extension": ".py",
   "mimetype": "text/x-python",
   "name": "python",
   "nbconvert_exporter": "python",
   "pygments_lexer": "ipython3",
   "version": "3.6.8"
  }
 },
 "nbformat": 4,
 "nbformat_minor": 2
}
