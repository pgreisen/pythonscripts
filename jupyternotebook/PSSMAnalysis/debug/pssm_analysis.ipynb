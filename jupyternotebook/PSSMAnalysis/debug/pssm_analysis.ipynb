{
 "cells": [
  {
   "cell_type": "markdown",
   "metadata": {
    "papermill": {
     "duration": null,
     "end_time": null,
     "exception": null,
     "start_time": null,
     "status": "completed"
    },
    "tags": []
   },
   "source": [
    "# Analysis of PSSM results\n",
    "After running the psiblast on the input fasta-file. The difference between the WT amino acid and substitutions observed during the evolution is computed. \n",
    "Again, G and P are removed as potential substitutions from the WT sequence and mutations to G and C as well. \n",
    "A cutoff is computed as being significant using the mean of the difference score with 2 standard deviations. "
   ]
  },
  {
   "cell_type": "code",
   "execution_count": null,
   "metadata": {
    "papermill": {
     "duration": null,
     "end_time": null,
     "exception": null,
     "start_time": null,
     "status": "completed"
    },
    "tags": []
   },
   "outputs": [],
   "source": [
    "import pandas as pd\n",
    "import seaborn as sns"
   ]
  },
  {
   "cell_type": "code",
   "execution_count": null,
   "metadata": {
    "papermill": {
     "duration": null,
     "end_time": null,
     "exception": null,
     "start_time": null,
     "status": "completed"
    },
    "tags": [
     "parameters"
    ]
   },
   "outputs": [],
   "source": [
    "date = \"20181204\""
   ]
  },
  {
   "cell_type": "code",
   "execution_count": null,
   "metadata": {
    "papermill": {
     "duration": null,
     "end_time": null,
     "exception": null,
     "start_time": null,
     "status": "completed"
    },
    "tags": [
     "injected-parameters"
    ]
   },
   "outputs": [],
   "source": [
    "# Parameters\n",
    "date = 20\n"
   ]
  },
  {
   "cell_type": "code",
   "execution_count": null,
   "metadata": {
    "papermill": {
     "duration": null,
     "end_time": null,
     "exception": null,
     "start_time": null,
     "status": "completed"
    },
    "tags": []
   },
   "outputs": [],
   "source": [
    "df_ = pd.read_csv(\"ascii_mtx_file\",skiprows=2,skip_blank_lines=True,  delim_whitespace=True,header=0,\n",
    "                  names=[\"WT\",u'A', u'R', u'N', u'D', u'C', u'Q', u'E', u'G', u'H', u'I', u'L', u'K',\n",
    "       u'M', u'F', u'P', u'S', u'T', u'W', u'Y', u'V', u'A.1', u'R.1', u'N.1',\n",
    "       u'D.1', u'C.1', u'Q.1', u'E.1', u'G.1', u'H.1', u'I.1', u'L.1', u'K.1',\n",
    "       u'M.1', u'F.1', u'P.1', u'S.1', u'T.1', u'W.1', u'Y.1', u'V.1',\"S1\",\"S2\"]) # ,nrows=234)"
   ]
  },
  {
   "cell_type": "code",
   "execution_count": null,
   "metadata": {
    "papermill": {
     "duration": null,
     "end_time": null,
     "exception": null,
     "start_time": null,
     "status": "completed"
    },
    "tags": []
   },
   "outputs": [],
   "source": [
    "df_ = df_.dropna()\n",
    "df_ = df_[df_[\"WT\"] != '*']"
   ]
  },
  {
   "cell_type": "code",
   "execution_count": null,
   "metadata": {
    "papermill": {
     "duration": null,
     "end_time": null,
     "exception": null,
     "start_time": null,
     "status": "completed"
    },
    "tags": []
   },
   "outputs": [],
   "source": [
    "df_[\"WT_score\"] = 0.0\n",
    "for index, row in df_.iterrows():\n",
    "    df_.loc[index,\"WT_score\"] = df_.loc[index,df_.loc[index,\"WT\"]]"
   ]
  },
  {
   "cell_type": "code",
   "execution_count": null,
   "metadata": {
    "papermill": {
     "duration": null,
     "end_time": null,
     "exception": null,
     "start_time": null,
     "status": "completed"
    },
    "tags": []
   },
   "outputs": [],
   "source": [
    "df_.head()\n",
    "cols = [u'WT',u'A',u'R',        u'N',        u'D',\n",
    "              u'C',        u'Q',        u'E',        u'G',        u'H',\n",
    "              u'I',        u'L',        u'K',        u'M',        u'F',\n",
    "              u'P',        u'S',        u'T',        u'W',        u'Y',\n",
    "              u'V',     u'WT_score']\n",
    "df_ = df_[cols]\n",
    "df_.WT_score = df_.WT_score.astype(int)\n",
    "df_.head()"
   ]
  },
  {
   "cell_type": "code",
   "execution_count": null,
   "metadata": {
    "papermill": {
     "duration": null,
     "end_time": null,
     "exception": null,
     "start_time": null,
     "status": "completed"
    },
    "tags": []
   },
   "outputs": [],
   "source": [
    "# WT, Pos, AA, WT_score, AA_score, Diff_score\n",
    "dffs = []\n",
    "for index,row in df_.iterrows():\n",
    "    for j in range(len(row)):\n",
    "        if(j == 0):\n",
    "            continue\n",
    "        elif(df_.columns[j] == \"WT_score\"):\n",
    "            continue\n",
    "        elif(df_.columns[j] ==  df_.loc[index,\"WT\"] ):\n",
    "            continue\n",
    "        elif( row[j] > df_.loc[index,\"WT_score\"]):\n",
    "            val_ = str( abs( df_.loc[index,\"WT_score\"] - row[j]  ) )\n",
    "            tmp_ = df_.loc[index,\"WT\"]+\",\"+str(index)+\",\"+df_.columns[j]+\",\"+str(df_.loc[index,\"WT_score\"])+\",\"+str(row[j])+\",\"+val_\n",
    "            dffs.append(tmp_)"
   ]
  },
  {
   "cell_type": "code",
   "execution_count": null,
   "metadata": {
    "papermill": {
     "duration": null,
     "end_time": null,
     "exception": null,
     "start_time": null,
     "status": "completed"
    },
    "tags": []
   },
   "outputs": [],
   "source": [
    "with open(date+\"_stabilization_phylogenic.csv\",'w') as f:\n",
    "    f.write(\"WT,Pos,AA,WT_score,AA_score,Diff_score\\n\")\n",
    "    for line in dffs:\n",
    "        f.write(line+\"\\n\")\n",
    "df_.to_excel(date+\"_PSSM_analysis.xlsx\")"
   ]
  },
  {
   "cell_type": "code",
   "execution_count": null,
   "metadata": {
    "papermill": {
     "duration": null,
     "end_time": null,
     "exception": null,
     "start_time": null,
     "status": "completed"
    },
    "tags": []
   },
   "outputs": [],
   "source": [
    "df_pssm_result = pd.read_csv(date+\"_stabilization_phylogenic.csv\")\n",
    "df_pssm_result.plot(y=\"Diff_score\",kind='hist')"
   ]
  },
  {
   "cell_type": "code",
   "execution_count": null,
   "metadata": {
    "papermill": {
     "duration": null,
     "end_time": null,
     "exception": null,
     "start_time": null,
     "status": "completed"
    },
    "tags": []
   },
   "outputs": [],
   "source": [
    "# remove all G,P,C -> X\n",
    "df_pssm_result = df_pssm_result[(df_pssm_result[\"WT\"] != 'G') & (df_pssm_result[\"WT\"] != 'P') & \\\n",
    "                               (df_pssm_result[\"AA\"] != 'G') & (df_pssm_result[\"AA\"] != 'C')]"
   ]
  },
  {
   "cell_type": "code",
   "execution_count": null,
   "metadata": {
    "papermill": {
     "duration": null,
     "end_time": null,
     "exception": null,
     "start_time": null,
     "status": "completed"
    },
    "tags": []
   },
   "outputs": [],
   "source": [
    "# get median of values\n",
    "sns.boxplot(y=\"Diff_score\",data=df_pssm_result)"
   ]
  },
  {
   "cell_type": "code",
   "execution_count": null,
   "metadata": {
    "papermill": {
     "duration": null,
     "end_time": null,
     "exception": null,
     "start_time": null,
     "status": "completed"
    },
    "tags": []
   },
   "outputs": [],
   "source": [
    "df_pssm_result.info()"
   ]
  },
  {
   "cell_type": "code",
   "execution_count": null,
   "metadata": {
    "papermill": {
     "duration": null,
     "end_time": null,
     "exception": null,
     "start_time": null,
     "status": "completed"
    },
    "tags": []
   },
   "outputs": [],
   "source": [
    "cutoff = df_pssm_result[\"Diff_score\"].mean()+2*df_pssm_result[\"Diff_score\"].std()"
   ]
  },
  {
   "cell_type": "code",
   "execution_count": null,
   "metadata": {
    "papermill": {
     "duration": null,
     "end_time": null,
     "exception": null,
     "start_time": null,
     "status": "completed"
    },
    "tags": []
   },
   "outputs": [],
   "source": [
    "df_pssm_result = df_pssm_result[df_pssm_result[\"Diff_score\"] > cutoff]\n",
    "df_pssm_result.info()"
   ]
  },
  {
   "cell_type": "code",
   "execution_count": null,
   "metadata": {
    "papermill": {
     "duration": null,
     "end_time": null,
     "exception": null,
     "start_time": null,
     "status": "completed"
    },
    "tags": []
   },
   "outputs": [],
   "source": [
    "print(\"Unique positions: \",len(df_pssm_result[\"Pos\"].unique()) )"
   ]
  },
  {
   "cell_type": "code",
   "execution_count": null,
   "metadata": {
    "papermill": {
     "duration": null,
     "end_time": null,
     "exception": null,
     "start_time": null,
     "status": "completed"
    },
    "tags": []
   },
   "outputs": [],
   "source": [
    "print(\"Number of amino acid substitutions: \",len(df_pssm_result.index )"
   ]
  },
  {
   "cell_type": "code",
   "execution_count": null,
   "metadata": {
    "papermill": {
     "duration": null,
     "end_time": null,
     "exception": null,
     "start_time": null,
     "status": "completed"
    },
    "tags": []
   },
   "outputs": [],
   "source": [
    "# write to muts.txt\n",
    "with open(\"muts.txt\", 'w') as f:\n",
    "    for i,j,k in zip(df_pssm_result.WT, df_pssm_result.Pos,df_pssm_result.AA):\n",
    "        f.write(i+str(j)+k+'\\n')"
   ]
  },
  {
   "cell_type": "code",
   "execution_count": null,
   "metadata": {
    "papermill": {
     "duration": null,
     "end_time": null,
     "exception": null,
     "start_time": null,
     "status": "completed"
    },
    "tags": []
   },
   "outputs": [],
   "source": [
    "!python /Users/pgreisen/pythonscripts/develop/convert_pssm_to_csv/convert_pssm_to_csv.py ascii_mtx_file"
   ]
  }
 ],
 "metadata": {
  "celltoolbar": "Tags",
  "kernelspec": {
   "display_name": "Python 3",
   "language": "python",
   "name": "python3"
  },
  "language_info": {
   "codemirror_mode": {
    "name": "ipython",
    "version": 3
   },
   "file_extension": ".py",
   "mimetype": "text/x-python",
   "name": "python",
   "nbconvert_exporter": "python",
   "pygments_lexer": "ipython3",
   "version": "3.6.6"
  },
  "papermill": {
   "duration": 0.009838,
   "end_time": "2019-01-03T06:59:33.850862",
   "environment_variables": {},
   "exception": null,
   "input_path": "/Users/pgreisen/pythonscripts/jupyternotebook/PSSMAnalysis/20180313_PSSM_analysis.ipynb",
   "output_path": "pssm_analysis.ipynb",
   "parameters": {
    "date": 20
   },
   "start_time": "2019-01-03T06:59:33.841024",
   "version": "0.16.2"
  },
  "toc": {
   "nav_menu": {},
   "number_sections": true,
   "sideBar": true,
   "skip_h1_title": false,
   "toc_cell": false,
   "toc_position": {},
   "toc_section_display": "block",
   "toc_window_display": false
  }
 },
 "nbformat": 4,
 "nbformat_minor": 2
}