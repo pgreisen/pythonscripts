{
 "cells": [
  {
   "cell_type": "markdown",
   "metadata": {},
   "source": [
    "# Analysis of PSSM results\n",
    "After running the psiblast on the input fasta-file. The difference between the WT amino acid and substitutions observed during the evolution is computed. \n",
    "Again, G and P are removed as potential substitutions from the WT sequence and mutations to G and C as well. \n",
    "A cutoff is computed as being significant using the mean of the difference score with 2 standard deviations. "
   ]
  },
  {
   "cell_type": "code",
   "execution_count": 1,
   "metadata": {},
   "outputs": [],
   "source": [
    "import pandas as pd\n",
    "import seaborn as sns"
   ]
  },
  {
   "cell_type": "code",
   "execution_count": null,
   "metadata": {},
   "outputs": [],
   "source": [
    "STD_DEV = 1"
   ]
  },
  {
   "cell_type": "code",
   "execution_count": 2,
   "metadata": {
    "tags": [
     "parameters"
    ]
   },
   "outputs": [],
   "source": [
    "date = \"20181204\""
   ]
  },
  {
   "cell_type": "code",
   "execution_count": 3,
   "metadata": {},
   "outputs": [],
   "source": [
    "df_ = pd.read_csv(\"ascii_mtx_file\",skiprows=2,skip_blank_lines=True,  delim_whitespace=True,header=0,\n",
    "                  names=[\"WT\",u'A', u'R', u'N', u'D', u'C', u'Q', u'E', u'G', u'H', u'I', u'L', u'K',\n",
    "       u'M', u'F', u'P', u'S', u'T', u'W', u'Y', u'V', u'A.1', u'R.1', u'N.1',\n",
    "       u'D.1', u'C.1', u'Q.1', u'E.1', u'G.1', u'H.1', u'I.1', u'L.1', u'K.1',\n",
    "       u'M.1', u'F.1', u'P.1', u'S.1', u'T.1', u'W.1', u'Y.1', u'V.1',\"S1\",\"S2\"]) # ,nrows=234)"
   ]
  },
  {
   "cell_type": "code",
   "execution_count": 4,
   "metadata": {},
   "outputs": [],
   "source": [
    "df_ = df_.dropna()\n",
    "df_ = df_[df_[\"WT\"] != '*']"
   ]
  },
  {
   "cell_type": "code",
   "execution_count": 5,
   "metadata": {},
   "outputs": [],
   "source": [
    "df_[\"WT_score\"] = 0.0\n",
    "for index, row in df_.iterrows():\n",
    "    df_.loc[index,\"WT_score\"] = df_.loc[index,df_.loc[index,\"WT\"]]"
   ]
  },
  {
   "cell_type": "code",
   "execution_count": 6,
   "metadata": {},
   "outputs": [
    {
     "data": {
      "text/html": [
       "<div>\n",
       "<style scoped>\n",
       "    .dataframe tbody tr th:only-of-type {\n",
       "        vertical-align: middle;\n",
       "    }\n",
       "\n",
       "    .dataframe tbody tr th {\n",
       "        vertical-align: top;\n",
       "    }\n",
       "\n",
       "    .dataframe thead th {\n",
       "        text-align: right;\n",
       "    }\n",
       "</style>\n",
       "<table border=\"1\" class=\"dataframe\">\n",
       "  <thead>\n",
       "    <tr style=\"text-align: right;\">\n",
       "      <th></th>\n",
       "      <th>WT</th>\n",
       "      <th>A</th>\n",
       "      <th>R</th>\n",
       "      <th>N</th>\n",
       "      <th>D</th>\n",
       "      <th>C</th>\n",
       "      <th>Q</th>\n",
       "      <th>E</th>\n",
       "      <th>G</th>\n",
       "      <th>H</th>\n",
       "      <th>...</th>\n",
       "      <th>K</th>\n",
       "      <th>M</th>\n",
       "      <th>F</th>\n",
       "      <th>P</th>\n",
       "      <th>S</th>\n",
       "      <th>T</th>\n",
       "      <th>W</th>\n",
       "      <th>Y</th>\n",
       "      <th>V</th>\n",
       "      <th>WT_score</th>\n",
       "    </tr>\n",
       "  </thead>\n",
       "  <tbody>\n",
       "    <tr>\n",
       "      <th>1</th>\n",
       "      <td>M</td>\n",
       "      <td>-4.0</td>\n",
       "      <td>-5.0</td>\n",
       "      <td>-6.0</td>\n",
       "      <td>-7.0</td>\n",
       "      <td>-5.0</td>\n",
       "      <td>-4.0</td>\n",
       "      <td>-6.0</td>\n",
       "      <td>-6.0</td>\n",
       "      <td>-5.0</td>\n",
       "      <td>...</td>\n",
       "      <td>-5.0</td>\n",
       "      <td>11.0</td>\n",
       "      <td>-3.0</td>\n",
       "      <td>-6.0</td>\n",
       "      <td>-5.0</td>\n",
       "      <td>-4.0</td>\n",
       "      <td>-5.0</td>\n",
       "      <td>-5.0</td>\n",
       "      <td>-3.0</td>\n",
       "      <td>11</td>\n",
       "    </tr>\n",
       "    <tr>\n",
       "      <th>2</th>\n",
       "      <td>E</td>\n",
       "      <td>3.0</td>\n",
       "      <td>-2.0</td>\n",
       "      <td>-1.0</td>\n",
       "      <td>-2.0</td>\n",
       "      <td>-4.0</td>\n",
       "      <td>0.0</td>\n",
       "      <td>3.0</td>\n",
       "      <td>2.0</td>\n",
       "      <td>3.0</td>\n",
       "      <td>...</td>\n",
       "      <td>-1.0</td>\n",
       "      <td>-2.0</td>\n",
       "      <td>-4.0</td>\n",
       "      <td>-3.0</td>\n",
       "      <td>2.0</td>\n",
       "      <td>-1.0</td>\n",
       "      <td>-5.0</td>\n",
       "      <td>-3.0</td>\n",
       "      <td>-3.0</td>\n",
       "      <td>3</td>\n",
       "    </tr>\n",
       "    <tr>\n",
       "      <th>3</th>\n",
       "      <td>K</td>\n",
       "      <td>0.0</td>\n",
       "      <td>1.0</td>\n",
       "      <td>0.0</td>\n",
       "      <td>-3.0</td>\n",
       "      <td>-4.0</td>\n",
       "      <td>1.0</td>\n",
       "      <td>-2.0</td>\n",
       "      <td>-3.0</td>\n",
       "      <td>-3.0</td>\n",
       "      <td>...</td>\n",
       "      <td>3.0</td>\n",
       "      <td>-3.0</td>\n",
       "      <td>-4.0</td>\n",
       "      <td>-2.0</td>\n",
       "      <td>5.0</td>\n",
       "      <td>2.0</td>\n",
       "      <td>-5.0</td>\n",
       "      <td>-4.0</td>\n",
       "      <td>-3.0</td>\n",
       "      <td>3</td>\n",
       "    </tr>\n",
       "    <tr>\n",
       "      <th>4</th>\n",
       "      <td>T</td>\n",
       "      <td>-2.0</td>\n",
       "      <td>-3.0</td>\n",
       "      <td>-2.0</td>\n",
       "      <td>-4.0</td>\n",
       "      <td>-3.0</td>\n",
       "      <td>-3.0</td>\n",
       "      <td>-3.0</td>\n",
       "      <td>-4.0</td>\n",
       "      <td>-4.0</td>\n",
       "      <td>...</td>\n",
       "      <td>-3.0</td>\n",
       "      <td>1.0</td>\n",
       "      <td>3.0</td>\n",
       "      <td>-3.0</td>\n",
       "      <td>3.0</td>\n",
       "      <td>3.0</td>\n",
       "      <td>-4.0</td>\n",
       "      <td>-2.0</td>\n",
       "      <td>-1.0</td>\n",
       "      <td>3</td>\n",
       "    </tr>\n",
       "    <tr>\n",
       "      <th>5</th>\n",
       "      <td>D</td>\n",
       "      <td>0.0</td>\n",
       "      <td>-3.0</td>\n",
       "      <td>1.0</td>\n",
       "      <td>1.0</td>\n",
       "      <td>-4.0</td>\n",
       "      <td>1.0</td>\n",
       "      <td>3.0</td>\n",
       "      <td>-4.0</td>\n",
       "      <td>0.0</td>\n",
       "      <td>...</td>\n",
       "      <td>-1.0</td>\n",
       "      <td>-3.0</td>\n",
       "      <td>-5.0</td>\n",
       "      <td>1.0</td>\n",
       "      <td>3.0</td>\n",
       "      <td>3.0</td>\n",
       "      <td>-5.0</td>\n",
       "      <td>-4.0</td>\n",
       "      <td>-2.0</td>\n",
       "      <td>1</td>\n",
       "    </tr>\n",
       "  </tbody>\n",
       "</table>\n",
       "<p>5 rows × 22 columns</p>\n",
       "</div>"
      ],
      "text/plain": [
       "  WT    A    R    N    D    C    Q    E    G    H    ...       K     M    F  \\\n",
       "1  M -4.0 -5.0 -6.0 -7.0 -5.0 -4.0 -6.0 -6.0 -5.0    ...    -5.0  11.0 -3.0   \n",
       "2  E  3.0 -2.0 -1.0 -2.0 -4.0  0.0  3.0  2.0  3.0    ...    -1.0  -2.0 -4.0   \n",
       "3  K  0.0  1.0  0.0 -3.0 -4.0  1.0 -2.0 -3.0 -3.0    ...     3.0  -3.0 -4.0   \n",
       "4  T -2.0 -3.0 -2.0 -4.0 -3.0 -3.0 -3.0 -4.0 -4.0    ...    -3.0   1.0  3.0   \n",
       "5  D  0.0 -3.0  1.0  1.0 -4.0  1.0  3.0 -4.0  0.0    ...    -1.0  -3.0 -5.0   \n",
       "\n",
       "     P    S    T    W    Y    V  WT_score  \n",
       "1 -6.0 -5.0 -4.0 -5.0 -5.0 -3.0        11  \n",
       "2 -3.0  2.0 -1.0 -5.0 -3.0 -3.0         3  \n",
       "3 -2.0  5.0  2.0 -5.0 -4.0 -3.0         3  \n",
       "4 -3.0  3.0  3.0 -4.0 -2.0 -1.0         3  \n",
       "5  1.0  3.0  3.0 -5.0 -4.0 -2.0         1  \n",
       "\n",
       "[5 rows x 22 columns]"
      ]
     },
     "execution_count": 6,
     "metadata": {},
     "output_type": "execute_result"
    }
   ],
   "source": [
    "df_.head()\n",
    "cols = [u'WT',u'A',u'R',        u'N',        u'D',\n",
    "              u'C',        u'Q',        u'E',        u'G',        u'H',\n",
    "              u'I',        u'L',        u'K',        u'M',        u'F',\n",
    "              u'P',        u'S',        u'T',        u'W',        u'Y',\n",
    "              u'V',     u'WT_score']\n",
    "df_ = df_[cols]\n",
    "df_.WT_score = df_.WT_score.astype(int)\n",
    "df_.head()"
   ]
  },
  {
   "cell_type": "code",
   "execution_count": 7,
   "metadata": {},
   "outputs": [],
   "source": [
    "# WT, Pos, AA, WT_score, AA_score, Diff_score\n",
    "dffs = []\n",
    "for index,row in df_.iterrows():\n",
    "    for j in range(len(row)):\n",
    "        if(j == 0):\n",
    "            continue\n",
    "        elif(df_.columns[j] == \"WT_score\"):\n",
    "            continue\n",
    "        elif(df_.columns[j] ==  df_.loc[index,\"WT\"] ):\n",
    "            continue\n",
    "        elif( row[j] > df_.loc[index,\"WT_score\"]):\n",
    "            val_ = str( abs( df_.loc[index,\"WT_score\"] - row[j]  ) )\n",
    "            tmp_ = df_.loc[index,\"WT\"]+\",\"+str(index)+\",\"+df_.columns[j]+\",\"+str(df_.loc[index,\"WT_score\"])+\",\"+str(row[j])+\",\"+val_\n",
    "            dffs.append(tmp_)"
   ]
  },
  {
   "cell_type": "code",
   "execution_count": 8,
   "metadata": {},
   "outputs": [],
   "source": [
    "with open(str(date)+\"_stabilization_phylogenic.csv\",'w') as f:\n",
    "    f.write(\"WT,Pos,AA,WT_score,AA_score,Diff_score\\n\")\n",
    "    for line in dffs:\n",
    "        f.write(line+\"\\n\")\n",
    "df_.to_excel(str(date)+\"_PSSM_analysis.xlsx\")"
   ]
  },
  {
   "cell_type": "code",
   "execution_count": 10,
   "metadata": {},
   "outputs": [
    {
     "data": {
      "text/plain": [
       "<matplotlib.axes._subplots.AxesSubplot at 0x110fb3860>"
      ]
     },
     "execution_count": 10,
     "metadata": {},
     "output_type": "execute_result"
    },
    {
     "data": {
      "image/png": "[encoded data removed]",
      "text/plain": [
       "<Figure size 432x288 with 1 Axes>"
      ]
     },
     "metadata": {},
     "output_type": "display_data"
    }
   ],
   "source": [
    "df_pssm_result = pd.read_csv(str(date)+\"_stabilization_phylogenic.csv\")\n",
    "df_pssm_result.plot(y=\"Diff_score\",kind='hist')"
   ]
  },
  {
   "cell_type": "code",
   "execution_count": 11,
   "metadata": {},
   "outputs": [],
   "source": [
    "# remove all G,P,C -> X\n",
    "df_pssm_result = df_pssm_result[(df_pssm_result[\"WT\"] != 'G') & (df_pssm_result[\"WT\"] != 'P') & \\\n",
    "                               (df_pssm_result[\"AA\"] != 'G') & (df_pssm_result[\"AA\"] != 'C')]"
   ]
  },
  {
   "cell_type": "code",
   "execution_count": 12,
   "metadata": {},
   "outputs": [
    {
     "data": {
      "text/plain": [
       "<matplotlib.axes._subplots.AxesSubplot at 0x116b9ca90>"
      ]
     },
     "execution_count": 12,
     "metadata": {},
     "output_type": "execute_result"
    },
    {
     "data": {
      "image/png": "[encoded data removed]",
      "text/plain": [
       "<Figure size 432x288 with 1 Axes>"
      ]
     },
     "metadata": {},
     "output_type": "display_data"
    }
   ],
   "source": [
    "# get median of values\n",
    "sns.boxplot(y=\"Diff_score\",data=df_pssm_result)"
   ]
  },
  {
   "cell_type": "code",
   "execution_count": 13,
   "metadata": {},
   "outputs": [
    {
     "name": "stdout",
     "output_type": "stream",
     "text": [
      "<class 'pandas.core.frame.DataFrame'>\n",
      "Int64Index: 804 entries, 0 to 963\n",
      "Data columns (total 6 columns):\n",
      "WT            804 non-null object\n",
      "Pos           804 non-null int64\n",
      "AA            804 non-null object\n",
      "WT_score      804 non-null int64\n",
      "AA_score      804 non-null float64\n",
      "Diff_score    804 non-null float64\n",
      "dtypes: float64(2), int64(2), object(2)\n",
      "memory usage: 44.0+ KB\n"
     ]
    }
   ],
   "source": [
    "df_pssm_result.info()"
   ]
  },
  {
   "cell_type": "code",
   "execution_count": 14,
   "metadata": {},
   "outputs": [],
   "source": [
    "cutoff = df_pssm_result[\"Diff_score\"].mean()+STD_DEV*df_pssm_result[\"Diff_score\"].std()"
   ]
  },
  {
   "cell_type": "code",
   "execution_count": 15,
   "metadata": {},
   "outputs": [
    {
     "name": "stdout",
     "output_type": "stream",
     "text": [
      "<class 'pandas.core.frame.DataFrame'>\n",
      "Int64Index: 35 entries, 13 to 926\n",
      "Data columns (total 6 columns):\n",
      "WT            35 non-null object\n",
      "Pos           35 non-null int64\n",
      "AA            35 non-null object\n",
      "WT_score      35 non-null int64\n",
      "AA_score      35 non-null float64\n",
      "Diff_score    35 non-null float64\n",
      "dtypes: float64(2), int64(2), object(2)\n",
      "memory usage: 1.9+ KB\n"
     ]
    }
   ],
   "source": [
    "df_pssm_result = df_pssm_result[df_pssm_result[\"Diff_score\"] > cutoff]\n",
    "df_pssm_result.info()"
   ]
  },
  {
   "cell_type": "code",
   "execution_count": 16,
   "metadata": {},
   "outputs": [
    {
     "name": "stdout",
     "output_type": "stream",
     "text": [
      "Unique positions:  32\n"
     ]
    }
   ],
   "source": [
    "print(\"Unique positions: \",len(df_pssm_result[\"Pos\"].unique()) )"
   ]
  },
  {
   "cell_type": "code",
   "execution_count": 1,
   "metadata": {},
   "outputs": [
    {
     "ename": "NameError",
     "evalue": "name 'df_pssm_result' is not defined",
     "output_type": "error",
     "traceback": [
      "\u001b[0;31m---------------------------------------------------------------------------\u001b[0m",
      "\u001b[0;31mNameError\u001b[0m                                 Traceback (most recent call last)",
      "\u001b[0;32m<ipython-input-1-323f45d89c95>\u001b[0m in \u001b[0;36m<module>\u001b[0;34m\u001b[0m\n\u001b[0;32m----> 1\u001b[0;31m \u001b[0mprint\u001b[0m\u001b[0;34m(\u001b[0m\u001b[0;34m\"Number of amino acid substitutions: \"\u001b[0m\u001b[0;34m,\u001b[0m\u001b[0mlen\u001b[0m\u001b[0;34m(\u001b[0m\u001b[0mdf_pssm_result\u001b[0m\u001b[0;34m[\u001b[0m\u001b[0;34m\"AA\"\u001b[0m\u001b[0;34m]\u001b[0m\u001b[0;34m.\u001b[0m\u001b[0munique\u001b[0m\u001b[0;34m(\u001b[0m\u001b[0;34m)\u001b[0m\u001b[0;34m)\u001b[0m \u001b[0;34m)\u001b[0m\u001b[0;34m\u001b[0m\u001b[0m\n\u001b[0m",
      "\u001b[0;31mNameError\u001b[0m: name 'df_pssm_result' is not defined"
     ]
    }
   ],
   "source": [
    "print(\"Number of amino acid substitutions: \",len(df_pssm_result.index ))"
   ]
  },
  {
   "cell_type": "code",
   "execution_count": 17,
   "metadata": {},
   "outputs": [],
   "source": [
    "# write to muts.txt\n",
    "with open(\"muts.txt\", 'w') as f:\n",
    "    for i,j,k in zip(df_pssm_result.WT, df_pssm_result.Pos,df_pssm_result.AA):\n",
    "        f.write(i+str(j)+k+'\\n')"
   ]
  },
  {
   "cell_type": "code",
   "execution_count": 1,
   "metadata": {},
   "outputs": [
    {
     "name": "stdout",
     "output_type": "stream",
     "text": [
      "ascii_mtx_file            convert_pssm_to_csv.py    test.csv\r\n",
      "convert_pssm_to_csv.ipynb pssm.csv\r\n"
     ]
    }
   ],
   "source": [
    "!python /Users/pgreisen/pythonscripts/develop/convert_pssm_to_csv/convert_pssm_to_csv.py ascii_mtx_file"
   ]
  }
 ],
 "metadata": {
  "celltoolbar": "Tags",
  "kernelspec": {
   "display_name": "Python 3",
   "language": "python",
   "name": "python3"
  },
  "language_info": {
   "codemirror_mode": {
    "name": "ipython",
    "version": 3
   },
   "file_extension": ".py",
   "mimetype": "text/x-python",
   "name": "python",
   "nbconvert_exporter": "python",
   "pygments_lexer": "ipython3",
   "version": "3.6.8"
  },
  "toc": {
   "nav_menu": {},
   "number_sections": true,
   "sideBar": true,
   "skip_h1_title": false,
   "toc_cell": false,
   "toc_position": {},
   "toc_section_display": "block",
   "toc_window_display": false
  }
 },
 "nbformat": 4,
 "nbformat_minor": 2
}
