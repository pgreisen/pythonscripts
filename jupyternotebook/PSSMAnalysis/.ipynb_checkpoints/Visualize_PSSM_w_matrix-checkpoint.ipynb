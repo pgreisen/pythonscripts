{
 "cells": [
  {
   "cell_type": "code",
   "execution_count": 1,
   "metadata": {},
   "outputs": [
    {
     "name": "stderr",
     "output_type": "stream",
     "text": [
      "Bioconductor version 3.6 (BiocInstaller 1.28.0), ?biocLite for help\n",
      "A new version of Bioconductor is available after installing the most recent\n",
      "  version of R; see http://bioconductor.org/install\n",
      "BioC_mirror: https://bioconductor.org\n",
      "Using Bioconductor 3.6 (BiocInstaller 1.28.0), R 3.4.4 (2018-03-15).\n",
      "Installing package(s) ‘Logolas’\n",
      "Warning message in install.packages(pkgs = doing, lib = lib, ...):\n",
      "“installation of package ‘Logolas’ had non-zero exit status”installation path not writeable, unable to update packages: IRkernel, openssl,\n",
      "  pkgload, ps, rcmdcheck, Rcpp, remotes, rlang, sessioninfo, lattice, MASS,\n",
      "  Matrix, mgcv, survival\n",
      "Old packages: 'CVXR', 'devtools', 'ggplot2', 'IRdisplay', 'repr'\n"
     ]
    }
   ],
   "source": [
    "source(\"http://bioconductor.org/biocLite.R\")\n",
    "biocLite(\"Logolas\")"
   ]
  },
  {
   "cell_type": "code",
   "execution_count": 2,
   "metadata": {},
   "outputs": [],
   "source": [
    "library(Logolas)\n",
    "devtools::install_github(\"omarwagih/ggseqlogo\") "
   ]
  },
  {
   "cell_type": "code",
   "execution_count": 3,
   "metadata": {},
   "outputs": [],
   "source": [
    "library(ggseqlogo)"
   ]
  },
  {
   "cell_type": "code",
   "execution_count": 4,
   "metadata": {},
   "outputs": [
    {
     "data": {
      "text/html": [
       "<table>\n",
       "<thead><tr><th></th><th scope=col>1</th><th scope=col>2</th><th scope=col>3</th><th scope=col>4</th><th scope=col>5</th><th scope=col>6</th><th scope=col>7</th><th scope=col>8</th><th scope=col>9</th><th scope=col>10</th><th scope=col>⋯</th><th scope=col>470</th><th scope=col>471</th><th scope=col>472</th><th scope=col>473</th><th scope=col>474</th><th scope=col>475</th><th scope=col>476</th><th scope=col>477</th><th scope=col>478</th><th scope=col>479</th></tr></thead>\n",
       "<tbody>\n",
       "\t<tr><th scope=row>A</th><td>-2</td><td> 2</td><td>-1</td><td> 1</td><td>-1</td><td>-1</td><td> 0</td><td>-4</td><td>-2</td><td>-4</td><td>⋯ </td><td>-2</td><td>-3</td><td>-4</td><td>-3</td><td>-4</td><td>-5</td><td>-2</td><td>-4</td><td>-5</td><td>-4</td></tr>\n",
       "\t<tr><th scope=row>R</th><td>-3</td><td>-3</td><td>-3</td><td>-3</td><td>-3</td><td>-3</td><td> 1</td><td>-3</td><td>-1</td><td>-5</td><td>⋯ </td><td>-3</td><td>-4</td><td>-2</td><td>-1</td><td>-4</td><td>-5</td><td>-3</td><td>-3</td><td>-5</td><td>-5</td></tr>\n",
       "\t<tr><th scope=row>N</th><td>-4</td><td>-2</td><td>-2</td><td>-2</td><td>-4</td><td>-1</td><td>-2</td><td> 6</td><td>-3</td><td>-5</td><td>⋯ </td><td>-3</td><td>-5</td><td> 5</td><td> 0</td><td>-3</td><td>-6</td><td>-4</td><td>-4</td><td>-6</td><td>-6</td></tr>\n",
       "\t<tr><th scope=row>D</th><td>-4</td><td>-2</td><td>-4</td><td>-2</td><td>-5</td><td> 0</td><td> 3</td><td> 2</td><td>-2</td><td>-6</td><td>⋯ </td><td>-4</td><td>-6</td><td>-3</td><td> 4</td><td>-5</td><td>-6</td><td>-4</td><td>-1</td><td>-7</td><td>-7</td></tr>\n",
       "\t<tr><th scope=row>C</th><td>-2</td><td> 0</td><td> 0</td><td> 1</td><td>-3</td><td>-3</td><td>-4</td><td>-6</td><td>-5</td><td>-4</td><td>⋯ </td><td>-5</td><td>-4</td><td> 3</td><td>-5</td><td>-4</td><td>-5</td><td> 0</td><td>-7</td><td>-5</td><td>-4</td></tr>\n",
       "\t<tr><th scope=row>Q</th><td>-3</td><td>-2</td><td>-2</td><td>-1</td><td> 1</td><td>-2</td><td>-2</td><td>-2</td><td> 5</td><td>-4</td><td>⋯ </td><td>-1</td><td>-4</td><td>-1</td><td>-1</td><td>-4</td><td>-5</td><td>-2</td><td>-1</td><td>-4</td><td>-5</td></tr>\n",
       "\t<tr><th scope=row>E</th><td>-4</td><td>-1</td><td>-3</td><td>-2</td><td>-4</td><td> 2</td><td> 1</td><td> 4</td><td> 1</td><td>-5</td><td>⋯ </td><td>-2</td><td>-5</td><td> 0</td><td> 0</td><td>-1</td><td>-6</td><td>-2</td><td> 8</td><td>-6</td><td>-6</td></tr>\n",
       "\t<tr><th scope=row>G</th><td>-4</td><td> 0</td><td>-3</td><td> 0</td><td>-3</td><td>-2</td><td>-2</td><td>-4</td><td>-4</td><td>-6</td><td>⋯ </td><td>-3</td><td>-6</td><td>-4</td><td>-3</td><td>-5</td><td>-6</td><td>-5</td><td>-6</td><td>-7</td><td>-7</td></tr>\n",
       "\t<tr><th scope=row>H</th><td>-3</td><td>-3</td><td>-3</td><td>-2</td><td>-4</td><td>-3</td><td>-3</td><td>-2</td><td> 0</td><td>-5</td><td>⋯ </td><td>-4</td><td>-5</td><td> 7</td><td>-3</td><td>-5</td><td>-5</td><td>-4</td><td>-3</td><td>-5</td><td>-6</td></tr>\n",
       "\t<tr><th scope=row>I</th><td> 2</td><td>-3</td><td> 2</td><td>-3</td><td> 1</td><td>-3</td><td>-4</td><td>-1</td><td>-4</td><td> 4</td><td>⋯ </td><td>-3</td><td> 1</td><td>-5</td><td>-3</td><td>-1</td><td>-1</td><td> 1</td><td>-7</td><td>-2</td><td> 0</td></tr>\n",
       "\t<tr><th scope=row>L</th><td> 4</td><td>-1</td><td> 3</td><td>-4</td><td> 4</td><td>-1</td><td>-4</td><td>-5</td><td>-5</td><td> 3</td><td>⋯ </td><td>-2</td><td> 3</td><td>-5</td><td>-4</td><td> 6</td><td> 4</td><td> 4</td><td>-6</td><td> 0</td><td> 6</td></tr>\n",
       "\t<tr><th scope=row>K</th><td>-3</td><td>-2</td><td>-3</td><td>-1</td><td>-3</td><td>-2</td><td>-2</td><td>-2</td><td> 5</td><td>-5</td><td>⋯ </td><td>-3</td><td>-4</td><td>-1</td><td> 6</td><td>-3</td><td>-6</td><td>-3</td><td>-3</td><td>-5</td><td>-5</td></tr>\n",
       "\t<tr><th scope=row>M</th><td> 2</td><td>-2</td><td> 3</td><td>-3</td><td> 5</td><td>-2</td><td>-2</td><td>-5</td><td>-2</td><td> 5</td><td>⋯ </td><td>-1</td><td> 8</td><td>-4</td><td>-4</td><td> 0</td><td>-2</td><td> 0</td><td>-5</td><td>11</td><td> 0</td></tr>\n",
       "\t<tr><th scope=row>F</th><td> 2</td><td>-3</td><td>-1</td><td>-4</td><td> 0</td><td>-4</td><td>-5</td><td>-6</td><td>-5</td><td> 2</td><td>⋯ </td><td>-5</td><td> 1</td><td>-2</td><td>-5</td><td>-1</td><td> 7</td><td>-2</td><td>-7</td><td>-4</td><td>-2</td></tr>\n",
       "\t<tr><th scope=row>P</th><td>-4</td><td> 4</td><td> 0</td><td> 2</td><td>-4</td><td> 2</td><td> 5</td><td> 2</td><td> 0</td><td>-5</td><td>⋯ </td><td> 7</td><td>-3</td><td>-3</td><td>-3</td><td>-5</td><td>-6</td><td> 2</td><td>-5</td><td>-6</td><td>-6</td></tr>\n",
       "\t<tr><th scope=row>S</th><td>-3</td><td> 2</td><td> 1</td><td> 4</td><td>-1</td><td> 4</td><td> 0</td><td>-2</td><td>-2</td><td>-5</td><td>⋯ </td><td> 0</td><td>-4</td><td>-1</td><td>-2</td><td>-4</td><td>-5</td><td>-1</td><td>-3</td><td>-5</td><td>-5</td></tr>\n",
       "\t<tr><th scope=row>T</th><td>-2</td><td> 1</td><td>-1</td><td> 3</td><td>-3</td><td> 3</td><td>-1</td><td>-3</td><td> 1</td><td>-3</td><td>⋯ </td><td> 1</td><td>-3</td><td>-3</td><td>-2</td><td>-3</td><td>-4</td><td>-1</td><td>-4</td><td>-4</td><td>-4</td></tr>\n",
       "\t<tr><th scope=row>W</th><td>-2</td><td>-4</td><td>-3</td><td>-4</td><td>-3</td><td>-5</td><td>-5</td><td>-6</td><td>-5</td><td>-4</td><td>⋯ </td><td>-5</td><td>-4</td><td>-3</td><td>-5</td><td>-4</td><td>-3</td><td>-4</td><td>-6</td><td>-5</td><td>-5</td></tr>\n",
       "\t<tr><th scope=row>Y</th><td>-1</td><td>-3</td><td> 0</td><td>-2</td><td>-2</td><td>-4</td><td>-4</td><td>-5</td><td>-4</td><td>-3</td><td>⋯ </td><td>-2</td><td>-3</td><td> 5</td><td>-4</td><td>-3</td><td>-1</td><td>-3</td><td>-6</td><td>-5</td><td>-4</td></tr>\n",
       "\t<tr><th scope=row>V</th><td> 2</td><td>-1</td><td> 2</td><td>-2</td><td> 0</td><td>-2</td><td> 0</td><td>-5</td><td>-2</td><td> 3</td><td>⋯ </td><td>-2</td><td> 1</td><td>-5</td><td>-1</td><td>-2</td><td>-2</td><td> 2</td><td>-6</td><td>-3</td><td>-2</td></tr>\n",
       "</tbody>\n",
       "</table>\n"
      ],
      "text/latex": [
       "\\begin{tabular}{r|lllllllllllllllllllllllllllllllllllllllllllllllllllllllllllllllllllllllllllllllllllllllllllllllllllllllllllllllllllllllllllllllllllllllllllllllllllllllllllllllllllllllllllllllllllllllllllllllllllllllllllllllllllllllllllllllllllllllllllllllllllllllllllllllllllllllllllllllllllllllllllllllllllllllllllllllllllllllllllllllllllllllllllllllllllllllllllllllllllllllllllllllllllllllllllllllllllllllllllllllllllllllllllllllllllllllllllllllllllllllllllllllllllllllllllllllllllllllllllllll}\n",
       "  & 1 & 2 & 3 & 4 & 5 & 6 & 7 & 8 & 9 & 10 & ⋯ & 470 & 471 & 472 & 473 & 474 & 475 & 476 & 477 & 478 & 479\\\\\n",
       "\\hline\n",
       "\tA & -2 &  2 & -1 &  1 & -1 & -1 &  0 & -4 & -2 & -4 & ⋯  & -2 & -3 & -4 & -3 & -4 & -5 & -2 & -4 & -5 & -4\\\\\n",
       "\tR & -3 & -3 & -3 & -3 & -3 & -3 &  1 & -3 & -1 & -5 & ⋯  & -3 & -4 & -2 & -1 & -4 & -5 & -3 & -3 & -5 & -5\\\\\n",
       "\tN & -4 & -2 & -2 & -2 & -4 & -1 & -2 &  6 & -3 & -5 & ⋯  & -3 & -5 &  5 &  0 & -3 & -6 & -4 & -4 & -6 & -6\\\\\n",
       "\tD & -4 & -2 & -4 & -2 & -5 &  0 &  3 &  2 & -2 & -6 & ⋯  & -4 & -6 & -3 &  4 & -5 & -6 & -4 & -1 & -7 & -7\\\\\n",
       "\tC & -2 &  0 &  0 &  1 & -3 & -3 & -4 & -6 & -5 & -4 & ⋯  & -5 & -4 &  3 & -5 & -4 & -5 &  0 & -7 & -5 & -4\\\\\n",
       "\tQ & -3 & -2 & -2 & -1 &  1 & -2 & -2 & -2 &  5 & -4 & ⋯  & -1 & -4 & -1 & -1 & -4 & -5 & -2 & -1 & -4 & -5\\\\\n",
       "\tE & -4 & -1 & -3 & -2 & -4 &  2 &  1 &  4 &  1 & -5 & ⋯  & -2 & -5 &  0 &  0 & -1 & -6 & -2 &  8 & -6 & -6\\\\\n",
       "\tG & -4 &  0 & -3 &  0 & -3 & -2 & -2 & -4 & -4 & -6 & ⋯  & -3 & -6 & -4 & -3 & -5 & -6 & -5 & -6 & -7 & -7\\\\\n",
       "\tH & -3 & -3 & -3 & -2 & -4 & -3 & -3 & -2 &  0 & -5 & ⋯  & -4 & -5 &  7 & -3 & -5 & -5 & -4 & -3 & -5 & -6\\\\\n",
       "\tI &  2 & -3 &  2 & -3 &  1 & -3 & -4 & -1 & -4 &  4 & ⋯  & -3 &  1 & -5 & -3 & -1 & -1 &  1 & -7 & -2 &  0\\\\\n",
       "\tL &  4 & -1 &  3 & -4 &  4 & -1 & -4 & -5 & -5 &  3 & ⋯  & -2 &  3 & -5 & -4 &  6 &  4 &  4 & -6 &  0 &  6\\\\\n",
       "\tK & -3 & -2 & -3 & -1 & -3 & -2 & -2 & -2 &  5 & -5 & ⋯  & -3 & -4 & -1 &  6 & -3 & -6 & -3 & -3 & -5 & -5\\\\\n",
       "\tM &  2 & -2 &  3 & -3 &  5 & -2 & -2 & -5 & -2 &  5 & ⋯  & -1 &  8 & -4 & -4 &  0 & -2 &  0 & -5 & 11 &  0\\\\\n",
       "\tF &  2 & -3 & -1 & -4 &  0 & -4 & -5 & -6 & -5 &  2 & ⋯  & -5 &  1 & -2 & -5 & -1 &  7 & -2 & -7 & -4 & -2\\\\\n",
       "\tP & -4 &  4 &  0 &  2 & -4 &  2 &  5 &  2 &  0 & -5 & ⋯  &  7 & -3 & -3 & -3 & -5 & -6 &  2 & -5 & -6 & -6\\\\\n",
       "\tS & -3 &  2 &  1 &  4 & -1 &  4 &  0 & -2 & -2 & -5 & ⋯  &  0 & -4 & -1 & -2 & -4 & -5 & -1 & -3 & -5 & -5\\\\\n",
       "\tT & -2 &  1 & -1 &  3 & -3 &  3 & -1 & -3 &  1 & -3 & ⋯  &  1 & -3 & -3 & -2 & -3 & -4 & -1 & -4 & -4 & -4\\\\\n",
       "\tW & -2 & -4 & -3 & -4 & -3 & -5 & -5 & -6 & -5 & -4 & ⋯  & -5 & -4 & -3 & -5 & -4 & -3 & -4 & -6 & -5 & -5\\\\\n",
       "\tY & -1 & -3 &  0 & -2 & -2 & -4 & -4 & -5 & -4 & -3 & ⋯  & -2 & -3 &  5 & -4 & -3 & -1 & -3 & -6 & -5 & -4\\\\\n",
       "\tV &  2 & -1 &  2 & -2 &  0 & -2 &  0 & -5 & -2 &  3 & ⋯  & -2 &  1 & -5 & -1 & -2 & -2 &  2 & -6 & -3 & -2\\\\\n",
       "\\end{tabular}\n"
      ],
      "text/markdown": [
       "\n",
       "| <!--/--> | 1 | 2 | 3 | 4 | 5 | 6 | 7 | 8 | 9 | 10 | ⋯ | 470 | 471 | 472 | 473 | 474 | 475 | 476 | 477 | 478 | 479 | \n",
       "|---|---|---|---|---|---|---|---|---|---|---|---|---|---|---|---|---|---|---|---|\n",
       "| A | -2 |  2 | -1 |  1 | -1 | -1 |  0 | -4 | -2 | -4 | ⋯  | -2 | -3 | -4 | -3 | -4 | -5 | -2 | -4 | -5 | -4 | \n",
       "| R | -3 | -3 | -3 | -3 | -3 | -3 |  1 | -3 | -1 | -5 | ⋯  | -3 | -4 | -2 | -1 | -4 | -5 | -3 | -3 | -5 | -5 | \n",
       "| N | -4 | -2 | -2 | -2 | -4 | -1 | -2 |  6 | -3 | -5 | ⋯  | -3 | -5 |  5 |  0 | -3 | -6 | -4 | -4 | -6 | -6 | \n",
       "| D | -4 | -2 | -4 | -2 | -5 |  0 |  3 |  2 | -2 | -6 | ⋯  | -4 | -6 | -3 |  4 | -5 | -6 | -4 | -1 | -7 | -7 | \n",
       "| C | -2 |  0 |  0 |  1 | -3 | -3 | -4 | -6 | -5 | -4 | ⋯  | -5 | -4 |  3 | -5 | -4 | -5 |  0 | -7 | -5 | -4 | \n",
       "| Q | -3 | -2 | -2 | -1 |  1 | -2 | -2 | -2 |  5 | -4 | ⋯  | -1 | -4 | -1 | -1 | -4 | -5 | -2 | -1 | -4 | -5 | \n",
       "| E | -4 | -1 | -3 | -2 | -4 |  2 |  1 |  4 |  1 | -5 | ⋯  | -2 | -5 |  0 |  0 | -1 | -6 | -2 |  8 | -6 | -6 | \n",
       "| G | -4 |  0 | -3 |  0 | -3 | -2 | -2 | -4 | -4 | -6 | ⋯  | -3 | -6 | -4 | -3 | -5 | -6 | -5 | -6 | -7 | -7 | \n",
       "| H | -3 | -3 | -3 | -2 | -4 | -3 | -3 | -2 |  0 | -5 | ⋯  | -4 | -5 |  7 | -3 | -5 | -5 | -4 | -3 | -5 | -6 | \n",
       "| I |  2 | -3 |  2 | -3 |  1 | -3 | -4 | -1 | -4 |  4 | ⋯  | -3 |  1 | -5 | -3 | -1 | -1 |  1 | -7 | -2 |  0 | \n",
       "| L |  4 | -1 |  3 | -4 |  4 | -1 | -4 | -5 | -5 |  3 | ⋯  | -2 |  3 | -5 | -4 |  6 |  4 |  4 | -6 |  0 |  6 | \n",
       "| K | -3 | -2 | -3 | -1 | -3 | -2 | -2 | -2 |  5 | -5 | ⋯  | -3 | -4 | -1 |  6 | -3 | -6 | -3 | -3 | -5 | -5 | \n",
       "| M |  2 | -2 |  3 | -3 |  5 | -2 | -2 | -5 | -2 |  5 | ⋯  | -1 |  8 | -4 | -4 |  0 | -2 |  0 | -5 | 11 |  0 | \n",
       "| F |  2 | -3 | -1 | -4 |  0 | -4 | -5 | -6 | -5 |  2 | ⋯  | -5 |  1 | -2 | -5 | -1 |  7 | -2 | -7 | -4 | -2 | \n",
       "| P | -4 |  4 |  0 |  2 | -4 |  2 |  5 |  2 |  0 | -5 | ⋯  |  7 | -3 | -3 | -3 | -5 | -6 |  2 | -5 | -6 | -6 | \n",
       "| S | -3 |  2 |  1 |  4 | -1 |  4 |  0 | -2 | -2 | -5 | ⋯  |  0 | -4 | -1 | -2 | -4 | -5 | -1 | -3 | -5 | -5 | \n",
       "| T | -2 |  1 | -1 |  3 | -3 |  3 | -1 | -3 |  1 | -3 | ⋯  |  1 | -3 | -3 | -2 | -3 | -4 | -1 | -4 | -4 | -4 | \n",
       "| W | -2 | -4 | -3 | -4 | -3 | -5 | -5 | -6 | -5 | -4 | ⋯  | -5 | -4 | -3 | -5 | -4 | -3 | -4 | -6 | -5 | -5 | \n",
       "| Y | -1 | -3 |  0 | -2 | -2 | -4 | -4 | -5 | -4 | -3 | ⋯  | -2 | -3 |  5 | -4 | -3 | -1 | -3 | -6 | -5 | -4 | \n",
       "| V |  2 | -1 |  2 | -2 |  0 | -2 |  0 | -5 | -2 |  3 | ⋯  | -2 |  1 | -5 | -1 | -2 | -2 |  2 | -6 | -3 | -2 | \n",
       "\n",
       "\n"
      ],
      "text/plain": [
       "  1  2  3  4  5  6  7  8  9  10 ⋯ 470 471 472 473 474 475 476 477 478 479\n",
       "A -2  2 -1  1 -1 -1  0 -4 -2 -4 ⋯ -2  -3  -4  -3  -4  -5  -2  -4  -5  -4 \n",
       "R -3 -3 -3 -3 -3 -3  1 -3 -1 -5 ⋯ -3  -4  -2  -1  -4  -5  -3  -3  -5  -5 \n",
       "N -4 -2 -2 -2 -4 -1 -2  6 -3 -5 ⋯ -3  -5   5   0  -3  -6  -4  -4  -6  -6 \n",
       "D -4 -2 -4 -2 -5  0  3  2 -2 -6 ⋯ -4  -6  -3   4  -5  -6  -4  -1  -7  -7 \n",
       "C -2  0  0  1 -3 -3 -4 -6 -5 -4 ⋯ -5  -4   3  -5  -4  -5   0  -7  -5  -4 \n",
       "Q -3 -2 -2 -1  1 -2 -2 -2  5 -4 ⋯ -1  -4  -1  -1  -4  -5  -2  -1  -4  -5 \n",
       "E -4 -1 -3 -2 -4  2  1  4  1 -5 ⋯ -2  -5   0   0  -1  -6  -2   8  -6  -6 \n",
       "G -4  0 -3  0 -3 -2 -2 -4 -4 -6 ⋯ -3  -6  -4  -3  -5  -6  -5  -6  -7  -7 \n",
       "H -3 -3 -3 -2 -4 -3 -3 -2  0 -5 ⋯ -4  -5   7  -3  -5  -5  -4  -3  -5  -6 \n",
       "I  2 -3  2 -3  1 -3 -4 -1 -4  4 ⋯ -3   1  -5  -3  -1  -1   1  -7  -2   0 \n",
       "L  4 -1  3 -4  4 -1 -4 -5 -5  3 ⋯ -2   3  -5  -4   6   4   4  -6   0   6 \n",
       "K -3 -2 -3 -1 -3 -2 -2 -2  5 -5 ⋯ -3  -4  -1   6  -3  -6  -3  -3  -5  -5 \n",
       "M  2 -2  3 -3  5 -2 -2 -5 -2  5 ⋯ -1   8  -4  -4   0  -2   0  -5  11   0 \n",
       "F  2 -3 -1 -4  0 -4 -5 -6 -5  2 ⋯ -5   1  -2  -5  -1   7  -2  -7  -4  -2 \n",
       "P -4  4  0  2 -4  2  5  2  0 -5 ⋯  7  -3  -3  -3  -5  -6   2  -5  -6  -6 \n",
       "S -3  2  1  4 -1  4  0 -2 -2 -5 ⋯  0  -4  -1  -2  -4  -5  -1  -3  -5  -5 \n",
       "T -2  1 -1  3 -3  3 -1 -3  1 -3 ⋯  1  -3  -3  -2  -3  -4  -1  -4  -4  -4 \n",
       "W -2 -4 -3 -4 -3 -5 -5 -6 -5 -4 ⋯ -5  -4  -3  -5  -4  -3  -4  -6  -5  -5 \n",
       "Y -1 -3  0 -2 -2 -4 -4 -5 -4 -3 ⋯ -2  -3   5  -4  -3  -1  -3  -6  -5  -4 \n",
       "V  2 -1  2 -2  0 -2  0 -5 -2  3 ⋯ -2   1  -5  -1  -2  -2   2  -6  -3  -2 "
      ]
     },
     "metadata": {},
     "output_type": "display_data"
    }
   ],
   "source": [
    "char_data <- read.csv(\"pssm.csv\", stringsAsFactors = F,check.names=FALSE,row.names=1)\n",
    "char_data"
   ]
  },
  {
   "cell_type": "code",
   "execution_count": 5,
   "metadata": {},
   "outputs": [],
   "source": [
    "# R format for accesing data \n",
    "# char_data[,2:3]"
   ]
  },
  {
   "cell_type": "code",
   "execution_count": 6,
   "metadata": {},
   "outputs": [
    {
     "name": "stderr",
     "output_type": "stream",
     "text": [
      "color_type not provided, so switching to per_row option \n",
      "            for color_type\n",
      "frame width not provided, taken to be 1\n",
      "frame width not provided, taken to be 1\n",
      "color_type not provided, so switching to per_row option \n",
      "            for color_type\n",
      "frame width not provided, taken to be 1\n",
      "frame width not provided, taken to be 1\n",
      "color_type not provided, so switching to per_row option \n",
      "            for color_type\n",
      "frame width not provided, taken to be 1\n",
      "frame width not provided, taken to be 1\n",
      "color_type not provided, so switching to per_row option \n",
      "            for color_type\n",
      "frame width not provided, taken to be 1\n",
      "frame width not provided, taken to be 1\n",
      "color_type not provided, so switching to per_row option \n",
      "            for color_type\n",
      "frame width not provided, taken to be 1\n",
      "frame width not provided, taken to be 1\n",
      "color_type not provided, so switching to per_row option \n",
      "            for color_type\n",
      "frame width not provided, taken to be 1\n",
      "frame width not provided, taken to be 1\n",
      "color_type not provided, so switching to per_row option \n",
      "            for color_type\n",
      "frame width not provided, taken to be 1\n",
      "frame width not provided, taken to be 1\n",
      "color_type not provided, so switching to per_row option \n",
      "            for color_type\n",
      "frame width not provided, taken to be 1\n",
      "frame width not provided, taken to be 1\n",
      "color_type not provided, so switching to per_row option \n",
      "            for color_type\n",
      "frame width not provided, taken to be 1\n",
      "frame width not provided, taken to be 1\n",
      "color_type not provided, so switching to per_row option \n",
      "            for color_type\n",
      "frame width not provided, taken to be 1\n",
      "frame width not provided, taken to be 1\n",
      "color_type not provided, so switching to per_row option \n",
      "            for color_type\n",
      "frame width not provided, taken to be 1\n",
      "frame width not provided, taken to be 1\n",
      "color_type not provided, so switching to per_row option \n",
      "            for color_type\n",
      "frame width not provided, taken to be 1\n",
      "frame width not provided, taken to be 1\n",
      "color_type not provided, so switching to per_row option \n",
      "            for color_type\n",
      "frame width not provided, taken to be 1\n",
      "frame width not provided, taken to be 1\n",
      "color_type not provided, so switching to per_row option \n",
      "            for color_type\n",
      "frame width not provided, taken to be 1\n",
      "frame width not provided, taken to be 1\n",
      "color_type not provided, so switching to per_row option \n",
      "            for color_type\n",
      "frame width not provided, taken to be 1\n",
      "frame width not provided, taken to be 1\n",
      "color_type not provided, so switching to per_row option \n",
      "            for color_type\n",
      "frame width not provided, taken to be 1\n",
      "frame width not provided, taken to be 1\n",
      "color_type not provided, so switching to per_row option \n",
      "            for color_type\n",
      "frame width not provided, taken to be 1\n",
      "frame width not provided, taken to be 1\n",
      "color_type not provided, so switching to per_row option \n",
      "            for color_type\n",
      "frame width not provided, taken to be 1\n",
      "frame width not provided, taken to be 1\n",
      "color_type not provided, so switching to per_row option \n",
      "            for color_type\n",
      "frame width not provided, taken to be 1\n",
      "frame width not provided, taken to be 1\n",
      "color_type not provided, so switching to per_row option \n",
      "            for color_type\n",
      "frame width not provided, taken to be 1\n",
      "frame width not provided, taken to be 1\n",
      "color_type not provided, so switching to per_row option \n",
      "            for color_type\n",
      "frame width not provided, taken to be 1\n",
      "frame width not provided, taken to be 1\n",
      "color_type not provided, so switching to per_row option \n",
      "            for color_type\n",
      "frame width not provided, taken to be 1\n",
      "frame width not provided, taken to be 1\n",
      "color_type not provided, so switching to per_row option \n",
      "            for color_type\n",
      "frame width not provided, taken to be 1\n",
      "frame width not provided, taken to be 1\n",
      "color_type not provided, so switching to per_row option \n",
      "            for color_type\n",
      "frame width not provided, taken to be 1\n",
      "frame width not provided, taken to be 1\n",
      "color_type not provided, so switching to per_row option \n",
      "            for color_type\n",
      "frame width not provided, taken to be 1\n",
      "frame width not provided, taken to be 1\n",
      "color_type not provided, so switching to per_row option \n",
      "            for color_type\n",
      "frame width not provided, taken to be 1\n",
      "frame width not provided, taken to be 1\n",
      "color_type not provided, so switching to per_row option \n",
      "            for color_type\n",
      "frame width not provided, taken to be 1\n",
      "frame width not provided, taken to be 1\n",
      "color_type not provided, so switching to per_row option \n",
      "            for color_type\n",
      "frame width not provided, taken to be 1\n",
      "frame width not provided, taken to be 1\n",
      "color_type not provided, so switching to per_row option \n",
      "            for color_type\n",
      "frame width not provided, taken to be 1\n",
      "frame width not provided, taken to be 1\n",
      "color_type not provided, so switching to per_row option \n",
      "            for color_type\n",
      "frame width not provided, taken to be 1\n",
      "frame width not provided, taken to be 1\n",
      "color_type not provided, so switching to per_row option \n",
      "            for color_type\n",
      "frame width not provided, taken to be 1\n",
      "frame width not provided, taken to be 1\n"
     ]
    }
   ],
   "source": [
    "modulus=15\n",
    "for (i in 1:ncol(char_data)) {\n",
    "  if (i %% 15){\n",
    "    next\n",
    "  }\n",
    "    str=sprintf(\"residue_%d.png\",i)\n",
    "    png(filename=str)\n",
    "    end=i    \n",
    "    start=( i-15)\n",
    "    logo_pssm(char_data[,start:end], control = list(round_off = 0))\n",
    "    dev.off()\n",
    "}"
   ]
  },
  {
   "cell_type": "code",
   "execution_count": 7,
   "metadata": {},
   "outputs": [
    {
     "name": "stderr",
     "output_type": "stream",
     "text": [
      "color_type not provided, so switching to per_row option \n",
      "            for color_type\n",
      "frame width not provided, taken to be 1\n",
      "frame width not provided, taken to be 1\n"
     ]
    },
    {
     "data": {
      "text/html": [
       "<strong>png:</strong> 2"
      ],
      "text/latex": [
       "\\textbf{png:} 2"
      ],
      "text/markdown": [
       "**png:** 2"
      ],
      "text/plain": [
       "png \n",
       "  2 "
      ]
     },
     "metadata": {},
     "output_type": "display_data"
    }
   ],
   "source": [
    "png(filename=\"faithful.png\")\n",
    "logo_pssm(char_data[,0:15], control = list(round_off = 0))\n",
    "dev.off()"
   ]
  }
 ],
 "metadata": {
  "kernelspec": {
   "display_name": "R",
   "language": "R",
   "name": "ir"
  },
  "language_info": {
   "codemirror_mode": "r",
   "file_extension": ".r",
   "mimetype": "text/x-r-source",
   "name": "R",
   "pygments_lexer": "r",
   "version": "3.4.1"
  }
 },
 "nbformat": 4,
 "nbformat_minor": 2
}
