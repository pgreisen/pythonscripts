{
 "cells": [
  {
   "cell_type": "code",
   "execution_count": 1,
   "metadata": {},
   "outputs": [
    {
     "name": "stderr",
     "output_type": "stream",
     "text": [
      "Bioconductor version 3.7 (BiocInstaller 1.30.0), ?biocLite for help\n",
      "A newer version of Bioconductor is available for this version of R,\n",
      "  ?BiocUpgrade for help\n",
      "BioC_mirror: https://bioconductor.org\n",
      "Using Bioconductor 3.7 (BiocInstaller 1.30.0), R 3.5.1 (2018-07-02).\n",
      "Installing package(s) ‘Logolas’\n",
      "also installing the dependencies ‘S4Vectors’, ‘IRanges’, ‘XVector’, ‘Biostrings’\n",
      "\n",
      "Updating HTML index of packages in '.Library'\n",
      "Making 'packages.html' ... done\n",
      "Old packages: 'backports', 'callr', 'carData', 'class', 'codetools', 'fansi',\n",
      "  'htmlwidgets', 'ipred', 'later', 'lava', 'maptools', 'markdown', 'MASS',\n",
      "  'Matrix', 'mgcv', 'mime', 'ModelMetrics', 'nloptr', 'openssl', 'pillar',\n",
      "  'processx', 'ps', 'quantreg', 'R6', 'RcppEigen', 'repr', 'reprex',\n",
      "  'survival', 'xfun', 'xts'\n"
     ]
    }
   ],
   "source": [
    "source(\"http://bioconductor.org/biocLite.R\")\n",
    "biocLite(\"Logolas\")"
   ]
  },
  {
   "cell_type": "code",
   "execution_count": 2,
   "metadata": {},
   "outputs": [
    {
     "name": "stderr",
     "output_type": "stream",
     "text": [
      "also installing the dependencies ‘fs’, ‘git2r’, ‘pkgload’, ‘usethis’\n",
      "\n",
      "Updating HTML index of packages in '.Library'\n",
      "Making 'packages.html' ... done\n"
     ]
    }
   ],
   "source": [
    "install.packages(c('devtools','curl'))"
   ]
  },
  {
   "cell_type": "code",
   "execution_count": 3,
   "metadata": {},
   "outputs": [
    {
     "name": "stderr",
     "output_type": "stream",
     "text": [
      "Updating HTML index of packages in '.Library'\n",
      "Making 'packages.html' ... done\n"
     ]
    }
   ],
   "source": [
    "install.packages(\"ggseqlogo\")"
   ]
  },
  {
   "cell_type": "code",
   "execution_count": null,
   "metadata": {},
   "outputs": [],
   "source": [
    "install.packages(\"stringi\", dependencies=TRUE, INSTALL_opts = c('--no-lock'))\n",
    "install.packages(\"stringr\", dependencies=TRUE, INSTALL_opts = c('--no-lock'))"
   ]
  },
  {
   "cell_type": "code",
   "execution_count": 4,
   "metadata": {},
   "outputs": [
    {
     "name": "stderr",
     "output_type": "stream",
     "text": [
      "Downloading GitHub repo omarwagih/ggseqlogo@master\n"
     ]
    },
    {
     "name": "stdout",
     "output_type": "stream",
     "text": [
      "fansi  (0.3.0 -> 0.4.0) [CRAN]\n",
      "pillar (1.3.0 -> 1.3.1) [CRAN]\n",
      "R6     (2.2.2 -> 2.3.0) [CRAN]\n"
     ]
    },
    {
     "name": "stderr",
     "output_type": "stream",
     "text": [
      "Installing 3 packages: fansi, pillar, R6\n",
      "Updating HTML index of packages in '.Library'\n",
      "Making 'packages.html' ... done\n"
     ]
    },
    {
     "name": "stdout",
     "output_type": "stream",
     "text": [
      "✔  checking for file ‘/private/var/folders/8m/wdk1hb2n2bndcxkby1ws1yt80000gn/T/RtmpzAwL4v/remotes3e121acea680/omarwagih-ggseqlogo-4adc8f2/DESCRIPTION’ ...\n",
      "─  preparing ‘ggseqlogo’:\n",
      "✔  checking DESCRIPTION meta-information\n",
      "─  checking for LF line-endings in source and make files and shell scripts\n",
      "─  checking for empty or unneeded directories\n",
      "   Removed empty directory ‘ggseqlogo/dist’\n",
      "   Removed empty directory ‘ggseqlogo/docs’\n",
      "   Removed empty directory ‘ggseqlogo/inst/fonts’\n",
      "   Removed empty directory ‘ggseqlogo/inst/images’\n",
      "   Removed empty directory ‘ggseqlogo/shiny’\n",
      "─  looking to see if a ‘data/datalist’ file should be added\n",
      "─  building ‘ggseqlogo_0.1.tar.gz’\n",
      "   \n",
      "\r"
     ]
    }
   ],
   "source": [
    "library(Logolas)\n",
    "#devtools::install_github(\"omarwagih/ggseqlogo\") "
   ]
  },
  {
   "cell_type": "code",
   "execution_count": 5,
   "metadata": {},
   "outputs": [],
   "source": [
    "library(Logolas)"
   ]
  },
  {
   "cell_type": "code",
   "execution_count": 6,
   "metadata": {},
   "outputs": [
    {
     "name": "stderr",
     "output_type": "stream",
     "text": [
      "Loading required package: ggplot2\n",
      "Loading required package: ggseqlogo\n"
     ]
    }
   ],
   "source": [
    "# Load the required packages\n",
    "require(ggplot2)\n",
    "require(ggseqlogo)"
   ]
  },
  {
   "cell_type": "code",
   "execution_count": null,
   "metadata": {},
   "outputs": [],
   "source": [
    "char_data <- read.csv(\"pssm.csv\", stringsAsFactors = F,check.names=FALSE,row.names=1)\n",
    "char_data"
   ]
  },
  {
   "cell_type": "code",
   "execution_count": null,
   "metadata": {},
   "outputs": [],
   "source": [
    "# R format for accesing data \n",
    "# char_data[,2:3]"
   ]
  },
  {
   "cell_type": "code",
   "execution_count": null,
   "metadata": {},
   "outputs": [],
   "source": [
    "modulus=15\n",
    "for (i in 1:ncol(char_data)) {\n",
    "  if (i %% 15){\n",
    "    next\n",
    "  }\n",
    "    str=sprintf(\"residue_%d.png\",i)\n",
    "    png(filename=str)\n",
    "    end=i    \n",
    "    start=( i-15)\n",
    "    logo_pssm(char_data[,start:end], control = list(round_off = 0))\n",
    "    dev.off()\n",
    "}"
   ]
  },
  {
   "cell_type": "markdown",
   "metadata": {},
   "source": [
    "png(filename=\"faithful.png\")\n",
    "logo_pssm(char_data[,0:15], control = list(round_off = 0))\n",
    "dev.off()"
   ]
  }
 ],
 "metadata": {
  "kernelspec": {
   "display_name": "R",
   "language": "R",
   "name": "ir"
  },
  "language_info": {
   "codemirror_mode": "r",
   "file_extension": ".r",
   "mimetype": "text/x-r-source",
   "name": "R",
   "pygments_lexer": "r",
   "version": "3.5.1"
  }
 },
 "nbformat": 4,
 "nbformat_minor": 2
}
