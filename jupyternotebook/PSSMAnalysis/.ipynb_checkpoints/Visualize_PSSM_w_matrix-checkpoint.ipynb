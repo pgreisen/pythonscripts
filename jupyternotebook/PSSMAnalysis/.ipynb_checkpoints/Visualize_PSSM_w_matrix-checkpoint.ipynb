{
 "cells": [
  {
   "cell_type": "code",
   "execution_count": 1,
   "metadata": {},
   "outputs": [
    {
     "name": "stderr",
     "output_type": "stream",
     "text": [
      "Bioconductor version 3.7 (BiocInstaller 1.30.0), ?biocLite for help\n",
      "A newer version of Bioconductor is available for this version of R,\n",
      "  ?BiocUpgrade for help\n",
      "BioC_mirror: https://bioconductor.org\n",
      "Using Bioconductor 3.7 (BiocInstaller 1.30.0), R 3.5.1 (2018-07-02).\n",
      "Installing package(s) ‘Logolas’\n",
      "Updating HTML index of packages in '.Library'\n",
      "Making 'packages.html' ... done\n",
      "Old packages: 'backports', 'BH', 'BiocManager', 'boot', 'broom', 'callr',\n",
      "  'car', 'carData', 'caret', 'caTools', 'chron', 'class', 'clipr', 'cluster',\n",
      "  'codetools', 'colorspace', 'covr', 'data.table', 'dbplyr', 'digest', 'dplyr',\n",
      "  'DT', 'evaluate', 'forcats', 'foreach', 'foreign', 'formatR', 'ggplot2',\n",
      "  'git2r', 'gower', 'gtable', 'haven', 'hexbin', 'highr', 'hms', 'htmltools',\n",
      "  'htmlwidgets', 'httpuv', 'httr', 'igraph', 'ipred', 'IRkernel', 'iterators',\n",
      "  'KernSmooth', 'knitr', 'later', 'lava', 'lazyeval', 'lme4', 'maptools',\n",
      "  'markdown', 'MASS', 'Matrix', 'mgcv', 'mime', 'ModelMetrics', 'modelr',\n",
      "  'nlme', 'nloptr', 'numDeriv', 'openssl', 'openxlsx', 'pillar', 'pkgbuild',\n",
      "  'pkgconfig', 'prodlim', 'progress', 'promises', 'purrr', 'quadprog',\n",
      "  'quantmod', 'quantreg', 'R6', 'Rcpp', 'RcppEigen', 'RCurl', 'readxl',\n",
      "  'recipes', 'repr', 'reprex', 'rlang', 'rmarkdown', 'roxygen2', 'rpart',\n",
      "  'RSQLite', 'rstudioapi', 'rversions', 'rvest', 'scales', 'selectr', 'shiny',\n",
      "  'sp', 'survival', 'testthat', 'tibble', 'tidyr', 'tidyverse', 'tinytex',\n",
      "  'TTR', 'whisker', 'xfun', 'xml2', 'xtable', 'xts', 'zip', 'zoo'\n"
     ]
    }
   ],
   "source": [
    "source(\"http://bioconductor.org/biocLite.R\")\n",
    "biocLite(\"Logolas\")"
   ]
  },
  {
   "cell_type": "code",
   "execution_count": 2,
   "metadata": {},
   "outputs": [
    {
     "name": "stderr",
     "output_type": "stream",
     "text": [
      "Updating HTML index of packages in '.Library'\n",
      "Making 'packages.html' ... done\n"
     ]
    }
   ],
   "source": [
    "install.packages(c('devtools','curl'))"
   ]
  },
  {
   "cell_type": "code",
   "execution_count": 3,
   "metadata": {},
   "outputs": [
    {
     "name": "stderr",
     "output_type": "stream",
     "text": [
      "Updating HTML index of packages in '.Library'\n",
      "Making 'packages.html' ... done\n"
     ]
    }
   ],
   "source": [
    "install.packages(\"ggseqlogo\")"
   ]
  },
  {
   "cell_type": "code",
   "execution_count": 4,
   "metadata": {},
   "outputs": [],
   "source": [
    "#install.packages(\"stringi\", dependencies=TRUE, INSTALL_opts = c('--no-lock'))\n",
    "#install.packages(\"stringr\", dependencies=TRUE, INSTALL_opts = c('--no-lock'))"
   ]
  },
  {
   "cell_type": "code",
   "execution_count": 5,
   "metadata": {},
   "outputs": [],
   "source": [
    "library(Logolas)\n",
    "#devtools::install_github(\"omarwagih/ggseqlogo\") "
   ]
  },
  {
   "cell_type": "code",
   "execution_count": 6,
   "metadata": {},
   "outputs": [],
   "source": [
    "library(Logolas)"
   ]
  },
  {
   "cell_type": "code",
   "execution_count": 7,
   "metadata": {},
   "outputs": [
    {
     "name": "stderr",
     "output_type": "stream",
     "text": [
      "Loading required package: ggplot2\n",
      "Loading required package: ggseqlogo\n"
     ]
    }
   ],
   "source": [
    "# Load the required packages\n",
    "require(ggplot2)\n",
    "require(ggseqlogo)"
   ]
  },
  {
   "cell_type": "code",
   "execution_count": null,
   "metadata": {},
   "outputs": [],
   "source": [
    "char_data <- read.csv(\"pssm.csv\", stringsAsFactors = F,check.names=FALSE,row.names=1)\n",
    "char_data"
   ]
  },
  {
   "cell_type": "code",
   "execution_count": null,
   "metadata": {},
   "outputs": [],
   "source": [
    "# R format for accesing data \n",
    "# char_data[,2:3]"
   ]
  },
  {
   "cell_type": "code",
   "execution_count": 1,
   "metadata": {},
   "outputs": [
    {
     "ename": "ERROR",
     "evalue": "Error in ncol(char_data): object 'char_data' not found\n",
     "output_type": "error",
     "traceback": [
      "Error in ncol(char_data): object 'char_data' not found\nTraceback:\n",
      "1. ncol(char_data)"
     ]
    }
   ],
   "source": [
    "modulus=15\n",
    "for (i in 1:ncol(char_data)) {\n",
    "  if ( (i %% modulus) & (i != ncol(char_data)) ){\n",
    "    next\n",
    "  }\n",
    "    str=sprintf(\"residue_%d.png\",i)\n",
    "    png(filename=str)\n",
    "    end=i    \n",
    "    start=( i-modulus)\n",
    "    logo_pssm(char_data[,start:end], control = list(round_off = 0))\n",
    "    dev.off()\n",
    "}"
   ]
  },
  {
   "cell_type": "markdown",
   "metadata": {},
   "source": [
    "png(filename=\"faithful.png\")\n",
    "logo_pssm(char_data[,0:15], control = list(round_off = 0))\n",
    "dev.off()"
   ]
  }
 ],
 "metadata": {
  "kernelspec": {
   "display_name": "R",
   "language": "R",
   "name": "ir"
  },
  "language_info": {
   "codemirror_mode": "r",
   "file_extension": ".r",
   "mimetype": "text/x-r-source",
   "name": "R",
   "pygments_lexer": "r",
   "version": "3.5.1"
  }
 },
 "nbformat": 4,
 "nbformat_minor": 2
}
