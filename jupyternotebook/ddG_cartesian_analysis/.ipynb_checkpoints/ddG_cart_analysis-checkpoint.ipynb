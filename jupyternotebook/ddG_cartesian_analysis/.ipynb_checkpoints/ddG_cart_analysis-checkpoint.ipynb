{
 "cells": [
  {
   "cell_type": "code",
   "execution_count": 1,
   "metadata": {},
   "outputs": [],
   "source": [
    "# Analysis of ddG computation from Rosetta"
   ]
  },
  {
   "cell_type": "code",
   "execution_count": 2,
   "metadata": {},
   "outputs": [],
   "source": [
    "import os\n",
    "import pandas as pd\n",
    "import glob\n",
    "import matplotlib.pyplot as plt\n",
    "from scipy import stats as scistats\n",
    "import numpy as np"
   ]
  },
  {
   "cell_type": "code",
   "execution_count": 3,
   "metadata": {},
   "outputs": [],
   "source": [
    "%matplotlib inline"
   ]
  },
  {
   "cell_type": "code",
   "execution_count": 4,
   "metadata": {},
   "outputs": [],
   "source": [
    "def get_single_letter_AA(residue):\n",
    "    aa = {\n",
    "        \"ALA\" : \"A\",\n",
    "        \"ILE\" : \"I\",\n",
    "        \"LEU\" : \"L\",\n",
    "        \"VAL\" : \"V\",\n",
    "        \"MET\" : \"M\",\n",
    "        \"PHE\" : \"F\",\n",
    "        \"TYR\" : \"Y\",\n",
    "        \"ARG\" : \"R\",\n",
    "        \"LYS\" : \"K\",\n",
    "        \"TRP\" : \"W\",\n",
    "        \"ASN\" : \"N\",\n",
    "        \"GLN\" : \"Q\",\n",
    "        \"ASP\" : \"D\",\n",
    "        \"GLU\" : \"E\",\n",
    "        \"SER\" : \"S\",\n",
    "        \"THR\" : \"T\",\n",
    "        \"GLY\" : \"G\",\n",
    "        \"PRO\" : \"P\",\n",
    "        \"CYS\" : \"C\",\n",
    "        \"HIS\" : \"H\"\n",
    "        }\n",
    "    if(isinstance(residue,str)):\n",
    "        return aa[residue]\n",
    "    return \"NaN\""
   ]
  },
  {
   "cell_type": "code",
   "execution_count": 5,
   "metadata": {},
   "outputs": [],
   "source": [
    "def get_stats(group):\n",
    "    return {'std': np.std(group),'mean': group.mean()}"
   ]
  },
  {
   "cell_type": "code",
   "execution_count": 8,
   "metadata": {},
   "outputs": [],
   "source": [
    "def get_ddG_monomer_results(path_and_file_name):\n",
    "    header_text=[\n",
    "    'COMPLEX:', 'Round', 'Baseline', 'Total Energy', 'fa_atr_label:', 'fa_atr:',\n",
    "       'fa_rep_label:', 'fa_rep:', 'fa_sol_label:', 'fa_sol:', 'fa_intra_rep_label:', 'fa_intra_rep:',\n",
    "       'fa_intra_sol_xover4_label:', 'fa_intra_sol_xover4', 'lk_ball_wtd_label:', 'lk_ball_wtd:', 'fa_elec_label:',\n",
    "       'fa_elec:', 'hbond_sr_bb_label:', 'hbond_sr_bb:', 'hbond_lr_bb_label:', 'hbond_lr_bb:',\n",
    "       'hbond_bb_sc_label:', 'hbond_bb_sc:', 'hbond_sc_label:', 'hbond_sc:', 'dslf_fa13_label:',\n",
    "       'dslf_fa13:', 'omega_label:', 'omega:', 'fa_dun_label:', 'fa_dun:', 'p_aa_pp_label:', 'p_aa_pp:',\n",
    "       'yhh_planarity_label:', 'yhh_planarity:', 'ref_label:', 'ref:', 'rama_prepro_label:', 'rama_prepro:',\n",
    "       'cart_bonded_label:', 'cart_bonded:'] \n",
    "    df = pd.read_csv(path_and_file_name,skiprows=0,delim_whitespace=True,names=header_text)\n",
    "    return df"
   ]
  },
  {
   "cell_type": "code",
   "execution_count": 9,
   "metadata": {},
   "outputs": [
    {
     "name": "stdout",
     "output_type": "stream",
     "text": [
      "No ddg file present in directory: ./20181027_aTF_EST_ddg_cart/min_cart\n"
     ]
    }
   ],
   "source": [
    "# gather data from computation ordinary ddG computation\n",
    "dfs = []\n",
    "directory_w_subdirs = './'\n",
    "filename=\"mutfile.ddg\"\n",
    "for dr in glob.glob(directory_w_subdirs+\"*\"):\n",
    "    if(os.path.isdir(dr) and dr != 'min_cart'):\n",
    "        try:\n",
    "            dfs.append(get_ddG_monomer_results(dr+\"/\"+filename))\n",
    "        except:\n",
    "            print(\"No ddg file present in directory: \"+dr)\n",
    "df_tot = pd.concat(dfs,sort=False)"
   ]
  },
  {
   "cell_type": "code",
   "execution_count": 10,
   "metadata": {},
   "outputs": [],
   "source": [
    "df_tot = df_tot.groupby([\"Baseline\"])[\"Total Energy\"].apply(get_stats).unstack().reset_index()"
   ]
  },
  {
   "cell_type": "code",
   "execution_count": 11,
   "metadata": {},
   "outputs": [],
   "source": [
    "df_tot.rename(columns={\"mean\" : \"total (mean n=10)\", \n",
    "                       \"std\" : \"std( total )\"},inplace=True)"
   ]
  },
  {
   "cell_type": "code",
   "execution_count": 12,
   "metadata": {},
   "outputs": [],
   "source": [
    "df_tot[\"ddG\"] = df_tot[\"total (mean n=10)\"] - df_tot[\"total (mean n=10)\"].loc[(df_tot[\"Baseline\"] == \"WT:\") ].values[0]"
   ]
  },
  {
   "cell_type": "code",
   "execution_count": 13,
   "metadata": {},
   "outputs": [
    {
     "data": {
      "text/html": [
       "<div>\n",
       "<style scoped>\n",
       "    .dataframe tbody tr th:only-of-type {\n",
       "        vertical-align: middle;\n",
       "    }\n",
       "\n",
       "    .dataframe tbody tr th {\n",
       "        vertical-align: top;\n",
       "    }\n",
       "\n",
       "    .dataframe thead th {\n",
       "        text-align: right;\n",
       "    }\n",
       "</style>\n",
       "<table border=\"1\" class=\"dataframe\">\n",
       "  <thead>\n",
       "    <tr style=\"text-align: right;\">\n",
       "      <th></th>\n",
       "      <th>Baseline</th>\n",
       "      <th>total (mean n=10)</th>\n",
       "      <th>std( total )</th>\n",
       "      <th>ddG</th>\n",
       "    </tr>\n",
       "  </thead>\n",
       "  <tbody>\n",
       "    <tr>\n",
       "      <th>0</th>\n",
       "      <td>MUT_102ASP:</td>\n",
       "      <td>-2379.2995</td>\n",
       "      <td>0.216194</td>\n",
       "      <td>1.780226</td>\n",
       "    </tr>\n",
       "    <tr>\n",
       "      <th>1</th>\n",
       "      <td>MUT_104CYS:</td>\n",
       "      <td>-2377.1906</td>\n",
       "      <td>0.003747</td>\n",
       "      <td>3.889126</td>\n",
       "    </tr>\n",
       "    <tr>\n",
       "      <th>2</th>\n",
       "      <td>MUT_104ILE:</td>\n",
       "      <td>-2379.8122</td>\n",
       "      <td>0.004792</td>\n",
       "      <td>1.267526</td>\n",
       "    </tr>\n",
       "    <tr>\n",
       "      <th>3</th>\n",
       "      <td>MUT_104TRP:</td>\n",
       "      <td>-2372.6331</td>\n",
       "      <td>0.008018</td>\n",
       "      <td>8.446626</td>\n",
       "    </tr>\n",
       "    <tr>\n",
       "      <th>4</th>\n",
       "      <td>MUT_104VAL:</td>\n",
       "      <td>-2378.2577</td>\n",
       "      <td>0.005367</td>\n",
       "      <td>2.822026</td>\n",
       "    </tr>\n",
       "  </tbody>\n",
       "</table>\n",
       "</div>"
      ],
      "text/plain": [
       "      Baseline  total (mean n=10)  std( total )       ddG\n",
       "0  MUT_102ASP:         -2379.2995      0.216194  1.780226\n",
       "1  MUT_104CYS:         -2377.1906      0.003747  3.889126\n",
       "2  MUT_104ILE:         -2379.8122      0.004792  1.267526\n",
       "3  MUT_104TRP:         -2372.6331      0.008018  8.446626\n",
       "4  MUT_104VAL:         -2378.2577      0.005367  2.822026"
      ]
     },
     "execution_count": 13,
     "metadata": {},
     "output_type": "execute_result"
    }
   ],
   "source": [
    "df_tot.head()"
   ]
  },
  {
   "cell_type": "code",
   "execution_count": 14,
   "metadata": {},
   "outputs": [],
   "source": [
    "# position and AA\n",
    "df_tot[\"Pos\"] = df_tot[\"Baseline\"].str.split(\"_\").str[1].str[0:-4]\n",
    "df_tot[\"AA\"] = df_tot[\"Baseline\"].str.split(\"_\").str[1].str[-4:-1].apply(get_single_letter_AA)"
   ]
  },
  {
   "cell_type": "code",
   "execution_count": 15,
   "metadata": {},
   "outputs": [
    {
     "data": {
      "text/html": [
       "<div>\n",
       "<style scoped>\n",
       "    .dataframe tbody tr th:only-of-type {\n",
       "        vertical-align: middle;\n",
       "    }\n",
       "\n",
       "    .dataframe tbody tr th {\n",
       "        vertical-align: top;\n",
       "    }\n",
       "\n",
       "    .dataframe thead th {\n",
       "        text-align: right;\n",
       "    }\n",
       "</style>\n",
       "<table border=\"1\" class=\"dataframe\">\n",
       "  <thead>\n",
       "    <tr style=\"text-align: right;\">\n",
       "      <th></th>\n",
       "      <th>Baseline</th>\n",
       "      <th>total (mean n=10)</th>\n",
       "      <th>std( total )</th>\n",
       "      <th>ddG</th>\n",
       "      <th>Pos</th>\n",
       "      <th>AA</th>\n",
       "    </tr>\n",
       "  </thead>\n",
       "  <tbody>\n",
       "    <tr>\n",
       "      <th>210</th>\n",
       "      <td>MUT_98CYS:</td>\n",
       "      <td>-2373.129000</td>\n",
       "      <td>4.547474e-13</td>\n",
       "      <td>7.950726</td>\n",
       "      <td>98</td>\n",
       "      <td>C</td>\n",
       "    </tr>\n",
       "    <tr>\n",
       "      <th>211</th>\n",
       "      <td>MUT_98ILE:</td>\n",
       "      <td>-2370.074400</td>\n",
       "      <td>7.288786e-02</td>\n",
       "      <td>11.005326</td>\n",
       "      <td>98</td>\n",
       "      <td>I</td>\n",
       "    </tr>\n",
       "    <tr>\n",
       "      <th>212</th>\n",
       "      <td>MUT_98TYR:</td>\n",
       "      <td>-2377.558000</td>\n",
       "      <td>4.547474e-13</td>\n",
       "      <td>3.521726</td>\n",
       "      <td>98</td>\n",
       "      <td>Y</td>\n",
       "    </tr>\n",
       "    <tr>\n",
       "      <th>213</th>\n",
       "      <td>MUT_98VAL:</td>\n",
       "      <td>-2374.512000</td>\n",
       "      <td>4.547474e-13</td>\n",
       "      <td>6.567726</td>\n",
       "      <td>98</td>\n",
       "      <td>V</td>\n",
       "    </tr>\n",
       "    <tr>\n",
       "      <th>214</th>\n",
       "      <td>WT:</td>\n",
       "      <td>-2381.079726</td>\n",
       "      <td>1.940412e+00</td>\n",
       "      <td>0.000000</td>\n",
       "      <td>NaN</td>\n",
       "      <td>NaN</td>\n",
       "    </tr>\n",
       "  </tbody>\n",
       "</table>\n",
       "</div>"
      ],
      "text/plain": [
       "       Baseline  total (mean n=10)  std( total )        ddG  Pos   AA\n",
       "210  MUT_98CYS:       -2373.129000  4.547474e-13   7.950726   98    C\n",
       "211  MUT_98ILE:       -2370.074400  7.288786e-02  11.005326   98    I\n",
       "212  MUT_98TYR:       -2377.558000  4.547474e-13   3.521726   98    Y\n",
       "213  MUT_98VAL:       -2374.512000  4.547474e-13   6.567726   98    V\n",
       "214         WT:       -2381.079726  1.940412e+00   0.000000  NaN  NaN"
      ]
     },
     "execution_count": 15,
     "metadata": {},
     "output_type": "execute_result"
    }
   ],
   "source": [
    "df_tot.tail()"
   ]
  },
  {
   "cell_type": "code",
   "execution_count": 16,
   "metadata": {},
   "outputs": [
    {
     "data": {
      "text/plain": [
       "Text(0.5,0,'ddG (kcal/mol)')"
      ]
     },
     "execution_count": 16,
     "metadata": {},
     "output_type": "execute_result"
    },
    {
     "data": {
      "image/png": "[encoded data removed]",
      "text/plain": [
       "<Figure size 432x288 with 1 Axes>"
      ]
     },
     "metadata": {},
     "output_type": "display_data"
    }
   ],
   "source": [
    "plt.figure();\n",
    "df_tot[\"ddG\"].plot.hist(bins=20)\n",
    "plt.title(\"ddG\")\n",
    "plt.xlabel(\"ddG (kcal/mol)\")"
   ]
  },
  {
   "cell_type": "code",
   "execution_count": 17,
   "metadata": {},
   "outputs": [
    {
     "data": {
      "text/plain": [
       "Text(0.5,1,'Distributions of substitutions < 0 kcal/mol')"
      ]
     },
     "execution_count": 17,
     "metadata": {},
     "output_type": "execute_result"
    },
    {
     "data": {
      "image/png": "[encoded data removed]",
      "text/plain": [
       "<Figure size 432x288 with 1 Axes>"
      ]
     },
     "metadata": {},
     "output_type": "display_data"
    }
   ],
   "source": [
    "plt.figure()\n",
    "pd.value_counts(df_tot[df_tot[\"ddG\"] < 0][\"AA\"]).plot.bar()\n",
    "plt.title(\"Distributions of substitutions < 0 kcal/mol\")"
   ]
  },
  {
   "cell_type": "code",
   "execution_count": 18,
   "metadata": {},
   "outputs": [],
   "source": [
    "df_tot.rename(columns={\"ddG\" : \"ddG_cart\"},inplace=True)"
   ]
  },
  {
   "cell_type": "code",
   "execution_count": 20,
   "metadata": {},
   "outputs": [
    {
     "name": "stdout",
     "output_type": "stream",
     "text": [
      "40\n"
     ]
    }
   ],
   "source": [
    "print(len(df_tot[df_tot[\"ddG_cart\"] < 0][\"Pos\"].unique()))"
   ]
  },
  {
   "cell_type": "code",
   "execution_count": null,
   "metadata": {},
   "outputs": [],
   "source": [
    "df_tot[\"AAPos\"] = df_tot[\"Pos\"]+df_tot[\"AA\"]\n",
    "columns_to_file = [\"AAPos\",\"Pos\",\"AA\",\"ddG_cart\"]\n",
    "df_tot[columns_to_file].to_csv(\"20181028_ddG_cart_rosetta_analysis.csv\")"
   ]
  },
  {
   "cell_type": "code",
   "execution_count": null,
   "metadata": {},
   "outputs": [],
   "source": []
  }
 ],
 "metadata": {
  "kernelspec": {
   "display_name": "Python 3",
   "language": "python",
   "name": "python3"
  },
  "language_info": {
   "codemirror_mode": {
    "name": "ipython",
    "version": 3
   },
   "file_extension": ".py",
   "mimetype": "text/x-python",
   "name": "python",
   "nbconvert_exporter": "python",
   "pygments_lexer": "ipython3",
   "version": "3.6.5"
  }
 },
 "nbformat": 4,
 "nbformat_minor": 2
}
