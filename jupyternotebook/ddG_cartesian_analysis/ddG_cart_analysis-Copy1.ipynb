{
 "cells": [
  {
   "cell_type": "markdown",
   "metadata": {},
   "source": [
    "# Analysis of ddG computation from Rosetta"
   ]
  },
  {
   "cell_type": "code",
   "execution_count": 29,
   "metadata": {},
   "outputs": [],
   "source": [
    "# His7 is the first residue in the structure\n",
    "xtal_off = 6"
   ]
  },
  {
   "cell_type": "code",
   "execution_count": 2,
   "metadata": {},
   "outputs": [],
   "source": [
    "import os\n",
    "import pandas as pd\n",
    "import glob\n",
    "import matplotlib.pyplot as plt\n",
    "from scipy import stats as scistats\n",
    "import numpy as np"
   ]
  },
  {
   "cell_type": "code",
   "execution_count": 3,
   "metadata": {},
   "outputs": [],
   "source": [
    "# get fasta file from input pdb-structure used for ddG calculations to ensure \n",
    "# this will make assert on the merge with PSSM and ddG more secure\n",
    "!~/bin/pdb_fasta.pl b13Gcat.pdb > b13Gcat.fasta "
   ]
  },
  {
   "cell_type": "code",
   "execution_count": 4,
   "metadata": {},
   "outputs": [
    {
     "name": "stdout",
     "output_type": "stream",
     "text": [
      "276\n",
      "<class 'pandas.core.frame.DataFrame'>\n",
      "RangeIndex: 276 entries, 0 to 275\n",
      "Data columns (total 2 columns):\n",
      "Pos      276 non-null object\n",
      "WT_AA    276 non-null object\n",
      "dtypes: object(2)\n",
      "memory usage: 4.4+ KB\n"
     ]
    }
   ],
   "source": [
    "# read fasta file\n",
    "fasta_seq = \"\"\n",
    "with open('b13Gcat.fasta','r') as f:\n",
    "    for line in f:\n",
    "        if(line[0] == '>'):\n",
    "            continue\n",
    "        else:\n",
    "            fasta_seq += line.strip()\n",
    "wt_seq = {}\n",
    "print(len(fasta_seq))\n",
    "for i in range(len(fasta_seq)):\n",
    "    wt_seq[str(i+1)] = fasta_seq[i]\n",
    "    \n",
    "df_tmp = pd.DataFrame.from_dict(list(wt_seq.items()))\n",
    "df_wt_seq = df_tmp.rename(columns={0 : 'Pos',1 : 'WT_AA'})\n",
    "df_wt_seq.info()"
   ]
  },
  {
   "cell_type": "code",
   "execution_count": 5,
   "metadata": {},
   "outputs": [],
   "source": [
    "%matplotlib inline"
   ]
  },
  {
   "cell_type": "code",
   "execution_count": 6,
   "metadata": {},
   "outputs": [],
   "source": [
    "def get_single_letter_AA(residue):\n",
    "    aa = {\n",
    "        \"ALA\" : \"A\",\n",
    "        \"ILE\" : \"I\",\n",
    "        \"LEU\" : \"L\",\n",
    "        \"VAL\" : \"V\",\n",
    "        \"MET\" : \"M\",\n",
    "        \"PHE\" : \"F\",\n",
    "        \"TYR\" : \"Y\",\n",
    "        \"ARG\" : \"R\",\n",
    "        \"LYS\" : \"K\",\n",
    "        \"TRP\" : \"W\",\n",
    "        \"ASN\" : \"N\",\n",
    "        \"GLN\" : \"Q\",\n",
    "        \"ASP\" : \"D\",\n",
    "        \"GLU\" : \"E\",\n",
    "        \"SER\" : \"S\",\n",
    "        \"THR\" : \"T\",\n",
    "        \"GLY\" : \"G\",\n",
    "        \"PRO\" : \"P\",\n",
    "        \"CYS\" : \"C\",\n",
    "        \"HIS\" : \"H\"\n",
    "        }\n",
    "    if(isinstance(residue,str)):\n",
    "        return aa[residue]\n",
    "    return \"NaN\""
   ]
  },
  {
   "cell_type": "code",
   "execution_count": 7,
   "metadata": {},
   "outputs": [],
   "source": [
    "def get_stats(group):\n",
    "    return {'std': np.std(group),'mean': group.mean()}"
   ]
  },
  {
   "cell_type": "code",
   "execution_count": 8,
   "metadata": {},
   "outputs": [],
   "source": [
    "def get_ddG_monomer_results(path_and_file_name):\n",
    "    header_text=[\n",
    "    'COMPLEX:', 'Round', 'Baseline', 'Total Energy', 'fa_atr_label:', 'fa_atr:',\n",
    "       'fa_rep_label:', 'fa_rep:', 'fa_sol_label:', 'fa_sol:', 'fa_intra_rep_label:', 'fa_intra_rep:',\n",
    "       'fa_intra_sol_xover4_label:', 'fa_intra_sol_xover4', 'lk_ball_wtd_label:', 'lk_ball_wtd:', 'fa_elec_label:',\n",
    "       'fa_elec:', 'hbond_sr_bb_label:', 'hbond_sr_bb:', 'hbond_lr_bb_label:', 'hbond_lr_bb:',\n",
    "       'hbond_bb_sc_label:', 'hbond_bb_sc:', 'hbond_sc_label:', 'hbond_sc:', 'dslf_fa13_label:',\n",
    "       'dslf_fa13:', 'omega_label:', 'omega:', 'fa_dun_label:', 'fa_dun:', 'p_aa_pp_label:', 'p_aa_pp:',\n",
    "       'yhh_planarity_label:', 'yhh_planarity:', 'ref_label:', 'ref:', 'rama_prepro_label:', 'rama_prepro:',\n",
    "       'cart_bonded_label:', 'cart_bonded:'] \n",
    "    df = pd.read_csv(path_and_file_name,skiprows=0,delim_whitespace=True,names=header_text)\n",
    "    return df"
   ]
  },
  {
   "cell_type": "code",
   "execution_count": 9,
   "metadata": {},
   "outputs": [
    {
     "name": "stdout",
     "output_type": "stream",
     "text": [
      "No ddg file present in directory: ./init\n",
      "No ddg file present in directory: ./min_cart\n"
     ]
    }
   ],
   "source": [
    "# gather data from computation ordinary ddG computation\n",
    "dfs = []\n",
    "directory_w_subdirs = './'\n",
    "filename=\"mutfile.ddg\"\n",
    "for dr in glob.glob(directory_w_subdirs+\"*\"):\n",
    "    if(os.path.isdir(dr) and dr != 'min_cart'):\n",
    "        try:\n",
    "            dfs.append(get_ddG_monomer_results(dr+\"/\"+filename))\n",
    "        except:\n",
    "            print(\"No ddg file present in directory: \"+dr)\n",
    "df_tot = pd.concat(dfs,sort=False)"
   ]
  },
  {
   "cell_type": "code",
   "execution_count": 10,
   "metadata": {},
   "outputs": [],
   "source": [
    "df_tot = df_tot.groupby([\"Baseline\"])[\"Total Energy\"].apply(get_stats).unstack().reset_index()"
   ]
  },
  {
   "cell_type": "code",
   "execution_count": 11,
   "metadata": {},
   "outputs": [],
   "source": [
    "df_tot.rename(columns={\"mean\" : \"total (mean n=10)\", \n",
    "                       \"std\" : \"std( total )\"},inplace=True)"
   ]
  },
  {
   "cell_type": "code",
   "execution_count": 12,
   "metadata": {},
   "outputs": [],
   "source": [
    "df_tot[\"ddG\"] = df_tot[\"total (mean n=10)\"] - df_tot[\"total (mean n=10)\"].loc[(df_tot[\"Baseline\"] == \"WT:\") ].values[0]"
   ]
  },
  {
   "cell_type": "code",
   "execution_count": 13,
   "metadata": {},
   "outputs": [
    {
     "data": {
      "text/plain": [
       "Index(['Baseline', 'total (mean n=10)', 'std( total )', 'ddG'], dtype='object')"
      ]
     },
     "execution_count": 13,
     "metadata": {},
     "output_type": "execute_result"
    }
   ],
   "source": [
    "df_tot.columns"
   ]
  },
  {
   "cell_type": "code",
   "execution_count": 14,
   "metadata": {},
   "outputs": [
    {
     "name": "stdout",
     "output_type": "stream",
     "text": [
      "2.773505135840176\n"
     ]
    }
   ],
   "source": [
    "#df_tot[\"Baseline\"].unique()\n",
    "cutoff = df_tot[df_tot[\"Baseline\"] == \"WT:\"]['ddG'].values[0]+2*df_tot[df_tot[\"Baseline\"] == \"WT:\"]['std( total )'].values[0]\n",
    "print(cutoff)"
   ]
  },
  {
   "cell_type": "code",
   "execution_count": 15,
   "metadata": {},
   "outputs": [],
   "source": [
    "# position and AA\n",
    "df_tot[\"Pos\"] = df_tot[\"Baseline\"].str.split(\"_\").str[1].str[0:-4]\n",
    "df_tot[\"AA\"] = df_tot[\"Baseline\"].str.split(\"_\").str[1].str[-4:-1].apply(get_single_letter_AA)"
   ]
  },
  {
   "cell_type": "code",
   "execution_count": 16,
   "metadata": {},
   "outputs": [
    {
     "name": "stdout",
     "output_type": "stream",
     "text": [
      "<class 'pandas.core.frame.DataFrame'>\n",
      "RangeIndex: 5245 entries, 0 to 5244\n",
      "Data columns (total 6 columns):\n",
      "Baseline             5245 non-null object\n",
      "total (mean n=10)    5245 non-null float64\n",
      "std( total )         5245 non-null float64\n",
      "ddG                  5245 non-null float64\n",
      "Pos                  5244 non-null object\n",
      "AA                   5245 non-null object\n",
      "dtypes: float64(3), object(3)\n",
      "memory usage: 245.9+ KB\n"
     ]
    }
   ],
   "source": [
    "df_tot.info()\n"
   ]
  },
  {
   "cell_type": "code",
   "execution_count": 17,
   "metadata": {},
   "outputs": [
    {
     "data": {
      "text/plain": [
       "Text(0.5,0,'ddG (kcal/mol)')"
      ]
     },
     "execution_count": 17,
     "metadata": {},
     "output_type": "execute_result"
    },
    {
     "data": {
      "image/png": "[encoded data removed]",
      "text/plain": [
       "<Figure size 432x288 with 1 Axes>"
      ]
     },
     "metadata": {},
     "output_type": "display_data"
    }
   ],
   "source": [
    "plt.figure();\n",
    "df_tot[\"ddG\"].plot.hist(bins=20)\n",
    "plt.title(\"ddG\")\n",
    "plt.xlabel(\"ddG (kcal/mol)\")"
   ]
  },
  {
   "cell_type": "code",
   "execution_count": 18,
   "metadata": {},
   "outputs": [
    {
     "data": {
      "text/plain": [
       "Text(0.5,1,'Distributions of substitutions < 2.77 kcal/mol')"
      ]
     },
     "execution_count": 18,
     "metadata": {},
     "output_type": "execute_result"
    },
    {
     "data": {
      "image/png": "[encoded data removed]",
      "text/plain": [
       "<Figure size 432x288 with 1 Axes>"
      ]
     },
     "metadata": {},
     "output_type": "display_data"
    }
   ],
   "source": [
    "plt.figure()\n",
    "pd.value_counts(df_tot[df_tot[\"ddG\"] < cutoff][\"AA\"]).plot.bar()\n",
    "plt.title(\"Distributions of substitutions < \"+str(round(cutoff,2))+\" kcal/mol\")"
   ]
  },
  {
   "cell_type": "code",
   "execution_count": 19,
   "metadata": {},
   "outputs": [],
   "source": [
    "df_tot.rename(columns={\"ddG\" : \"ddG_cart\"},inplace=True)"
   ]
  },
  {
   "cell_type": "code",
   "execution_count": 20,
   "metadata": {},
   "outputs": [
    {
     "data": {
      "text/html": [
       "<div>\n",
       "<style scoped>\n",
       "    .dataframe tbody tr th:only-of-type {\n",
       "        vertical-align: middle;\n",
       "    }\n",
       "\n",
       "    .dataframe tbody tr th {\n",
       "        vertical-align: top;\n",
       "    }\n",
       "\n",
       "    .dataframe thead th {\n",
       "        text-align: right;\n",
       "    }\n",
       "</style>\n",
       "<table border=\"1\" class=\"dataframe\">\n",
       "  <thead>\n",
       "    <tr style=\"text-align: right;\">\n",
       "      <th></th>\n",
       "      <th>Baseline</th>\n",
       "      <th>total (mean n=10)</th>\n",
       "      <th>std( total )</th>\n",
       "      <th>ddG_cart</th>\n",
       "      <th>Pos</th>\n",
       "      <th>AA</th>\n",
       "    </tr>\n",
       "  </thead>\n",
       "  <tbody>\n",
       "    <tr>\n",
       "      <th>0</th>\n",
       "      <td>MUT_100ALA:</td>\n",
       "      <td>-1389.6690</td>\n",
       "      <td>0.000000e+00</td>\n",
       "      <td>9.589402</td>\n",
       "      <td>100</td>\n",
       "      <td>A</td>\n",
       "    </tr>\n",
       "    <tr>\n",
       "      <th>1</th>\n",
       "      <td>MUT_100ARG:</td>\n",
       "      <td>-1371.4913</td>\n",
       "      <td>1.218212e+00</td>\n",
       "      <td>27.767102</td>\n",
       "      <td>100</td>\n",
       "      <td>R</td>\n",
       "    </tr>\n",
       "    <tr>\n",
       "      <th>2</th>\n",
       "      <td>MUT_100ASN:</td>\n",
       "      <td>-1387.4002</td>\n",
       "      <td>8.623224e-03</td>\n",
       "      <td>11.858202</td>\n",
       "      <td>100</td>\n",
       "      <td>N</td>\n",
       "    </tr>\n",
       "    <tr>\n",
       "      <th>3</th>\n",
       "      <td>MUT_100ASP:</td>\n",
       "      <td>-1384.1690</td>\n",
       "      <td>3.070837e-01</td>\n",
       "      <td>15.089402</td>\n",
       "      <td>100</td>\n",
       "      <td>D</td>\n",
       "    </tr>\n",
       "    <tr>\n",
       "      <th>4</th>\n",
       "      <td>MUT_100CYS:</td>\n",
       "      <td>-1391.4750</td>\n",
       "      <td>2.273737e-13</td>\n",
       "      <td>7.783402</td>\n",
       "      <td>100</td>\n",
       "      <td>C</td>\n",
       "    </tr>\n",
       "  </tbody>\n",
       "</table>\n",
       "</div>"
      ],
      "text/plain": [
       "      Baseline  total (mean n=10)  std( total )   ddG_cart  Pos AA\n",
       "0  MUT_100ALA:         -1389.6690  0.000000e+00   9.589402  100  A\n",
       "1  MUT_100ARG:         -1371.4913  1.218212e+00  27.767102  100  R\n",
       "2  MUT_100ASN:         -1387.4002  8.623224e-03  11.858202  100  N\n",
       "3  MUT_100ASP:         -1384.1690  3.070837e-01  15.089402  100  D\n",
       "4  MUT_100CYS:         -1391.4750  2.273737e-13   7.783402  100  C"
      ]
     },
     "execution_count": 20,
     "metadata": {},
     "output_type": "execute_result"
    }
   ],
   "source": [
    "df_tot.head()"
   ]
  },
  {
   "cell_type": "code",
   "execution_count": 21,
   "metadata": {},
   "outputs": [
    {
     "data": {
      "text/html": [
       "<div>\n",
       "<style scoped>\n",
       "    .dataframe tbody tr th:only-of-type {\n",
       "        vertical-align: middle;\n",
       "    }\n",
       "\n",
       "    .dataframe tbody tr th {\n",
       "        vertical-align: top;\n",
       "    }\n",
       "\n",
       "    .dataframe thead th {\n",
       "        text-align: right;\n",
       "    }\n",
       "</style>\n",
       "<table border=\"1\" class=\"dataframe\">\n",
       "  <thead>\n",
       "    <tr style=\"text-align: right;\">\n",
       "      <th></th>\n",
       "      <th>Baseline</th>\n",
       "      <th>total (mean n=10)</th>\n",
       "      <th>std( total )</th>\n",
       "      <th>ddG_cart</th>\n",
       "      <th>Pos</th>\n",
       "      <th>AA</th>\n",
       "      <th>WT_AA</th>\n",
       "    </tr>\n",
       "  </thead>\n",
       "  <tbody>\n",
       "    <tr>\n",
       "      <th>0</th>\n",
       "      <td>MUT_100ALA:</td>\n",
       "      <td>-1389.6690</td>\n",
       "      <td>0.000000e+00</td>\n",
       "      <td>9.589402</td>\n",
       "      <td>100</td>\n",
       "      <td>A</td>\n",
       "      <td>V</td>\n",
       "    </tr>\n",
       "    <tr>\n",
       "      <th>1</th>\n",
       "      <td>MUT_100ARG:</td>\n",
       "      <td>-1371.4913</td>\n",
       "      <td>1.218212e+00</td>\n",
       "      <td>27.767102</td>\n",
       "      <td>100</td>\n",
       "      <td>R</td>\n",
       "      <td>V</td>\n",
       "    </tr>\n",
       "    <tr>\n",
       "      <th>2</th>\n",
       "      <td>MUT_100ASN:</td>\n",
       "      <td>-1387.4002</td>\n",
       "      <td>8.623224e-03</td>\n",
       "      <td>11.858202</td>\n",
       "      <td>100</td>\n",
       "      <td>N</td>\n",
       "      <td>V</td>\n",
       "    </tr>\n",
       "    <tr>\n",
       "      <th>3</th>\n",
       "      <td>MUT_100ASP:</td>\n",
       "      <td>-1384.1690</td>\n",
       "      <td>3.070837e-01</td>\n",
       "      <td>15.089402</td>\n",
       "      <td>100</td>\n",
       "      <td>D</td>\n",
       "      <td>V</td>\n",
       "    </tr>\n",
       "    <tr>\n",
       "      <th>4</th>\n",
       "      <td>MUT_100CYS:</td>\n",
       "      <td>-1391.4750</td>\n",
       "      <td>2.273737e-13</td>\n",
       "      <td>7.783402</td>\n",
       "      <td>100</td>\n",
       "      <td>C</td>\n",
       "      <td>V</td>\n",
       "    </tr>\n",
       "  </tbody>\n",
       "</table>\n",
       "</div>"
      ],
      "text/plain": [
       "      Baseline  total (mean n=10)  std( total )   ddG_cart  Pos AA WT_AA\n",
       "0  MUT_100ALA:         -1389.6690  0.000000e+00   9.589402  100  A     V\n",
       "1  MUT_100ARG:         -1371.4913  1.218212e+00  27.767102  100  R     V\n",
       "2  MUT_100ASN:         -1387.4002  8.623224e-03  11.858202  100  N     V\n",
       "3  MUT_100ASP:         -1384.1690  3.070837e-01  15.089402  100  D     V\n",
       "4  MUT_100CYS:         -1391.4750  2.273737e-13   7.783402  100  C     V"
      ]
     },
     "execution_count": 21,
     "metadata": {},
     "output_type": "execute_result"
    }
   ],
   "source": [
    "df_tot = pd.merge(right=df_wt_seq,right_on=\"Pos\",left=df_tot,left_on=\"Pos\")\n",
    "df_tot.head()"
   ]
  },
  {
   "cell_type": "code",
   "execution_count": 22,
   "metadata": {},
   "outputs": [
    {
     "name": "stdout",
     "output_type": "stream",
     "text": [
      "<class 'pandas.core.frame.DataFrame'>\n",
      "Int64Index: 5244 entries, 0 to 5243\n",
      "Data columns (total 7 columns):\n",
      "Baseline             5244 non-null object\n",
      "total (mean n=10)    5244 non-null float64\n",
      "std( total )         5244 non-null float64\n",
      "ddG_cart             5244 non-null float64\n",
      "Pos                  5244 non-null object\n",
      "AA                   5244 non-null object\n",
      "WT_AA                5244 non-null object\n",
      "dtypes: float64(3), object(4)\n",
      "memory usage: 327.8+ KB\n"
     ]
    }
   ],
   "source": [
    "df_tot.info()"
   ]
  },
  {
   "cell_type": "code",
   "execution_count": 23,
   "metadata": {},
   "outputs": [
    {
     "name": "stdout",
     "output_type": "stream",
     "text": [
      "239\n"
     ]
    }
   ],
   "source": [
    "print(len(df_tot[df_tot[\"ddG_cart\"] < cutoff][\"Pos\"].unique()))"
   ]
  },
  {
   "cell_type": "code",
   "execution_count": 24,
   "metadata": {},
   "outputs": [],
   "source": [
    "df_tot[\"AAPos\"] = df_tot[\"Pos\"]+df_tot[\"AA\"]\n",
    "columns_to_file = [\"WT_AA\",\"AAPos\",\"Pos\",\"AA\",\"ddG_cart\"]\n",
    "df_tot[columns_to_file].to_csv(\"20181211_ddG_cart_rosetta_analysis.csv\")"
   ]
  },
  {
   "cell_type": "code",
   "execution_count": 32,
   "metadata": {},
   "outputs": [],
   "source": [
    "# df_tot.sort_values(by=\"ddG_cart\",ascending=True)"
   ]
  },
  {
   "cell_type": "raw",
   "metadata": {},
   "source": [
    "# what is this?\n",
    "ddg_calc_to_mut = {}\n",
    "for files in glob.glob(\"*\"):\n",
    "    for j in df_tot[\"AAPos\"]:\n",
    "        try:\n",
    "            if(str(files).endswith(j)):\n",
    "                ddg_calc_to_mut[j] = files\n",
    "        except:\n",
    "            continue"
   ]
  },
  {
   "cell_type": "code",
   "execution_count": 35,
   "metadata": {},
   "outputs": [
    {
     "data": {
      "text/html": [
       "<div>\n",
       "<style scoped>\n",
       "    .dataframe tbody tr th:only-of-type {\n",
       "        vertical-align: middle;\n",
       "    }\n",
       "\n",
       "    .dataframe tbody tr th {\n",
       "        vertical-align: top;\n",
       "    }\n",
       "\n",
       "    .dataframe thead th {\n",
       "        text-align: right;\n",
       "    }\n",
       "</style>\n",
       "<table border=\"1\" class=\"dataframe\">\n",
       "  <thead>\n",
       "    <tr style=\"text-align: right;\">\n",
       "      <th></th>\n",
       "      <th>Baseline</th>\n",
       "      <th>total (mean n=10)</th>\n",
       "      <th>std( total )</th>\n",
       "      <th>ddG_cart</th>\n",
       "      <th>Pos</th>\n",
       "      <th>AA</th>\n",
       "      <th>WT_AA</th>\n",
       "      <th>AAPos</th>\n",
       "    </tr>\n",
       "  </thead>\n",
       "  <tbody>\n",
       "    <tr>\n",
       "      <th>0</th>\n",
       "      <td>MUT_100ALA:</td>\n",
       "      <td>-1389.669</td>\n",
       "      <td>0.0</td>\n",
       "      <td>9.589402</td>\n",
       "      <td>100</td>\n",
       "      <td>A</td>\n",
       "      <td>V</td>\n",
       "      <td>100A</td>\n",
       "    </tr>\n",
       "  </tbody>\n",
       "</table>\n",
       "</div>"
      ],
      "text/plain": [
       "      Baseline  total (mean n=10)  std( total )  ddG_cart  Pos AA WT_AA AAPos\n",
       "0  MUT_100ALA:          -1389.669           0.0  9.589402  100  A     V  100A"
      ]
     },
     "execution_count": 35,
     "metadata": {},
     "output_type": "execute_result"
    }
   ],
   "source": [
    "df_tot.head(1)"
   ]
  },
  {
   "cell_type": "code",
   "execution_count": 47,
   "metadata": {},
   "outputs": [],
   "source": [
    "# write to pymol pml-file\n",
    "with open(\"ddG_positions.pml\",'w') as f:\n",
    "    f.write(\"show cartoon\\n\")\n",
    "    f.write(\"hide lines\\n\")\n",
    "    dftmp = df_tot[df_tot[\"ddG_cart\"] < cutoff]\n",
    "    for i,j,k in zip(dftmp[\"WT_AA\"],dftmp[\"Pos\"],dftmp[\"AA\"]):\n",
    "        #try:\n",
    "        tmppair = i+str(j)+k\n",
    "        pair=\"create \"+tmppair\n",
    "        f.write(pair+\",resi \"+str(int(j)+xtal_off)+\"\\n\" )\n",
    "        f.write(\"show sticks, \"+str( tmppair )+\"\\n\")\n",
    "        f.write(\"color cyan, \"+str( tmppair )+\" and name C*\\n\")\n",
    "        #except:\n",
    "        #    print(\"NaN for wt\")\n",
    "    f.write(\"show lines\\nhide everything, elem h\")"
   ]
  },
  {
   "cell_type": "code",
   "execution_count": null,
   "metadata": {},
   "outputs": [],
   "source": []
  }
 ],
 "metadata": {
  "kernelspec": {
   "display_name": "Python 3",
   "language": "python",
   "name": "python3"
  },
  "language_info": {
   "codemirror_mode": {
    "name": "ipython",
    "version": 3
   },
   "file_extension": ".py",
   "mimetype": "text/x-python",
   "name": "python",
   "nbconvert_exporter": "python",
   "pygments_lexer": "ipython3",
   "version": "3.6.8"
  }
 },
 "nbformat": 4,
 "nbformat_minor": 2
}
