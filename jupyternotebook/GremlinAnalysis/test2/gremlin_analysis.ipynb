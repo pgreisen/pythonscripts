{
 "cells": [
  {
   "cell_type": "markdown",
   "metadata": {
    "papermill": {
     "duration": 0.014839,
     "end_time": "2019-01-02T21:11:45.025986",
     "exception": false,
     "start_time": "2019-01-02T21:11:45.011147",
     "status": "completed"
    },
    "tags": []
   },
   "source": [
    "# Analysis of output from Gremlin"
   ]
  },
  {
   "cell_type": "markdown",
   "metadata": {
    "papermill": {
     "duration": 0.008349,
     "end_time": "2019-01-02T21:11:45.043571",
     "exception": false,
     "start_time": "2019-01-02T21:11:45.035222",
     "status": "completed"
    },
    "tags": []
   },
   "source": [
    "All scores above 0 are taken compared with the WT pairs. All G,P,C -> X mutations are removed from the analysis to limit the number of mutations in the final combination.\n",
    "The cutoff is computed as mean + 2*std "
   ]
  },
  {
   "cell_type": "code",
   "execution_count": 1,
   "metadata": {
    "papermill": {
     "duration": 1.018242,
     "end_time": "2019-01-02T21:11:46.070589",
     "exception": false,
     "start_time": "2019-01-02T21:11:45.052347",
     "status": "completed"
    },
    "tags": []
   },
   "outputs": [],
   "source": [
    "import datetime\n",
    "import numpy as np\n",
    "import seaborn as sns\n",
    "import pandas as pd\n",
    "import plotly.graph_objs as go\n",
    "import plotly.plotly as py\n",
    "from ipywidgets import widgets\n",
    "from IPython.display import display, clear_output, Image"
   ]
  },
  {
   "cell_type": "code",
   "execution_count": 2,
   "metadata": {
    "papermill": {
     "duration": 0.013762,
     "end_time": "2019-01-02T21:11:46.093165",
     "exception": false,
     "start_time": "2019-01-02T21:11:46.079403",
     "status": "completed"
    },
    "tags": [
     "parameters"
    ]
   },
   "outputs": [],
   "source": [
    "inputfile = \"1542451026.re1.txt\""
   ]
  },
  {
   "cell_type": "code",
   "execution_count": 3,
   "metadata": {
    "papermill": {
     "duration": 0.013405,
     "end_time": "2019-01-02T21:11:46.115487",
     "exception": false,
     "start_time": "2019-01-02T21:11:46.102082",
     "status": "completed"
    },
    "tags": [
     "injected-parameters"
    ]
   },
   "outputs": [],
   "source": [
    "# Parameters\n",
    "inputfile = \"1545972452.re1.txt\"\n"
   ]
  },
  {
   "cell_type": "code",
   "execution_count": 4,
   "metadata": {
    "papermill": {
     "duration": 0.026865,
     "end_time": "2019-01-02T21:11:46.150972",
     "exception": false,
     "start_time": "2019-01-02T21:11:46.124107",
     "status": "completed"
    },
    "tags": []
   },
   "outputs": [],
   "source": [
    "# Getting the input amino acid sequence\n",
    "aa_seq = \"\"\n",
    "with open(inputfile,'r') as f:\n",
    "    for line in f:\n",
    "        if(len(line) > 1 and line[0:2] == \"#S\"):\n",
    "           aa_seq = line.split()[1]"
   ]
  },
  {
   "cell_type": "code",
   "execution_count": 5,
   "metadata": {
    "papermill": {
     "duration": 0.121996,
     "end_time": "2019-01-02T21:11:46.281640",
     "exception": false,
     "start_time": "2019-01-02T21:11:46.159644",
     "status": "completed"
    },
    "tags": []
   },
   "outputs": [],
   "source": [
    "df = pd.read_csv(inputfile,skiprows=1,delim_whitespace=True)"
   ]
  },
  {
   "cell_type": "code",
   "execution_count": 6,
   "metadata": {
    "papermill": {
     "duration": 5.848458,
     "end_time": "2019-01-02T21:11:52.138922",
     "exception": false,
     "start_time": "2019-01-02T21:11:46.290464",
     "status": "completed"
    },
    "tags": []
   },
   "outputs": [],
   "source": [
    "covariance = {}\n",
    "cutoff = 1\n",
    "true_ = 0\n",
    "for i,j in zip(df.index, df['##']):\n",
    "    if( ( len(j.split(\"_\")) ==  3)  & (j.split(\"_\")[-1] == 'X') ):\n",
    "        name = j+\"_\"+str(df.iloc[i,3])\n",
    "        covariance[name] = {}\n",
    "        true_ = 1\n",
    "    elif(true_ == 1):\n",
    "        tmpid = df.iloc[i,0]\n",
    "        covariance[name][tmpid] = []\n",
    "        covariance[name][tmpid] = list(df.iloc[i,1:])\n",
    "        #covariance[name].append(tmpdict)\n",
    "    else:\n",
    "        continue"
   ]
  },
  {
   "cell_type": "code",
   "execution_count": 7,
   "metadata": {
    "papermill": {
     "duration": 0.018044,
     "end_time": "2019-01-02T21:11:52.165844",
     "exception": false,
     "start_time": "2019-01-02T21:11:52.147800",
     "status": "completed"
    },
    "tags": []
   },
   "outputs": [],
   "source": [
    "def get_lowest_scores(dataframe,key_w_aa):\n",
    "    # position, WT, AA, score\n",
    "    columns = [\"WT\",\"WT_Pos\",\"AA_WT\",\"AA_Pos\",\"AA\",\"GremlinScore\",\"WTscore\"]\n",
    "    aa1,aa2,chain,score = key_w_aa.split(\"_\")\n",
    "    aa1 = int(aa1.lstrip(\"0\"))\n",
    "    aa2 = int(aa2.lstrip(\"0\"))\n",
    "    cutoff = dataframe.loc[aa_seq[aa1-1],aa_seq[aa2-1]]\n",
    "    a = dataframe.loc[aa_seq[aa1-1], dataframe.loc[aa_seq[aa1-1],:] > cutoff]\n",
    "    b = dataframe.loc[dataframe.loc[:,aa_seq[aa2-1]] > cutoff, aa_seq[aa2-1]]\n",
    "    df = pd.DataFrame(index=range(0,len(a.index)+len(b.index)), columns=columns)\n",
    "    dummy = 0\n",
    "    for i in a.index:\n",
    "        df.iloc[dummy,df.columns.get_loc(\"WT\")] = aa_seq[aa1-1]\n",
    "        df.iloc[dummy,df.columns.get_loc(\"WT_Pos\")] = aa1\n",
    "        df.iloc[dummy,df.columns.get_loc(\"AA_WT\")] = aa_seq[aa2-1]\n",
    "        df.iloc[dummy,df.columns.get_loc(\"AA\")] = i\n",
    "        df.iloc[dummy,df.columns.get_loc(\"AA_Pos\")] = aa2\n",
    "        df.iloc[dummy,df.columns.get_loc(\"GremlinScore\")] = a[i]\n",
    "        df.iloc[dummy,df.columns.get_loc(\"WTscore\")] = cutoff\n",
    "        dummy += 1\n",
    "        \n",
    "    for i in b.index:\n",
    "        df.iloc[dummy,df.columns.get_loc(\"WT\")] = aa_seq[aa2-1]\n",
    "        df.iloc[dummy,df.columns.get_loc(\"WT_Pos\")] = aa2\n",
    "        df.iloc[dummy,df.columns.get_loc(\"AA_WT\")] = aa_seq[aa1-1]\n",
    "        df.iloc[dummy,df.columns.get_loc(\"AA\")] = i\n",
    "        df.iloc[dummy,df.columns.get_loc(\"AA_Pos\")] = aa1\n",
    "        df.iloc[dummy,df.columns.get_loc(\"GremlinScore\")] = b[i]\n",
    "        df.iloc[dummy,df.columns.get_loc(\"WTscore\")] = cutoff\n",
    "        dummy += 1\n",
    "    return df\n",
    "                    \n",
    "    "
   ]
  },
  {
   "cell_type": "code",
   "execution_count": 8,
   "metadata": {
    "papermill": {
     "duration": 0.174076,
     "end_time": "2019-01-02T21:11:52.348558",
     "exception": false,
     "start_time": "2019-01-02T21:11:52.174482",
     "status": "completed"
    },
    "tags": []
   },
   "outputs": [],
   "source": [
    "dfs = []\n",
    "# loop over all the keys\n",
    "for key in covariance.keys():\n",
    "    if( float(key.split('_')[-1]) >  0.99 ):\n",
    "        tmpdf = pd.DataFrame.from_dict(covariance[key], orient='index',columns=[\"A\",\"F\",\"I\",\"L\",\"V\",\"M\",\"W\",\"Y\",\"D\",\"E\",\"K\",\"R\",\"H\",\"N\",\"Q\",\"S\",\"T\",\"G\",\"P\",\"C\"])\n",
    "        tmpdf.index = [\"A\",\"F\",\"I\",\"L\",\"V\",\"M\",\"W\",\"Y\",\"D\",\"E\",\"K\",\"R\",\"H\",\"N\",\"Q\",\"S\",\"T\",\"G\",\"P\",\"C\"]\n",
    "        dfs.append( get_lowest_scores(tmpdf,key) )\n",
    "dftot = pd.concat(dfs)\n",
    "dftot.reset_index(inplace=True)"
   ]
  },
  {
   "cell_type": "code",
   "execution_count": 9,
   "metadata": {
    "papermill": {
     "duration": 0.111067,
     "end_time": "2019-01-02T21:11:52.468391",
     "exception": false,
     "start_time": "2019-01-02T21:11:52.357324",
     "status": "completed"
    },
    "tags": []
   },
   "outputs": [],
   "source": [
    "dftot[\"Diff_score\"] = dftot[\"GremlinScore\"] - dftot[\"WTscore\"]"
   ]
  },
  {
   "cell_type": "code",
   "execution_count": 10,
   "metadata": {
    "papermill": {
     "duration": 0.017981,
     "end_time": "2019-01-02T21:11:52.494947",
     "exception": false,
     "start_time": "2019-01-02T21:11:52.476966",
     "status": "completed"
    },
    "tags": []
   },
   "outputs": [],
   "source": [
    "# remove all G,P,C -> X\n",
    "dftot = dftot[(dftot[\"AA_WT\"] != 'G') & (dftot[\"AA_WT\"] != 'P') & \\\n",
    "                               (dftot[\"AA\"] != 'G') & (dftot[\"AA\"] != 'C')]"
   ]
  },
  {
   "cell_type": "code",
   "execution_count": 11,
   "metadata": {
    "papermill": {
     "duration": 0.024683,
     "end_time": "2019-01-02T21:11:52.528442",
     "exception": false,
     "start_time": "2019-01-02T21:11:52.503759",
     "status": "completed"
    },
    "tags": []
   },
   "outputs": [
    {
     "data": {
      "text/html": [
       "<div>\n",
       "<style scoped>\n",
       "    .dataframe tbody tr th:only-of-type {\n",
       "        vertical-align: middle;\n",
       "    }\n",
       "\n",
       "    .dataframe tbody tr th {\n",
       "        vertical-align: top;\n",
       "    }\n",
       "\n",
       "    .dataframe thead th {\n",
       "        text-align: right;\n",
       "    }\n",
       "</style>\n",
       "<table border=\"1\" class=\"dataframe\">\n",
       "  <thead>\n",
       "    <tr style=\"text-align: right;\">\n",
       "      <th></th>\n",
       "      <th>index</th>\n",
       "      <th>WT</th>\n",
       "      <th>WT_Pos</th>\n",
       "      <th>AA_WT</th>\n",
       "      <th>AA_Pos</th>\n",
       "      <th>AA</th>\n",
       "      <th>GremlinScore</th>\n",
       "      <th>WTscore</th>\n",
       "      <th>Diff_score</th>\n",
       "    </tr>\n",
       "  </thead>\n",
       "  <tbody>\n",
       "    <tr>\n",
       "      <th>0</th>\n",
       "      <td>0</td>\n",
       "      <td>I</td>\n",
       "      <td>567</td>\n",
       "      <td>I</td>\n",
       "      <td>662</td>\n",
       "      <td>V</td>\n",
       "      <td>1.47</td>\n",
       "      <td>1.14</td>\n",
       "      <td>0.33</td>\n",
       "    </tr>\n",
       "    <tr>\n",
       "      <th>1</th>\n",
       "      <td>0</td>\n",
       "      <td>I</td>\n",
       "      <td>214</td>\n",
       "      <td>L</td>\n",
       "      <td>233</td>\n",
       "      <td>K</td>\n",
       "      <td>0.83</td>\n",
       "      <td>0.38</td>\n",
       "      <td>0.45</td>\n",
       "    </tr>\n",
       "    <tr>\n",
       "      <th>3</th>\n",
       "      <td>2</td>\n",
       "      <td>L</td>\n",
       "      <td>233</td>\n",
       "      <td>I</td>\n",
       "      <td>214</td>\n",
       "      <td>V</td>\n",
       "      <td>0.4</td>\n",
       "      <td>0.38</td>\n",
       "      <td>0.02</td>\n",
       "    </tr>\n",
       "    <tr>\n",
       "      <th>4</th>\n",
       "      <td>3</td>\n",
       "      <td>L</td>\n",
       "      <td>233</td>\n",
       "      <td>I</td>\n",
       "      <td>214</td>\n",
       "      <td>K</td>\n",
       "      <td>1.08</td>\n",
       "      <td>0.38</td>\n",
       "      <td>0.7</td>\n",
       "    </tr>\n",
       "    <tr>\n",
       "      <th>5</th>\n",
       "      <td>0</td>\n",
       "      <td>L</td>\n",
       "      <td>233</td>\n",
       "      <td>V</td>\n",
       "      <td>231</td>\n",
       "      <td>I</td>\n",
       "      <td>1.01</td>\n",
       "      <td>0.6</td>\n",
       "      <td>0.41</td>\n",
       "    </tr>\n",
       "  </tbody>\n",
       "</table>\n",
       "</div>"
      ],
      "text/plain": [
       "   index WT WT_Pos AA_WT AA_Pos AA GremlinScore WTscore Diff_score\n",
       "0      0  I    567     I    662  V         1.47    1.14       0.33\n",
       "1      0  I    214     L    233  K         0.83    0.38       0.45\n",
       "3      2  L    233     I    214  V          0.4    0.38       0.02\n",
       "4      3  L    233     I    214  K         1.08    0.38        0.7\n",
       "5      0  L    233     V    231  I         1.01     0.6       0.41"
      ]
     },
     "execution_count": 11,
     "metadata": {},
     "output_type": "execute_result"
    }
   ],
   "source": [
    "dftot.head()"
   ]
  },
  {
   "cell_type": "code",
   "execution_count": 12,
   "metadata": {
    "papermill": {
     "duration": 0.015272,
     "end_time": "2019-01-02T21:11:52.552931",
     "exception": false,
     "start_time": "2019-01-02T21:11:52.537659",
     "status": "completed"
    },
    "tags": []
   },
   "outputs": [],
   "source": [
    "dftot = dftot[dftot[\"GremlinScore\"] > 0]"
   ]
  },
  {
   "cell_type": "code",
   "execution_count": 13,
   "metadata": {
    "papermill": {
     "duration": 0.018634,
     "end_time": "2019-01-02T21:11:52.580851",
     "exception": false,
     "start_time": "2019-01-02T21:11:52.562217",
     "status": "completed"
    },
    "tags": []
   },
   "outputs": [
    {
     "name": "stdout",
     "output_type": "stream",
     "text": [
      "<class 'pandas.core.frame.DataFrame'>\n",
      "Int64Index: 32 entries, 0 to 49\n",
      "Data columns (total 9 columns):\n",
      "index           32 non-null int64\n",
      "WT              32 non-null object\n",
      "WT_Pos          32 non-null object\n",
      "AA_WT           32 non-null object\n",
      "AA_Pos          32 non-null object\n",
      "AA              32 non-null object\n",
      "GremlinScore    32 non-null object\n",
      "WTscore         32 non-null object\n",
      "Diff_score      32 non-null object\n",
      "dtypes: int64(1), object(8)\n",
      "memory usage: 2.5+ KB\n"
     ]
    }
   ],
   "source": [
    "dftot.info()"
   ]
  },
  {
   "cell_type": "code",
   "execution_count": 14,
   "metadata": {
    "papermill": {
     "duration": 0.237943,
     "end_time": "2019-01-02T21:11:52.828378",
     "exception": false,
     "start_time": "2019-01-02T21:11:52.590435",
     "status": "completed"
    },
    "tags": []
   },
   "outputs": [
    {
     "data": {
      "text/plain": [
       "<matplotlib.axes._subplots.AxesSubplot at 0x106c77940>"
      ]
     },
     "execution_count": 14,
     "metadata": {},
     "output_type": "execute_result"
    },
    {
     "data": {
      "image/png": "[encoded data removed]",
      "text/plain": [
       "<Figure size 432x288 with 1 Axes>"
      ]
     },
     "metadata": {},
     "output_type": "display_data"
    }
   ],
   "source": [
    "dftot.plot(y=\"Diff_score\",kind='hist')"
   ]
  },
  {
   "cell_type": "code",
   "execution_count": 15,
   "metadata": {
    "papermill": {
     "duration": 0.017847,
     "end_time": "2019-01-02T21:11:52.859044",
     "exception": false,
     "start_time": "2019-01-02T21:11:52.841197",
     "status": "completed"
    },
    "tags": []
   },
   "outputs": [],
   "source": [
    "cutoff = dftot[\"Diff_score\"].mean()+2*dftot[\"Diff_score\"].std()"
   ]
  },
  {
   "cell_type": "code",
   "execution_count": 16,
   "metadata": {
    "papermill": {
     "duration": 0.023193,
     "end_time": "2019-01-02T21:11:52.892588",
     "exception": false,
     "start_time": "2019-01-02T21:11:52.869395",
     "status": "completed"
    },
    "tags": []
   },
   "outputs": [
    {
     "data": {
      "text/html": [
       "<div>\n",
       "<style scoped>\n",
       "    .dataframe tbody tr th:only-of-type {\n",
       "        vertical-align: middle;\n",
       "    }\n",
       "\n",
       "    .dataframe tbody tr th {\n",
       "        vertical-align: top;\n",
       "    }\n",
       "\n",
       "    .dataframe thead th {\n",
       "        text-align: right;\n",
       "    }\n",
       "</style>\n",
       "<table border=\"1\" class=\"dataframe\">\n",
       "  <thead>\n",
       "    <tr style=\"text-align: right;\">\n",
       "      <th></th>\n",
       "      <th>index</th>\n",
       "      <th>WT</th>\n",
       "      <th>WT_Pos</th>\n",
       "      <th>AA_WT</th>\n",
       "      <th>AA_Pos</th>\n",
       "      <th>AA</th>\n",
       "      <th>GremlinScore</th>\n",
       "      <th>WTscore</th>\n",
       "      <th>Diff_score</th>\n",
       "    </tr>\n",
       "  </thead>\n",
       "  <tbody>\n",
       "    <tr>\n",
       "      <th>20</th>\n",
       "      <td>4</td>\n",
       "      <td>R</td>\n",
       "      <td>648</td>\n",
       "      <td>I</td>\n",
       "      <td>628</td>\n",
       "      <td>D</td>\n",
       "      <td>1.75</td>\n",
       "      <td>0.46</td>\n",
       "      <td>1.29</td>\n",
       "    </tr>\n",
       "  </tbody>\n",
       "</table>\n",
       "</div>"
      ],
      "text/plain": [
       "    index WT WT_Pos AA_WT AA_Pos AA GremlinScore WTscore Diff_score\n",
       "20      4  R    648     I    628  D         1.75    0.46       1.29"
      ]
     },
     "execution_count": 16,
     "metadata": {},
     "output_type": "execute_result"
    }
   ],
   "source": [
    "dftot = dftot[dftot[\"Diff_score\"] > cutoff]\n",
    "dftot.sort_values(by=\"GremlinScore\",ascending=False).head(30)"
   ]
  },
  {
   "cell_type": "code",
   "execution_count": 17,
   "metadata": {
    "papermill": {
     "duration": 0.016281,
     "end_time": "2019-01-02T21:11:52.919252",
     "exception": false,
     "start_time": "2019-01-02T21:11:52.902971",
     "status": "completed"
    },
    "tags": []
   },
   "outputs": [
    {
     "name": "stdout",
     "output_type": "stream",
     "text": [
      "Unique positions:  1\n"
     ]
    }
   ],
   "source": [
    "print(\"Unique positions: \",len(dftot[\"WT_Pos\"].unique()) )"
   ]
  },
  {
   "cell_type": "code",
   "execution_count": 18,
   "metadata": {
    "papermill": {
     "duration": 0.016296,
     "end_time": "2019-01-02T21:11:52.946322",
     "exception": false,
     "start_time": "2019-01-02T21:11:52.930026",
     "status": "completed"
    },
    "tags": []
   },
   "outputs": [],
   "source": [
    "# write to muts.txt\n",
    "with open(\"muts.txt\", 'w') as f:\n",
    "    for i,j,k in zip(dftot.AA_WT, dftot.AA_Pos,dftot.AA):\n",
    "        f.write(i+str(j)+k+'\\n')"
   ]
  },
  {
   "cell_type": "code",
   "execution_count": 19,
   "metadata": {
    "papermill": {
     "duration": 0.016359,
     "end_time": "2019-01-02T21:11:52.973375",
     "exception": false,
     "start_time": "2019-01-02T21:11:52.957016",
     "status": "completed"
    },
    "tags": []
   },
   "outputs": [],
   "source": [
    "# generate mutation file for ddG cartesian\n",
    "header=\"total 1\\n1\\n\"\n",
    "for i,j,k in zip(dftot.AA_WT, dftot.AA_Pos,dftot.AA):\n",
    "    with open(i+str(j)+k+\".mutfile\",'w') as f:\n",
    "        f.write(header)\n",
    "        f.write(i+\" \"+str(j)+\" \"+k)"
   ]
  },
  {
   "cell_type": "code",
   "execution_count": null,
   "metadata": {
    "papermill": {
     "duration": 0.010126,
     "end_time": "2019-01-02T21:11:52.994310",
     "exception": false,
     "start_time": "2019-01-02T21:11:52.984184",
     "status": "completed"
    },
    "tags": []
   },
   "outputs": [],
   "source": []
  }
 ],
 "metadata": {
  "celltoolbar": "Tags",
  "kernelspec": {
   "display_name": "Python 3",
   "language": "python",
   "name": "python3"
  },
  "language_info": {
   "codemirror_mode": {
    "name": "ipython",
    "version": 3
   },
   "file_extension": ".py",
   "mimetype": "text/x-python",
   "name": "python",
   "nbconvert_exporter": "python",
   "pygments_lexer": "ipython3",
   "version": "3.6.5"
  },
  "papermill": {
   "duration": 9.476648,
   "end_time": "2019-01-02T21:11:53.784524",
   "environment_variables": {},
   "exception": null,
   "input_path": "20181202_GremlinAnalysis_Library.ipynb",
   "output_path": "gremlin_analysis.ipynb",
   "parameters": {
    "inputfile": "1545972452.re1.txt"
   },
   "start_time": "2019-01-02T21:11:44.307876",
   "version": "0.16.2"
  }
 },
 "nbformat": 4,
 "nbformat_minor": 2
}