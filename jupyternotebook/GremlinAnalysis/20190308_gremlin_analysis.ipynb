{
 "cells": [
  {
   "cell_type": "code",
   "execution_count": 1,
   "metadata": {},
   "outputs": [],
   "source": [
    "import pandas as pd\n",
    "import glob"
   ]
  },
  {
   "cell_type": "code",
   "execution_count": 2,
   "metadata": {},
   "outputs": [],
   "source": [
    "alphabet = \"ARNDCQEGHILKMFPSTWYV-\""
   ]
  },
  {
   "cell_type": "code",
   "execution_count": 3,
   "metadata": {},
   "outputs": [],
   "source": [
    "threshold_gremlin_score = 0.10"
   ]
  },
  {
   "cell_type": "code",
   "execution_count": 4,
   "metadata": {},
   "outputs": [
    {
     "name": "stderr",
     "output_type": "stream",
     "text": [
      "/Users/pgreisen/anaconda3/lib/python3.6/site-packages/ipykernel_launcher.py:25: UserWarning: Boolean Series key will be reindexed to match DataFrame index.\n"
     ]
    },
    {
     "name": "stdout",
     "output_type": "stream",
     "text": [
      "W_for_positions_T_225_D_268_H\n",
      "W_for_positions_L_75_V_183_I\n",
      "W_for_positions_V_205_V_285_M\n",
      "W_for_positions_R_210_K_223_D\n",
      "W_for_positions_R_210_K_223_E\n",
      "W_for_positions_Q_84_L_152_R\n",
      "W_for_positions_K_223_D_268_T\n",
      "W_for_positions_V_205_V_226_I\n",
      "W_for_positions_Q_91_K_149_E\n",
      "W_for_positions_Q_91_R_145_D\n",
      "W_for_positions_Q_91_R_145_E\n",
      "W_for_positions_E_212_K_223_D\n",
      "W_for_positions_V_94_R_145_I\n",
      "W_for_positions_A_101_L_131_I\n",
      "W_for_positions_A_101_L_131_V\n",
      "W_for_positions_T_225_R_266_E\n",
      "W_for_positions_T_225_R_266_V\n",
      "W_for_positions_F_43_V_193_V\n",
      "W_for_positions_D_227_R_266_E\n",
      "W_for_positions_Q_67_Q_73_D\n",
      "W_for_positions_Q_67_Q_73_E\n",
      "W_for_positions_R_105_L_131_Q\n",
      "W_for_positions_N_62_T_77_H\n"
     ]
    }
   ],
   "source": [
    "pairs_to_mutate = {}\n",
    "\n",
    "for i in glob.glob(\"*.csv\"):\n",
    "    tmpname = i.split(\"_\")\n",
    "    df=pd.read_csv(i,index_col=0)\n",
    "    aa1 =  tmpname[3]\n",
    "    pos1 = tmpname[4]\n",
    "    aa2 =  tmpname[5]\n",
    "    pos2 =  tmpname[6].split(\".\")[0]\n",
    "    \n",
    "    a= alphabet.find(aa1)\n",
    "    b= alphabet.find(aa2)\n",
    "    threshold = df.iloc[a,b] \n",
    "    try:\n",
    "        aa_coevolv = df[(df.iloc[:,b] > threshold) & (df.iloc[:,b] > threshold_gremlin_score) ].index\n",
    "        for aa_ in aa_coevolv:\n",
    "            \n",
    "            name1=i.split(\".\")[0]+\"_\"+aa_\n",
    "            tmp1=aa1+pos1+aa_\n",
    "            print(name1)\n",
    "            pairs_to_mutate[name1] = tmp1\n",
    "    except:\n",
    "        continue\n",
    "    try:\n",
    "        aa_coevolv2= df[(df.iloc[a,:] > threshold) & (df.iloc[a,:] > threshold_gremlin_score)].index\n",
    "        for aa_ in aa_coevolv2:\n",
    "            \n",
    "            name2=i.split(\".\")[0]+\"_\"+aa_\n",
    "            tmp2=aa2+pos2+aa_\n",
    "            pairs_to_mutate[name2] = tmp2\n",
    "    except:\n",
    "        continue"
   ]
  },
  {
   "cell_type": "code",
   "execution_count": 5,
   "metadata": {},
   "outputs": [
    {
     "name": "stdout",
     "output_type": "stream",
     "text": [
      "{'W_for_positions_L_87_R_145_V': 'R145V', 'W_for_positions_L_87_K_149_Q': 'K149Q', 'W_for_positions_N_62_I_74_V': 'I74V', 'W_for_positions_T_225_D_268_H': 'T225H', 'W_for_positions_Q_98_L_138_V': 'L138V', 'W_for_positions_L_75_V_183_I': 'L75I', 'W_for_positions_L_75_V_183_L': 'V183L', 'W_for_positions_V_205_V_285_M': 'V205M', 'W_for_positions_V_205_V_285_I': 'V285I', 'W_for_positions_R_210_K_223_D': 'R210D', 'W_for_positions_R_210_K_223_E': 'K223E', 'W_for_positions_L_68_W_164_R': 'W164R', 'W_for_positions_Q_84_L_152_R': 'Q84R', 'W_for_positions_K_223_D_268_T': 'K223T', 'W_for_positions_V_205_V_226_I': 'V205I', 'W_for_positions_A_211_I_265_L': 'I265L', 'W_for_positions_Q_91_K_149_E': 'Q91E', 'W_for_positions_Q_91_R_145_D': 'Q91D', 'W_for_positions_Q_91_R_145_E': 'Q91E', 'W_for_positions_Q_91_R_145_L': 'R145L', 'W_for_positions_Q_91_R_145_V': 'R145V', 'W_for_positions_E_212_K_223_D': 'E212D', 'W_for_positions_V_94_R_145_I': 'V94I', 'W_for_positions_A_101_L_131_I': 'A101I', 'W_for_positions_A_101_L_131_V': 'A101V', 'W_for_positions_T_225_R_266_E': 'T225E', 'W_for_positions_T_225_R_266_V': 'T225V', 'W_for_positions_F_43_V_193_V': 'F43V', 'W_for_positions_R_111_M_119_I': 'M119I', 'W_for_positions_F_76_I_157_V': 'I157V', 'W_for_positions_D_227_R_266_E': 'D227E', 'W_for_positions_A_108_I_124_A': 'I124A', 'W_for_positions_Q_67_Q_73_D': 'Q67D', 'W_for_positions_Q_67_Q_73_E': 'Q67E', 'W_for_positions_R_105_L_131_Q': 'R105Q', 'W_for_positions_N_62_T_77_H': 'N62H', 'W_for_positions_V_165_V_183_L': 'V183L'}\n"
     ]
    }
   ],
   "source": [
    "print(pairs_to_mutate)"
   ]
  },
  {
   "cell_type": "code",
   "execution_count": 6,
   "metadata": {},
   "outputs": [],
   "source": [
    "#coevolv_pos = list(set(pairs_to_mutate.values()))\n",
    "with open(\"muts.txt\",'w') as f:\n",
    "    for i in pairs_to_mutate.keys():\n",
    "        f.write(pairs_to_mutate[i]+\"\\n\")"
   ]
  },
  {
   "cell_type": "code",
   "execution_count": 7,
   "metadata": {},
   "outputs": [
    {
     "name": "stdout",
     "output_type": "stream",
     "text": [
      "37\n",
      "26\n"
     ]
    }
   ],
   "source": [
    "pos = []\n",
    "with open('muts.txt','r') as f:\n",
    "    for line in f:\n",
    "        pos.append(line.strip()[1:-1])\n",
    "print(len(pos))\n",
    "print(len(set(pos)))"
   ]
  }
 ],
 "metadata": {
  "kernelspec": {
   "display_name": "Python 3",
   "language": "python",
   "name": "python3"
  },
  "language_info": {
   "codemirror_mode": {
    "name": "ipython",
    "version": 3
   },
   "file_extension": ".py",
   "mimetype": "text/x-python",
   "name": "python",
   "nbconvert_exporter": "python",
   "pygments_lexer": "ipython3",
   "version": "3.6.8"
  }
 },
 "nbformat": 4,
 "nbformat_minor": 2
}
