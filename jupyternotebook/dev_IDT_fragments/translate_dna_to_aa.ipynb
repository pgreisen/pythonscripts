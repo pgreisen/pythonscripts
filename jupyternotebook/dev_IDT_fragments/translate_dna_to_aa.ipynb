{
 "cells": [
  {
   "cell_type": "code",
   "execution_count": 1,
   "metadata": {},
   "outputs": [],
   "source": [
    "# Check correct mutations are inserted"
   ]
  },
  {
   "cell_type": "code",
   "execution_count": 2,
   "metadata": {},
   "outputs": [],
   "source": [
    "import glob\n",
    "import pandas as pd\n",
    "from Bio.Seq import Seq\n",
    "from Bio.Alphabet import generic_dna, generic_protein\n",
    "from Bio.Seq import reverse_complement, transcribe, back_transcribe, translate\n",
    "from datetime import date"
   ]
  },
  {
   "cell_type": "code",
   "execution_count": 3,
   "metadata": {},
   "outputs": [],
   "source": [
    "today = date.today().isoformat()\n",
    "company = \"elanco\"\n",
    "order = \"R2\"\n",
    "fastafiles = {}"
   ]
  },
  {
   "cell_type": "code",
   "execution_count": 4,
   "metadata": {},
   "outputs": [],
   "source": [
    "seqs = {}\n",
    "for fasta in glob.glob(\"*.fasta\"):\n",
    "    with open(fasta, 'r') as f:\n",
    "        for i in f:\n",
    "            if(i[0] == \">\"):\n",
    "                key = i.strip()[1:]\n",
    "                seqs[key] = \"\"\n",
    "            else:\n",
    "                seqs[key] += i.strip()"
   ]
  },
  {
   "cell_type": "code",
   "execution_count": 5,
   "metadata": {},
   "outputs": [],
   "source": [
    "df = pd.DataFrame.from_dict(seqs,orient='index').reset_index().rename(columns={'index' : 'Name', 0 : 'sequence'})"
   ]
  },
  {
   "cell_type": "code",
   "execution_count": 6,
   "metadata": {},
   "outputs": [],
   "source": [
    "df[\"No_bsaI_site\"] = \"\"\n",
    "df[\"AA_seq\"] = \"\""
   ]
  },
  {
   "cell_type": "code",
   "execution_count": 7,
   "metadata": {},
   "outputs": [],
   "source": [
    "df.head()\n",
    "preseq = \"GTCACGGTCTCA\"\n",
    "postseq = \"CGAGACCAGTCA\"\n",
    "for i,j in zip(df.index, df[\"sequence\"]):\n",
    "    newseq = j.replace(preseq,\"\")\n",
    "    newseq = newseq.replace(postseq,\"\")\n",
    "    df.iloc[i,df.columns.get_loc(\"No_bsaI_site\")] = newseq\n",
    "    df.iloc[i,df.columns.get_loc(\"AA_seq\")] = translate(newseq)"
   ]
  },
  {
   "cell_type": "code",
   "execution_count": 8,
   "metadata": {},
   "outputs": [],
   "source": [
    "with open(today+\"_seqs.fasta\",'w') as f:\n",
    "    for i,j in zip(df[\"Name\"],df[\"AA_seq\"]):\n",
    "        f.write(\">\"+i+\"\\n\")\n",
    "        f.write(j+\"\\n\")"
   ]
  },
  {
   "cell_type": "code",
   "execution_count": 9,
   "metadata": {},
   "outputs": [],
   "source": [
    "df.to_excel(today+\"_\"+company+\"_\"+order+\".xlsx\")"
   ]
  },
  {
   "cell_type": "code",
   "execution_count": null,
   "metadata": {},
   "outputs": [],
   "source": []
  }
 ],
 "metadata": {
  "kernelspec": {
   "display_name": "Python 3",
   "language": "python",
   "name": "python3"
  },
  "language_info": {
   "codemirror_mode": {
    "name": "ipython",
    "version": 3
   },
   "file_extension": ".py",
   "mimetype": "text/x-python",
   "name": "python",
   "nbconvert_exporter": "python",
   "pygments_lexer": "ipython3",
   "version": "3.6.8"
  }
 },
 "nbformat": 4,
 "nbformat_minor": 2
}
