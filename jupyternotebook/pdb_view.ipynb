{
 "cells": [
  {
   "cell_type": "code",
   "execution_count": 2,
   "metadata": {},
   "outputs": [
    {
     "name": "stdout",
     "output_type": "stream",
     "text": [
      "Collecting py3Dmol\n",
      "  Downloading py3Dmol-0.7.0-py2.py3-none-any.whl\n",
      "Collecting idisplay (from py3Dmol)\n",
      "  Downloading idisplay-0.1.2-py2.py3-none-any.whl\n",
      "Requirement already satisfied: jupyter in /Users/pgreisen/anaconda2/lib/python2.7/site-packages (from py3Dmol)\n",
      "Requirement already satisfied: ipython>=1.0 in /Users/pgreisen/anaconda2/lib/python2.7/site-packages (from idisplay->py3Dmol)\n",
      "Installing collected packages: idisplay, py3Dmol\n",
      "Successfully installed idisplay-0.1.2 py3Dmol-0.7.0\n"
     ]
    }
   ],
   "source": [
    "!pip install py3Dmol"
   ]
  },
  {
   "cell_type": "code",
   "execution_count": 4,
   "metadata": {},
   "outputs": [
    {
     "data": {
      "application/3dmoljs_load.v0": "<div id=\"3dmolviewer_1574107295685885\"  style=\"position: relative; width: 640px; height: 480px\">\n        <p id=\"3dmolwarning_1574107295685885\" style=\"background-color:#ffcccc;color:black\">You appear to be running in JupyterLab (or JavaScript failed to load for some other reason).  You need to install the 3dmol extension: <br>\n        <tt>jupyter labextension install jupyterlab_3dmol</tt></p>\n        </div>\n<script>\n\nvar loadScriptAsync = function(uri){\n  return new Promise((resolve, reject) => {\n    var tag = document.createElement('script');\n    tag.src = uri;\n    tag.async = true;\n    tag.onload = () => {\n      resolve();\n    };\n  var firstScriptTag = document.getElementsByTagName('script')[0];\n  firstScriptTag.parentNode.insertBefore(tag, firstScriptTag);\n});\n};\n\nif(typeof $3Dmolpromise === 'undefined') {\n$3Dmolpromise = null;\n  $3Dmolpromise = loadScriptAsync('https://3dmol.csb.pitt.edu/build/3Dmol.js');\n}\n\nvar viewer_1574107295685885 = null;\nvar warn = document.getElementById(\"3dmolwarning_1574107295685885\");\nif(warn) {\n    warn.parentNode.removeChild(warn);\n}\n$3Dmolpromise.then(function() {\nviewer_1574107295685885 = $3Dmol.createViewer($(\"#3dmolviewer_1574107295685885\"),{backgroundColor:\"white\"});\n$3Dmol.download(\"pdb:4YXX\", viewer_1574107295685885, {}, function() {\n\tviewer_1574107295685885.setStyle({\"cartoon\": {\"color\": \"spectrum\"}});\nviewer_1574107295685885.render();\n})\n});\n</script>",
      "text/html": [
       "<div id=\"3dmolviewer_1574107295685885\"  style=\"position: relative; width: 640px; height: 480px\">\n",
       "        <p id=\"3dmolwarning_1574107295685885\" style=\"background-color:#ffcccc;color:black\">You appear to be running in JupyterLab (or JavaScript failed to load for some other reason).  You need to install the 3dmol extension: <br>\n",
       "        <tt>jupyter labextension install jupyterlab_3dmol</tt></p>\n",
       "        </div>\n",
       "<script>\n",
       "\n",
       "var loadScriptAsync = function(uri){\n",
       "  return new Promise((resolve, reject) => {\n",
       "    var tag = document.createElement('script');\n",
       "    tag.src = uri;\n",
       "    tag.async = true;\n",
       "    tag.onload = () => {\n",
       "      resolve();\n",
       "    };\n",
       "  var firstScriptTag = document.getElementsByTagName('script')[0];\n",
       "  firstScriptTag.parentNode.insertBefore(tag, firstScriptTag);\n",
       "});\n",
       "};\n",
       "\n",
       "if(typeof $3Dmolpromise === 'undefined') {\n",
       "$3Dmolpromise = null;\n",
       "  $3Dmolpromise = loadScriptAsync('https://3dmol.csb.pitt.edu/build/3Dmol.js');\n",
       "}\n",
       "\n",
       "var viewer_1574107295685885 = null;\n",
       "var warn = document.getElementById(\"3dmolwarning_1574107295685885\");\n",
       "if(warn) {\n",
       "    warn.parentNode.removeChild(warn);\n",
       "}\n",
       "$3Dmolpromise.then(function() {\n",
       "viewer_1574107295685885 = $3Dmol.createViewer($(\"#3dmolviewer_1574107295685885\"),{backgroundColor:\"white\"});\n",
       "$3Dmol.download(\"pdb:4YXX\", viewer_1574107295685885, {}, function() {\n",
       "\tviewer_1574107295685885.setStyle({\"cartoon\": {\"color\": \"spectrum\"}});\n",
       "viewer_1574107295685885.render();\n",
       "})\n",
       "});\n",
       "</script>"
      ]
     },
     "metadata": {},
     "output_type": "display_data"
    },
    {
     "data": {
      "text/plain": [
       "<py3Dmol.view at 0x104e5e2e8>"
      ]
     },
     "execution_count": 4,
     "metadata": {},
     "output_type": "execute_result"
    }
   ],
   "source": [
    "import py3Dmol\n",
    "view = py3Dmol.view(query='pdb:4YXX')\n",
    "view.setStyle({'cartoon':{'color':'spectrum'}})\n",
    "view"
   ]
  },
  {
   "cell_type": "code",
   "execution_count": 4,
   "metadata": {
    "collapsed": true
   },
   "outputs": [],
   "source": [
    "# https://3dmol.csb.pitt.edu/doc/tutorial-url.html"
   ]
  },
  {
   "cell_type": "code",
   "execution_count": 2,
   "metadata": {},
   "outputs": [
    {
     "name": "stdout",
     "output_type": "stream",
     "text": [
      "Help on view in module py3Dmol object:\n",
      "\n",
      "class view(builtins.object)\n",
      " |  A class for constructing embedded 3Dmol.js views in ipython notebooks.\n",
      " |  The results are completely static which means there is no need for there\n",
      " |  to be an active kernel but also that there is no communication between\n",
      " |  the javascript viewer and ipython.\n",
      " |  \n",
      " |  Optionally, a viewergrid tuple (rows,columns) can be passed to create\n",
      " |  a grid of viewers in a single canvas object.  Successive commands than need to\n",
      " |  specify which viewer they apply to (with viewer=(r,c)) or will apply to all\n",
      " |  viewers in the grid.\n",
      " |  \n",
      " |  The API for the created object is exactly that for $3Dmol.GLViewer, with\n",
      " |  the exception that the functions all return None.\n",
      " |  http://3dmol.csb.pitt.edu/doc/$3Dmol.GLViewer.html\n",
      " |  \n",
      " |  Methods defined here:\n",
      " |  \n",
      " |  __getattr__(self, name)\n",
      " |      auto-instantiate javascript calls based on whatever the user provided\n",
      " |  \n",
      " |  __init__(self, width=640, height=480, query='', viewergrid=None, linked=True, options={}, js='https://3dmol.csb.pitt.edu/build/3Dmol.js')\n",
      " |      Create a 3Dmol.js view.\n",
      " |      width -- width in pixels of container\n",
      " |      height -- height in pixels of container\n",
      " |      query -- optional argument to provide to $3Dmol.download\n",
      " |      options -- optional options to provide to $3Dmol.download\n",
      " |      js -- url for 3Dmol.js\n",
      " |  \n",
      " |  getModel(self, *args, **kwargs)\n",
      " |  \n",
      " |  insert(self, containerid)\n",
      " |      Instead of inserting into notebook here, insert html\n",
      " |      into existing container\n",
      " |  \n",
      " |  png(self)\n",
      " |      output png image of viewer, which must already be instantiated\n",
      " |  \n",
      " |  show(self)\n",
      " |      Instantiate a new viewer window. Calling this will orphan any previously instantiated viewer windows.\n",
      " |  \n",
      " |  update(self)\n",
      " |      Apply commands to existing viewer (will auto-instantiate if necessary).\n",
      " |  \n",
      " |  ----------------------------------------------------------------------\n",
      " |  Data descriptors defined here:\n",
      " |  \n",
      " |  __dict__\n",
      " |      dictionary for instance variables (if defined)\n",
      " |  \n",
      " |  __weakref__\n",
      " |      list of weak references to the object (if defined)\n",
      " |  \n",
      " |  ----------------------------------------------------------------------\n",
      " |  Data and other attributes defined here:\n",
      " |  \n",
      " |  model = <class 'py3Dmol.view.model'>\n",
      " |      Wrapper for referencing a model within a viewer\n",
      "\n"
     ]
    }
   ],
   "source": [
    "help(view)"
   ]
  },
  {
   "cell_type": "code",
   "execution_count": null,
   "metadata": {},
   "outputs": [],
   "source": []
  }
 ],
 "metadata": {
  "kernelspec": {
   "display_name": "Python 3",
   "language": "python",
   "name": "python3"
  },
  "language_info": {
   "codemirror_mode": {
    "name": "ipython",
    "version": 3
   },
   "file_extension": ".py",
   "mimetype": "text/x-python",
   "name": "python",
   "nbconvert_exporter": "python",
   "pygments_lexer": "ipython3",
   "version": "3.6.8"
  }
 },
 "nbformat": 4,
 "nbformat_minor": 2
}
