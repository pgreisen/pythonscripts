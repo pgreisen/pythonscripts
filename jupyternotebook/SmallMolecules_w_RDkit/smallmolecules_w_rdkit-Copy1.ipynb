{
 "cells": [
  {
   "cell_type": "markdown",
   "metadata": {
    "slideshow": {
     "slide_type": "slide"
    }
   },
   "source": [
    "# Get SMILES from pubchem"
   ]
  },
  {
   "cell_type": "code",
   "execution_count": 1,
   "metadata": {},
   "outputs": [],
   "source": [
    "import pubchempy as pcp\n",
    "import pandas as pd\n",
    "from rdkit import Chem\n",
    "from rdkit.Chem import AllChem\n",
    "import subprocess"
   ]
  },
  {
   "cell_type": "code",
   "execution_count": 2,
   "metadata": {},
   "outputs": [],
   "source": [
    "# path to python script to convert sdf to rosetta parameters\n",
    "ros_exe=\"/Users/pgreisen/Programs/Rosetta/Rosetta/main/source/scripts/python/public/molfile_to_params.py\"\n",
    "NUMBER_OF_CONFORMERS=25"
   ]
  },
  {
   "cell_type": "code",
   "execution_count": 3,
   "metadata": {},
   "outputs": [],
   "source": [
    "%%capture\n",
    "!pip install pubchempy"
   ]
  },
  {
   "cell_type": "code",
   "execution_count": 4,
   "metadata": {},
   "outputs": [],
   "source": [
    "list_of_compounds = {\"SIA\" : \"sialic acid\",\n",
    "                     \"GLC\" : \"glucose\",\n",
    "                     \"HDY\" : \"6beta-hydroxycortisol\", \n",
    "                     \"BRA\" : \"brassinolide\", \n",
    "                     \"ATP\" : \"ATP\", \n",
    "                     \"AFL\" : \"Aflatoxin\",\n",
    "                     \"TAM\" : \"Tramadol\",\n",
    "                     \"SRN\" : \"Serotonin\", \n",
    "                     \"TNT\" : \"TNT\"}\n",
    "loc = {}\n",
    "for j in list_of_compounds.keys():\n",
    "    loc[j] = pcp.get_compounds(list_of_compounds[j], 'name', as_dataframe=True)\n",
    "    loc[j][\"RosettaName\"] = j"
   ]
  },
  {
   "cell_type": "code",
   "execution_count": 5,
   "metadata": {},
   "outputs": [
    {
     "data": {
      "text/html": [
       "<div>\n",
       "<style scoped>\n",
       "    .dataframe tbody tr th:only-of-type {\n",
       "        vertical-align: middle;\n",
       "    }\n",
       "\n",
       "    .dataframe tbody tr th {\n",
       "        vertical-align: top;\n",
       "    }\n",
       "\n",
       "    .dataframe thead th {\n",
       "        text-align: right;\n",
       "    }\n",
       "</style>\n",
       "<table border=\"1\" class=\"dataframe\">\n",
       "  <thead>\n",
       "    <tr style=\"text-align: right;\">\n",
       "      <th></th>\n",
       "      <th>cid</th>\n",
       "      <th>atom_stereo_count</th>\n",
       "      <th>atoms</th>\n",
       "      <th>bond_stereo_count</th>\n",
       "      <th>bonds</th>\n",
       "      <th>cactvs_fingerprint</th>\n",
       "      <th>canonical_smiles</th>\n",
       "      <th>charge</th>\n",
       "      <th>complexity</th>\n",
       "      <th>conformer_id_3d</th>\n",
       "      <th>...</th>\n",
       "      <th>record</th>\n",
       "      <th>rotatable_bond_count</th>\n",
       "      <th>shape_fingerprint_3d</th>\n",
       "      <th>shape_selfoverlap_3d</th>\n",
       "      <th>tpsa</th>\n",
       "      <th>undefined_atom_stereo_count</th>\n",
       "      <th>undefined_bond_stereo_count</th>\n",
       "      <th>volume_3d</th>\n",
       "      <th>xlogp</th>\n",
       "      <th>RosettaName</th>\n",
       "    </tr>\n",
       "  </thead>\n",
       "  <tbody>\n",
       "    <tr>\n",
       "      <th>0</th>\n",
       "      <td>445063</td>\n",
       "      <td>6</td>\n",
       "      <td>[{'aid': 1, 'number': 8, 'element': 'O', 'y': ...</td>\n",
       "      <td>0</td>\n",
       "      <td>[{'aid1': 1, 'aid2': 12, 'order': 1}, {'aid1':...</td>\n",
       "      <td>1110000001110010001111000000000000000000000000...</td>\n",
       "      <td>CC(=O)NC1C(CC(OC1C(C(CO)O)O)(C(=O)O)O)O</td>\n",
       "      <td>0</td>\n",
       "      <td>403</td>\n",
       "      <td>None</td>\n",
       "      <td>...</td>\n",
       "      <td>{'id': {'id': {'cid': 445063}}, 'atoms': {'aid...</td>\n",
       "      <td>5</td>\n",
       "      <td>None</td>\n",
       "      <td>None</td>\n",
       "      <td>177.0</td>\n",
       "      <td>0</td>\n",
       "      <td>0</td>\n",
       "      <td>None</td>\n",
       "      <td>-3.5</td>\n",
       "      <td>SIA</td>\n",
       "    </tr>\n",
       "    <tr>\n",
       "      <th>1</th>\n",
       "      <td>906</td>\n",
       "      <td>6</td>\n",
       "      <td>[{'aid': 1, 'number': 8, 'element': 'O', 'y': ...</td>\n",
       "      <td>0</td>\n",
       "      <td>[{'aid1': 1, 'aid2': 12, 'order': 1, 'style': ...</td>\n",
       "      <td>1110000001110010001111000000000000000000000000...</td>\n",
       "      <td>CC(=O)NC1C(CC(OC1C(C(CO)O)O)(C(=O)O)O)O</td>\n",
       "      <td>0</td>\n",
       "      <td>403</td>\n",
       "      <td>None</td>\n",
       "      <td>...</td>\n",
       "      <td>{'id': {'id': {'cid': 906}}, 'atoms': {'aid': ...</td>\n",
       "      <td>5</td>\n",
       "      <td>None</td>\n",
       "      <td>None</td>\n",
       "      <td>177.0</td>\n",
       "      <td>6</td>\n",
       "      <td>0</td>\n",
       "      <td>None</td>\n",
       "      <td>-3.5</td>\n",
       "      <td>SIA</td>\n",
       "    </tr>\n",
       "    <tr>\n",
       "      <th>2</th>\n",
       "      <td>444885</td>\n",
       "      <td>6</td>\n",
       "      <td>[{'aid': 1, 'number': 8, 'element': 'O', 'y': ...</td>\n",
       "      <td>0</td>\n",
       "      <td>[{'aid1': 1, 'aid2': 12, 'order': 1}, {'aid1':...</td>\n",
       "      <td>1110000001110010001111000000000000000000000000...</td>\n",
       "      <td>CC(=O)NC1C(CC(OC1C(C(CO)O)O)(C(=O)O)O)O</td>\n",
       "      <td>0</td>\n",
       "      <td>403</td>\n",
       "      <td>None</td>\n",
       "      <td>...</td>\n",
       "      <td>{'id': {'id': {'cid': 444885}}, 'atoms': {'aid...</td>\n",
       "      <td>5</td>\n",
       "      <td>None</td>\n",
       "      <td>None</td>\n",
       "      <td>177.0</td>\n",
       "      <td>0</td>\n",
       "      <td>0</td>\n",
       "      <td>None</td>\n",
       "      <td>-3.5</td>\n",
       "      <td>SIA</td>\n",
       "    </tr>\n",
       "    <tr>\n",
       "      <th>3</th>\n",
       "      <td>656387</td>\n",
       "      <td>6</td>\n",
       "      <td>[{'aid': 1, 'number': 8, 'element': 'O', 'y': ...</td>\n",
       "      <td>0</td>\n",
       "      <td>[{'aid1': 1, 'aid2': 12, 'order': 1}, {'aid1':...</td>\n",
       "      <td>1110000001110010001111000000000000000000000000...</td>\n",
       "      <td>CC(=O)NC1C(CC(OC1C(C(CO)O)O)(C(=O)O)O)O</td>\n",
       "      <td>0</td>\n",
       "      <td>403</td>\n",
       "      <td>None</td>\n",
       "      <td>...</td>\n",
       "      <td>{'id': {'id': {'cid': 656387}}, 'atoms': {'aid...</td>\n",
       "      <td>5</td>\n",
       "      <td>None</td>\n",
       "      <td>None</td>\n",
       "      <td>177.0</td>\n",
       "      <td>0</td>\n",
       "      <td>0</td>\n",
       "      <td>None</td>\n",
       "      <td>-3.5</td>\n",
       "      <td>SIA</td>\n",
       "    </tr>\n",
       "    <tr>\n",
       "      <th>4</th>\n",
       "      <td>5793</td>\n",
       "      <td>5</td>\n",
       "      <td>[{'aid': 1, 'number': 8, 'element': 'O', 'y': ...</td>\n",
       "      <td>0</td>\n",
       "      <td>[{'aid1': 1, 'aid2': 9, 'order': 1}, {'aid1': ...</td>\n",
       "      <td>1100000001100000001110000000000000000000000000...</td>\n",
       "      <td>C(C1C(C(C(C(O1)O)O)O)O)O</td>\n",
       "      <td>0</td>\n",
       "      <td>151</td>\n",
       "      <td>None</td>\n",
       "      <td>...</td>\n",
       "      <td>{'id': {'id': {'cid': 5793}}, 'atoms': {'aid':...</td>\n",
       "      <td>1</td>\n",
       "      <td>None</td>\n",
       "      <td>None</td>\n",
       "      <td>110.0</td>\n",
       "      <td>1</td>\n",
       "      <td>0</td>\n",
       "      <td>None</td>\n",
       "      <td>-2.6</td>\n",
       "      <td>GLC</td>\n",
       "    </tr>\n",
       "  </tbody>\n",
       "</table>\n",
       "<p>5 rows × 45 columns</p>\n",
       "</div>"
      ],
      "text/plain": [
       "      cid  atom_stereo_count  \\\n",
       "0  445063                  6   \n",
       "1     906                  6   \n",
       "2  444885                  6   \n",
       "3  656387                  6   \n",
       "4    5793                  5   \n",
       "\n",
       "                                               atoms  bond_stereo_count  \\\n",
       "0  [{'aid': 1, 'number': 8, 'element': 'O', 'y': ...                  0   \n",
       "1  [{'aid': 1, 'number': 8, 'element': 'O', 'y': ...                  0   \n",
       "2  [{'aid': 1, 'number': 8, 'element': 'O', 'y': ...                  0   \n",
       "3  [{'aid': 1, 'number': 8, 'element': 'O', 'y': ...                  0   \n",
       "4  [{'aid': 1, 'number': 8, 'element': 'O', 'y': ...                  0   \n",
       "\n",
       "                                               bonds  \\\n",
       "0  [{'aid1': 1, 'aid2': 12, 'order': 1}, {'aid1':...   \n",
       "1  [{'aid1': 1, 'aid2': 12, 'order': 1, 'style': ...   \n",
       "2  [{'aid1': 1, 'aid2': 12, 'order': 1}, {'aid1':...   \n",
       "3  [{'aid1': 1, 'aid2': 12, 'order': 1}, {'aid1':...   \n",
       "4  [{'aid1': 1, 'aid2': 9, 'order': 1}, {'aid1': ...   \n",
       "\n",
       "                                  cactvs_fingerprint  \\\n",
       "0  1110000001110010001111000000000000000000000000...   \n",
       "1  1110000001110010001111000000000000000000000000...   \n",
       "2  1110000001110010001111000000000000000000000000...   \n",
       "3  1110000001110010001111000000000000000000000000...   \n",
       "4  1100000001100000001110000000000000000000000000...   \n",
       "\n",
       "                          canonical_smiles  charge  complexity  \\\n",
       "0  CC(=O)NC1C(CC(OC1C(C(CO)O)O)(C(=O)O)O)O       0         403   \n",
       "1  CC(=O)NC1C(CC(OC1C(C(CO)O)O)(C(=O)O)O)O       0         403   \n",
       "2  CC(=O)NC1C(CC(OC1C(C(CO)O)O)(C(=O)O)O)O       0         403   \n",
       "3  CC(=O)NC1C(CC(OC1C(C(CO)O)O)(C(=O)O)O)O       0         403   \n",
       "4                 C(C1C(C(C(C(O1)O)O)O)O)O       0         151   \n",
       "\n",
       "  conformer_id_3d     ...      \\\n",
       "0            None     ...       \n",
       "1            None     ...       \n",
       "2            None     ...       \n",
       "3            None     ...       \n",
       "4            None     ...       \n",
       "\n",
       "                                              record rotatable_bond_count  \\\n",
       "0  {'id': {'id': {'cid': 445063}}, 'atoms': {'aid...                    5   \n",
       "1  {'id': {'id': {'cid': 906}}, 'atoms': {'aid': ...                    5   \n",
       "2  {'id': {'id': {'cid': 444885}}, 'atoms': {'aid...                    5   \n",
       "3  {'id': {'id': {'cid': 656387}}, 'atoms': {'aid...                    5   \n",
       "4  {'id': {'id': {'cid': 5793}}, 'atoms': {'aid':...                    1   \n",
       "\n",
       "   shape_fingerprint_3d  shape_selfoverlap_3d   tpsa  \\\n",
       "0                  None                  None  177.0   \n",
       "1                  None                  None  177.0   \n",
       "2                  None                  None  177.0   \n",
       "3                  None                  None  177.0   \n",
       "4                  None                  None  110.0   \n",
       "\n",
       "  undefined_atom_stereo_count undefined_bond_stereo_count  volume_3d xlogp  \\\n",
       "0                           0                           0       None  -3.5   \n",
       "1                           6                           0       None  -3.5   \n",
       "2                           0                           0       None  -3.5   \n",
       "3                           0                           0       None  -3.5   \n",
       "4                           1                           0       None  -2.6   \n",
       "\n",
       "  RosettaName  \n",
       "0         SIA  \n",
       "1         SIA  \n",
       "2         SIA  \n",
       "3         SIA  \n",
       "4         GLC  \n",
       "\n",
       "[5 rows x 45 columns]"
      ]
     },
     "execution_count": 5,
     "metadata": {},
     "output_type": "execute_result"
    }
   ],
   "source": [
    "df = pd.concat(list(loc.values())).reset_index()\n",
    "df.head()"
   ]
  },
  {
   "cell_type": "code",
   "execution_count": 6,
   "metadata": {},
   "outputs": [],
   "source": [
    "def deprotonate_acids(mol):\n",
    "    deprotonate_cooh = AllChem.ReactionFromSmarts(\"[C:1](=[O:2])-[OH1:3]>>[C:1](=[O:2])-[O-H0:3]\")\n",
    "    m = Chem.MolFromSmiles(mol)\n",
    "    m_deprot = deprotonate_cooh.RunReactants((m,))\n",
    "    if(m_deprot):\n",
    "        return Chem.MolToSmiles(m_deprot[0][0]), Chem.rdmolops.GetFormalCharge(m_deprot[0][0]) \n",
    "    else:\n",
    "        return Chem.MolToSmiles(m), Chem.rdmolops.GetFormalCharge(m) "
   ]
  },
  {
   "cell_type": "code",
   "execution_count": 7,
   "metadata": {},
   "outputs": [],
   "source": [
    "def protonate_sp3_hybridized_amines(mol):\n",
    "    m1 = Chem.MolFromSmiles(mol)\n",
    "    for at in m1.GetAtoms():\n",
    "        if at.GetAtomicNum() == 7 and at.GetFormalCharge()==0 and str(at.GetHybridization()) == 'SP3':\n",
    "            at.SetFormalCharge(1)\n",
    "    m1.UpdatePropertyCache()\n",
    "    return Chem.rdmolfiles.MolToSmiles(m1), Chem.rdmolops.GetFormalCharge(m1) "
   ]
  },
  {
   "cell_type": "code",
   "execution_count": 8,
   "metadata": {},
   "outputs": [],
   "source": [
    "df[\"PhysiologicalChargeSMILES\"] = \"\"\n",
    "df[\"PhysiologicalCharge\"] = 0\n",
    "for i,j in zip(df.index, df['isomeric_smiles']):\n",
    "    tmpsmiles, charge_ = protonate_sp3_hybridized_amines(j)\n",
    "    tmpsmiles, charge_ = deprotonate_acids(tmpsmiles)\n",
    "    df.iloc[i,df.columns.get_loc(\"PhysiologicalChargeSMILES\")] = tmpsmiles\n",
    "    df.iloc[i,df.columns.get_loc(\"PhysiologicalCharge\")] = charge_\n",
    "    "
   ]
  },
  {
   "cell_type": "code",
   "execution_count": 9,
   "metadata": {
    "hideCode": false,
    "hidePrompt": false,
    "slideshow": {
     "slide_type": "skip"
    }
   },
   "outputs": [],
   "source": [
    "import shutil,subprocess,os\n",
    "from rdkit import Chem\n",
    "from rdkit.Chem import AllChem\n",
    "from rdkit.Chem import rdMolTransforms as rdmt\n",
    "import numpy as np\n",
    "# from rdkit import Chem\n",
    "from rdkit.Chem.Draw import IPythonConsole\n",
    "from rdkit.Chem.Draw import MolDrawing, DrawingOptions\n",
    "from rdkit.Geometry import rdGeometry as geom\n",
    "import py3Dmol\n",
    "from rdkit import Chem\n",
    "from rdkit.Chem import AllChem\n",
    "from ipywidgets import interact, interactive, fixed\n",
    "from ipywidgets import interact, widgets\n",
    "from IPython.display import display\n",
    "import py3Dmol"
   ]
  },
  {
   "cell_type": "code",
   "execution_count": 10,
   "metadata": {
    "hideCode": false,
    "hidePrompt": false,
    "slideshow": {
     "slide_type": "skip"
    }
   },
   "outputs": [],
   "source": [
    "def drawit(m,p,confId=-1):\n",
    "    mb = Chem.MolToMolBlock(m,confId=confId)\n",
    "    p.removeAllModels()\n",
    "    p.addModel(mb,'sdf')\n",
    "    p.setStyle({'stick':{}})\n",
    "    p.setBackgroundColor('0xeeeeee')\n",
    "    p.zoomTo()\n",
    "    return p.show()"
   ]
  },
  {
   "cell_type": "code",
   "execution_count": 11,
   "metadata": {
    "hideCode": false,
    "hidePrompt": false,
    "slideshow": {
     "slide_type": "skip"
    }
   },
   "outputs": [],
   "source": [
    "def generate_molecule(name,smiles):\n",
    "    \"\"\"\n",
    "    Generate the 3D molecular structure based on input SMILES\n",
    "    ----------\n",
    "    name : name of molecule\n",
    "    smiles: SMILES of molecule\n",
    "    Returns\n",
    "    ----------\n",
    "    Mol \n",
    "    \n",
    "    \"\"\"\n",
    "    LIGAND_NAME = name\n",
    "    m = Chem.MolFromSmiles(smiles)\n",
    "    # Add hydrogens\n",
    "    m_h = Chem.AddHs(m)\n",
    "    # Embeed the geometry\n",
    "    AllChem.EmbedMolecule(m_h, params=AllChem.ETKDGv2())\n",
    "    AllChem.MMFFOptimizeMolecule(m_h, mmffVariant=\"MMFF94s\")\n",
    "    # Setting name of molecule\n",
    "    m_h.SetProp(\"_Name\",LIGAND_NAME)\n",
    "    \n",
    "    return m_h"
   ]
  },
  {
   "cell_type": "code",
   "execution_count": 12,
   "metadata": {
    "hideCode": false,
    "hidePrompt": false,
    "slideshow": {
     "slide_type": "skip"
    }
   },
   "outputs": [],
   "source": [
    "def get_conformers(mol,nr=500,rmsthreshold=0.1):\n",
    "    \"\"\"\n",
    "    Generate 3D conformers of molecule using CSD-method\n",
    "    ----------\n",
    "    mol : RKdit molecule\n",
    "    nr : integer, number of conformers to be generate\n",
    "    rmsthreshold : float, prune conformers that are less rms away from another conf\n",
    "    Returns\n",
    "    ----------\n",
    "    List of new conformation IDs\n",
    "    \"\"\"\n",
    "    # Generate conformers on the CSD-method\n",
    "    return AllChem.EmbedMultipleConfs(mol, numConfs=nr,useBasicKnowledge=True,\\\n",
    "                                      pruneRmsThresh=rmsthreshold,useExpTorsionAnglePrefs=True)\n",
    "\n",
    "\n",
    "\n",
    "\n"
   ]
  },
  {
   "cell_type": "code",
   "execution_count": 13,
   "metadata": {},
   "outputs": [],
   "source": [
    "ligands = {}\n",
    "for i,j,k in zip(df.cid, df['isomeric_smiles'],df[\"PhysiologicalChargeSMILES\"]):\n",
    "    if(k != \"\"):\n",
    "        ligands[\"CID_\"+str(i)] = k\n",
    "    else:\n",
    "        ligands[\"CID_\"+str(i)] = j"
   ]
  },
  {
   "cell_type": "code",
   "execution_count": 14,
   "metadata": {
    "hideCode": false,
    "hidePrompt": false,
    "scrolled": true,
    "slideshow": {
     "slide_type": "skip"
    }
   },
   "outputs": [],
   "source": [
    "mols = {}\n",
    "for name in ligands.keys():\n",
    "    mols[name] = generate_molecule(name,ligands[name])"
   ]
  },
  {
   "cell_type": "code",
   "execution_count": 15,
   "metadata": {
    "hideCode": false,
    "hidePrompt": false,
    "slideshow": {
     "slide_type": "skip"
    }
   },
   "outputs": [],
   "source": [
    "for i in ligands.keys():\n",
    "    cids = get_conformers(mols[i], NUMBER_OF_CONFORMERS,0.1)\n",
    "    # Do a short minimization and compute the RMSD\n",
    "    for cid in cids:\n",
    "        _ = AllChem.MMFFOptimizeMolecule(mols[i], confId=cid, mmffVariant=\"MMFF94s\")\n",
    "        \n",
    "    rmslist = []\n",
    "    AllChem.AlignMolConformers(mols[i], RMSlist=rmslist)"
   ]
  },
  {
   "cell_type": "code",
   "execution_count": 16,
   "metadata": {
    "hideCode": false,
    "hidePrompt": false,
    "slideshow": {
     "slide_type": "skip"
    }
   },
   "outputs": [],
   "source": [
    "molecule_widget = widgets.Dropdown(\n",
    "    options=list(mols.keys()),\n",
    "    value=list(mols.keys())[0],\n",
    "    description='Molecule:',\n",
    "    disabled=False,\n",
    ")"
   ]
  },
  {
   "cell_type": "code",
   "execution_count": 17,
   "metadata": {
    "hideCode": false,
    "hidePrompt": false,
    "slideshow": {
     "slide_type": "skip"
    }
   },
   "outputs": [],
   "source": [
    "molconf_widget = widgets.Label(\n",
    "    value = 'Number of conformers: '+str(mols[molecule_widget.value].GetNumConformers())\n",
    ")"
   ]
  },
  {
   "cell_type": "code",
   "execution_count": 18,
   "metadata": {
    "hideCode": false,
    "hidePrompt": false,
    "slideshow": {
     "slide_type": "skip"
    }
   },
   "outputs": [],
   "source": [
    "def select_molecule(molecule):\n",
    "    new_i = widgets.interactive(print_city, country=countryW, city=geoWs[country['new']])\n",
    "    i.children = new_i.children\n",
    "    \n",
    "def on_change(change):\n",
    "    from IPython.display import clear_output\n",
    "    clear_output()\n",
    "    molconf_widget.value = 'Number of conformers: '+str(mols[change['new']].GetNumConformers())\n",
    "    display(container)\n",
    "    interact(drawit,m=fixed(mols[change['new']]),p=fixed(p),confId=(0,mols[change['new']].GetNumConformers()-1));"
   ]
  },
  {
   "cell_type": "code",
   "execution_count": 19,
   "metadata": {
    "hideCode": false,
    "hidePrompt": false,
    "slideshow": {
     "slide_type": "subslide"
    }
   },
   "outputs": [
    {
     "data": {
      "application/vnd.jupyter.widget-view+json": {
       "model_id": "94dc6592f5da4d7594577e1fe7b6a97d",
       "version_major": 2,
       "version_minor": 0
      },
      "text/plain": [
       "HBox(children=(Dropdown(description='Molecule:', options=('CID_445063', 'CID_906', 'CID_444885', 'CID_656387',…"
      ]
     },
     "metadata": {},
     "output_type": "display_data"
    },
    {
     "data": {
      "application/vnd.jupyter.widget-view+json": {
       "model_id": "e50afea6247348f48e354a333d3a351a",
       "version_major": 2,
       "version_minor": 0
      },
      "text/plain": [
       "interactive(children=(IntSlider(value=0, description='confId', max=24), Output()), _dom_classes=('widget-inter…"
      ]
     },
     "metadata": {},
     "output_type": "display_data"
    }
   ],
   "source": [
    "container = widgets.HBox([molecule_widget, molconf_widget])\n",
    "display(container)\n",
    "# now construct the view and interactive widget:\n",
    "p = py3Dmol.view(width=600,height=400)\n",
    "# this is the widget that needs to tricker events\n",
    "molecule_widget.observe(on_change, names='value')\n",
    "interact(drawit,m=fixed(mols[molecule_widget.value]),p=fixed(p),confId=(0,mols[molecule_widget.value].GetNumConformers()-1));"
   ]
  },
  {
   "cell_type": "code",
   "execution_count": 20,
   "metadata": {},
   "outputs": [],
   "source": [
    "def write_aligned_to_file(molecule, filename='Aligned.sdf' ):\n",
    "    conf_ids = [conf.GetId() for conf in molecule.GetConformers()]\n",
    "    rmslst = []\n",
    "    AllChem.AlignMolConformers(molecule, RMSlist=rmslst)\n",
    "    writer3 = Chem.SDWriter(filename)\n",
    "    for conf in conf_ids:\n",
    "        writer3.write(molecule,confId=conf)"
   ]
  },
  {
   "cell_type": "code",
   "execution_count": 21,
   "metadata": {},
   "outputs": [],
   "source": [
    "import glob, shutil, os, subprocess\n",
    "def setup_directory(dictionary_w_molecule, df):\n",
    "    for i in dictionary_w_molecule.keys():\n",
    "        os.mkdir(i)\n",
    "        os.chdir(i)\n",
    "        write_aligned_to_file(dictionary_w_molecule[i])\n",
    "        charge_ = df[df[\"cid\"] == int(i.split(\"_\")[1])][\"PhysiologicalCharge\"].values[0]\n",
    "        exe=\"python2.7 \"+ros_exe+\" Aligned.sdf -c --recharge=\"+str(charge_)+ \" --conformers-in-one-file \"\n",
    "        subprocess.Popen(exe,shell=True).wait()\n",
    "        os.chdir(\"../\")\n",
    "setup_directory(mols,df)"
   ]
  },
  {
   "cell_type": "code",
   "execution_count": null,
   "metadata": {},
   "outputs": [],
   "source": []
  }
 ],
 "metadata": {
  "hide_code_all_hidden": true,
  "kernelspec": {
   "display_name": "Python 3",
   "language": "python",
   "name": "python3"
  },
  "language_info": {
   "codemirror_mode": {
    "name": "ipython",
    "version": 3
   },
   "file_extension": ".py",
   "mimetype": "text/x-python",
   "name": "python",
   "nbconvert_exporter": "python",
   "pygments_lexer": "ipython3",
   "version": "3.6.8"
  }
 },
 "nbformat": 4,
 "nbformat_minor": 2
}
