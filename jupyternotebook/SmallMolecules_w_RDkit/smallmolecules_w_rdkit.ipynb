{
 "cells": [
  {
   "cell_type": "markdown",
   "metadata": {
    "slideshow": {
     "slide_type": "slide"
    }
   },
   "source": [
    "# Get SMILES from pubchem"
   ]
  },
  {
   "cell_type": "code",
   "execution_count": 1,
   "metadata": {},
   "outputs": [],
   "source": [
    "import pubchempy as pcp\n",
    "import pandas as pd"
   ]
  },
  {
   "cell_type": "code",
   "execution_count": 2,
   "metadata": {},
   "outputs": [],
   "source": [
    "# Added physiological charge based on ChemAxon\n",
    "physiological_charge_states = {\n",
    "    # serotonin\n",
    "    ##'SRN' : 'C1=CC2=C(C=C1O)C(=CN2)CC[NH3+]',\n",
    "    'SRN' : 'C1=CC2=C(C=C1O)C(=CN2)CC[N+]',\n",
    "    'ATP' : 'Nc1ncnc2c1ncn2[C@@H]1O[C@H](COP(=O)([O-])OP(=O)([O-])OP(=O)([O-])O)[C@@H](O)[C@H]1O',\n",
    "    # sialic acid\n",
    "    'SIA' : '', #'CC(=O)N[C@@H]1[C@@H](O)C[C@](O)(O[C@H]1[C@H](O)[C@H](O)CO)C([O-])=O',\n",
    "    # Tramadol\n",
    "    'TAM' : 'C[NH+](C)C[C@H]1CCCC[C@@]1(C2=CC(=CC=C2)OC)O',\n",
    "                     \"GLC\" : \"\",\n",
    "                     \"HDY\" : \"\", \n",
    "                     \"BRA\" : \"\", \n",
    "                     \"AFL\" : \"\",\n",
    "                     \"NAF\" : \"\", \n",
    "                     \"TNT\" : \"\"}\n",
    "pcs = pd.DataFrame.from_dict(physiological_charge_states,columns=[\"PhysiologicalChargeSMILES\"],orient='index').reset_index()\n",
    "pcs = pcs.rename(columns= {'index' : \"RosettaName\"} )"
   ]
  },
  {
   "cell_type": "code",
   "execution_count": 3,
   "metadata": {},
   "outputs": [],
   "source": [
    "NUMBER_OF_CONFORMERS=25"
   ]
  },
  {
   "cell_type": "code",
   "execution_count": 4,
   "metadata": {},
   "outputs": [],
   "source": [
    "%%capture\n",
    "!pip install pubchempy"
   ]
  },
  {
   "cell_type": "code",
   "execution_count": 5,
   "metadata": {},
   "outputs": [
    {
     "name": "stdout",
     "output_type": "stream",
     "text": [
      "[{'CID': 445063, 'Synonym': ['131-48-6', 'N-Acetyl-D-neuraminic acid', 'Lactaminic acid', 'N-acetylneuramic acid', 'NANA', 'N-acetyl-beta-neuraminic acid', 'sialic acid', 'beta-Neu5Ac', 'BETA-SIALIC ACID', 'N-Acetylsialic acid', '5-N-ACETYL-BETA-D-NEURAMINIC ACID', 'UNII-TIP79W5HPN', '(2S,4S,5R,6R)-5-Acetamido-2,4-dihydroxy-6-((1R,2R)-1,2,3-trihydroxypropyl)tetrahydro-2H-pyran-2-carboxylic acid', 'Acetylneuraminic acid', '5-Acetamido-3,5-dideoxy-D-glycero-D-galactononulosonic acid', 'TIP79W5HPN', 'CHEMBL165084', 'N-acetyl-beta-neuraminate', 'CHEBI:45744', 'Acido aceneuramico', 'Acide aceneuramique', 'Acidium aceneuramicum', 'MFCD00006620', 'NAN', 'O-sialic acid', '(-)-N-Acetylneuraminic acid', '5-acetamido-3,5-dideoxy-D-glycero-beta-D-galacto-non-2-ulopyranosonic acid', '19342-33-7', '(2S,4S,5R,6R)-5-acetamido-2,4-dihydroxy-6-[(1R,2R)-1,2,3-trihydroxypropyl]oxane-2-carboxylic acid', 'SLB', '5-N-Acetylneuraminic acid', 'Aceneuramate', 'Lactaminate', 'Sialomucin', 'N-Acetylsialate', 'b-sialic acid', 'N-Acetylneuramate', '4mmp', '4mnp', '489-46-3', 'AK-46233', 'N-acetyl-neuraminate', 'Neu-5Ac', 'N-AcetylneuraminicAcid', '5-N-Acetylneuraminate', 'n-acetylneuraminic-acid', 'N-Acetyl-b-neuraminate', 'N-Acetyl-D-neuraminate', 'AC1L9HCU', 'N-Acetyl-b-D-neuraminate', 'Neuraminic acid, N-acetyl', '5-N-Acetyl-D-neuraminate', 'N-Acetyl-delta-neuraminate', 'SCHEMBL22412', '5-N-Acetyl-delta-neuraminate', 'MLS002207179', 'N-Acetyl-b-D-neuraminic acid', '5-N-Acetyl-D-neuraminic acid', 'Neuraminic acid, N-acetyl- Starburst 4th Generation', 'N-Acetyl-delta-neuraminic acid', 'N-Acetyl-beta-delta-neuraminate', 'N-acetyl-beta-D-neuraminic acid', '5-N-Acetyl-b-D-neuraminic acid', 'KS-00000EUM', 'DTXSID80864309', '5-N-Acetyl-delta-neuraminic acid', 'SQVRNKJHWKZAKO-PFQGKNLYSA-N', '(-)-N-acetyl-beta-neuraminic acid', 'N-Acetyl-beta-delta-neuraminic acid', 'ZINC3793840', 'N-(-)-ACETYLNEURAMINIC ACID', 'BDBM50063302', 'GC7214', '5-N-Acetyl-beta-delta-neuraminic acid', 'AKOS016004587', 'AM83978', 'CA-1659', 'DB04265', 'EBD2203452', 'RL01476', 'AC-24185', 'AJ-45630', 'AS-13907', 'SMR000857174', 'O-SIALIC ACID (CHAIR CONFORMATION)', 'AB0068744', 'AX8013467', 'N-Acetylneuraminic acid, analytical standard', 'N-Acetylneuraminic acid, synthetic, >=95%', 'ST2413566', 'FT-0080016', 'B-3274', 'C19910', '131A486', '(-)-N-Acetylneuraminic acid, synthetic, crystalline', 'N-Acetylneuraminic acid, cell culture tested, >=95%', 'N-Acetylneuraminic acid, from Escherichia coli, >=98%', '5-acetamido-3,5-dideoxy-D-glycero-D-galacto-Nonulosonate', '028D6D24-32A0-45ED-857E-4138653435FB', '5-(acetylamino)-3,5-dideoxy-D-glycero-D-galacto-2-Nonulosonate', '5-acetamido-3,5-dideoxy-delta-glycero-delta-galacto-Nonulosonate', '5-acetamido-3,5-dideoxy-delta-glycero-delta-galacto-Nonulosonic acid', 'b-5-acetamido-3,5-dideoxy-D-glycero-D-galacto-Nonulopyranosonate', 'WURCS=2.0/1,1,0/[Aad21122h-2b_2-6_5*NCC/3=O]/1/', '5-(acetylamino)-3,5-dideoxy-D-glycero-b-D-galacto-2-Nonulopyranosonate', '5-(acetylamino)-3,5-dideoxy-D-glycero-b-D-galacto-2-Nonulopyranosonic acid', '5-(acetylamino)-3,5-dideoxy-delta-glycero-delta-galacto-2-Nonulosonate', '5-(acetylamino)-3,5-dideoxy-delta-glycero-delta-galacto-2-Nonulosonic acid', 'b-5-acetamido-3,5-dideoxy-D-glycero-D-galacto-Nonulopyranosonic acid', 'beta-5-acetamido-3,5-dideoxy-delta-glycero-delta-galacto-Nonulopyranosonate', '5-(acetylamino)-3,5-dideoxy-D-glycero-beta-D-galacto-non-2-ulopyranosonic acid', '5-(acetylamino)-3,5-dideoxy-delta-glycero-beta-delta-galacto-2-Nonulopyranosonate', '5-(acetylamino)-3,5-dideoxy-delta-glycero-beta-delta-galacto-2-Nonulopyranosonic acid', 'beta-5-acetamido-3,5-dideoxy-delta-glycero-delta-galacto-Nonulopyranosonic acid', '(2S,4S,5R,6R)-5-acetamido-2,4-dihydroxy-6-[(1R,2R)-1,2,3-trihydroxypropyl]tetrahydropyran-2-carboxylic acid']}, {'CID': 906, 'Synonym': ['sialic acid', 'Type IV', '131-48-6', 'N-Acetylneuraminic Acid, Synthetic', 'NSC111756', 'Neuraminic acid, N-acetyl-', 'O-sialic acid', '489-46-3', 'AC1L1AAK', 'AC1Q5TBS', '5-acetamido-3,5-dideoxynon-2-ulopyranosonic acid', 'Oprea1_149877', 'CHEMBL112030', 'SCHEMBL2619258', 'SCHEMBL11936589', 'DTXSID80964136', 'SQVRNKJHWKZAKO-UHFFFAOYSA-N', 'AN-995', 'D-glycero-D-galacto-2-Nonulosonic acid, 5-(acetylamino)-3,5-dideoxy-', '(-)-N-Acetylneuraminic acid,synthetic', 'AKOS025243615', 'NSC-111756', 'TRA-0206530', 'SY012200', 'MFCD00006620 (98%)', 'I04-0065', '5-(Acetylamino)-3,5-dideoxynon-2-ulopyranosonic acid #', '9724BDBF-717D-4312-8E53-2EC71ECF2DE6', '5-Acetamido-3,5-dideoxy-D -glycero-D -galactononulopyranosonic acid', '5-Acetamido-3,5-dideoxy-D-glycero-D-galactononulopyranosonic acid', '3,5-Dideoxy-5-[(1-hydroxyethylidene)amino]non-2-ulopyranosonic acid', '5-acetamido-2,4-dihydroxy-6-(1,2,3-trihydroxypropyl)oxane-2-carboxylic acid', '5-acetamido-2,4-dihydroxy-6-(1,2,3-trihydroxypropyl)tetrahydropyran-2-carboxylic acid', '2,4-Dihydroxy-5-(acetylamino)-6-(1,2,3-trihydroxypropyl)-tetrahydro-2H-pyran-2-carboxylic acid']}, {'CID': 444885, 'Synonym': ['alpha-Neu5Ac', 'N-acetyl-alpha-neuraminic acid', 'O-sialic acid', 'CHEBI:49026', 'N-Acetyl-a-neuraminic acid', 'UNII-04A90EXP8V', 'sialic acid', '04A90EXP8V', 'N-acetyl-alpha-neuraminate', '5-acetamido-3,5-dideoxy-D-glycero-alpha-D-galacto-non-2-ulopyranosonic acid', '131-48-6', '(2R,4S,5R,6R)-5-acetamido-2,4-dihydroxy-6-[(1R,2R)-1,2,3-trihydroxypropyl]oxane-2-carboxylic acid', 'SIA', 'polysialic acid', 'Alpha-Sialoside', '2qwb', '4lkh', 'N-Acetyl-a-neuraminate', 'N-Acetyl-a-D-neuraminate', 'Epitope ID:136794', 'SCHEMBL79085', 'N-Acetyl-a-D-neuraminic acid', 'poly-alpha-(2->8)-NeuNAc', 'poly-alpha-(2->8)-Neu5Ac', 'AC1L9H20', '[alpha-Neu5Ac-(2->8)]n', 'CHEMBL1234621', 'N-Acetyl-alpha-delta-neuraminate', '[8)-alpha-NeuNAC-(2->]n', 'CHEBI:61599', 'poly[alpha-Neu5Ac-(2->8)]', '[8)-alpha-Neu5Ac-(2->]n', 'N-Acetyl-alpha-D-neuraminic acid', 'alpha-Neuraminic acid, N-acetyl-', 'ZINC4081651', '5-N-Acetyl-Alpha-D-Neuraminic Acid', 'N-Acetyl-alpha-delta-neuraminic acid', 'DB03721', 'N-Acetyl-alpha-neuraminic acid, (-)-', 'CS-11243', 'A0639', 'Sialic acids, N-acetyl-alpha-neuraminic acid-', 'C19909', 'N-acetylated alpha-(2->8)-linked homosialopolysaccharide', '5-acetamido-3,5-dideoxy-a-D-glycero-D-galacto-Nonulopyranosonate', 'WURCS=2.0/1,1,0/[Aad21122h-2a_2-6_5*NCC/3=O]/1/', '5-(acetylamino)-3,5-dideoxy-D-glycero-a-D-galacto-2-Nonulopyranosonate', '5-(acetylamino)-3,5-dideoxy-D-glycero-a-D-galacto-2-Nonulopyranosonic acid', '5-acetamido-3,5-dideoxy-a-D-glycero-D-galacto-Nonulopyranosonic acid', '5-acetamido-3,5-dideoxy-alpha-delta-glycero-delta-galacto-Nonulopyranosonate', '5-(acetylamino)-3,5-dideoxy-D-glycero-alpha-D-galacto-non-2-ulopyranosonic acid', '5-(acetylamino)-3,5-dideoxy-delta-glycero-alpha-delta-galacto-2-Nonulopyranosonate', '5-(acetylamino)-3,5-dideoxy-delta-glycero-alpha-delta-galacto-2-Nonulopyranosonic acid', '5-acetamido-3,5-dideoxy-alpha-delta-glycero-delta-galacto-Nonulopyranosonic acid', 'D-Glycero-alpha-D-galacto-2-nonulopyranosonic acid, 5-(acetylamino)-3,5-dideoxy-', '(2R,4S,5R,6R)-5-Acetamido-2,4-dihydroxy-6-((1R,2R)-1,2,3-trihydroxypropyl)tetrahydro-2H-pyran-2-carboxylic acid', '21646-00-4']}, {'CID': 656387, 'Synonym': ['sialic acid', '5-Acetamido--3,5-dideoxy-D-glyceo-D-galacto-2-nonulosonic acid', 'AC1LCUUJ', 'CHEMBL152452', '(2R,4S,5R,6R)-5-acetamido-2,4-dihydroxy-6-[(1S,2S)-1,2,3-trihydroxypropyl]oxane-2-carboxylic acid']}]\n",
      "[{'CID': 5793, 'Synonym': ['D-Glucose', 'Glucose', 'D-Glucopyranose', 'Glucopyranose', 'Grape sugar', 'D-Glc', 'Glucodin', 'Meritose', 'Clintose L', 'CPC hydrate', 'Roferose ST', 'Clearsweet 95', '2280-44-6', 'Staleydex 95M', 'D-Glcp', 'CHEBI:4167', 'Glucopyranoside', 'D-Glucopyranoside', 'Glc', '(3R,4S,5S,6R)-6-(hydroxymethyl)oxane-2,3,4,5-tetrol', 'Glucopyranose, D-', '(+)-Glucose', 'DSSTox_CID_2910', 'Glucose solution', 'a-D-Glucose', '2h-pyran-2,3,4,5-tetraol', 'D-Glucopyranose, anhydrous', 'glc-ring', 'Cartose Cerelose', 'D-glucose-ring', 'Glucose 40', 'Staleydex 130', 'EINECS 218-914-5', 'Glc-OH', 'Meritose 200', 'nchembio867-comp4', 'Glucose (JP17)', 'Anhydrous Glucose ,(S)', 'Purified glucose (JP17)', 'Epitope ID:142342', 'AC1L1L5H', 'DSSTox_RID_76784', 'DSSTox_RID_82925', 'DSSTox_GSID_22910', 'DSSTox_GSID_48729', 'AC1Q28E2', 'GTPL4536', 'CHEMBL1222250', 'BDBM34103', 'CTK1A6945', 'WQZGKKKJIJFFOK-GASJEMHNSA-N', 'Tox21_113165', 'Tox21_200145', 'FCH835462', 'AKOS025147374', 'CRB0000812', 'CAS-50-99-7', 'NCGC00166293-01', 'NCGC00257699-01', 'AN-24387', 'AB1003407', 'CAS-58367-01-4', 'FT-0624357', 'FT-0668994', 'G0048', '(3R,4S,5S,6R)-6-(hydroxymethyl)tetrahydro-', '2045-EP2270006A1', '2045-EP2270008A1', '2045-EP2270011A1', '2045-EP2270014A1', '2045-EP2272822A1', '2045-EP2272826A1', '2045-EP2275102A1', '2045-EP2275412A1', '2045-EP2277565A2', '2045-EP2277566A2', '2045-EP2277567A1', '2045-EP2277568A2', '2045-EP2277569A2', '2045-EP2277570A2', '2045-EP2277848A1', '2045-EP2277867A2', '2045-EP2280003A2', '2045-EP2284149A1', '2045-EP2284160A1', '2045-EP2287147A2', '2045-EP2287165A2', '2045-EP2287166A2', '2045-EP2289892A1', '2045-EP2292233A2', '2045-EP2292280A1', '2045-EP2292617A1', '2045-EP2292620A2', '2045-EP2292624A1', '2045-EP2295055A2', '2045-EP2295411A1', '2045-EP2295415A1', '2045-EP2295416A2', '2045-EP2295424A1', '2045-EP2295426A1', '2045-EP2295427A1', '2045-EP2295430A2', '2045-EP2295431A2', '2045-EP2295439A1', '2045-EP2298735A1', '2045-EP2298744A2', '2045-EP2298748A2', '2045-EP2298762A2', '2045-EP2298770A1', '2045-EP2298779A1', '2045-EP2301533A1', '2045-EP2301919A1', '2045-EP2301923A1', '2045-EP2301931A1', '2045-EP2301937A1', '2045-EP2305248A1', '2045-EP2305257A1', '2045-EP2305636A1', '2045-EP2305657A2', '2045-EP2305663A1', '2045-EP2305684A1', '2045-EP2305695A2', '2045-EP2305696A2', '2045-EP2305697A2', '2045-EP2305698A2', '2045-EP2308812A2', '2045-EP2308852A1', '2045-EP2311453A1', '2045-EP2311806A2', '2045-EP2311821A1', '2045-EP2311823A1', '2045-EP2311824A1', '2045-EP2311829A1', '2045-EP2311836A1', '2045-EP2311842A2', '2045-EP2314295A1', '2045-EP2314571A2', '2045-EP2314584A1', '2045-EP2377849A2', 'C00031', 'D00009', '114935-EP2270010A1', '114935-EP2292593A2', '114935-EP2298728A1', 'I14-53295', 'N_FULL/O_FULL_10000000000000_GS_656', 'WURCS=2.0/1,1,0/[a2122h-1x_1-5]/1/', '(3R,4S,5S,6R)-6-(hydroxymethyl)tetrahydropyran-2,3,4,5-tetrol', '(3R,4S,5S,6R)-6-(Hydroxymethyl)tetrahydro-2H-pyran-2,3,4,5-tetraol']}]\n"
     ]
    },
    {
     "name": "stdout",
     "output_type": "stream",
     "text": [
      "[{'CID': 6852390, 'Synonym': ['6beta-Hydroxycortisol', 'NSC 76163', '53-35-0', 'UNII-J37WKJ5Y50', 'MLS000028854', 'J37WKJ5Y50', 'SMR000058916', '(6R,8S,9S,10R,11S,13S,14S,17R)-6,11,17-trihydroxy-17-(2-hydroxyacetyl)-10,13-dimethyl-2,6,7,8,9,11,12,14,15,16-decahydro-1H-cyclopenta[a]phenanthren-3-one', '174866-45-6', '6|A-Hydroxy Cortisol', '3078-34-0', '6beta,17-Dihydroxycorticosterone', '6beta-HO-cortisol', '6beta-OH-cortisol', 'Corticosterone, 6beta,17-dihydroxy-', '6-beta-hydroxycortisol', 'Opera_ID_751', '4-Pregnene-6,11beta,17,21-tetrol-3,20-dione', 'AC1OAA1A', '6beta-Hydroxyhydrocortisone', 'SCHEMBL142686', '6|A,17-Dihydroxycorticosterone', 'CHEMBL1389133', 'CTK8F1105', 'DTXSID80425873', 'Benzyl 2-Acetamido-2-deoxy-4-O-beta-D-galactofuranosyl-alpha-D-glucopyranoside', 'CHEBI:139271', '6beta,11beta,17alpha,21-Tetrahydroxypregn-4-en-3,20-dione', 'HMS2235P15', 'Pregn-4-ene-3,20-dione, 6beta,11beta,17,21-tetrahydroxy-', 'NSC76163', 'MFCD00200405', 'NSC-76163', 'ZINC13118371', 'AKOS027326842', 'NCGC00247037-01', 'RT-011458', '6,11beta,17,21-Tetrahydroxypregn-4-ene-3,20-dione', '6|A,11|A,17|A,21-Tetrahydroxypregn-4-en-3,20-dione', '6beta,11beta,17,21-tetrahydroxypregn-4-ene-3,20-dione', '(6|A,11|A)-6,11,17,21-Tetrahydroxypregn-4-ene-3,20-dione', '(6beta,11beta)-6,11,17,21-tetrahydroxypregn-4-ene-3,20-dione', 'Pregn-4-en-3,20-dione, 6,11,17,21-tetrahydroxy-, (6beta,11beta)-', '6beta,11beta,17,21-Tetrahydroxypregn-4-ene-3,20-dione (6beta-Hydroxyhydrocortisone)', '(6R,8S,9S,10R,11S,13S,14S,17R)-6,11,17-trihydroxy-17-(2-hydroxyacetyl)-10,13-dimethyl-6,7,8,9,10,11,12,13,14,15,16,17-dodecahydro-1H-cyclopenta[a]phenanthren-3(2H)-one', '6,17-trihydroxy-17-(2-hydroxyacetyl)-10,13-dimethyl-2,6,7,8,9,11,12,14,15,16-decahydro-1H-cyclopenta[a]phenanthren-3-one']}]\n",
      "[{'CID': 115196, 'Synonym': ['Brassinolide', '72962-43-7', '24-Epibrassinolide', 'UNII-Y9IQ1L53OX', 'NSC 325306', 'Y9IQ1L53OX', '2alpha,3alpha,22alpha,23alpha-Tetrahydroxy-24alpha-methyl-B-homo-7-oxa-5alpha-cholestan-6-one', 'B-Homo-7-oxaergostan-6-one, 2,3,22,23-tetrahydroxy-, (2alpha,3alpha,5alpha,22R,23R,24S)-', '6H-Benz(c)indeno(5,4-e)oxepin-6-one, 1-((1S,2R,3R,4S)-2,3-dihydroxy-1,4,5-trimethylhexyl)hexadecahydro-8,9-dihydroxy-10a,12a-dimethyl-, (1R,3aS,3bS,6aS,8S,9R,10aR,10bS,12aS)-', 'C28H48O6', 'EPIBRASSINOLIDE', '2alpha,3alpha,22R,23R-tetrahydroxy-6,7-seco-5-campestano-6,7-lactone', '(3aS,5S,6R,7aR,7bS,9aS,10R,12aS,12bS)-10-[(1S,2R,3R,4S)-2,3-dihydroxy-1,4,5-trimethylhexyl]-5,6-dihydroxy-7a,9a-dimethylhexadecahydro-3H-benzo[c]indeno[5,4-e]oxepin-3-one', 'Brassinolide >90%', 'a,12aalpha]]-', 'AC1L3GP5', 'SCHEMBL119753', 'DTXSID0039699', 'CHEBI:28277', 'HY-N0273', 'ZINC8221384', '3508AH', 'LMST01140001', 'MFCD00792745', 'AN-6734', 'CS-1486', 'LS-186735', 'LS-187424', 'TL8005081', 'A3265', '7599-EP2311815A1', 'C08814', 'W-5121', 'C-22801', '2,3,22,23-Tetrahydroxy-|A-homo-7-oxaergostan-6-one', '(2|A,3|A,5|A,22R,23R,24S)-2,3,22,23-Tetrahydroxy-B-homo-7-oxaergostan-6-one', '(22R,23R)-2alpha,3alpha,22,23-tetrahydroxy-6,7-seco-5alpha-campestano-6,7-lactone', '(22R,23R)-2alpha,3alpha,22,23-tetrahydroxy-7a-homo-7-oxa-5alpha-campestan-6-one', '(2alpha,3alpha,5alpha,22R,23R,24S)-2,3,22,23-Tetrahydroxy-B-homo-7-oxaergostan-6-one', '2alpha,3alpha,22,23-tetrahydroxy-24-methyl-B-homo-7-oxa-5alpha-cholestan-6-one', '(1R,3aS,3bS,6aS,8S,9R,10aR,10bS,12aS)-1-[(1S,2R,3R,4S)-2,3-Dihydroxy-1,4,5-trimethylhexyl]hexadecahydro-8,9-dihydroxy-10a,12a-dimethyl-6H-benz[c]indeno[5,4-e]oxepin-6-one', '(3aS,5S,6R,7aR,7bS,9aS,10R,12aS,12bS)-10-[(2S,3R,4R,5S)-3,4-dihydroxy-5,6-dimethylheptan-2-yl]-5,6-dihydroxy-7a,9a-dimethylhexadecahydro-3H-benzo[c]indeno[5,4-e]oxepin-3-one', '3H-benz[c]indeno[5,4-e]oxepin-3-one, 10-[(1S,2R,3R,4S)-2,3-dihydroxy-1,4,5-trimethylhexyl]hexadecahydro-5,6-dihydroxy-7a,9a-dimethyl-, (3aS,5S,6R,7aR,7bS,9aS,10R,12aS,12bS)-', '6H-Benz[c]indeno[5,4-e]oxepin-6-one, 1-(2,3-dihydroxy-1,4,5-trimethylhexyl)hexadecahydro-8,9-dihydroxy-10a,12a-dimethyl-, [1R-[1alpha(1S*,2R*,3R*,4S*),3abeta,3balpha,6abeta,8beta,9beta,10aalpha,10bbet', '6H-Benz[c]indeno[5,4-e]oxepin-6-one, 1-[(1S,2R,3R,4S)-2,3-dihydroxy-1,4,5-trimethylhexyl]hexadecahydro-8,9-dihydroxy-10a,12a-dimethyl-, (1R,3aS,3bS,6aS,8S,9R,10aR,10bS,12aS)- (9CI)']}]\n",
      "[{'CID': 5957, 'Synonym': ['Adenosine triphosphate', \"Adenosine 5'-triphosphate\", '56-65-5', 'Myotriphos', 'Striadyne', 'Triadenyl', 'Triphosphaden', 'Atriphos', 'ATP', 'Glucobasin', 'Adephos', 'Adetol', 'Adynol', 'Atipi', \"Adenosine 5'-(tetrahydrogen triphosphate)\", \"5'-Atp\", \"adenosine-5'-triphosphate\", 'Triphosaden', 'Adenylpyrophosphoric acid', 'Triphosphoric acid adenosine ester', 'ATP (nucleotide)', \"Adenosine 5'-triphosphoric acid\", 'Cardenosine', 'Fosfobion', 'Adenosintriphosphorsaeure', \"Ado-5'-P-P-P\", 'Phosphobion', 'H4atp', 'Ara-ATP', 'UNII-8L70Q75FXE', \"9-beta-D-Arabinofuranosyladenine 5'-triphosphate\", 'CHEBI:15422', 'adenylpyrophosphate', \"Adenosine, 5'-(tetrahydrogen triphosphate)\", 'C10H16N5O13P3', 'EINECS 200-283-2', \"adenosine 5' triphosphate\", 'CHEMBL14249', '8L70Q75FXE', \"adenosine-5'-triphosphoric acid\", 'ZKHQWZAMYRWXGA-KQYNXXCUSA-N', '((2R,3S,4R,5R)-5-(6-Amino-9H-purin-9-yl)-3,4-dihydroxytetrahydrofuran-2-yl)methyl tetrahydrogen triphosphate', 'NCGC00163309-01', 'ATP disodium hydrate', '[[(2R,3S,4R,5R)-5-(6-aminopurin-9-yl)-3,4-dihydroxy-tetrahydrofuran-2-yl]methoxy-hydroxy-phosphoryl] phosphono hydrogen phosphate', '1kxp', '1mau', '1maw', '1vjc', '1vjd', '1xsc', '1yid', '2cbz', '2fgh', 'AK-54737', 'Adenylpyrophosphorate', '[[(2R,3S,4R,5R)-5-(6-aminopurin-9-yl)-3,4-dihydroxyoxolan-2-yl]methoxy-hydroxyphosphoryl] phosphono hydrogen phosphate', 'Triphosadenine (DCF)', '1gz3', '1gz4', '1r0x', '1y8p', 'BDBM2', '3h-adenosine triphosphate', 'AC1L1LHX', '34369-07-8', 'DSSTox_CID_2559', 'bmse000006', 'bmse000854', 'bmse000993', 'Epitope ID:135612', \"Adenosine 5'-triphosphorate\", 'SCHEMBL8979', 'DSSTox_RID_76629', 'DSSTox_GSID_22559', 'GTPL1713', 'DTXSID6022559', 'CTK3J3236', '1b38', '1b39', '1m83', '1r10', '1t44', 'Bio1_000406', 'Bio1_000895', 'Bio1_001384', '({[({[(2R,3S,4R,5R)-5-(6-amino-9H-purin-9-yl)-3,4-dihydroxyoxolan-2-yl]methoxy}(hydroxy)phosphoryl)oxy](hydroxy)phosphoryl}oxy)phosphonic acid', 'ACT02649', 'HY-B2176', 'ZINC4261765', 'Tox21_112044', 'BDBM50366480', 'MFCD00065467', 'AKOS022179934', 'CS-7674', 'DB00171', 'CAS-56-65-5', \"Adenosine 5'-triphosphate; Triphosphaden\", \"5'-(tetrahydrogen triphosphate) Adenosine\", 'AJ-70571', 'AN-41693', 'AS-19204', 'CC-23792', 'LS-15176', 'DB-022415', 'RT-001349', 'FT-0621909', 'ST24045923', 'X5319', 'C00002', 'D08646', '065A467', 'C-22981', 'W-105506', 'A9788C43-4BC5-46E2-8560-41C5FA7D3AA3', '9H-purin-6-amine, 9-[5-O-[hydroxy[[hydroxy(phosphonooxy)phosphinyl]oxy]phosphinyl]', 'Adenosine 5 inverted exclamation marka-triphosphate (ATP) disodium salt hydrate', '[(2R,3S,4R,5R)-5-(6-aminopurin-9-yl)-3,4-dihydroxyoxolan-2-yl]methyl (hydroxy-phosphonooxyphosphoryl) hydrogen phosphate', '[[[(2R,3S,4R,5R)-5-(6-Aminopurin-9-yl)-3,4-dihydroxy-oxolan-2-yl]methoxy-hydroxy-phosphoryl]oxy-hydroxy-phosphoryl]oxyphosphonic acid', '9H-Purin-6-amine, 9-[5-O-[hydroxy[[hydroxy(phosphonooxy)phosphinyl]oxy]phosphinyl]-.beta.-D-ribofuranosyl]-']}]\n",
      "[{'CID': 14421, 'Synonym': ['Aflatoxin', 'AFLATOXIN G1', 'Aflatoxin G', '1165-39-5', 'Aflatoxin, crude', '1402-68-2', 'HSDB 3411', 'CCRIS 14', 'HSDB 3455', 'EINECS 214-615-9', 'BRN 1299768', \"5-(methyloxy)-3,4,7a,10a-tetrahydro-1H,12H-furo[3',2':4,5]furo[2,3-h]pyrano[3,4-c]chromene-1,12-dione\", \"1H,12H-Furo(3',2':4,5)furo(2,3-h)pyrano(3,4-c)(1)benzopyran-1,12-dione,3,4,7a,10a-tetrahydro-5-methoxy-, (7aR-cis)-\", \"1H,12H-Furo[3',2':4,5]furo[2,3-h]pyrano[3,4-c][1]benzopyran-1,12-dione, 3,4,7a,10a-tetrahydro-5-methoxy-, (7aR,10aS)-\", \"1H,12H-Furo[3',2':4,5]furo[2,3-h]pyrano[3,4-c][1]benzopyran-1,12-dione, 3,4,7a,10a-tetrahydro-5-methoxy-, (7aR-cis)-\", 'Aflatoxin G1 solution', 'AC1L23SY', 'SCHEMBL50772', 'Standard Solution Aflatoxin G1', 'DTXSID6040959', 'Aflatoxin G1, reference material', 'XWIYFDMXXLINPU-UHFFFAOYSA-N', \"(7AR,cis)3,4,7a,10a-tetrahydro-5-methoxy-1H,12H-furo(3',2':4,5)furo(2,3-h)pyrano(3,4-c)chromene-1,12-dione\", \"1H,12H-Furo(3',2':4,5)furo(2,3-h)pyrano(3,4-c)(1)benzopyran-1,12-dione, 3,4,7a,10a-tetrahydro-5-methoxy-\", 'MFCD00005089', 'Aflatoxin G1, from Aspergillus flavus', 'AKOS015896946', 'LS-15307', 'LS-70763', 'FT-0621934', 'I06-2521', 'Aflatoxin G1 solution, 2 mug/mL in acetonitrile, analytical standard', 'Aflatoxin G1 solution, 3.78 mug/g in acetonitrile, ERM(R) certified Reference Material', '11-methoxy-6,8,16,20-tetraoxapentacyclo[10.8.0.0;{2,9}.0;{3,7}.0;{13,18}]icosa-1,4,9,11,13(18)-pentaene-17,19-dione', \"1H,12H-Furo[3',2':4,5]furo[2,3-h]pyrano[3,4-c][1]benzopyran-1,12-dione,3,4,7a,10a-tetrahydro-5-methoxy-, (7aR,10aS)-\", 'Aflatoxin G1 solution, certified reference material, 3 mug/mL in benzene:acetonitrile (98:2), ampule of 1 mL']}]\n"
     ]
    },
    {
     "name": "stdout",
     "output_type": "stream",
     "text": [
      "[{'CID': 33741, 'Synonym': ['Tramadol', '(+)-Tramadol', 'Ralivia flashtab', '27203-92-5', 'Ralivia ER', 'Tramadolum [INN-Latin]', 'cis-Tramadol', 'Tramadol [INN:BAN]', '123154-38-1', 'Tramal', 'Tramadol HCl', 'EINECS 248-319-6', 'UNII-0NG5TTM63P', '0NG5TTM63P', 'CHEBI:75725', 'Tridural', 'Ryzolt', 'Zydol', '181289-58-7', 'NCGC00159343-02', 'Ultram ER', 'Tramadon', 'Cyclohexanol, 2-((dimethylamino)methyl)-1-(m-methoxyphenyl)-', '(+)-trans-2-(Dimethylaminomethyl)-1-(m-methoxyphenyl)cyclohexanol', '(1R,2R)-2-[(dimethylamino)methyl]-1-(3-methoxyphenyl)cyclohexanol', 'Racemic tramadol', 'DSSTox_CID_3691', 'DSSTox_RID_77150', 'DSSTox_GSID_23691', 'E 382', 'Tramadolum', 'Biomadol', 'Contramid', 'Labesfal', 'Tramadis', 'Tramaliv', 'Trapidol', 'CHEMBL201531', 'Zytram', 'Tradonal odis', 'Cyclohexanol, 2-((dimethylamino)-1-(3-methoxyphenyl)-, cis-(+-)-', 'Cyclohexanol, 2-((dimethylamino)methyl)-1-(3-methoxyphenyl)-, cis-(+-)-', 'Tramadol Contramid', 'HSDB 7047', 'CAS-36282-47-0', '(+-)-Tramadol', '(+)-(R,R)-trans-', 'cis tramadol', '(+)-trans-Tramadol free base', '(1R,2R)-2-((dimethylamino)methyl)-1-(3-methoxyphenyl)cyclohexanol', 'Rel-Tramadol', 'Tramodol Hcl', 'CG 315E', '(r,r)-tramadol', 'Tramadol (INN)', 'Amanda (TN)', 'Tramadol HCl BP/EP', 'Tramadol, (+)-', 'PubChem20420', 'U 26255A', 'sustained-release tramadol', 'E 265', 'AC1L1Q6E', 'SCHEMBL7464', 'CHEMBL1066', 'ZINC853', 'MLS000333190', 'BIDD:GT0075', 'AC1Q59O2', 'Jsp005295', 'CTK8E8968', 'DTXSID90858931', 'TVYLLZQTGLZFBW-ZBFHGGJFSA-N', 'HMS2090D10', 'HMS2803D04', 'Tox21_111588', 'BDBM50176259', 'AKOS005066335', 'Cyclohexanol, 2-(dimethylaminomethyl)-1-(m-methoxyphenyl)-, (+)-(E)-', 'Tox21_111588_1', 'API0000066', 'API0004460', 'DB00193', 'MCULE-8198453745', 'NCGC00159343-05', 'AJ-07926', 'LS-57115', 'LS-57116', 'SMR000436547', 'RT-015839', 'FT-0604438', 'FT-0675346', 'C07153', 'D08623', 'AB00640024-11', '914T774', 'I14-16782', 'I14-40832', 'I14-41530', 'UNII-39J1LGJ30J component TVYLLZQTGLZFBW-ZBFHGGJFSA-N', '(1R,2R)-2-(dimethylaminomethyl)-1-(3-methoxyphenyl)-cyclohexanol', '(1R,2R)-2-Dimethylaminomethyl-1-(3-methoxy-phenyl)-cyclohexanol', '(1R,2R)-2-(dimethylaminomethyl)-1-(3-methoxyphenyl)cyclohexan-1-ol', '(1R,2R)-2-[(dimethylamino)methyl]-1-(3-methoxyphenyl)cyclohexan-1-ol', '(1R,2R)-2-[(dimethylamino)methyl]-1-[3-(methyloxy)phenyl]cyclohexanol', 'Cyclohexanol-2-((dimethylamino)methyl)-1-(3-methoxyphenyl)-, trans-(+-)- (9CI)']}]\n",
      "[{'CID': 5202, 'Synonym': ['serotonin', '5-HYDROXYTRYPTAMINE', '3-(2-Aminoethyl)-1H-indol-5-ol', '50-67-9', 'Enteramine', '5-HT', 'Antemovis', 'Serotonine', 'Thrombocytin', 'Thrombotonin', 'Ds substance', 'Hippophain', 'Antemoqua', 'Substance DS', 'Substanz DS', '1H-Indol-5-ol, 3-(2-aminoethyl)-', '5-Hta', 'Tryptamine, 5-hydroxy-', '3-(2-Aminoethyl)indol-5-ol', 'Enteramin', 'UNII-333DO1RDJY', 'Indol-5-ol, 3-(2-aminoethyl)-', '3-(beta-Aminoethyl)-5-hydroxyindole', '5-Hydroxy-3-(beta-aminoethyl)indole', 'EINECS 200-058-9', '3-(2-Amino-ethyl)-1H-indol-5-ol', 'BRN 0143524', '333DO1RDJY', 'CHEBI:28790', 'QZAYGJVTTNCVMB-UHFFFAOYSA-N', '1H-Indol-5-ol,3-(2-aminoethyl)-', 'Hippophaine', 'H-8000', '[3H]-5-HT', '5-Hydroxytriptamine', '5-Hydroxyltryptamine', '5-hydroxy-tryptamine', '5-hydroxyl tryptamine', 'GTPL5', 'AC1L1JTO', 'CHEMBL39', 'Prestwick0_000481', 'Prestwick1_000481', 'Prestwick2_000481', 'Prestwick3_000481', 'Lopac-H-9523', 'Biomol-NT_000083', 'bmse000757', 'SCHEMBL1495', 'Lopac0_000607', 'Oprea1_712368', 'BSPBio_000341', 'BSPBio_001112', 'KBioGR_000452', 'KBioGR_002472', 'KBioSS_000452', 'KBioSS_002479', '5-22-12-00016 (Beilstein Handbook Reference)', 'Serotonin, analytical standard', 'SPBio_002262', '5-Hydroxytryptamine, free base', 'AC1Q54C0', 'BPBio1_000377', 'BPBio1_001079', 'DTXSID8075330', 'BCBcMAP01_000198', 'BDBM10755', 'CTK4J2994', 'KBio2_000452', 'KBio2_002472', 'KBio2_003020', 'KBio2_005040', 'KBio2_005588', 'KBio2_007608', 'KBio3_000843', 'KBio3_000844', 'KBio3_002950', 'ZINC57058', 'cMAP_000059', '3-(b-Aminoethyl)-5-hydroxyindole', '5-Hydroxy-3-(b-aminoethyl)indole', 'Bio1_000450', 'Bio1_000939', 'Bio1_001428', 'Bio2_000396', 'Bio2_000876', 'HMS1362H13', 'HMS1792H13', 'HMS1990H13', 'HMS3403H13', 'ALBB-006183', '6996AB', 'CH-132', 'FCH832159', 'MFCD00055054', 'PDSP1_001512', 'PDSP2_001496', 'STK503758', 'AKOS001484724', '3-(2-Aminoethyl)-1H-indol-5-ol #', 'API0006544', 'CCG-204696', 'MCULE-8788459983', '3-(.beta.-Aminoethyl)-5-hydroxyindole', '5-Hydroxy-3-(.beta.-aminoethyl)indole', '5-Hydroxytryptamine, 5-HT, Enteramine', 'IDI1_002151', 'SMP1_000272', '5-hydroxy tryptamine creatinine disulfate', 'NCGC00015525-01', 'NCGC00015525-02', 'NCGC00015525-03', 'NCGC00015525-04', 'NCGC00015525-05', 'NCGC00015525-06', 'NCGC00015525-07', 'NCGC00015525-08', 'NCGC00015525-09', 'NCGC00142449-01', 'NCGC00142449-02', 'NCGC00142449-03', 'NCGC00142449-04', 'NCGC00142449-05', 'AJ-09556', 'AN-41571', 'CAS-153-98-0', 'CC-21879', 'LS-83647', 'AX8011985', 'DB-051820', 'TR-018115', 'FT-0631212', '14C-5-hydroxy tryptamine creatinine disulfate', 'C00780', 'K-9367', 'C-06146', 'L000078', 'I14-1899', '6F7FD5B4-A558-45F0-A20A-2D068A3EFE6A', 'Thrombocytin, 3-(|A-Aminoethyl)-5-hydroxyindole, Thrombotonin', '2-imino-1-methylimidazolidin-4-one; 3-(2-aminoethyl)-1H-indol-5-ol; bis(sulfuric acid)']}]\n",
      "[{'CID': 25077405, 'Synonym': ['NAFARELIN', '76932-56-4', 'Nafareline', 'Nafarelina', 'Nafarelinum', 'NAFARELIN ACETATE', 'UNII-1X0094V6JV', 'Nafareline [French]', 'Nafarelinum [Latin]', 'Nafarelina [Spanish]', 'Nafarelin [INN:BAN]', '1X0094V6JV', 'LHRH, Ala(2-naphthyl)(6)-', '6-(3-(2-Naphthalenyl)-D-alanine)luteinizing hormone-releasing factor (pig)', 'C66H83N17O13', 'HS-2018', '(D-2-Nal6)-LHRH', 'SCHEMBL22518', 'BIDD:GT0760', 'BDBM84707', 'Luteinizing hormone-releasing factor (pig), 6-(3-(2-naphthalenyl)-D-alanine)-', 'CN-156', 'AKOS015895038', 'DB00666', 'K335', 'SC-17368', '932N564', 'Luteinizing hormone-releasing factor (swine), 6-[3-(2-naphthalenyl)-D-alanine]-', '(S)-1-((3S,6S,9S,12S,15R,18S,21S)-3-((1H-imidazol-5-yl)methyl)-6-((1H-indol-3-yl)methyl)-21-(3-guanidinopropyl)-12-(4-hydroxybenzyl)-9-(hydroxymethyl)-18-isobutyl-15-(naphthalen-2-ylmethyl)-1,4,7,10,13,16,19-heptaoxo-1-((S)-5-oxopyrrolidin-2-yl)-2,5,8,11,14,17,20-heptaazadocosan-22-oyl)-N-(2-amino-2-oxoethyl)pyrrolidine-2-carboxamide']}]\n",
      "[{'CID': 8376, 'Synonym': ['2,4,6-TRINITROTOLUENE', 'Trinitrotoluene', 'Trotyl', 's-Trinitrotoluol', 's-Trinitrotoluene', 'Tolite', 'Tritol', '2-Methyl-1,3,5-trinitrobenzene', 'sym-Trinitrotoluol', '118-96-7', 'trinitrotoluol', 'trilit', 'Trojnitrotoluen', 'Gradetol', 'Tolit', 'Tnt-tolite', 'Trotyl oil', 'Tritol (explosive)', 'TNT', 'Benzene, 2-methyl-1,3,5-trinitro-', 'Toluene, 2,4,6-trinitro-', '2,4,6-Trinitrotoluol', 'alpha-TNT', 'sym-Trinitrotoluene', 'NCI-C56155', 'TNT-tolite [French]', 'Trinitrotoluen', '2,4,6-Trinitrotolueen', 'Trojnitrotoluen [Polish]', '1-Methyl-2,4,6-trinitrobenzene', 'UNII-H43RF5TRM5', 'NSC 36949', '.alpha.-TNT', 'CCRIS 1299', 'HSDB 1146', '2,4,6-Trinitrotolueen [Dutch]', '2,4,6-Trinitrotoluol [German]', 'EINECS 204-289-6', 'UN0209', 'UN1356', 'H43RF5TRM5', '2,4,6-trinitrotoluene (tnt)', 'CHEBI:46053', 'SPSSULHKWOKEEL-UHFFFAOYSA-N', '2,4,6-TNT', '2,4,6-trinitritoluene', 'Trinitrotoluene or TNT, dry or wetted with < 30% water, by mass', 'TNL', 'Trilite', 'Tritolo', 'Tritolol', 'Tritone', 'Trotol', 'alpha-trinitrotoluol', 'Trinitrotoluene, dry', 'Trinitrotoluene, wet', '2,6-Trinitrotoluol', '2,6-Trinitrotolueen', '2,6-Trinitrotoluene', 'AC1L1QVB', 'AC1Q2QGE', 'EC 204-289-6', 'SCHEMBL20676', 'UN 0209 (Salt/Mix)', 'UN 1356 (Salt/Mix)', 'WLN: WNR B1 CNW ENW', '2-Methyl-1,5-trinitrobenzene', 'Toluene,4,6-trinitro- (wet)', 'CHEMBL1236345', 'DTXSID7024372', 'SCHEMBL12305492', 'CTK8E4069', '1-methyl-2,4,6-trinitrotoluene', 'NSC36949', 'NSC-36949', 'ZINC14880028', 'AKOS001092689', 'DB01676', 'MCULE-8164226079', 'LS-154211', 'TR-032836', 'FT-0609917', 'C16391', 'C-47366', 'I01-10152', 'Trinitrotoluene, wetted with not <30% water, by mass', 'Z57056414', '2,4,6-Trinitrotoluene (TNT) 10 microg/mL in Cyclohexane', '2,4,6-Trinitrotoluene (TNT) 100 microg/mL in Cyclohexane', 'Trinitrotoluene or TNT, dry or wetted with <30% water, by mass', 'Trinitrotoluene or TNT, dry or wetted with <30% water, by mass [UN0209] [Explosive 1.1D]', 'Trinitrotoluene, wetted with not <30% water, by mass [UN1356]  [Flammable solid]', 'Trinitrotoluene, wetted with not <30% water, by mass [UN1356] [Flammable solid]', '2,4,6-Trinitrotoluene solution, 10 mg/mL in acetonitrile, ampule of 5 mL, certified reference material', '2,4,6-Trinitrotoluene solution, 1000 mug/mL in acetonitrile, ampule of 1.2 mL, certified reference material', 'Trinitrotoluene or TNT, dry or wetted with <30% water, by mass [UN0209]  [Explosive 1.1D]']}]\n"
     ]
    }
   ],
   "source": [
    "list_of_compounds = {\"SIA\" : \"sialic acid\",\n",
    "                     \"GLC\" : \"glucose\",\n",
    "                     \"HDY\" : \"6beta-hydroxycortisol\", \n",
    "                     \"BRA\" : \"brassinolide\", \n",
    "                     \"ATP\" : \"ATP\", \n",
    "                     \"AFL\" : \"Aflatoxin\",\n",
    "                     \"TAM\" : \"Tramadol\",\n",
    "                     \"SRN\" : \"Serotonin\",\n",
    "                     \"NAF\" : \"nafarelin\", \n",
    "                     \"TNT\" : \"TNT\"}\n",
    "loc = {}\n",
    "for j in list_of_compounds.keys():\n",
    "    # print(pcp.get_synonyms(list_of_compounds[j], 'name'))\n",
    "    loc[j] = pcp.get_compounds(list_of_compounds[j], 'name', as_dataframe=True)\n",
    "    loc[j][\"RosettaName\"] = j"
   ]
  },
  {
   "cell_type": "code",
   "execution_count": 6,
   "metadata": {},
   "outputs": [],
   "source": [
    "df = pd.concat(list(loc.values())).reset_index()\n",
    "df = pd.merge(right=df, right_on=\"RosettaName\",left=pcs, left_on=\"RosettaName\")"
   ]
  },
  {
   "cell_type": "code",
   "execution_count": 7,
   "metadata": {
    "hideCode": false,
    "hidePrompt": false,
    "slideshow": {
     "slide_type": "skip"
    }
   },
   "outputs": [],
   "source": [
    "import shutil,subprocess,os\n",
    "from rdkit import Chem\n",
    "from rdkit.Chem import AllChem\n",
    "from rdkit.Chem import rdMolTransforms as rdmt\n",
    "import numpy as np\n",
    "# from rdkit import Chem\n",
    "from rdkit.Chem.Draw import IPythonConsole\n",
    "from rdkit.Chem.Draw import MolDrawing, DrawingOptions\n",
    "from rdkit.Geometry import rdGeometry as geom\n",
    "import py3Dmol\n",
    "from rdkit import Chem\n",
    "from rdkit.Chem import AllChem\n",
    "from ipywidgets import interact, interactive, fixed\n",
    "from ipywidgets import interact, widgets\n",
    "from IPython.display import display\n",
    "import py3Dmol"
   ]
  },
  {
   "cell_type": "code",
   "execution_count": 8,
   "metadata": {
    "hideCode": false,
    "hidePrompt": false,
    "slideshow": {
     "slide_type": "skip"
    }
   },
   "outputs": [],
   "source": [
    "def drawit(m,p,confId=-1):\n",
    "    mb = Chem.MolToMolBlock(m,confId=confId)\n",
    "    p.removeAllModels()\n",
    "    p.addModel(mb,'sdf')\n",
    "    p.setStyle({'stick':{}})\n",
    "    p.setBackgroundColor('0xeeeeee')\n",
    "    p.zoomTo()\n",
    "    return p.show()"
   ]
  },
  {
   "cell_type": "code",
   "execution_count": 9,
   "metadata": {
    "hideCode": false,
    "hidePrompt": false,
    "slideshow": {
     "slide_type": "skip"
    }
   },
   "outputs": [],
   "source": [
    "def generate_molecule(name,smiles):\n",
    "    \"\"\"\n",
    "    Generate the 3D molecular structure based on input SMILES\n",
    "    ----------\n",
    "    name : name of molecule\n",
    "    smiles: SMILES of molecule\n",
    "    Returns\n",
    "    ----------\n",
    "    Mol \n",
    "    \n",
    "    \"\"\"\n",
    "    LIGAND_NAME = name\n",
    "    m = Chem.MolFromSmiles(smiles)\n",
    "    # Add hydrogens\n",
    "    m_h = Chem.AddHs(m)\n",
    "    # Embeed the geometry\n",
    "    AllChem.EmbedMolecule(m_h, params=AllChem.ETKDGv2())\n",
    "    AllChem.MMFFOptimizeMolecule(m_h, mmffVariant=\"MMFF94s\")\n",
    "    # Setting name of molecule\n",
    "    m_h.SetProp(\"_Name\",LIGAND_NAME)\n",
    "    \n",
    "    return m_h"
   ]
  },
  {
   "cell_type": "code",
   "execution_count": 10,
   "metadata": {
    "hideCode": false,
    "hidePrompt": false,
    "slideshow": {
     "slide_type": "skip"
    }
   },
   "outputs": [],
   "source": [
    "def get_conformers(mol,nr=500,rmsthreshold=0.1):\n",
    "    \"\"\"\n",
    "    Generate 3D conformers of molecule using CSD-method\n",
    "    ----------\n",
    "    mol : RKdit molecule\n",
    "    nr : integer, number of conformers to be generate\n",
    "    rmsthreshold : float, prune conformers that are less rms away from another conf\n",
    "    Returns\n",
    "    ----------\n",
    "    List of new conformation IDs\n",
    "    \"\"\"\n",
    "    # Generate conformers on the CSD-method\n",
    "    return AllChem.EmbedMultipleConfs(mol, numConfs=nr,useBasicKnowledge=True,\\\n",
    "                                      pruneRmsThresh=rmsthreshold,useExpTorsionAnglePrefs=True)\n",
    "\n",
    "\n",
    "\n",
    "\n"
   ]
  },
  {
   "cell_type": "code",
   "execution_count": 11,
   "metadata": {},
   "outputs": [
    {
     "name": "stdout",
     "output_type": "stream",
     "text": [
      "C1=CC2=C(C=C1O)C(=CN2)CC[N+]\n",
      "Nc1ncnc2c1ncn2[C@@H]1O[C@H](COP(=O)([O-])OP(=O)([O-])OP(=O)([O-])O)[C@@H](O)[C@H]1O\n",
      "C[NH+](C)C[C@H]1CCCC[C@@]1(C2=CC(=CC=C2)OC)O\n"
     ]
    }
   ],
   "source": [
    "ligands = {}\n",
    "for i,j,k in zip(df.cid, df['isomeric_smiles'],df[\"PhysiologicalChargeSMILES\"]):\n",
    "    if(k != \"\"):\n",
    "        print(k)\n",
    "        ligands[\"CID_\"+str(i)] = k\n",
    "    else:\n",
    "        ligands[\"CID_\"+str(i)] = j"
   ]
  },
  {
   "cell_type": "code",
   "execution_count": 13,
   "metadata": {
    "hideCode": false,
    "hidePrompt": false,
    "scrolled": true,
    "slideshow": {
     "slide_type": "skip"
    }
   },
   "outputs": [
    {
     "ename": "ValueError",
     "evalue": "Bad Conformer Id",
     "output_type": "error",
     "traceback": [
      "\u001b[0;31m---------------------------------------------------------------------------\u001b[0m",
      "\u001b[0;31mValueError\u001b[0m                                Traceback (most recent call last)",
      "\u001b[0;32m<ipython-input-13-07d13980f5ed>\u001b[0m in \u001b[0;36m<module>\u001b[0;34m\u001b[0m\n\u001b[1;32m      1\u001b[0m \u001b[0mmols\u001b[0m \u001b[0;34m=\u001b[0m \u001b[0;34m{\u001b[0m\u001b[0;34m}\u001b[0m\u001b[0;34m\u001b[0m\u001b[0;34m\u001b[0m\u001b[0m\n\u001b[1;32m      2\u001b[0m \u001b[0;32mfor\u001b[0m \u001b[0mname\u001b[0m \u001b[0;32min\u001b[0m \u001b[0mligands\u001b[0m\u001b[0;34m.\u001b[0m\u001b[0mkeys\u001b[0m\u001b[0;34m(\u001b[0m\u001b[0;34m)\u001b[0m\u001b[0;34m:\u001b[0m\u001b[0;34m\u001b[0m\u001b[0;34m\u001b[0m\u001b[0m\n\u001b[0;32m----> 3\u001b[0;31m     \u001b[0mmols\u001b[0m\u001b[0;34m[\u001b[0m\u001b[0mname\u001b[0m\u001b[0;34m]\u001b[0m \u001b[0;34m=\u001b[0m \u001b[0mgenerate_molecule\u001b[0m\u001b[0;34m(\u001b[0m\u001b[0mname\u001b[0m\u001b[0;34m,\u001b[0m\u001b[0mligands\u001b[0m\u001b[0;34m[\u001b[0m\u001b[0mname\u001b[0m\u001b[0;34m]\u001b[0m\u001b[0;34m)\u001b[0m\u001b[0;34m\u001b[0m\u001b[0;34m\u001b[0m\u001b[0m\n\u001b[0m",
      "\u001b[0;32m<ipython-input-9-7791e4291687>\u001b[0m in \u001b[0;36mgenerate_molecule\u001b[0;34m(name, smiles)\u001b[0m\n\u001b[1;32m     16\u001b[0m     \u001b[0;31m# Embeed the geometry\u001b[0m\u001b[0;34m\u001b[0m\u001b[0;34m\u001b[0m\u001b[0;34m\u001b[0m\u001b[0m\n\u001b[1;32m     17\u001b[0m     \u001b[0mAllChem\u001b[0m\u001b[0;34m.\u001b[0m\u001b[0mEmbedMolecule\u001b[0m\u001b[0;34m(\u001b[0m\u001b[0mm_h\u001b[0m\u001b[0;34m,\u001b[0m \u001b[0mparams\u001b[0m\u001b[0;34m=\u001b[0m\u001b[0mAllChem\u001b[0m\u001b[0;34m.\u001b[0m\u001b[0mETKDGv2\u001b[0m\u001b[0;34m(\u001b[0m\u001b[0;34m)\u001b[0m\u001b[0;34m)\u001b[0m\u001b[0;34m\u001b[0m\u001b[0;34m\u001b[0m\u001b[0m\n\u001b[0;32m---> 18\u001b[0;31m     \u001b[0mAllChem\u001b[0m\u001b[0;34m.\u001b[0m\u001b[0mMMFFOptimizeMolecule\u001b[0m\u001b[0;34m(\u001b[0m\u001b[0mm_h\u001b[0m\u001b[0;34m,\u001b[0m \u001b[0mmmffVariant\u001b[0m\u001b[0;34m=\u001b[0m\u001b[0;34m\"MMFF94s\"\u001b[0m\u001b[0;34m)\u001b[0m\u001b[0;34m\u001b[0m\u001b[0;34m\u001b[0m\u001b[0m\n\u001b[0m\u001b[1;32m     19\u001b[0m     \u001b[0;31m# Setting name of molecule\u001b[0m\u001b[0;34m\u001b[0m\u001b[0;34m\u001b[0m\u001b[0;34m\u001b[0m\u001b[0m\n\u001b[1;32m     20\u001b[0m     \u001b[0mm_h\u001b[0m\u001b[0;34m.\u001b[0m\u001b[0mSetProp\u001b[0m\u001b[0;34m(\u001b[0m\u001b[0;34m\"_Name\"\u001b[0m\u001b[0;34m,\u001b[0m\u001b[0mLIGAND_NAME\u001b[0m\u001b[0;34m)\u001b[0m\u001b[0;34m\u001b[0m\u001b[0;34m\u001b[0m\u001b[0m\n",
      "\u001b[0;31mValueError\u001b[0m: Bad Conformer Id"
     ]
    }
   ],
   "source": [
    "mols = {}\n",
    "for name in ligands.keys():\n",
    "    mols[name] = generate_molecule(name,ligands[name])"
   ]
  },
  {
   "cell_type": "code",
   "execution_count": null,
   "metadata": {
    "hideCode": false,
    "hidePrompt": false,
    "slideshow": {
     "slide_type": "skip"
    }
   },
   "outputs": [],
   "source": [
    "for i in ligands.keys():\n",
    "    cids = get_conformers(mols[i], NUMBER_OF_CONFORMERS,0.1)\n",
    "    # Do a short minimization and compute the RMSD\n",
    "    for cid in cids:\n",
    "        _ = AllChem.MMFFOptimizeMolecule(mols[i], confId=cid, mmffVariant=\"MMFF94s\")\n",
    "        \n",
    "    rmslist = []\n",
    "    AllChem.AlignMolConformers(mols[i], RMSlist=rmslist)"
   ]
  },
  {
   "cell_type": "code",
   "execution_count": null,
   "metadata": {
    "hideCode": false,
    "hidePrompt": false,
    "slideshow": {
     "slide_type": "skip"
    }
   },
   "outputs": [],
   "source": [
    "molecule_widget = widgets.Dropdown(\n",
    "    options=list(mols.keys()),\n",
    "    value=list(mols.keys())[0],\n",
    "    description='Molecule:',\n",
    "    disabled=False,\n",
    ")"
   ]
  },
  {
   "cell_type": "code",
   "execution_count": null,
   "metadata": {
    "hideCode": false,
    "hidePrompt": false,
    "slideshow": {
     "slide_type": "skip"
    }
   },
   "outputs": [],
   "source": [
    "molconf_widget = widgets.Label(\n",
    "    value = 'Number of conformers: '+str(mols[molecule_widget.value].GetNumConformers())\n",
    ")"
   ]
  },
  {
   "cell_type": "code",
   "execution_count": null,
   "metadata": {
    "hideCode": false,
    "hidePrompt": false,
    "slideshow": {
     "slide_type": "skip"
    }
   },
   "outputs": [],
   "source": [
    "def select_molecule(molecule):\n",
    "    new_i = widgets.interactive(print_city, country=countryW, city=geoWs[country['new']])\n",
    "    i.children = new_i.children\n",
    "    \n",
    "def on_change(change):\n",
    "    from IPython.display import clear_output\n",
    "    clear_output()\n",
    "    molconf_widget.value = 'Number of conformers: '+str(mols[change['new']].GetNumConformers())\n",
    "    display(container)\n",
    "    interact(drawit,m=fixed(mols[change['new']]),p=fixed(p),confId=(0,mols[change['new']].GetNumConformers()-1));"
   ]
  },
  {
   "cell_type": "code",
   "execution_count": null,
   "metadata": {
    "hideCode": false,
    "hidePrompt": false,
    "slideshow": {
     "slide_type": "subslide"
    }
   },
   "outputs": [],
   "source": [
    "container = widgets.HBox([molecule_widget, molconf_widget])\n",
    "display(container)\n",
    "# now construct the view and interactive widget:\n",
    "p = py3Dmol.view(width=600,height=400)\n",
    "# this is the widget that needs to tricker events\n",
    "molecule_widget.observe(on_change, names='value')\n",
    "interact(drawit,m=fixed(mols[molecule_widget.value]),p=fixed(p),confId=(0,mols[molecule_widget.value].GetNumConformers()-1));"
   ]
  },
  {
   "cell_type": "code",
   "execution_count": null,
   "metadata": {},
   "outputs": [],
   "source": [
    "print(mols.keys())"
   ]
  },
  {
   "cell_type": "code",
   "execution_count": null,
   "metadata": {},
   "outputs": [],
   "source": [
    "def write_aligned_to_file(list_of_confs, atoms_to_match=(8,9,10,11),filename='Aligned.sdf' ):\n",
    "    aligned = None\n",
    "    aligned =  list_of_confs[0]\n",
    "    tmp_length_ = len(list_of_confs)\n",
    "    for i in range(tmp_length_):\n",
    "        aligned.AddConformer(list_of_confs[i].GetConformer(0),assignId=True)   \n",
    "    conf_ids = [conf.GetId() for conf in aligned.GetConformers()]\n",
    "    rmslst = []\n",
    "    AllChem.AlignMolConformers(aligned, atomIds=atoms_to_match, RMSlist=rmslst)\n",
    "    \n",
    "    for i in  conf_ids:\n",
    "        writer3 = Chem.SDWriter(filename+\"_\"+str(i)+\".sdf\")\n",
    "        writer3.write(aligned,confId=i)\n",
    "    return aligned"
   ]
  },
  {
   "cell_type": "code",
   "execution_count": null,
   "metadata": {},
   "outputs": [],
   "source": [
    "\n",
    "#\n",
    "\n",
    "# df.to_excel(\"test.xlsx\") #, index=False)"
   ]
  },
  {
   "cell_type": "code",
   "execution_count": null,
   "metadata": {},
   "outputs": [],
   "source": [
    "import glob, shutil, os, subprocess\n",
    "def setup_directory():\n",
    "    dummy_count = []\n",
    "    for i in glob.glob(\"*.sdf\"):\n",
    "        tmpkey = i.split(\"_\")\n",
    "        if(tmpkey[0] == 'TS'):\n",
    "            key = tmpkey[0]+\"_\"+tmpkey[1]+\"_\"+tmpkey[2]+\"_\"+tmpkey[3]\n",
    "        else:\n",
    "            key = tmpkey[0]+\"_\"+tmpkey[1]\n",
    "            \n",
    "        if(key not in dummy_count):\n",
    "            dummy_count.append(key)\n",
    "            os.mkdir(key)\n",
    "        shutil.move(i,key)\n",
    "    # Move to directory and generate Rosetta parameters\n",
    "    return dummy_count\n",
    "dirs = setup_directory()"
   ]
  },
  {
   "cell_type": "code",
   "execution_count": null,
   "metadata": {},
   "outputs": [],
   "source": [
    "def generate_rosetta_parameters(directory):\n",
    "    import os\n",
    "    ts_ = 0\n",
    "    tmpkey = directory.split(\"_\")\n",
    "    os.chdir(directory)\n",
    "    try:\n",
    "        sp = subprocess.Popen(\"rm *_0.sdf\", stdout=subprocess.PIPE).wait()\n",
    "    except:\n",
    "        print(\"File is already removed!\")\n",
    "    \n",
    "    for f in glob.glob(\"*sdf\"):\n",
    "        os.system(\"cat \"+f+\" >> \"+directory+\".sdf\")\n",
    "\n",
    "    if(tmpkey[0] == 'TS'):\n",
    "        ts_ = 1\n",
    "        ligand_name = tmpkey[2][0] + tmpkey[0][0] +tmpkey[3]\n",
    "\n",
    "    else:\n",
    "        ligand_name = tmpkey[0][0:2] +tmpkey[-1]\n",
    "\n",
    "    if(ts_ == 0): \n",
    "        os.system(\"python2.7 /Users/pgreisen/Programs/Rosetta/Rosetta/main/source/scripts/python/public/molfile_to_params.py \"+directory+\".sdf -n \"+ligand_name+\" -c --recharge=1 --keep-names\")\n",
    "    else:\n",
    "        os.system(\"python2.7 /Users/pgreisen/Programs/Rosetta/Rosetta/main/source/scripts/python/public/molfile_to_params.py \"+directory+\".sdf -n \"+ligand_name+\" -c --recharge=0 --keep-names\")\n",
    "        \n",
    "    os.chdir('../')\n",
    "    \n",
    "for i in dirs:\n",
    "    generate_rosetta_parameters(i)"
   ]
  },
  {
   "cell_type": "markdown",
   "metadata": {
    "hideCode": true,
    "hidePrompt": true,
    "slideshow": {
     "slide_type": "skip"
    }
   },
   "source": [
    "python ~/Rosetta/main/source/src/python/apps/public/molfile_to_params.py Fentanyl_cambridge.mol -n CFN -c --recharge=1"
   ]
  }
 ],
 "metadata": {
  "hide_code_all_hidden": true,
  "kernelspec": {
   "display_name": "Python 3",
   "language": "python",
   "name": "python3"
  },
  "language_info": {
   "codemirror_mode": {
    "name": "ipython",
    "version": 3
   },
   "file_extension": ".py",
   "mimetype": "text/x-python",
   "name": "python",
   "nbconvert_exporter": "python",
   "pygments_lexer": "ipython3",
   "version": "3.6.8"
  }
 },
 "nbformat": 4,
 "nbformat_minor": 2
}
