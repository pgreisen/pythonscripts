{
 "cells": [
  {
   "cell_type": "code",
   "execution_count": 1,
   "metadata": {},
   "outputs": [],
   "source": [
    "from rdkit import Chem\n",
    "from rdkit.Chem import AllChem"
   ]
  },
  {
   "cell_type": "code",
   "execution_count": 2,
   "metadata": {},
   "outputs": [],
   "source": [
    "import shutil,subprocess,os\n",
    "from rdkit import Chem\n",
    "from rdkit.Chem import AllChem\n",
    "from rdkit.Chem import rdMolTransforms as rdmt\n",
    "import numpy as np\n",
    "# from rdkit import Chem\n",
    "from rdkit.Chem.Draw import IPythonConsole\n",
    "from rdkit.Chem.Draw import MolDrawing, DrawingOptions\n",
    "from rdkit.Geometry import rdGeometry as geom\n",
    "import py3Dmol\n",
    "from rdkit import Chem\n",
    "from rdkit.Chem import AllChem\n",
    "from ipywidgets import interact, interactive, fixed\n",
    "from ipywidgets import interact, widgets\n",
    "from IPython.display import display\n",
    "import py3Dmol"
   ]
  },
  {
   "cell_type": "code",
   "execution_count": 3,
   "metadata": {},
   "outputs": [],
   "source": [
    "# m1 = Chem.MolFromSmiles('C1=NC(=C2C(=N1)N(C=N2)C3C(C(C(O3)COP(=O)(O)OP(=O)(O)OP(=O)(O)O)O)O)N')\n",
    "#m1 = Chem.MolFromSmiles('C1=CC2=C(C=C1O)C(=CN2)CCN')\n",
    "##m1 = Chem.MolFromSmiles('C1=CC2=C(C=C1O)C(=CN2)CC[NH3+]')\n",
    "##m1 = Chem.MolFromSmiles('Nc1ncnc2c1ncn2[C@@H]1O[C@H](COP(=O)([O-])OP(=O)([O-])OP(=O)([O-])O)[C@@H](O)[C@H]1O')\n",
    "##m1 = Chem.MolFromSmiles('CC(=O)N[C@@H]1[C@@H](O)C[C@](O)(O[C@H]1[C@H](O)[C@H](O)CO)C([O-])=O')\n",
    "\n",
    "##m1 = Chem.MolFromSmiles('C[NH+](C)C[C@H]1CCCC[C@@]1(C2=CC(=CC=C2)OC)O')\n",
    "\n",
    "m1 = Chem.MolFromSmiles('CC(=O)N[C@@H]1[C@H](C[C@@](O[C@H]1[C@H]([C@H](CO)O)O)(C(=O)O)O)O')\n",
    "\n",
    "# m1 = Chem.MolFromSmiles('CC(C)CC(C(=O)NC(CCCN=C(N)N)C(=O)N1CCCC1C(=O)NCC(=O)N)NC(=O)C(CC2=CC3=CC=CC=C3C=C2)NC(=O)C(CC4=CC=C(C=C4)O)NC(=O)C(CO)NC(=O)C(CC5=CNC6=CC=CC=C65)NC(=O)C(CC7=CN=CN7)NC(=O)C8CCC(=O)N8')\n",
    "#m1 = Chem.MolFromSmiles('C1=NC(=C2C(=N1)N(C=N2)C3C(C(C(O3)COP(=O)(O)OP(=O)(O)OP(=O)(O)O)O)O)N')\n",
    "\n",
    "# m1 = Chem.MolFromSmiles('Nc1ncnc2c1ncn2[C@@H]1O[C@H](COP(=O)([O-])OP(=O)([O-])OP(=O)([O-])O)[C@@H](O)[C@H]1O')\n",
    "#m1 = Chem.MolFromSmiles('C1=NC(=C2C(=N1)N(C=N2)[C@H]3[C@@H]([C@@H]([C@H](O3)COP(=O)(O)OP(=O)(O)OP(=O)(O)O)O)O)N')\n",
    "#m1 = Chem.MolFromSmiles('C1=NC(=C2C(=N1)N(C=N2)C3C(C(C(O3)COP(=O)(O)OP(=O)(O)OP(=O)(O)O)O)O)N')"
   ]
  },
  {
   "cell_type": "code",
   "execution_count": 4,
   "metadata": {},
   "outputs": [
    {
     "data": {
      "text/plain": [
       "'C11H19NO9'"
      ]
     },
     "execution_count": 4,
     "metadata": {},
     "output_type": "execute_result"
    }
   ],
   "source": [
    "AllChem.CalcMolFormula(m1)\n",
    "#m1.GetAtomWithIdx(5).GetDegree()"
   ]
  },
  {
   "cell_type": "code",
   "execution_count": 5,
   "metadata": {},
   "outputs": [],
   "source": [
    "for at in m1.GetAtoms():\n",
    "    #if at.GetAtomicNum() == 7:\n",
    "    #    print(at.GetAtomicNum(),at.GetExplicitValence(),at.GetFormalCharge())\n",
    "    '''\n",
    "    if at.GetAtomicNum() == 7:\n",
    "        print(at.GetAtomicNum())\n",
    "        print(at.GetExplicitValence())\n",
    "        print(at.GetFormalCharge())\n",
    "    '''\n",
    "    if at.GetAtomicNum() == 7 and at.GetExplicitValence()==1 and at.GetFormalCharge()==0:\n",
    "        at.SetFormalCharge(1)\n",
    "        #at.SetHybridization('sp3')\n",
    "        at.SetNumExplicitHs(3)\n",
    "        #print(at)\n",
    "m1.UpdatePropertyCache()"
   ]
  },
  {
   "cell_type": "code",
   "execution_count": 6,
   "metadata": {},
   "outputs": [
    {
     "data": {
      "text/plain": [
       "0"
      ]
     },
     "execution_count": 6,
     "metadata": {},
     "output_type": "execute_result"
    }
   ],
   "source": [
    "\n",
    "m2 = Chem.AddHs(m1)\n",
    "AllChem.EmbedMolecule(m2, params=AllChem.ETKDGv2())\n",
    "#AllChem.MMFFOptimizeMolecule(m2,)\n",
    "AllChem.MMFFOptimizeMolecule(m2, mmffVariant=\"MMFF94s\")"
   ]
  },
  {
   "cell_type": "code",
   "execution_count": 7,
   "metadata": {},
   "outputs": [
    {
     "data": {
      "image/png": "[encoded data removed]",
      "text/plain": [
       "<rdkit.Chem.rdchem.Mol at 0x117cb55d0>"
      ]
     },
     "execution_count": 7,
     "metadata": {},
     "output_type": "execute_result"
    }
   ],
   "source": [
    "m1"
   ]
  },
  {
   "cell_type": "code",
   "execution_count": 18,
   "metadata": {},
   "outputs": [],
   "source": [
    "#from cresset import flare\n",
    "from rdkit import Chem\n",
    "from rdkit.Chem import AllChem\n",
    "\n",
    "deprotonate_cooh = AllChem.ReactionFromSmarts(\n",
    "    \"[C:1](=[O:2])-[OH1:3]>>[C:1](=[O:2])-[O-H0:3]\")\n"
   ]
  },
  {
   "cell_type": "code",
   "execution_count": 19,
   "metadata": {},
   "outputs": [],
   "source": [
    "mols = [m1]"
   ]
  },
  {
   "cell_type": "code",
   "execution_count": 23,
   "metadata": {},
   "outputs": [
    {
     "name": "stdout",
     "output_type": "stream",
     "text": [
      "CC(=O)N[C@@H]1[C@@H](O)C[C@](O)(C(=O)O)O[C@H]1[C@@H](O)[C@@H](O)CO\n"
     ]
    }
   ],
   "source": [
    "[print(Chem.MolToSmiles(m)) for m in mols];\n"
   ]
  },
  {
   "cell_type": "code",
   "execution_count": 24,
   "metadata": {},
   "outputs": [
    {
     "name": "stdout",
     "output_type": "stream",
     "text": [
      "<class 'rdkit.Chem.rdchem.Mol'>\n",
      "CC(=O)N[C@@H]1[C@@H](O)C[C@](O)(C(=O)[O-])O[C@H]1[C@@H](O)[C@@H](O)CO\n"
     ]
    }
   ],
   "source": [
    "mols_deprot = []\n",
    "for m in mols:\n",
    "    print(type(m))\n",
    "    m_deprot = deprotonate_cooh.RunReactants((m,))\n",
    "    mols_deprot.append(m_deprot[0][0] if m_deprot else m)\n",
    "[print(Chem.MolToSmiles(m)) for m in mols_deprot];"
   ]
  },
  {
   "cell_type": "code",
   "execution_count": 22,
   "metadata": {},
   "outputs": [
    {
     "data": {
      "image/png": "[encoded data removed]",
      "text/plain": [
       "<rdkit.Chem.rdchem.Mol at 0x106014f50>"
      ]
     },
     "execution_count": 22,
     "metadata": {},
     "output_type": "execute_result"
    }
   ],
   "source": [
    "m_deprot[0][0]"
   ]
  },
  {
   "cell_type": "code",
   "execution_count": null,
   "metadata": {},
   "outputs": [],
   "source": [
    "#w = Chem.SDWriter('foo.sdf')\n",
    "#w.write(m2,-1)\n",
    "m2 = Chem.AddHs(m2)"
   ]
  },
  {
   "cell_type": "code",
   "execution_count": null,
   "metadata": {},
   "outputs": [],
   "source": [
    "m2"
   ]
  },
  {
   "cell_type": "code",
   "execution_count": null,
   "metadata": {},
   "outputs": [],
   "source": [
    "#Chem.rdmolfiles.MolToSmiles(m2)"
   ]
  },
  {
   "cell_type": "code",
   "execution_count": null,
   "metadata": {},
   "outputs": [],
   "source": [
    "print(Chem.MolToMolBlock(m2),file=open('foo.mol','w+'))"
   ]
  }
 ],
 "metadata": {
  "kernelspec": {
   "display_name": "Python 3",
   "language": "python",
   "name": "python3"
  },
  "language_info": {
   "codemirror_mode": {
    "name": "ipython",
    "version": 3
   },
   "file_extension": ".py",
   "mimetype": "text/x-python",
   "name": "python",
   "nbconvert_exporter": "python",
   "pygments_lexer": "ipython3",
   "version": "3.6.8"
  }
 },
 "nbformat": 4,
 "nbformat_minor": 2
}
