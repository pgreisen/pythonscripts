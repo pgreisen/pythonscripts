{
 "cells": [
  {
   "cell_type": "code",
   "execution_count": 21,
   "metadata": {},
   "outputs": [
    {
     "name": "stdout",
     "output_type": "stream",
     "text": [
      "-7.48136874292\n",
      "-8.51329432135\n"
     ]
    }
   ],
   "source": [
    "import random\n",
    "import numpy as np\n",
    "a = 8\n",
    "b = 9\n",
    "c = 7\n",
    "\n",
    "def gen_random_numbers(a,b,numbers):\n",
    "    rd_numbers = []\n",
    "    for i in range(numbers):\n",
    "        rd_numbers.append( -1*random.uniform(a, b) )\n",
    "    return rd_numbers\n",
    "        \n",
    "    \n",
    "\n",
    "human = gen_random_numbers(a,b,100)\n",
    "cyno = gen_random_numbers(7,8,100)\n",
    "print np.mean(cyno)\n",
    "print np.mean(human)\n"
   ]
  },
  {
   "cell_type": "code",
   "execution_count": 22,
   "metadata": {},
   "outputs": [],
   "source": [
    "def write_to_file(name,listofdata):\n",
    "    with open(name+\".csv\",'w') as f:\n",
    "        for i in listofdata:\n",
    "            tmp = str(i).split('.')\n",
    "            f.write(str(tmp[0])+\": \"+str(i)+\"\\n\" )\n",
    "\n",
    "write_to_file(\"human\",human)\n",
    "write_to_file(\"cyno\",cyno)\n",
    "            "
   ]
  },
  {
   "cell_type": "code",
   "execution_count": null,
   "metadata": {
    "collapsed": true
   },
   "outputs": [],
   "source": []
  }
 ],
 "metadata": {
  "kernelspec": {
   "display_name": "Python 2",
   "language": "python",
   "name": "python2"
  },
  "language_info": {
   "codemirror_mode": {
    "name": "ipython",
    "version": 2
   },
   "file_extension": ".py",
   "mimetype": "text/x-python",
   "name": "python",
   "nbconvert_exporter": "python",
   "pygments_lexer": "ipython2",
   "version": "2.7.13"
  }
 },
 "nbformat": 4,
 "nbformat_minor": 2
}
