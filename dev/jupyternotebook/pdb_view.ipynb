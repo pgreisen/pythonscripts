{
 "cells": [
  {
   "cell_type": "code",
   "execution_count": 2,
   "metadata": {},
   "outputs": [
    {
     "name": "stdout",
     "output_type": "stream",
     "text": [
      "Collecting py3Dmol\n",
      "  Downloading py3Dmol-0.7.0-py2.py3-none-any.whl\n",
      "Collecting idisplay (from py3Dmol)\n",
      "  Downloading idisplay-0.1.2-py2.py3-none-any.whl\n",
      "Requirement already satisfied: jupyter in /Users/pgreisen/anaconda2/lib/python2.7/site-packages (from py3Dmol)\n",
      "Requirement already satisfied: ipython>=1.0 in /Users/pgreisen/anaconda2/lib/python2.7/site-packages (from idisplay->py3Dmol)\n",
      "Installing collected packages: idisplay, py3Dmol\n",
      "Successfully installed idisplay-0.1.2 py3Dmol-0.7.0\n"
     ]
    }
   ],
   "source": [
    "!pip install py3Dmol"
   ]
  },
  {
   "cell_type": "code",
   "execution_count": 3,
   "metadata": {},
   "outputs": [
    {
     "data": {
      "text/html": [
       "<div id=\"3dmolviewer_150826884563\"  style=\"position: relative; width: 640px; height: 480px\">\n",
       "<script>\n",
       "if(typeof $3Dmolpromise === 'undefined') $3Dmolpromise = $.when($.getScript('https://3dmol.csb.pitt.edu/build/3Dmol.js'))\n",
       "var viewer_150826884563 = null;\n",
       "$3Dmolpromise.done(function() {\n",
       "viewer_150826884563 = $3Dmol.createViewer($(\"#3dmolviewer_150826884563\"),{backgroundColor:\"white\"});\n",
       "$3Dmol.download(\"pdb:1hvr\", viewer_150826884563, {}, function() {\n",
       "\tviewer_150826884563.setStyle({\"cartoon\": {\"color\": \"spectrum\"}});\n",
       "viewer_150826884563.render();\n",
       "})\n",
       "});\n",
       "</script>"
      ],
      "text/plain": [
       "<py3Dmol.view at 0x10e7dd290>"
      ]
     },
     "execution_count": 3,
     "metadata": {},
     "output_type": "execute_result"
    }
   ],
   "source": [
    "import py3Dmol\n",
    "view = py3Dmol.view(query='pdb:1hvr')\n",
    "view.setStyle({'cartoon':{'color':'spectrum'}})\n",
    "view"
   ]
  },
  {
   "cell_type": "code",
   "execution_count": 4,
   "metadata": {
    "collapsed": true
   },
   "outputs": [],
   "source": [
    "# https://3dmol.csb.pitt.edu/doc/tutorial-url.html"
   ]
  },
  {
   "cell_type": "code",
   "execution_count": null,
   "metadata": {
    "collapsed": true
   },
   "outputs": [],
   "source": []
  }
 ],
 "metadata": {
  "kernelspec": {
   "display_name": "Python 2",
   "language": "python",
   "name": "python2"
  },
  "language_info": {
   "codemirror_mode": {
    "name": "ipython",
    "version": 2
   },
   "file_extension": ".py",
   "mimetype": "text/x-python",
   "name": "python",
   "nbconvert_exporter": "python",
   "pygments_lexer": "ipython2",
   "version": "2.7.13"
  }
 },
 "nbformat": 4,
 "nbformat_minor": 2
}
