{
 "cells": [
  {
   "cell_type": "code",
   "execution_count": 55,
   "metadata": {
    "slideshow": {
     "slide_type": "skip"
    }
   },
   "outputs": [
    {
     "name": "stdout",
     "output_type": "stream",
     "text": [
      "Requirement already satisfied: ipywidgets==5.2.2 in /Users/pgreisen/anaconda2/lib/python2.7/site-packages\r\n",
      "Requirement already satisfied: traitlets>=4.2.1 in /Users/pgreisen/anaconda2/lib/python2.7/site-packages (from ipywidgets==5.2.2)\r\n",
      "Requirement already satisfied: ipython>=4.0.0 in /Users/pgreisen/anaconda2/lib/python2.7/site-packages (from ipywidgets==5.2.2)\r\n",
      "Requirement already satisfied: widgetsnbextension>=1.2.6 in /Users/pgreisen/anaconda2/lib/python2.7/site-packages (from ipywidgets==5.2.2)\r\n",
      "Requirement already satisfied: ipykernel>=4.2.2 in /Users/pgreisen/anaconda2/lib/python2.7/site-packages (from ipywidgets==5.2.2)\r\n",
      "Requirement already satisfied: notebook>=4.4.1 in /Users/pgreisen/anaconda2/lib/python2.7/site-packages (from widgetsnbextension>=1.2.6->ipywidgets==5.2.2)\r\n"
     ]
    }
   ],
   "source": [
    "!pip install ipywidgets==5.2.2\n",
    "import traitlets, ipywidgets, notebook\n",
    "\n",
    "# http://arose.github.io/nglview/latest/api.html"
   ]
  },
  {
   "cell_type": "code",
   "execution_count": 46,
   "metadata": {
    "extensions": {
     "jupyter_dashboards": {
      "version": 1,
      "views": {
       "grid_default": {
        "col": 0,
        "height": 4,
        "hidden": false,
        "row": 0,
        "width": 12
       },
       "report_default": {
        "hidden": true
       }
      }
     }
    },
    "slideshow": {
     "slide_type": "skip"
    }
   },
   "outputs": [
    {
     "data": {
      "application/vnd.jupyter.widget-view+json": {
       "model_id": "6438957aa0654f87af5e8831e1096eaa",
       "version_major": "2",
       "version_minor": "0"
      },
      "text/plain": [
       "A Jupyter Widget"
      ]
     },
     "metadata": {},
     "output_type": "display_data"
    }
   ],
   "source": [
    "import nglview\n",
    "from ipywidgets import widgets\n",
    "from IPython.display import display\n",
    "\n",
    "view = nglview.demo()\n",
    "view"
   ]
  },
  {
   "cell_type": "code",
   "execution_count": 62,
   "metadata": {
    "extensions": {
     "jupyter_dashboards": {
      "version": 1,
      "views": {
       "grid_default": {
        "col": 0,
        "height": 11,
        "hidden": false,
        "row": 4,
        "width": 12
       },
       "report_default": {
        "hidden": false
       }
      }
     }
    },
    "slideshow": {
     "slide_type": "slide"
    }
   },
   "outputs": [
    {
     "data": {
      "application/vnd.jupyter.widget-view+json": {
       "model_id": "aa3e3d629de24d6e92b1fcc69e4edadb",
       "version_major": "2",
       "version_minor": "0"
      },
      "text/plain": [
       "A Jupyter Widget"
      ]
     },
     "metadata": {},
     "output_type": "display_data"
    }
   ],
   "source": [
    "view = nglview.show_structure_file(\"5jg9.pdb\")\n",
    "# load \"3pqr\" from RCSB PDB and display viewer widget\n",
    "# specify residue\n",
    "##view.add_licorice('ALA, GLU')\n",
    "#view.add_licorice('residue 1')\n",
    "#view.add_spacefill('TYR')\n",
    "#view.add_representation('licorice', selection=[30, 31, 32, 33], color='green')\n",
    "view.add_representation('licorice',selection=[1,2,3,4,5,6,7, 8, 9, 10], color='green')\n",
    "view"
   ]
  },
  {
   "cell_type": "code",
   "execution_count": null,
   "metadata": {
    "collapsed": true,
    "slideshow": {
     "slide_type": "skip"
    }
   },
   "outputs": [],
   "source": []
  }
 ],
 "metadata": {
  "celltoolbar": "Slideshow",
  "extensions": {
   "jupyter_dashboards": {
    "activeView": "grid_default",
    "version": 1,
    "views": {
     "grid_default": {
      "cellMargin": 10,
      "defaultCellHeight": 20,
      "maxColumns": 12,
      "name": "grid",
      "type": "grid"
     },
     "report_default": {
      "name": "report",
      "type": "report"
     }
    }
   }
  },
  "kernelspec": {
   "display_name": "Python 2",
   "language": "python",
   "name": "python2"
  },
  "language_info": {
   "codemirror_mode": {
    "name": "ipython",
    "version": 2
   },
   "file_extension": ".py",
   "mimetype": "text/x-python",
   "name": "python",
   "nbconvert_exporter": "python",
   "pygments_lexer": "ipython2",
   "version": "2.7.13"
  }
 },
 "nbformat": 4,
 "nbformat_minor": 2
}
