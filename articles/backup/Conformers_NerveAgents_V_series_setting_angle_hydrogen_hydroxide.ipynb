{
 "cells": [
  {
   "cell_type": "markdown",
   "metadata": {
    "extensions": {
     "jupyter_dashboards": {
      "version": 1,
      "views": {
       "grid_default": {
        "col": 0,
        "height": 4,
        "hidden": false,
        "row": 0,
        "width": 12
       },
       "report_default": {}
      }
     }
    }
   },
   "source": [
    "# Conformers of nerve agents of V-series\n",
    "\n",
    "## Generation of conformers for docking in Rosetta"
   ]
  },
  {
   "cell_type": "code",
   "execution_count": 1,
   "metadata": {
    "extensions": {
     "jupyter_dashboards": {
      "version": 1,
      "views": {
       "grid_default": {
        "hidden": true
       },
       "report_default": {}
      }
     }
    }
   },
   "outputs": [],
   "source": [
    "# remember to source before using RDkit\n",
    "# source activate my-rdkit-env \n",
    "# and open jupyter from this environment\n",
    "\n",
    "\n",
    "\n"
   ]
  },
  {
   "cell_type": "markdown",
   "metadata": {},
   "source": [
    "The script writes out transition state models of the three specified nerve agents. The TS_model contains hydroxide \n",
    "attached to the model. "
   ]
  },
  {
   "cell_type": "code",
   "execution_count": 2,
   "metadata": {},
   "outputs": [],
   "source": [
    "# angle of attacking hydrogen\n",
    "ANGLE_HYDROGEN = 112\n",
    "# P-S bond distance\n",
    "p_s_dist = 2.50\n",
    "# Number of conformers\n",
    "nr_confs = 10 # 500\n",
    "# RMSD between the generated conformers\n",
    "rmsd_cutoff = 0.1"
   ]
  },
  {
   "cell_type": "code",
   "execution_count": 3,
   "metadata": {
    "extensions": {
     "jupyter_dashboards": {
      "version": 1,
      "views": {
       "grid_default": {
        "col": 0,
        "height": 4,
        "hidden": false,
        "row": 4,
        "width": 4
       },
       "report_default": {}
      }
     }
    }
   },
   "outputs": [
    {
     "data": {
      "text/html": [
       "<script>\n",
       "code_show=true; \n",
       "function code_toggle() {\n",
       " if (code_show){\n",
       " $('div.input').hide();\n",
       " } else {\n",
       " $('div.input').show();\n",
       " }\n",
       " code_show = !code_show\n",
       "} \n",
       "$( document ).ready(code_toggle);\n",
       "</script>\n",
       "<form action=\"javascript:code_toggle()\"><input type=\"submit\" value=\"Click here to toggle on/off the raw code.\"></form>"
      ],
      "text/plain": [
       "<IPython.core.display.HTML object>"
      ]
     },
     "execution_count": 3,
     "metadata": {},
     "output_type": "execute_result"
    }
   ],
   "source": [
    "from IPython.display import HTML\n",
    "\n",
    "HTML('''<script>\n",
    "code_show=true; \n",
    "function code_toggle() {\n",
    " if (code_show){\n",
    " $('div.input').hide();\n",
    " } else {\n",
    " $('div.input').show();\n",
    " }\n",
    " code_show = !code_show\n",
    "} \n",
    "$( document ).ready(code_toggle);\n",
    "</script>\n",
    "<form action=\"javascript:code_toggle()\"><input type=\"submit\" value=\"Click here to toggle on/off the raw code.\"></form>''')"
   ]
  },
  {
   "cell_type": "code",
   "execution_count": 4,
   "metadata": {
    "extensions": {
     "jupyter_dashboards": {
      "version": 1,
      "views": {
       "grid_default": {
        "hidden": true
       },
       "report_default": {}
      }
     }
    },
    "hideCode": false
   },
   "outputs": [],
   "source": [
    "from rdkit import Chem\n",
    "from rdkit.Chem import AllChem\n",
    "from rdkit.Chem import rdMolTransforms as rdmt\n",
    "import numpy as np\n",
    "# from rdkit import Chem\n",
    "from rdkit.Chem.Draw import IPythonConsole\n",
    "from rdkit.Chem.Draw import MolDrawing, DrawingOptions\n",
    "from rdkit.Geometry import rdGeometry as geom\n",
    "import os"
   ]
  },
  {
   "cell_type": "code",
   "execution_count": 5,
   "metadata": {
    "extensions": {
     "jupyter_dashboards": {
      "version": 1,
      "views": {
       "grid_default": {
        "hidden": true
       },
       "report_default": {}
      }
     }
    },
    "hideCode": false
   },
   "outputs": [],
   "source": [
    "def get_conformer_rmsd(mol):\n",
    "        \"\"\"\n",
    "        Calculate conformer-conformer RMSD.\n",
    "        Parameters\n",
    "        ----------\n",
    "        mol : RDKit Mol\n",
    "            Molecule.\n",
    "        \"\"\"\n",
    "        rmsd = np.zeros((mol.GetNumConformers(), mol.GetNumConformers()),\n",
    "                        dtype=float)\n",
    "        for i, ref_conf in enumerate(mol.GetConformers()):\n",
    "            for j, fit_conf in enumerate(mol.GetConformers()):\n",
    "                if i >= j:\n",
    "                    continue\n",
    "                rmsd[i, j] = AllChem.GetBestRMS(mol, mol, ref_conf.GetId(),\n",
    "                                                fit_conf.GetId())\n",
    "                rmsd[j, i] = rmsd[i, j]\n",
    "        return rmsd"
   ]
  },
  {
   "cell_type": "code",
   "execution_count": 6,
   "metadata": {
    "extensions": {
     "jupyter_dashboards": {
      "version": 1,
      "views": {
       "grid_default": {
        "hidden": true
       },
       "report_default": {}
      }
     }
    },
    "hideCode": false
   },
   "outputs": [],
   "source": [
    "def get_conformer_energies(self, mol):\n",
    "        \"\"\"\n",
    "        Calculate conformer energies.\n",
    "        Parameters\n",
    "        ----------\n",
    "        mol : RDKit Mol\n",
    "            Molecule.\n",
    "        Returns\n",
    "        -------\n",
    "        energies : array_like\n",
    "            Minimized conformer energies.\n",
    "        \"\"\"\n",
    "        energies = []\n",
    "        for conf in mol.GetConformers():\n",
    "            ff = self.get_molecule_force_field(mol, conf_id=conf.GetId())\n",
    "            energy = ff.CalcEnergy()\n",
    "            energies.append(energy)\n",
    "        energies = np.asarray(energies, dtype=float)\n",
    "        return energies\n"
   ]
  },
  {
   "cell_type": "code",
   "execution_count": 7,
   "metadata": {
    "extensions": {
     "jupyter_dashboards": {
      "version": 1,
      "views": {
       "grid_default": {
        "hidden": true
       },
       "report_default": {}
      }
     }
    },
    "hideCode": false
   },
   "outputs": [],
   "source": [
    "def set_new_bond_distance(mol,dist,atm1,atm2,confid=0):\n",
    "    \"\"\"\n",
    "    Set a new bond distance between two atoms\n",
    "    ----------\n",
    "    mol : RDKit molecule\n",
    "    dist : float - new bond distance \n",
    "    atm1 : int - idx of atom 1\n",
    "    atm2 : int - idx of atom 2\n",
    "    confid : int - conformer from ensemble\n",
    "    Returns\n",
    "    ----------\n",
    "    Mol with new bond length between atom 1 and atom 2\n",
    "    \n",
    "    \"\"\"\n",
    "    conf = mol.GetConformer(confid)\n",
    "    rdmt.SetBondLength(conf,atm1,atm2,dist)\n",
    "    return mol"
   ]
  },
  {
   "cell_type": "code",
   "execution_count": 8,
   "metadata": {
    "extensions": {
     "jupyter_dashboards": {
      "version": 1,
      "views": {
       "grid_default": {
        "hidden": true
       },
       "report_default": {}
      }
     }
    },
    "hideCode": false
   },
   "outputs": [],
   "source": [
    "def set_new_angle(mol,angle,atm1,atm2,atm3,confid=0):\n",
    "    \"\"\"\n",
    "    Set a new angle between three atoms\n",
    "    ----------\n",
    "    mol : RDKit molecule\n",
    "    angle : float - new angle in degrees \n",
    "    atm1 : int - idx of atom 1\n",
    "    atm2 : int - idx of atom 2\n",
    "    atm3 : int - idx of atom 3\n",
    "    confid : int - conformer from ensemble\n",
    "    Returns\n",
    "    ----------\n",
    "    Mol with new angle between atom 1, atom 2, atom 3\n",
    "    \n",
    "    \"\"\"\n",
    "    conf = mol.GetConformer(confid)\n",
    "    rdmt.SetAngleDeg(conf,atm1,atm2,atm3,angle)\n",
    "    return mol"
   ]
  },
  {
   "cell_type": "code",
   "execution_count": 9,
   "metadata": {
    "extensions": {
     "jupyter_dashboards": {
      "version": 1,
      "views": {
       "grid_default": {
        "hidden": true
       },
       "report_default": {}
      }
     }
    },
    "hideCode": false
   },
   "outputs": [],
   "source": [
    "def generate_molecule(name,smiles):\n",
    "    \"\"\"\n",
    "    Generate the 3D molecular structure based on input SMILES\n",
    "    ----------\n",
    "    name : name of molecule\n",
    "    smiles: SMILES of molecule\n",
    "    Returns\n",
    "    ----------\n",
    "    Mol \n",
    "    \n",
    "    \"\"\"\n",
    "    LIGAND_NAME = name\n",
    "    m = Chem.MolFromSmiles(smiles)\n",
    "    m_h = Chem.AddHs(m)\n",
    "    # Embeed the geometry\n",
    "    AllChem.EmbedMolecule(m_h, AllChem.ETKDG())\n",
    "    # Setting name of molecule\n",
    "    m_h.SetProp(\"_Name\",LIGAND_NAME)\n",
    "    return m_h"
   ]
  },
  {
   "cell_type": "code",
   "execution_count": 10,
   "metadata": {
    "extensions": {
     "jupyter_dashboards": {
      "version": 1,
      "views": {
       "grid_default": {
        "hidden": true
       },
       "report_default": {}
      }
     }
    },
    "hideCode": false
   },
   "outputs": [],
   "source": [
    "def get_conformers(mol,nr=500,rmsthreshold=0.1):\n",
    "    \"\"\"\n",
    "    Generate 3D conformers of molecule using CSD-method\n",
    "    ----------\n",
    "    mol : RKdit molecule\n",
    "    nr : integer, number of conformers to be generate\n",
    "    rmsthreshold : float, prune conformers that are less rms away from another conf\n",
    "    Returns\n",
    "    ----------\n",
    "    List of new conformation IDs\n",
    "    \"\"\"\n",
    "    # Generate conformers on the CSD-method\n",
    "    return AllChem.EmbedMultipleConfs(mol, numConfs=nr,useBasicKnowledge=True,\\\n",
    "                                      pruneRmsThresh=rmsthreshold,useExpTorsionAnglePrefs=True)"
   ]
  },
  {
   "cell_type": "markdown",
   "metadata": {
    "extensions": {
     "jupyter_dashboards": {
      "version": 1,
      "views": {
       "grid_default": {
        "col": 0,
        "height": 6,
        "hidden": false,
        "row": 8,
        "width": 12
       },
       "report_default": {}
      }
     }
    }
   },
   "source": [
    "## SMILES of the 3 nerve agents:\n",
    "\n",
    "* VX \n",
    "\n",
    "(CCOP(C)(=O)SCC\\[NH+\\](C(C)C)C(C)C)\n",
    "* Russian VX (RVX) \n",
    "\n",
    "CC\\[NH+\\](CC)CCSP(=O)(C)OCC(C)C\n",
    "* Chinese VX (CVX) \n",
    "\n",
    "O=P(OCCCC)(SCC\\[NH+\\](CC)CC)C\n",
    "\n",
    "### SMILES taken from pubchem except CVX build from RVX"
   ]
  },
  {
   "cell_type": "code",
   "execution_count": 11,
   "metadata": {
    "extensions": {
     "jupyter_dashboards": {
      "version": 1,
      "views": {
       "grid_default": {
        "hidden": true
       },
       "report_default": {}
      }
     }
    }
   },
   "outputs": [],
   "source": [
    "# SMILES from pubchem except CVX build from RVX\n",
    "# Russian VX : https://pubchem.ncbi.nlm.nih.gov/compound/178033#section=InChI\n",
    "# VX : https://pubchem.ncbi.nlm.nih.gov/compound/39793\n",
    "# Chinese VX : https://pubchem.ncbi.nlm.nih.gov/compound/559704\n",
    "nerve_agents = {'RVX' : 'CC[NH+](CC)CCSP(=O)(C)OCC(C)C',\n",
    "                'VX'  : 'CCOP(C)(=O)SCC[NH+](C(C)C)C(C)C',\n",
    "                'CVX' : 'O=P(OCCCC)(SCC[NH+](CC)CC)C'}"
   ]
  },
  {
   "cell_type": "code",
   "execution_count": 12,
   "metadata": {},
   "outputs": [],
   "source": [
    "#Main of script\n",
    "# Generate the molecules from SMILES\n",
    "mols = {}\n",
    "for name in nerve_agents.keys():\n",
    "    mols[name] = generate_molecule(name,nerve_agents[name])"
   ]
  },
  {
   "cell_type": "code",
   "execution_count": 13,
   "metadata": {
    "extensions": {
     "jupyter_dashboards": {
      "version": 1,
      "views": {
       "grid_default": {
        "col": 0,
        "height": 5,
        "hidden": false,
        "row": 14,
        "width": 4
       },
       "report_default": {}
      }
     }
    }
   },
   "outputs": [
    {
     "data": {
      "image/png": "[encoded data removed]",
      "text/plain": [
       "<rdkit.Chem.rdchem.Mol at 0x117e83d00>"
      ]
     },
     "execution_count": 13,
     "metadata": {},
     "output_type": "execute_result"
    }
   ],
   "source": [
    "mols['VX']"
   ]
  },
  {
   "cell_type": "code",
   "execution_count": 14,
   "metadata": {
    "extensions": {
     "jupyter_dashboards": {
      "version": 1,
      "views": {
       "grid_default": {
        "col": 4,
        "height": 5,
        "hidden": false,
        "row": 14,
        "width": 4
       },
       "report_default": {}
      }
     }
    }
   },
   "outputs": [
    {
     "data": {
      "image/png": "[encoded data removed]",
      "text/plain": [
       "<rdkit.Chem.rdchem.Mol at 0x117e83cb0>"
      ]
     },
     "execution_count": 14,
     "metadata": {},
     "output_type": "execute_result"
    }
   ],
   "source": [
    "mols['RVX']"
   ]
  },
  {
   "cell_type": "code",
   "execution_count": 15,
   "metadata": {
    "extensions": {
     "jupyter_dashboards": {
      "version": 1,
      "views": {
       "grid_default": {
        "col": 8,
        "height": 5,
        "hidden": false,
        "row": 14,
        "width": 4
       },
       "report_default": {}
      }
     }
    }
   },
   "outputs": [
    {
     "data": {
      "image/png": "[encoded data removed]",
      "text/plain": [
       "<rdkit.Chem.rdchem.Mol at 0x117e83ad0>"
      ]
     },
     "execution_count": 15,
     "metadata": {},
     "output_type": "execute_result"
    }
   ],
   "source": [
    "mols['CVX']"
   ]
  },
  {
   "cell_type": "markdown",
   "metadata": {},
   "source": [
    "# Generation of nucleophile OH-"
   ]
  },
  {
   "cell_type": "code",
   "execution_count": 16,
   "metadata": {},
   "outputs": [
    {
     "data": {
      "image/png": "[encoded data removed]",
      "text/plain": [
       "<rdkit.Chem.rdchem.Mol at 0x117e8c300>"
      ]
     },
     "execution_count": 16,
     "metadata": {},
     "output_type": "execute_result"
    }
   ],
   "source": [
    "oh = '[OH-]'\n",
    "oh = Chem.MolFromSmiles(oh,sanitize=True)\n",
    "oh.SetProp(\"_Name\",\"OH-\")\n",
    "AllChem.EmbedMolecule(oh, AllChem.ETKDG())\n",
    "DrawingOptions.includeAtomNumbers=True\n",
    "oh"
   ]
  },
  {
   "cell_type": "code",
   "execution_count": 17,
   "metadata": {
    "extensions": {
     "jupyter_dashboards": {
      "version": 1,
      "views": {
       "grid_default": {
        "hidden": true
       },
       "report_default": {}
      }
     }
    },
    "hideCode": false
   },
   "outputs": [],
   "source": [
    "def get_carbon_atoms(mol,idx,old_c):\n",
    "    '''\n",
    "    \n",
    "    '''\n",
    "    for atom in mol.GetAtoms():\n",
    "        if( atom.GetIdx() == idx ):\n",
    "            bonds = atom.GetBonds()\n",
    "            for bnd in bonds:\n",
    "                tmp_ = bnd.GetOtherAtom(atom)\n",
    "                if( tmp_.GetSymbol() == 'C' and tmp_.GetIdx() not in old_c):\n",
    "                    old_c.append( tmp_.GetIdx() )\n",
    "                    # recursive call for graph\n",
    "                    get_carbon_atoms(mol,tmp_.GetIdx(), old_c )\n",
    "                elif( tmp_.GetSymbol() != 'C' ):\n",
    "                    continue\n",
    "                else:\n",
    "                    continue\n",
    "    return old_c\n",
    "\n",
    "def get_o_ether_carbon_atoms(mol,poe_idx):\n",
    "    '''\n",
    "    \n",
    "    '''\n",
    "    poe_carbons = []\n",
    "    # what are we connected to\n",
    "    for atom in mol.GetAtoms():\n",
    "        tmp_atm = atom.GetSymbol()\n",
    "        \n",
    "        if(tmp_atm == 'O' and atom.GetIdx() == poe_idx ):\n",
    "            bonds = atom.GetBonds()\n",
    "            for bnd in bonds:\n",
    "                tmp_ = bnd.GetOtherAtom(atom)\n",
    "                if( tmp_.GetSymbol() == 'C'):\n",
    "                    poe_carbons.append( tmp_.GetIdx() )\n",
    "                    tmp_ = tmp_.GetIdx()\n",
    "                    # get all carbons attached starting with o-ether\n",
    "                    poe_carbons = get_carbon_atoms(mol, tmp_, poe_carbons)\n",
    "\n",
    "    return poe_carbons\n",
    "\n",
    "\n",
    "def get_index_atms(mol):\n",
    "    \"\"\"\n",
    "    get the index of atoms to set geometry\n",
    "    methyl bonded to phosphorus\n",
    "    ether bonded to phosphorus\n",
    "    phosphoryl bonded to phosphorus\n",
    "    sulfur atom bonded to phosphorus\n",
    "    hydrogen bonded to nitrogen\n",
    "    ----------\n",
    "    mol: RKdit mol\n",
    "    Returns\n",
    "    ----------\n",
    "    index of atoms\n",
    "    \n",
    "    \"\"\"\n",
    "    \n",
    "    chiral_atm = {}\n",
    "    o_groups = []\n",
    "    for atom in mol.GetAtoms():\n",
    "        tmp_atm = atom.GetSymbol()\n",
    "        bonds = atom.GetBonds()\n",
    "        if(tmp_atm == 'P'):\n",
    "            p_id = atom.GetIdx()\n",
    "            for bond in bonds:\n",
    "                target = bond.GetOtherAtom(atom)\n",
    "                # methyl group\n",
    "                if( target.GetSymbol() == 'C'):\n",
    "                    pc_id = target.GetIdx()\n",
    "                elif(target.GetSymbol() == 'O'):\n",
    "                    if(str(bond.GetBondType()) == 'DOUBLE'):\n",
    "                        po_id = target.GetIdx()\n",
    "                    else:\n",
    "                        poe_id = target.GetIdx()\n",
    "        elif(tmp_atm == 'S'):\n",
    "            s_id = atom.GetIdx()\n",
    "        elif(tmp_atm == 'N'):\n",
    "            for bond in bonds:\n",
    "                target = bond.GetOtherAtom(atom)\n",
    "                if( target.GetSymbol() == 'H'): \n",
    "                    nh_id = atom.GetIdx()\n",
    "        else:\n",
    "            for bond in bonds:\n",
    "                target = bond.GetOtherAtom(atom)\n",
    "    return p_id, s_id, pc_id, nh_id, po_id, poe_id"
   ]
  },
  {
   "cell_type": "markdown",
   "metadata": {
    "extensions": {
     "jupyter_dashboards": {
      "version": 1,
      "views": {
       "grid_default": {
        "col": 0,
        "height": 4,
        "hidden": false,
        "row": 19,
        "width": 12
       },
       "report_default": {}
      }
     }
    }
   },
   "source": [
    "## Setting parameters for the transition state model\n",
    "### Distance, angles etc"
   ]
  },
  {
   "cell_type": "code",
   "execution_count": 18,
   "metadata": {
    "extensions": {
     "jupyter_dashboards": {
      "version": 1,
      "views": {
       "grid_default": {
        "hidden": true
       },
       "report_default": {}
      }
     }
    },
    "hideCode": false
   },
   "outputs": [],
   "source": [
    "def get_rmsd_after_minimization_conformers(mol,cids):\n",
    "    '''\n",
    "    \n",
    "    '''\n",
    "    # Do a short minimization and compute the RMSD\n",
    "    for cid in cids:\n",
    "        _ = AllChem.MMFFOptimizeMolecule(mol, confId=cid)\n",
    "    rmslist = []\n",
    "    AllChem.AlignMolConformers(mol, RMSlist=rmslist)\n",
    "    return rmslist\n",
    "\n",
    "def prune_conformers(mol,cids):\n",
    "    '''\n",
    "    \n",
    "    \n",
    "    '''\n",
    "    from rdkit.Chem import rdMolTransforms as rdmt\n",
    "    new = Chem.Mol(mol)\n",
    "    for cid in cids:\n",
    "        conf = new.GetConformer(cid)\n",
    "        # Proton phosphoryl distance\n",
    "        dist = rdmt.GetBondLength(conf, nh_id, po_id)\n",
    "        # remove conformers\n",
    "        if(dist <= 2.3):\n",
    "            new.RemoveConformer(cid)\n",
    "    conf_ids = [conf.GetId() for conf in new.GetConformers()]\n",
    "    dummy = 1\n",
    "    for m in conf_ids:\n",
    "        w = Chem.SDWriter('prune'+str(dummy)+'.sdf')\n",
    "        w.write(new,confId=m)\n",
    "        dummy += 1\n",
    "\n",
    "        \n",
    "def get_ts_geom(m,p_s_dist, p_id, s_id, poe_id, pc_id ):\n",
    "    '''\n",
    "    \n",
    "    \n",
    "    '''\n",
    "    plane_angle = 120\n",
    "    off_plane = 90\n",
    "    # P-S bond distance is set here\n",
    "    m = set_new_bond_distance(m,p_s_dist,p_id,s_id)\n",
    "    # setting o-ethyl group\n",
    "    m = set_new_angle(m,90, s_id, p_id, poe_id)\n",
    "    # setting methyl-group\n",
    "    m = set_new_angle(m,90,s_id,p_id,pc_id)\n",
    "    # setting phosphoryl \n",
    "    m = set_new_angle(m,90,s_id,p_id,po_id)\n",
    "    # Setting plane angle to 120 degrees\n",
    "    m = set_new_angle(m,120,poe_id,p_id,pc_id)\n",
    "    m = set_new_angle(m,120,po_id,p_id,pc_id)\n",
    "    # conformers\n",
    "    conf = m.GetConformer(0)\n",
    "    # Proton sulfur distance\n",
    "    dst1 = rdmt.GetBondLength(conf, po_id, nh_id)\n",
    "    if(dst1 > 3.0 ):\n",
    "        return m\n",
    "    else:\n",
    "        return \n",
    "\n",
    "\n",
    "def get_transition_state_geometry(dist):\n",
    "    '''\n",
    "    ----------\n",
    "    dist: float, bond breaking distance\n",
    "    \n",
    "    Returns\n",
    "    ----------\n",
    "    index of atoms\n",
    "    '''\n",
    "    import os\n",
    "    fls = os.listdir('.')\n",
    "    s_isomers = []\n",
    "    r_isomers = []\n",
    "    k = True\n",
    "    \n",
    "    for fl in fls:\n",
    "        if(fl.startswith('prune')):\n",
    "            m = Chem.MolFromMolFile(fl, True, False)\n",
    "            Chem.AssignAtomChiralTagsFromStructure(m)\n",
    "            tmp =  Chem.FindMolChiralCenters(m, includeUnassigned=True)\n",
    "            \n",
    "            if(tmp[0][1] == 'S'):\n",
    "                m =  get_ts_geom(m,p_s_dist, p_id, s_id, poe_id, pc_id )\n",
    "                if(m != None):\n",
    "                    s_isomers.append(m)\n",
    "            elif(tmp[0][1] == 'R'):\n",
    "                m =  get_ts_geom(m,p_s_dist, p_id, s_id, poe_id, pc_id )\n",
    "                if(m != None):\n",
    "                    r_isomers.append(m)\n",
    "            else:\n",
    "                print(\"Error\")\n",
    "    return s_isomers, r_isomers"
   ]
  },
  {
   "cell_type": "code",
   "execution_count": 19,
   "metadata": {
    "hideCode": false
   },
   "outputs": [],
   "source": [
    "def write_transition_states_isomers_to_file(dist,list_of_isomers,isomer=\"S\"):\n",
    "    '''\n",
    "    \n",
    "    '''\n",
    "    dummy = 1\n",
    "    for test in s_isomers:\n",
    "        writer3 = Chem.SDWriter(isomer+'_'+LIGAND_NAME+'_'+str(dist)+'_'+str(dummy)+'.sdf')\n",
    "        writer3.write(test,confId=0)\n",
    "        dummy += 1\n",
    "    writer3.close()"
   ]
  },
  {
   "cell_type": "code",
   "execution_count": 20,
   "metadata": {
    "hideCode": false
   },
   "outputs": [],
   "source": [
    "def write_aligned_to_file(list_of_confs, atoms_to_match=(8,9,10,11),filename='Aligned.sdf' ):\n",
    "    aligned = None\n",
    "    aligned =  list_of_confs[0]\n",
    "    tmp_length_ = len(list_of_confs)\n",
    "    for i in range(tmp_length_):\n",
    "        aligned.AddConformer(list_of_confs[i].GetConformer(0),assignId=True)   \n",
    "    conf_ids = [conf.GetId() for conf in aligned.GetConformers()]\n",
    "    rmslst = []\n",
    "    AllChem.AlignMolConformers(aligned, atomIds=atoms_to_match, RMSlist=rmslst)\n",
    "    \n",
    "    for i in  conf_ids:\n",
    "        writer3 = Chem.SDWriter(filename+\"_\"+str(i)+\".sdf\")\n",
    "        writer3.write(aligned,confId=i)\n",
    "    return aligned"
   ]
  },
  {
   "cell_type": "code",
   "execution_count": 21,
   "metadata": {
    "hideCode": false
   },
   "outputs": [],
   "source": [
    "def get_index_dummy_atms(mol):\n",
    "    \"\"\"\n",
    "    get the index of atoms to set geometry\n",
    "    methyl bonded to phosphorus\n",
    "    ether bonded to phosphorus\n",
    "    phosphoryl bonded to phosphorus\n",
    "    sulfur atom bonded to phosphorus\n",
    "    hydrogen bonded to nitrogen\n",
    "    ----------\n",
    "    mol: RKdit mol\n",
    "    Returns\n",
    "    ----------\n",
    "    index of atoms\n",
    "    \n",
    "    \"\"\"\n",
    "    \n",
    "    dmm = []\n",
    "    for atom in mol.GetAtoms():\n",
    "        back = Chem.RWMol(mol)\n",
    "        tmp_atm = atom.GetSymbol()\n",
    "        bonds = atom.GetBonds()\n",
    "        if(tmp_atm == '*'):\n",
    "            dmm.append(atom.GetIdx() )\n",
    "    \n",
    "    dmm.sort(reverse=True)\n",
    "    for idx in dmm:\n",
    "            back.RemoveAtom(idx)\n",
    "    return back"
   ]
  },
  {
   "cell_type": "markdown",
   "metadata": {},
   "source": [
    "# Add OH- to transition state model"
   ]
  },
  {
   "cell_type": "code",
   "execution_count": 22,
   "metadata": {
    "hideCode": false
   },
   "outputs": [],
   "source": [
    "OH_INDEX_OXYGEN = 0\n",
    "OH_INDEX_HYDROGEN = 0\n",
    "\n",
    "def get_index_of_nucleophile(combo):\n",
    "    '''\n",
    "    \n",
    "    '''\n",
    "    o_hydroxide = 0\n",
    "    for atom in combo.GetAtoms():\n",
    "        bonds = atom.GetBonds()\n",
    "        for bond in bonds:\n",
    "            target = bond.GetOtherAtom(atom)\n",
    "            if(target.GetSymbol() == 'H' and atom.GetSymbol() == 'O'):\n",
    "                o_hydroxide = atom.GetIdx()\n",
    "                h_hydroxide = target.GetIdx()\n",
    "    return o_hydroxide, h_hydroxide\n",
    "\n",
    "\n",
    "\n",
    "# setup and generate transition states\n",
    "def add_hydroxide_to_transition_state_model(nucleophile,p_id,s_id,conformer,o_ether_idx,bond_increase=1.9):\n",
    "    '''\n",
    "    \n",
    "    \n",
    "    '''\n",
    "    # get directional vector from phosphorus and sulfur atom\n",
    "    p_vec = np.array(conformer.GetConformer(0).GetAtomPosition(p_id))\n",
    "    s_vec = np.array(conformer.GetConformer(0).GetAtomPosition(s_id))\n",
    "    sp_vec = (p_vec - s_vec) / np.linalg.norm(p_vec - s_vec) * bond_increase + p_vec\n",
    "    tmp_ = geom.Point3D(sp_vec[0],sp_vec[1],sp_vec[2]) \n",
    "    nucleophile.GetConformer().SetAtomPosition(0,tmp_)\n",
    "    # Hydrogen is removed and add later\n",
    "    nucleophile = Chem.RemoveHs(nucleophile)\n",
    "    nucleophile = Chem.AddHs(nucleophile,addCoords=True)\n",
    "    # combine molecule\n",
    "    combo = Chem.CombineMols(conformer, nucleophile)        \n",
    "    # get new index of oxygen of hydroxide\n",
    "    o_hydroxide, h_hydroxide = get_index_of_nucleophile(combo)\n",
    "    \n",
    "    OH_INDEX_OXYGEN = o_hydroxide\n",
    "    OH_INDEX_HYDROGEN = h_hydroxide\n",
    "    \n",
    "    \n",
    "    edcombo = Chem.EditableMol(combo)\n",
    "    edcombo.AddBond(p_id,o_hydroxide,order=Chem.rdchem.BondType.SINGLE)      \n",
    "    back = edcombo.GetMol()\n",
    "    ## p_id, s_id = get_index_atms_hydroxide(m)\n",
    "    bond = back.GetBondBetweenAtoms(p_id, s_id)\n",
    "    back = Chem.FragmentOnBonds(back, [bond.GetIdx()], addDummies=True, dummyLabels=[(1, 1)])\n",
    "\n",
    "    atom1 = back.GetAtomWithIdx(OH_INDEX_OXYGEN)\n",
    "    atom1.SetFormalCharge(0)\n",
    "    Chem.SanitizeMol(back)\n",
    "    rdmt.SetAngleDeg(back.GetConformer(0),p_id,OH_INDEX_OXYGEN,OH_INDEX_HYDROGEN,ANGLE_HYDROGEN)\n",
    "    \n",
    "    ########## REMOVE ATOMS\n",
    "    back = get_index_dummy_atms(back)\n",
    "    \n",
    "    # Add bond between P-S\n",
    "    edcombo = Chem.EditableMol(back)\n",
    "    edcombo.AddBond(p_id,s_id,order=Chem.rdchem.BondType.SINGLE)      \n",
    "    back = edcombo.GetMol()\n",
    "    \n",
    "    # get distance constraints\n",
    "    # o_ether_idx\n",
    "    for i in o_ether_idx:\n",
    "        dst1 = rdmt.GetBondLength(back.GetConformer(0), i, o_hydroxide)\n",
    "        # 2.4 Å is approximately covalent distance range\n",
    "        if(dst1 < 2.4 ):\n",
    "            return -1\n",
    "    return back\n",
    "\n",
    "\n",
    "\n",
    "# Setup transition state with hydroxide\n",
    "def write_hydroxide_transition_state_model(oh,molecule_name,isomer_name,o_ether_idx):\n",
    "    '''\n",
    "    \n",
    "    '''\n",
    "    # Get x,y,z position of oxygen atom of hydroxide\n",
    "    pos = oh.GetConformer().GetAtomPosition(0)\n",
    "    prefix_ = \"TS_model\"\n",
    "    fls = os.listdir('.')\n",
    "    # Identify \n",
    "    ## molecule+\"_R_aligned_isomers\"\n",
    "    id_fl = molecule_name+\"_\"+isomer_name+\"_aligned_isomers\"\n",
    "    for fl in fls:\n",
    "        if(fl.startswith(id_fl)):\n",
    "            conformer= Chem.MolFromMolFile(fl, True, False)\n",
    "            new_ts_model = add_hydroxide_to_transition_state_model(oh,p_id,s_id, conformer,o_ether_idx)\n",
    "            if(new_ts_model != -1):\n",
    "                writer3 = Chem.SDWriter(prefix_+\"_\"+fl)\n",
    "                writer3.write(new_ts_model,confId=0)"
   ]
  },
  {
   "cell_type": "markdown",
   "metadata": {},
   "source": [
    "Setting the geometrical parameters for the transition state based on QM or empirical finds. "
   ]
  },
  {
   "cell_type": "code",
   "execution_count": 23,
   "metadata": {},
   "outputs": [
    {
     "name": "stdout",
     "output_type": "stream",
     "text": [
      "Number of conformers for S-RVX : 2\n",
      "Number of conformers for R-RVX : 2\n",
      "Number of conformers for S-VX : 2\n",
      "Number of conformers for R-VX : 3\n",
      "Number of conformers for S-CVX : 4\n",
      "Number of conformers for R-CVX : 3\n"
     ]
    }
   ],
   "source": [
    "\n",
    "# setup generation of conformers\n",
    "for molecule in mols.keys():\n",
    "    # Name of ligand\n",
    "    LIGAND_NAME = molecule\n",
    "    # Generate conformers for each molecule\n",
    "    cids = get_conformers(mols[molecule], nr_confs, rmsd_cutoff)\n",
    "    # Get index of atoms used to build molecule\n",
    "    p_id, s_id, pc_id, nh_id, po_id, poe_id = get_index_atms( mols[molecule] )\n",
    "    \n",
    "    ### TEST TEST ###\n",
    "    o_ether_idx = get_o_ether_carbon_atoms(mols[molecule],poe_id)\n",
    "    \n",
    "    rmslist = get_rmsd_after_minimization_conformers(mols[molecule],cids)\n",
    "    # Assign chiral centers to molecule\n",
    "    Chem.FindMolChiralCenters(mols[molecule], p_id, includeUnassigned=True)\n",
    "    # Remove conformers based on N-H ... P=O distance\n",
    "    prune_conformers(mols[molecule],cids)\n",
    "    #\n",
    "    s_isomers, r_isomers = get_transition_state_geometry(p_s_dist)\n",
    "    print(\"Number of conformers for S-\"+str(molecule)+\" : \"+str(len(s_isomers)))\n",
    "    print(\"Number of conformers for R-\"+str(molecule)+\" : \"+str(len(r_isomers)))\n",
    "    # write to file\n",
    "    write_aligned_to_file(r_isomers,(p_id,po_id,poe_id,pc_id),molecule+\"_R_aligned_isomers\")\n",
    "    write_aligned_to_file(s_isomers,(p_id,po_id,poe_id,pc_id),molecule+\"_S_aligned_isomers\")\n",
    "    # Remove pruned conformers\n",
    "    !rm prune*sdf\n",
    "    # setup and add nucleophile to transition state model\n",
    "    write_hydroxide_transition_state_model(oh, molecule, 'R',o_ether_idx)\n",
    "    write_hydroxide_transition_state_model(oh, molecule, 'S',o_ether_idx)"
   ]
  },
  {
   "cell_type": "markdown",
   "metadata": {},
   "source": [
    "# Setting the geometry of the attacking hydrogen of the hydroxide"
   ]
  },
  {
   "cell_type": "code",
   "execution_count": 24,
   "metadata": {
    "hideCode": false
   },
   "outputs": [],
   "source": [
    "def get_index_atms_hydroxide(mol):\n",
    "    \"\"\"\n",
    "    get the index of atoms to set geometry\n",
    "    methyl bonded to phosphorus\n",
    "    ether bonded to phosphorus\n",
    "    phosphoryl bonded to phosphorus\n",
    "    sulfur atom bonded to phosphorus\n",
    "    hydrogen bonded to nitrogen\n",
    "    ----------\n",
    "    mol: RKdit mol\n",
    "    Returns\n",
    "    ----------\n",
    "    index of atoms\n",
    "    \n",
    "    \"\"\"\n",
    "    for atom in mol.GetAtoms():\n",
    "        tmp_atm = atom.GetSymbol()\n",
    "        bonds = atom.GetBonds()\n",
    "        if(tmp_atm == 'P'):\n",
    "            p_id = atom.GetIdx()\n",
    "        elif(tmp_atm == 'S'):\n",
    "            s_id = atom.GetIdx()    \n",
    "    return p_id, s_id\n",
    "\n",
    "\n",
    "def get_index_dummy_atms(mol):\n",
    "    \"\"\"\n",
    "    get the index of atoms to set geometry\n",
    "    methyl bonded to phosphorus\n",
    "    ether bonded to phosphorus\n",
    "    phosphoryl bonded to phosphorus\n",
    "    sulfur atom bonded to phosphorus\n",
    "    hydrogen bonded to nitrogen\n",
    "    ----------\n",
    "    mol: RKdit mol\n",
    "    Returns\n",
    "    ----------\n",
    "    index of atoms\n",
    "    \n",
    "    \"\"\"\n",
    "    dmm = []\n",
    "    for atom in mol.GetAtoms():\n",
    "        tmp_atm = atom.GetSymbol()\n",
    "        bonds = atom.GetBonds()\n",
    "        if(tmp_atm == 'R'):\n",
    "            dmm.append( atom.GetIdx() )\n",
    "    return dmm"
   ]
  },
  {
   "cell_type": "code",
   "execution_count": 25,
   "metadata": {
    "hideCode": false
   },
   "outputs": [],
   "source": [
    "# Setup transition state with hydroxide\n",
    "def set_angle_hydroxide(angle_size):\n",
    "    prefix_ = \"TS_model\"\n",
    "    fls = os.listdir('.')\n",
    "    for fl in fls:\n",
    "        if(fl.startswith(prefix_)):\n",
    "            m = Chem.MolFromMolFile(fl, False, False, False)\n",
    "            # get index of atoms:::\n",
    "            p_id, s_id = get_index_atms_hydroxide(m)\n",
    "            bond = m.GetBondBetweenAtoms(p_id, s_id)\n",
    "            new_m = Chem.FragmentOnBonds(m, [bond.GetIdx()], addDummies=True, dummyLabels=[(1, 1)])\n",
    "            \n",
    "            #Chem.SanitizeMol(new_m)\n",
    "            #rdmt.SetAngleDeg(new_m.GetConformer(0),p_id,OH_INDEX_OXYGEN,OH_INDEX_HYDROGEN,angle)\n",
    "            edcombo = Chem.EditableMol(new_m)\n",
    "            edcombo.AddBond(p_id,s_id,order=Chem.rdchem.BondType.SINGLE) \n",
    "            back = edcombo.GetMol()\n",
    "            dmm = get_index_dummy_atms(back)\n",
    "            for dm in dmm:\n",
    "                edcombo.RemoveAtom(dm)\n",
    "\n",
    "            writer3 = Chem.SDWriter(\"FIXED_\"+fl)\n",
    "            writer3.write(edcombo.GetMol(),confId=0)"
   ]
  },
  {
   "cell_type": "code",
   "execution_count": null,
   "metadata": {},
   "outputs": [],
   "source": []
  }
 ],
 "metadata": {
  "celltoolbar": "Hide code",
  "extensions": {
   "jupyter_dashboards": {
    "activeView": "grid_default",
    "version": 1,
    "views": {
     "grid_default": {
      "cellMargin": 10,
      "defaultCellHeight": 20,
      "maxColumns": 12,
      "name": "grid",
      "type": "grid"
     },
     "report_default": {
      "name": "report",
      "type": "report"
     }
    }
   }
  },
  "kernelspec": {
   "display_name": "Python 3",
   "language": "python",
   "name": "python3"
  },
  "language_info": {
   "codemirror_mode": {
    "name": "ipython",
    "version": 3
   },
   "file_extension": ".py",
   "mimetype": "text/x-python",
   "name": "python",
   "nbconvert_exporter": "python",
   "pygments_lexer": "ipython3",
   "version": "3.6.8"
  },
  "toc": {
   "nav_menu": {},
   "number_sections": true,
   "sideBar": true,
   "skip_h1_title": false,
   "toc_cell": false,
   "toc_position": {},
   "toc_section_display": "block",
   "toc_window_display": false
  }
 },
 "nbformat": 4,
 "nbformat_minor": 2
}
