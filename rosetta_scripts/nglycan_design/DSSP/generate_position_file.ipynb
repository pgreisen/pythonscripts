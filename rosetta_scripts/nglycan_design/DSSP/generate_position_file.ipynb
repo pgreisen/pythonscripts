{
 "cells": [
  {
   "cell_type": "code",
   "execution_count": 1,
   "metadata": {},
   "outputs": [
    {
     "name": "stdout",
     "output_type": "stream",
     "text": [
      "Requirement already satisfied: biopython in /Users/pgreisen/anaconda3/lib/python3.6/site-packages (1.72)\r\n",
      "Requirement already satisfied: numpy in /Users/pgreisen/anaconda3/lib/python3.6/site-packages (from biopython) (1.16.2)\r\n"
     ]
    }
   ],
   "source": [
    "!pip install biopython"
   ]
  },
  {
   "cell_type": "code",
   "execution_count": 9,
   "metadata": {},
   "outputs": [],
   "source": [
    "from Bio.PDB import PDBParser\n",
    "from Bio.PDB.DSSP import DSSP"
   ]
  },
  {
   "cell_type": "code",
   "execution_count": 12,
   "metadata": {},
   "outputs": [],
   "source": [
    "p = PDBParser()\n",
    "structure = p.get_structure(\"MOD\", \"1.pdb\")\n",
    "model = structure[0]\n",
    "dssp =DSSP(model,\"1.pdb\",dssp='/Users/pgreisen/anaconda3/bin/mkdssp')"
   ]
  },
  {
   "cell_type": "code",
   "execution_count": 18,
   "metadata": {},
   "outputs": [],
   "source": [
    "#for i in dssp:\n",
    "#    print(i)\n",
    "a_key = dssp.keys()[0]"
   ]
  },
  {
   "cell_type": "code",
   "execution_count": 28,
   "metadata": {},
   "outputs": [
    {
     "name": "stdout",
     "output_type": "stream",
     "text": [
      "109\n"
     ]
    }
   ],
   "source": [
    "dssp_nr = []\n",
    "for i in dssp.keys():\n",
    "    # DSSP\n",
    "    tmp_dssp = dssp[i][2]\n",
    "    \n",
    "    if(tmp_dssp != 'H' and tmp_dssp != 'E'):\n",
    "        dssp_nr.append( dssp[i][0])\n",
    "pos_len = len(dssp_nr)\n",
    "print(pos_len)"
   ]
  },
  {
   "cell_type": "code",
   "execution_count": 32,
   "metadata": {},
   "outputs": [],
   "source": [
    "md = 0\n",
    "modulus_pos = 10\n",
    "for i in dssp_nr:\n",
    "    if(md%modulus_pos == 0):\n",
    "        f = open(\"pos_\"+str(md)+\".pos\",'w')\n",
    "    f.write(str(i)+\" \")\n",
    "    md += 1"
   ]
  },
  {
   "cell_type": "code",
   "execution_count": null,
   "metadata": {},
   "outputs": [],
   "source": []
  }
 ],
 "metadata": {
  "kernelspec": {
   "display_name": "Python 3",
   "language": "python",
   "name": "python3"
  },
  "language_info": {
   "codemirror_mode": {
    "name": "ipython",
    "version": 3
   },
   "file_extension": ".py",
   "mimetype": "text/x-python",
   "name": "python",
   "nbconvert_exporter": "python",
   "pygments_lexer": "ipython3",
   "version": "3.6.8"
  }
 },
 "nbformat": 4,
 "nbformat_minor": 2
}
