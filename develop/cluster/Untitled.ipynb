{
 "cells": [
  {
   "cell_type": "code",
   "execution_count": 1,
   "metadata": {},
   "outputs": [],
   "source": [
    "from Bio.SubsMat import MatrixInfo as matlist"
   ]
  },
  {
   "cell_type": "code",
   "execution_count": 2,
   "metadata": {},
   "outputs": [
    {
     "name": "stdout",
     "output_type": "stream",
     "text": [
      "Help on module Bio.SubsMat.MatrixInfo in Bio.SubsMat:\n",
      "\n",
      "NAME\n",
      "    Bio.SubsMat.MatrixInfo - Substitution matrices for use in alignments, etc.\n",
      "\n",
      "DESCRIPTION\n",
      "    The information on this page was originally obtained from Dr. Gerhard Vogt's\n",
      "    page http://www.embl-heidelberg.de/~vogt/matrices/mlist1.html (dead link),\n",
      "    and was extracted using a script.\n",
      "    \n",
      "    You can view an archive copy of this webpage from 1999 here;\n",
      "    https://web.archive.org/web/19991014010917/http://www.embl-heidelberg.de/%7Evogt/matrices/mlist1.html\n",
      "\n",
      "DATA\n",
      "    available_matrices = ['benner6', 'benner22', 'benner74', 'blosum100', ...\n",
      "    benner22 = {('A', 'A'): 2.5, ('A', 'C'): -1.2, ('A', 'P'): 0.8, ('A', ...\n",
      "    benner6 = {('A', 'A'): 2.5, ('A', 'C'): -1.7, ('A', 'P'): 1.1, ('A', '...\n",
      "    benner74 = {('A', 'A'): 2.4, ('A', 'C'): 0.3, ('A', 'P'): 0.4, ('A', '...\n",
      "    blosum100 = {('A', 'A'): 5, ('B', 'A'): -3, ('B', 'B'): 4, ('B', 'C'):...\n",
      "    blosum30 = {('A', 'A'): 4, ('B', 'A'): 0, ('B', 'B'): 5, ('B', 'C'): -...\n",
      "    blosum35 = {('A', 'A'): 5, ('B', 'A'): -1, ('B', 'B'): 5, ('B', 'C'): ...\n",
      "    blosum40 = {('A', 'A'): 5, ('B', 'A'): -1, ('B', 'B'): 5, ('B', 'C'): ...\n",
      "    blosum45 = {('A', 'A'): 5, ('B', 'A'): -1, ('B', 'B'): 4, ('B', 'C'): ...\n",
      "    blosum50 = {('A', 'A'): 5, ('B', 'A'): -2, ('B', 'B'): 5, ('B', 'C'): ...\n",
      "    blosum55 = {('A', 'A'): 5, ('B', 'A'): -2, ('B', 'B'): 5, ('B', 'C'): ...\n",
      "    blosum60 = {('A', 'A'): 4, ('B', 'A'): -2, ('B', 'B'): 4, ('B', 'C'): ...\n",
      "    blosum62 = {('A', 'A'): 4, ('B', 'A'): -2, ('B', 'B'): 4, ('B', 'C'): ...\n",
      "    blosum65 = {('A', 'A'): 4, ('B', 'A'): -2, ('B', 'B'): 4, ('B', 'C'): ...\n",
      "    blosum70 = {('A', 'A'): 4, ('B', 'A'): -2, ('B', 'B'): 4, ('B', 'C'): ...\n",
      "    blosum75 = {('A', 'A'): 4, ('B', 'A'): -2, ('B', 'B'): 4, ('B', 'C'): ...\n",
      "    blosum80 = {('A', 'A'): 5, ('B', 'A'): -2, ('B', 'B'): 4, ('B', 'C'): ...\n",
      "    blosum85 = {('A', 'A'): 5, ('B', 'A'): -2, ('B', 'B'): 4, ('B', 'C'): ...\n",
      "    blosum90 = {('A', 'A'): 5, ('B', 'A'): -2, ('B', 'B'): 4, ('B', 'C'): ...\n",
      "    blosum95 = {('A', 'A'): 5, ('B', 'A'): -3, ('B', 'B'): 4, ('B', 'C'): ...\n",
      "    feng = {('A', 'A'): 6, ('A', 'C'): 2, ('A', 'P'): 5, ('A', 'S'): 5, ('...\n",
      "    fitch = {('A', 'A'): 3, ('C', 'A'): 1, ('C', 'C'): 3, ('E', 'A'): 1, (...\n",
      "    genetic = {('A', 'A'): 4.0, ('A', 'C'): -1.9, ('A', 'P'): 0.8, ('A', '...\n",
      "    gonnet = {('A', 'A'): 2.4, ('A', 'C'): 0.5, ('A', 'P'): 0.3, ('A', 'S'...\n",
      "    grant = {('A', 'A'): 215, ('A', 'C'): 61, ('A', 'E'): 130, ('A', 'F'):...\n",
      "    ident = {('A', 'A'): 6, ('A', 'C'): -1, ('A', 'P'): -1, ('A', 'S'): -1...\n",
      "    johnson = {('A', 'A'): 6.0, ('C', 'A'): -3.4, ('C', 'C'): 16.1, ('D', ...\n",
      "    levin = {('A', 'A'): 2, ('A', 'D'): 0, ('A', 'E'): 1, ('A', 'G'): 0, (...\n",
      "    mclach = {('A', 'A'): 8, ('A', 'F'): 1, ('A', 'G'): 3, ('A', 'I'): 2, ...\n",
      "    miyata = {('A', 'A'): 1.25, ('A', 'C'): -0.14, ('A', 'P'): 1.19, ('C',...\n",
      "    nwsgappep = {('A', 'A'): 1.5, ('B', 'A'): 0.2, ('B', 'B'): 1.1, ('C', ...\n",
      "    pam120 = {('A', 'A'): 3, ('B', 'A'): 0, ('B', 'B'): 4, ('B', 'C'): -6,...\n",
      "    pam180 = {('A', 'A'): 3, ('B', 'A'): 0, ('B', 'B'): 4, ('B', 'C'): -6,...\n",
      "    pam250 = {('A', 'A'): 2, ('B', 'A'): 0, ('B', 'B'): 3, ('B', 'C'): -4,...\n",
      "    pam30 = {('A', 'A'): 6, ('B', 'A'): -3, ('B', 'B'): 6, ('B', 'C'): -12...\n",
      "    pam300 = {('A', 'A'): 2, ('B', 'A'): 0, ('B', 'B'): 3, ('B', 'C'): -5,...\n",
      "    pam60 = {('A', 'A'): 5, ('B', 'A'): -2, ('B', 'B'): 5, ('B', 'C'): -9,...\n",
      "    pam90 = {('A', 'A'): 4, ('B', 'A'): -1, ('B', 'B'): 4, ('B', 'C'): -7,...\n",
      "    rao = {('A', 'A'): 16, ('C', 'A'): 11, ('C', 'C'): 16, ('D', 'A'): 9, ...\n",
      "    risler = {('A', 'A'): 2.2, ('C', 'A'): -1.5, ('C', 'C'): 2.2, ('D', 'A...\n",
      "    structure = {('A', 'A'): 4, ('A', 'C'): -2, ('A', 'P'): -1, ('A', 'S')...\n",
      "\n",
      "FILE\n",
      "    /Users/pgreisen/anaconda3/lib/python3.6/site-packages/Bio/SubsMat/MatrixInfo.py\n",
      "\n",
      "\n"
     ]
    }
   ],
   "source": [
    "help(matlist)"
   ]
  },
  {
   "cell_type": "code",
   "execution_count": null,
   "metadata": {},
   "outputs": [],
   "source": []
  }
 ],
 "metadata": {
  "kernelspec": {
   "display_name": "Python 3",
   "language": "python",
   "name": "python3"
  },
  "language_info": {
   "codemirror_mode": {
    "name": "ipython",
    "version": 3
   },
   "file_extension": ".py",
   "mimetype": "text/x-python",
   "name": "python",
   "nbconvert_exporter": "python",
   "pygments_lexer": "ipython3",
   "version": "3.6.8"
  }
 },
 "nbformat": 4,
 "nbformat_minor": 2
}
