{
 "cells": [
  {
   "cell_type": "code",
   "execution_count": 8,
   "metadata": {},
   "outputs": [],
   "source": [
    "%matplotlib inline"
   ]
  },
  {
   "cell_type": "code",
   "execution_count": 1,
   "metadata": {},
   "outputs": [
    {
     "data": {
      "text/plain": [
       "array([7, 9])"
      ]
     },
     "execution_count": 1,
     "metadata": {},
     "output_type": "execute_result"
    }
   ],
   "source": [
    "import numpy as np\n",
    "from sklearn.cluster import KMeans\n",
    "from sklearn.metrics import pairwise_distances_argmin_min\n",
    "X = np.random.randn(10, 4)\n",
    "km = KMeans(n_clusters=2).fit(X)\n",
    "closest, _ = pairwise_distances_argmin_min(km.cluster_centers_, X)\n",
    "closest"
   ]
  },
  {
   "cell_type": "code",
   "execution_count": 2,
   "metadata": {},
   "outputs": [
    {
     "name": "stdout",
     "output_type": "stream",
     "text": [
      "[[ 0.66708392  0.97820609  0.03336789  1.63536918]\n",
      " [-1.47092718  0.146679    0.1359698   2.36485677]\n",
      " [-0.90542815  0.53186418  1.0562196  -0.8383585 ]\n",
      " [-1.24928566 -0.26806368  0.10490302 -0.39831963]\n",
      " [ 0.38261041  0.62351618 -0.29524147 -0.41108886]\n",
      " [ 2.22289803  0.38224077  1.04323083  0.18216817]\n",
      " [ 0.60796637 -0.2314637  -0.67716572  0.93343968]\n",
      " [-0.43559708  0.96322278 -0.31952625 -0.37094259]\n",
      " [ 1.91588368  1.0925921   1.6482311   0.50541991]\n",
      " [ 2.46902162  0.98499723  1.26181235 -0.01559895]]\n"
     ]
    }
   ],
   "source": [
    "print(X)"
   ]
  },
  {
   "cell_type": "code",
   "execution_count": 5,
   "metadata": {},
   "outputs": [
    {
     "name": "stdout",
     "output_type": "stream",
     "text": [
      "[-0.43559708  0.96322278 -0.31952625 -0.37094259]\n"
     ]
    }
   ],
   "source": [
    "print(X[7])"
   ]
  },
  {
   "cell_type": "code",
   "execution_count": 6,
   "metadata": {},
   "outputs": [
    {
     "name": "stdout",
     "output_type": "stream",
     "text": [
      "[ 2.46902162  0.98499723  1.26181235 -0.01559895]\n"
     ]
    }
   ],
   "source": [
    "print(X[9])"
   ]
  },
  {
   "cell_type": "code",
   "execution_count": 24,
   "metadata": {},
   "outputs": [
    {
     "name": "stdout",
     "output_type": "stream",
     "text": [
      "[[43.2 16.7]\n",
      " [55.1 46.1]\n",
      " [29.6 66.8]]\n",
      "[24 12  8]\n",
      "44 20\n",
      "35 69\n",
      "57 40\n"
     ]
    },
    {
     "data": {
      "text/plain": [
       "<matplotlib.collections.PathCollection at 0x1a1c2b8da0>"
      ]
     },
     "execution_count": 24,
     "metadata": {},
     "output_type": "execute_result"
    },
    {
     "data": {
      "image/png": "[encoded data removed]",
      "text/plain": [
       "<Figure size 432x288 with 1 Axes>"
      ]
     },
     "metadata": {
      "needs_background": "light"
     },
     "output_type": "display_data"
    }
   ],
   "source": [
    "from pandas import DataFrame\n",
    "import matplotlib.pyplot as plt\n",
    "from sklearn.cluster import KMeans\n",
    "\n",
    "Data = {'x': [25,34,22,27,33,33,31,22,35,34,67,54,57,43,50,57,59,52,65,47,49,48,35,33,44,45,38,43,51,46],\n",
    "        'y': [79,51,53,78,59,74,73,57,69,75,51,32,40,47,53,36,35,58,59,50,25,20,14,12,20,5,29,27,8,7]\n",
    "       }\n",
    "  \n",
    "df = DataFrame(Data,columns=['x','y'])\n",
    "  \n",
    "kmeans = KMeans(n_clusters=3).fit(df)\n",
    "centroids = kmeans.cluster_centers_\n",
    "print(centroids)\n",
    "\n",
    "closest, _ = pairwise_distances_argmin_min(centroids, df)\n",
    "print(closest)\n",
    "\n",
    "plt.scatter(df['x'], df['y'], c= kmeans.labels_.astype(float), s=50, alpha=0.5)\n",
    "plt.scatter(centroids[:, 0], centroids[:, 1], c='red', s=50)\n",
    "\n",
    "print(df.iloc[closest[0],0], df.iloc[closest[0],1])\n",
    "plt.scatter(df.iloc[closest[0],0], df.iloc[closest[0],1], c='green', s=50)\n",
    "\n",
    "print(df.iloc[closest[2],0], df.iloc[closest[2],1])\n",
    "plt.scatter(df.iloc[closest[2],0], df.iloc[closest[2],1], c='green', s=50)\n",
    "\n",
    "print(df.iloc[closest[1],0], df.iloc[closest[1],1])\n",
    "plt.scatter(df.iloc[closest[1],0], df.iloc[closest[1],1], c='green', s=50)"
   ]
  },
  {
   "cell_type": "code",
   "execution_count": 23,
   "metadata": {},
   "outputs": [
    {
     "name": "stdout",
     "output_type": "stream",
     "text": [
      "[12  8 24]\n"
     ]
    }
   ],
   "source": [
    "closest, _ = pairwise_distances_argmin_min(centroids, df)\n",
    "print(closest)"
   ]
  },
  {
   "cell_type": "code",
   "execution_count": 19,
   "metadata": {},
   "outputs": [
    {
     "data": {
      "text/plain": [
       "57"
      ]
     },
     "execution_count": 19,
     "metadata": {},
     "output_type": "execute_result"
    }
   ],
   "source": [
    " df.iloc[12,0]"
   ]
  },
  {
   "cell_type": "code",
   "execution_count": 15,
   "metadata": {},
   "outputs": [
    {
     "data": {
      "text/plain": [
       "<matplotlib.collections.PathCollection at 0x1a1b61f080>"
      ]
     },
     "execution_count": 15,
     "metadata": {},
     "output_type": "execute_result"
    },
    {
     "data": {
      "image/png": "[encoded data removed]",
      "text/plain": [
       "<Figure size 432x288 with 1 Axes>"
      ]
     },
     "metadata": {
      "needs_background": "light"
     },
     "output_type": "display_data"
    }
   ],
   "source": [
    "plt.scatter(57, 40, c='green', s=50)"
   ]
  },
  {
   "cell_type": "code",
   "execution_count": null,
   "metadata": {},
   "outputs": [],
   "source": []
  }
 ],
 "metadata": {
  "kernelspec": {
   "display_name": "Python 3",
   "language": "python",
   "name": "python3"
  },
  "language_info": {
   "codemirror_mode": {
    "name": "ipython",
    "version": 3
   },
   "file_extension": ".py",
   "mimetype": "text/x-python",
   "name": "python",
   "nbconvert_exporter": "python",
   "pygments_lexer": "ipython3",
   "version": "3.6.8"
  }
 },
 "nbformat": 4,
 "nbformat_minor": 2
}
