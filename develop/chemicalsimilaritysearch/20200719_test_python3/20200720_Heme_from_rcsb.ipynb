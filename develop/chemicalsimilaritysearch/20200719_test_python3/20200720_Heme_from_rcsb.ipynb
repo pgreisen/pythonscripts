{
 "cells": [
  {
   "cell_type": "code",
   "execution_count": 1,
   "metadata": {},
   "outputs": [],
   "source": [
    "# link to docoment\n",
    "## https://www.datacamp.com/community/tutorials/making-http-requests-in-python\n",
    "# https://search.rcsb.org/search-attributes.html\n",
    "import requests\n",
    "import urllib\n",
    "debug=0"
   ]
  },
  {
   "cell_type": "code",
   "execution_count": 2,
   "metadata": {},
   "outputs": [],
   "source": [
    "def get_query(ligandname=\"HEM\",resolution=\"2.5\",keyword=\"P450\"):\n",
    "    query_text = \"\"\"<?xml version=\"1.0\" encoding=\"UTF-8\"?>\n",
    "<orgPdbCompositeQuery version=\"1.0\">\n",
    "    <queryRefinement>                                                                                     \n",
    "    <queryRefinementLevel>0</queryRefinementLevel>   \n",
    "\n",
    "    <orgPdbQuery>\n",
    "      <queryType>org.pdb.query.simple.ChemCompIdQuery</queryType>\n",
    "      <description>Chemical ID(s):  \"\"\"+ligandname+\"\"\" and Polymeric type is Any</description>\n",
    "        <chemCompId>\"\"\"+ligandname+\"\"\"</chemCompId>\n",
    "        <polymericType>Any</polymericType>\n",
    "    </orgPdbQuery>\n",
    "    </queryRefinement>\n",
    "\n",
    "\n",
    "    <queryRefinement>                                                                                    \\\n",
    "    <queryRefinementLevel>1</queryRefinementLevel> \n",
    "    \n",
    "    <orgPdbQuery>\n",
    "    <queryType>org.pdb.query.simple.ResolutionQuery</queryType>\n",
    "    <description>ResolutionQuery: refine.ls_d_res_high.comparator=between refine.ls_d_res_high.min=0 refine.ls_d_res_high.max=\"\"\"+resolution+\"\"\" </description>\n",
    "    <refine.ls_d_res_high.comparator>between</refine.ls_d_res_high.comparator>\n",
    "    <refine.ls_d_res_high.min>0</refine.ls_d_res_high.min>\n",
    "    <refine.ls_d_res_high.max>\"\"\"+resolution+\"\"\"</refine.ls_d_res_high.max>\n",
    "    </orgPdbQuery>\n",
    "    \n",
    "    </queryRefinement>\n",
    "\n",
    "\n",
    "    <queryRefinement>                                                                                    \\\n",
    "    <queryRefinementLevel>2</queryRefinementLevel> \n",
    "    <orgPdbQuery>\n",
    "    <queryType>org.pdb.query.simple.AdvancedKeywordQuery</queryType>\n",
    "    <description>Text Search for: \"\"\"+keyword+\"\"\"</description>\n",
    "    <keywords>\"\"\"+keyword+\"\"\"</keywords>\n",
    "    </orgPdbQuery>\n",
    "    </queryRefinement>\n",
    "\n",
    "\n",
    "</orgPdbCompositeQuery>\"\"\"\n",
    "    return query_text"
   ]
  },
  {
   "cell_type": "code",
   "execution_count": 3,
   "metadata": {},
   "outputs": [],
   "source": [
    "def set_pdb_from_rcsb(pdbname_w_chain):\n",
    "\n",
    "    pdbid=pdbname_w_chain[0:4]\n",
    "\n",
    "    with urllib.request.urlopen(\"https://files.rcsb.org/download/\"+pdbid.upper()+\".pdb\") as response:\n",
    "\n",
    "        html = response.read()\n",
    "\n",
    "    a=html.decode('ascii')\n",
    "\n",
    "    b=a.split('\\n')\n",
    "\n",
    "    with open(pdbid+\".pdb\",'w') as f:\n",
    "\n",
    "        for i in b:\n",
    "\n",
    "            f.write(i+\"\\n\")"
   ]
  },
  {
   "cell_type": "code",
   "execution_count": 4,
   "metadata": {},
   "outputs": [],
   "source": [
    "def get_xtals_ids():\n",
    "\n",
    "    url = 'http://www.rcsb.org/pdb/rest/search'\n",
    "\n",
    "    query_text = get_query(ligandname=\"HEM\",resolution=\"2.5\",keyword=\"P450\")\n",
    "\n",
    "    if(debug == 1):\n",
    "\n",
    "        print(\"Query: %s\" % query_text)\n",
    "\n",
    "        print(\"Querying RCSB PDB REST API...\")\n",
    "\n",
    "    header = {'Content-Type': 'application/x-www-form-urlencoded'}\n",
    "\n",
    "    response = requests.post(url, data=query_text, headers=header)\n",
    "    \n",
    "    '''\n",
    "    if response.status_code == 200:\n",
    "        print(\"Found %d PDB entries matching query.\" % len(response.text))\n",
    "        print(\"Matches: \\n%s\" % response.text)\n",
    "    else:\n",
    "        print(\"Failed to retrieve results\")\n",
    "    '''\n",
    "\n",
    "    return response"
   ]
  },
  {
   "cell_type": "code",
   "execution_count": 7,
   "metadata": {},
   "outputs": [],
   "source": [
    "xtals_search = get_xtals_ids()"
   ]
  },
  {
   "cell_type": "code",
   "execution_count": 9,
   "metadata": {},
   "outputs": [],
   "source": [
    "for pdbid in xtals_search.text.split('\\n'):\n",
    "    try:\n",
    "        set_pdb_from_rcsb(pdbid)\n",
    "\n",
    "    except:\n",
    "        print(\"PDB not found: % s\" % pdbid)\n"
   ]
  },
  {
   "cell_type": "code",
   "execution_count": 10,
   "metadata": {},
   "outputs": [
    {
     "name": "stdout",
     "output_type": "stream",
     "text": [
      "1AKD.pdb                      debug.txt\r\n",
      "20200720_Heme_from_rcsb.ipynb query.smi\r\n",
      "Untitled.ipynb\r\n"
     ]
    }
   ],
   "source": [
    "!ls"
   ]
  },
  {
   "cell_type": "code",
   "execution_count": null,
   "metadata": {},
   "outputs": [],
   "source": []
  }
 ],
 "metadata": {
  "kernelspec": {
   "display_name": "Python 3",
   "language": "python",
   "name": "python3"
  },
  "language_info": {
   "codemirror_mode": {
    "name": "ipython",
    "version": 3
   },
   "file_extension": ".py",
   "mimetype": "text/x-python",
   "name": "python",
   "nbconvert_exporter": "python",
   "pygments_lexer": "ipython3",
   "version": "3.6.8"
  }
 },
 "nbformat": 4,
 "nbformat_minor": 2
}
