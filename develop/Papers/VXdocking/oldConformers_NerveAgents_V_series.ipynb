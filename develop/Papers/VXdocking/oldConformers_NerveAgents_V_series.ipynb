{
 "cells": [
  {
   "cell_type": "markdown",
   "metadata": {
    "extensions": {
     "jupyter_dashboards": {
      "version": 1,
      "views": {
       "grid_default": {
        "col": 0,
        "height": 4,
        "hidden": false,
        "row": 0,
        "width": 12
       },
       "report_default": {}
      }
     }
    }
   },
   "source": [
    "# Conformers of nerve agents of V-series\n",
    "\n",
    "## Generation of conformers for docking in Rosetta"
   ]
  },
  {
   "cell_type": "code",
   "execution_count": 1,
   "metadata": {
    "collapsed": true,
    "extensions": {
     "jupyter_dashboards": {
      "version": 1,
      "views": {
       "grid_default": {
        "hidden": true
       },
       "report_default": {}
      }
     }
    }
   },
   "outputs": [],
   "source": [
    "# remember to source before using RDkit\n",
    "# source activate my-rdkit-env \n",
    "# and open jupyter from this environment"
   ]
  },
  {
   "cell_type": "markdown",
   "metadata": {
    "extensions": {
     "jupyter_dashboards": {
      "version": 1,
      "views": {
       "grid_default": {
        "col": 0,
        "height": 4,
        "hidden": false,
        "row": 4,
        "width": 4
       },
       "report_default": {}
      }
     }
    }
   },
   "source": [
    "from IPython.display import HTML\n",
    "\n",
    "HTML('''<script>\n",
    "code_show=true; \n",
    "function code_toggle() {\n",
    " if (code_show){\n",
    " $('div.input').hide();\n",
    " } else {\n",
    " $('div.input').show();\n",
    " }\n",
    " code_show = !code_show\n",
    "} \n",
    "$( document ).ready(code_toggle);\n",
    "</script>\n",
    "<form action=\"javascript:code_toggle()\"><input type=\"submit\" value=\"Click here to toggle on/off the raw code.\"></form>''')"
   ]
  },
  {
   "cell_type": "code",
   "execution_count": 2,
   "metadata": {
    "collapsed": true,
    "extensions": {
     "jupyter_dashboards": {
      "version": 1,
      "views": {
       "grid_default": {
        "hidden": true
       },
       "report_default": {}
      }
     }
    }
   },
   "outputs": [],
   "source": [
    "from rdkit import Chem\n",
    "from rdkit.Chem import AllChem\n",
    "from rdkit.Chem import rdMolTransforms as rdmt\n",
    "import numpy as np\n",
    "# from rdkit import Chem\n",
    "from rdkit.Chem.Draw import IPythonConsole\n",
    "from rdkit.Chem.Draw import MolDrawing, DrawingOptions\n",
    "from rdkit.Geometry import rdGeometry as geom"
   ]
  },
  {
   "cell_type": "code",
   "execution_count": 3,
   "metadata": {
    "collapsed": true
   },
   "outputs": [],
   "source": [
    "import VXconformers"
   ]
  },
  {
   "cell_type": "code",
   "execution_count": 4,
   "metadata": {
    "collapsed": true
   },
   "outputs": [],
   "source": [
    "vxc = VXconformers.VXconformers()"
   ]
  },
  {
   "cell_type": "markdown",
   "metadata": {
    "extensions": {
     "jupyter_dashboards": {
      "version": 1,
      "views": {
       "grid_default": {
        "col": 0,
        "height": 6,
        "hidden": false,
        "row": 8,
        "width": 12
       },
       "report_default": {}
      }
     }
    }
   },
   "source": [
    "## SMILES of the 3 nerve agents:\n",
    "\n",
    "* VX \n",
    "* Russian VX(RVX) \n",
    "* Chinese VX(CVX)\n",
    "\n",
    "### SMILES taken from pubchem except CVX build from RVX"
   ]
  },
  {
   "cell_type": "code",
   "execution_count": 5,
   "metadata": {
    "collapsed": true,
    "extensions": {
     "jupyter_dashboards": {
      "version": 1,
      "views": {
       "grid_default": {
        "hidden": true
       },
       "report_default": {}
      }
     }
    }
   },
   "outputs": [],
   "source": [
    "# SMILES from pubchem except CVX build from RVX\n",
    "nerve_agents = {'RVX' : 'CC[NH+](CC)CCSP(=O)(C)OCC(C)C',\n",
    "                'VX'  : 'CCOP(C)(=O)SCC[NH+](C(C)C)C(C)C',\n",
    "                'CVX' : 'O=P(OCCCC)(SCC[NH+](CC)CC)C'}"
   ]
  },
  {
   "cell_type": "code",
   "execution_count": 6,
   "metadata": {
    "collapsed": true,
    "extensions": {
     "jupyter_dashboards": {
      "version": 1,
      "views": {
       "grid_default": {
        "hidden": true
       },
       "report_default": {}
      }
     }
    }
   },
   "outputs": [],
   "source": [
    "mols = {}\n",
    "for name in nerve_agents.keys():\n",
    "    mols[name] = vxc.generate_molecule(name,nerve_agents[name])"
   ]
  },
  {
   "cell_type": "code",
   "execution_count": 7,
   "metadata": {
    "extensions": {
     "jupyter_dashboards": {
      "version": 1,
      "views": {
       "grid_default": {
        "col": 0,
        "height": 5,
        "hidden": false,
        "row": 14,
        "width": 4
       },
       "report_default": {}
      }
     }
    }
   },
   "outputs": [
    {
     "data": {
      "image/png": "[encoded data removed]",
      "text/plain": [
       "<rdkit.Chem.rdchem.Mol at 0x10aac58a0>"
      ]
     },
     "execution_count": 7,
     "metadata": {},
     "output_type": "execute_result"
    }
   ],
   "source": [
    "mols['VX']"
   ]
  },
  {
   "cell_type": "code",
   "execution_count": 8,
   "metadata": {
    "extensions": {
     "jupyter_dashboards": {
      "version": 1,
      "views": {
       "grid_default": {
        "col": 4,
        "height": 5,
        "hidden": false,
        "row": 14,
        "width": 4
       },
       "report_default": {}
      }
     }
    }
   },
   "outputs": [
    {
     "data": {
      "image/png": "[encoded data removed]",
      "text/plain": [
       "<rdkit.Chem.rdchem.Mol at 0x10aac5830>"
      ]
     },
     "execution_count": 8,
     "metadata": {},
     "output_type": "execute_result"
    }
   ],
   "source": [
    "mols['RVX']"
   ]
  },
  {
   "cell_type": "code",
   "execution_count": 9,
   "metadata": {
    "extensions": {
     "jupyter_dashboards": {
      "version": 1,
      "views": {
       "grid_default": {
        "col": 8,
        "height": 5,
        "hidden": false,
        "row": 14,
        "width": 4
       },
       "report_default": {}
      }
     }
    }
   },
   "outputs": [
    {
     "data": {
      "image/png": "[encoded data removed]",
      "text/plain": [
       "<rdkit.Chem.rdchem.Mol at 0x10aac57c0>"
      ]
     },
     "execution_count": 9,
     "metadata": {},
     "output_type": "execute_result"
    }
   ],
   "source": [
    "mols['CVX']"
   ]
  },
  {
   "cell_type": "code",
   "execution_count": 10,
   "metadata": {
    "collapsed": true,
    "extensions": {
     "jupyter_dashboards": {
      "version": 1,
      "views": {
       "grid_default": {
        "hidden": true
       },
       "report_default": {}
      }
     }
    }
   },
   "outputs": [],
   "source": [
    "cids = vxc.get_conformers(mols['VX'], 500,0.1)"
   ]
  },
  {
   "cell_type": "markdown",
   "metadata": {},
   "source": [
    "### Atom indexes of P, S, N etc"
   ]
  },
  {
   "cell_type": "code",
   "execution_count": 11,
   "metadata": {
    "extensions": {
     "jupyter_dashboards": {
      "version": 1,
      "views": {
       "grid_default": {
        "hidden": true
       },
       "report_default": {}
      }
     }
    }
   },
   "outputs": [
    {
     "name": "stdout",
     "output_type": "stream",
     "text": [
      "3 6 4 9 5 2\n"
     ]
    }
   ],
   "source": [
    "# p_id, s_id, pc_id, nh_id, po_id, poe_id = get_index_atms( mols['CVX'] )\n",
    "p_id, s_id, pc_id, nh_id, po_id, poe_id = vxc.get_index_atms( mols['VX'] )\n",
    "print p_id, s_id, pc_id, nh_id, po_id, poe_id"
   ]
  },
  {
   "cell_type": "markdown",
   "metadata": {
    "extensions": {
     "jupyter_dashboards": {
      "version": 1,
      "views": {
       "grid_default": {
        "col": 0,
        "height": 4,
        "hidden": false,
        "row": 19,
        "width": 12
       },
       "report_default": {}
      }
     }
    }
   },
   "source": [
    "## Setting parameters for the transition state model\n",
    "### Distance, angles etc"
   ]
  },
  {
   "cell_type": "code",
   "execution_count": 12,
   "metadata": {
    "collapsed": true,
    "extensions": {
     "jupyter_dashboards": {
      "version": 1,
      "views": {
       "grid_default": {
        "hidden": true
       },
       "report_default": {}
      }
     }
    }
   },
   "outputs": [],
   "source": [
    "# P-S bond distance\n",
    "p_s_dist = 2.36\n",
    "# Leaving group carbons\n",
    "##c1_l = 0\n",
    "##c2_l = 1\n",
    "##c3_l = 3\n",
    "##c4_l = 4\n",
    "# set transition state geometry for S- and R-isomer\n",
    "dist = 2.36\n",
    "##LIGAND_NAME = 'CVX'\n",
    "LIGAND_NAME = 'VX'"
   ]
  },
  {
   "cell_type": "code",
   "execution_count": 13,
   "metadata": {
    "collapsed": true,
    "extensions": {
     "jupyter_dashboards": {
      "version": 1,
      "views": {
       "grid_default": {
        "hidden": true
       },
       "report_default": {}
      }
     }
    }
   },
   "outputs": [],
   "source": [
    "# Do a short minimization and compute the RMSD\n",
    "for cid in cids:\n",
    "    _ = AllChem.MMFFOptimizeMolecule(mols['VX'], confId=cid)\n",
    "    ## _ = AllChem.MMFFOptimizeMolecule(mols['CVX'], confId=cid)\n",
    "rmslist = []\n",
    "##AllChem.AlignMolConformers(mols['CVX'], RMSlist=rmslist)\n",
    "AllChem.AlignMolConformers(mols['VX'], RMSlist=rmslist)"
   ]
  },
  {
   "cell_type": "code",
   "execution_count": 14,
   "metadata": {
    "extensions": {
     "jupyter_dashboards": {
      "version": 1,
      "views": {
       "grid_default": {
        "col": 4,
        "height": 4,
        "hidden": false,
        "row": 4,
        "width": 4
       },
       "report_default": {}
      }
     }
    }
   },
   "outputs": [
    {
     "data": {
      "text/plain": [
       "[(3, '?')]"
      ]
     },
     "execution_count": 14,
     "metadata": {},
     "output_type": "execute_result"
    }
   ],
   "source": [
    "# get atom types from index\n",
    "# vxm_h.GetAtomWithIdx(9).GetSymbol()\n",
    "##Chem.FindMolChiralCenters(mols['CVX'], p_id, includeUnassigned=True)\n",
    "Chem.FindMolChiralCenters(mols['VX'], p_id, includeUnassigned=True)"
   ]
  },
  {
   "cell_type": "code",
   "execution_count": 15,
   "metadata": {
    "collapsed": true,
    "extensions": {
     "jupyter_dashboards": {
      "version": 1,
      "views": {
       "grid_default": {
        "hidden": true
       },
       "report_default": {}
      }
     }
    }
   },
   "outputs": [],
   "source": [
    "from rdkit.Chem import rdMolTransforms as rdmt\n",
    "# Add conformers if passing distance filter\n",
    "##new = Chem.Mol(mols['CVX'])\n",
    "new = Chem.Mol(mols['VX'])\n",
    "for cid in cids:\n",
    "    conf = new.GetConformer(cid)\n",
    "    # Proton phosphoryl distance\n",
    "    dist = rdmt.GetBondLength(conf, nh_id, po_id)\n",
    "    # remove conformers\n",
    "    if(dist <= 2.3):\n",
    "        new.RemoveConformer(cid)\n",
    "conf_ids = [conf.GetId() for conf in new.GetConformers()]\n",
    "dummy = 1\n",
    "for m in conf_ids:\n",
    "    w = Chem.SDWriter('prune'+str(dummy)+'.sdf')\n",
    "    w.write(new,confId=m)\n",
    "    dummy += 1"
   ]
  },
  {
   "cell_type": "code",
   "execution_count": 16,
   "metadata": {},
   "outputs": [
    {
     "name": "stdout",
     "output_type": "stream",
     "text": [
      "<rdkit.Chem.rdchem.Mol object at 0x10aac53d0> <class 'rdkit.Chem.rdchem.Mol'> False\n",
      "<rdkit.Chem.rdchem.Mol object at 0x10aac5360> <class 'rdkit.Chem.rdchem.Mol'> False\n",
      "<rdkit.Chem.rdchem.Mol object at 0x10aac5670> <class 'rdkit.Chem.rdchem.Mol'> False\n",
      "<rdkit.Chem.rdchem.Mol object at 0x10aac5210> <class 'rdkit.Chem.rdchem.Mol'> False\n",
      "<rdkit.Chem.rdchem.Mol object at 0x10aac5210> <class 'rdkit.Chem.rdchem.Mol'> False\n",
      "<rdkit.Chem.rdchem.Mol object at 0x10aac5750> <class 'rdkit.Chem.rdchem.Mol'> False\n",
      "<rdkit.Chem.rdchem.Mol object at 0x10aac5590> <class 'rdkit.Chem.rdchem.Mol'> False\n",
      "<rdkit.Chem.rdchem.Mol object at 0x10aac54b0> <class 'rdkit.Chem.rdchem.Mol'> False\n",
      "<rdkit.Chem.rdchem.Mol object at 0x10aac5c20> <class 'rdkit.Chem.rdchem.Mol'> False\n",
      "<rdkit.Chem.rdchem.Mol object at 0x10aac51a0> <class 'rdkit.Chem.rdchem.Mol'> False\n",
      "<rdkit.Chem.rdchem.Mol object at 0x10aac50c0> <class 'rdkit.Chem.rdchem.Mol'> False\n",
      "<rdkit.Chem.rdchem.Mol object at 0x10aac5130> <class 'rdkit.Chem.rdchem.Mol'> False\n",
      "<rdkit.Chem.rdchem.Mol object at 0x10aac5050> <class 'rdkit.Chem.rdchem.Mol'> False\n",
      "<rdkit.Chem.rdchem.Mol object at 0x10aac5600> <class 'rdkit.Chem.rdchem.Mol'> False\n",
      "<rdkit.Chem.rdchem.Mol object at 0x10aac5600> <class 'rdkit.Chem.rdchem.Mol'> False\n",
      "<rdkit.Chem.rdchem.Mol object at 0x10aac52f0> <class 'rdkit.Chem.rdchem.Mol'> False\n",
      "<rdkit.Chem.rdchem.Mol object at 0x10aac52f0> <class 'rdkit.Chem.rdchem.Mol'> False\n",
      "<rdkit.Chem.rdchem.Mol object at 0x10aac52f0> <class 'rdkit.Chem.rdchem.Mol'> False\n",
      "<rdkit.Chem.rdchem.Mol object at 0x10aaacf30> <class 'rdkit.Chem.rdchem.Mol'> False\n",
      "<rdkit.Chem.rdchem.Mol object at 0x10aaacec0> <class 'rdkit.Chem.rdchem.Mol'> False\n",
      "<rdkit.Chem.rdchem.Mol object at 0x10aaace50> <class 'rdkit.Chem.rdchem.Mol'> False\n",
      "<rdkit.Chem.rdchem.Mol object at 0x10aaacde0> <class 'rdkit.Chem.rdchem.Mol'> False\n",
      "<rdkit.Chem.rdchem.Mol object at 0x10aaacde0> <class 'rdkit.Chem.rdchem.Mol'> False\n",
      "<rdkit.Chem.rdchem.Mol object at 0x10aaac750> <class 'rdkit.Chem.rdchem.Mol'> False\n",
      "<rdkit.Chem.rdchem.Mol object at 0x10aaacc90> <class 'rdkit.Chem.rdchem.Mol'> False\n",
      "<rdkit.Chem.rdchem.Mol object at 0x10aaacc20> <class 'rdkit.Chem.rdchem.Mol'> False\n",
      "<rdkit.Chem.rdchem.Mol object at 0x10aaacc20> <class 'rdkit.Chem.rdchem.Mol'> False\n",
      "<rdkit.Chem.rdchem.Mol object at 0x10aaacfa0> <class 'rdkit.Chem.rdchem.Mol'> False\n",
      "<rdkit.Chem.rdchem.Mol object at 0x10aaacad0> <class 'rdkit.Chem.rdchem.Mol'> False\n",
      "<rdkit.Chem.rdchem.Mol object at 0x10aaacad0> <class 'rdkit.Chem.rdchem.Mol'> False\n",
      "<rdkit.Chem.rdchem.Mol object at 0x10aaacb40> <class 'rdkit.Chem.rdchem.Mol'> False\n",
      "<rdkit.Chem.rdchem.Mol object at 0x10aaac910> <class 'rdkit.Chem.rdchem.Mol'> False\n",
      "<rdkit.Chem.rdchem.Mol object at 0x10aaac980> <class 'rdkit.Chem.rdchem.Mol'> False\n",
      "<rdkit.Chem.rdchem.Mol object at 0x10aaac8a0> <class 'rdkit.Chem.rdchem.Mol'> False\n",
      "<rdkit.Chem.rdchem.Mol object at 0x10aaac830> <class 'rdkit.Chem.rdchem.Mol'> False\n",
      "<rdkit.Chem.rdchem.Mol object at 0x10aaac830> <class 'rdkit.Chem.rdchem.Mol'> False\n",
      "<rdkit.Chem.rdchem.Mol object at 0x10aaac830> <class 'rdkit.Chem.rdchem.Mol'> False\n",
      "<rdkit.Chem.rdchem.Mol object at 0x10aaac9f0> <class 'rdkit.Chem.rdchem.Mol'> False\n",
      "<rdkit.Chem.rdchem.Mol object at 0x10aaac9f0> <class 'rdkit.Chem.rdchem.Mol'> False\n",
      "<rdkit.Chem.rdchem.Mol object at 0x10aaacd70> <class 'rdkit.Chem.rdchem.Mol'> False\n",
      "<rdkit.Chem.rdchem.Mol object at 0x10aacbd00> <class 'rdkit.Chem.rdchem.Mol'> False\n",
      "<rdkit.Chem.rdchem.Mol object at 0x10aacbc90> <class 'rdkit.Chem.rdchem.Mol'> False\n",
      "<rdkit.Chem.rdchem.Mol object at 0x10aacbc20> <class 'rdkit.Chem.rdchem.Mol'> False\n",
      "<rdkit.Chem.rdchem.Mol object at 0x10aacbd70> <class 'rdkit.Chem.rdchem.Mol'> False\n",
      "<rdkit.Chem.rdchem.Mol object at 0x10aacbd70> <class 'rdkit.Chem.rdchem.Mol'> False\n",
      "<rdkit.Chem.rdchem.Mol object at 0x10aacbec0> <class 'rdkit.Chem.rdchem.Mol'> False\n",
      "<rdkit.Chem.rdchem.Mol object at 0x10aacbec0> <class 'rdkit.Chem.rdchem.Mol'> False\n",
      "<rdkit.Chem.rdchem.Mol object at 0x10aacbe50> <class 'rdkit.Chem.rdchem.Mol'> False\n",
      "<rdkit.Chem.rdchem.Mol object at 0x10aacbe50> <class 'rdkit.Chem.rdchem.Mol'> False\n",
      "<rdkit.Chem.rdchem.Mol object at 0x10aacbbb0> <class 'rdkit.Chem.rdchem.Mol'> False\n",
      "<rdkit.Chem.rdchem.Mol object at 0x10aacba60> <class 'rdkit.Chem.rdchem.Mol'> False\n",
      "<rdkit.Chem.rdchem.Mol object at 0x10aacb9f0> <class 'rdkit.Chem.rdchem.Mol'> False\n",
      "<rdkit.Chem.rdchem.Mol object at 0x10aacb830> <class 'rdkit.Chem.rdchem.Mol'> False\n",
      "<rdkit.Chem.rdchem.Mol object at 0x10aacb7c0> <class 'rdkit.Chem.rdchem.Mol'> False\n",
      "<rdkit.Chem.rdchem.Mol object at 0x10aacb910> <class 'rdkit.Chem.rdchem.Mol'> False\n",
      "<rdkit.Chem.rdchem.Mol object at 0x10aacb750> <class 'rdkit.Chem.rdchem.Mol'> False\n",
      "<rdkit.Chem.rdchem.Mol object at 0x10aacbde0> <class 'rdkit.Chem.rdchem.Mol'> False\n",
      "<rdkit.Chem.rdchem.Mol object at 0x10aacb600> <class 'rdkit.Chem.rdchem.Mol'> False\n",
      "<rdkit.Chem.rdchem.Mol object at 0x10aacb4b0> <class 'rdkit.Chem.rdchem.Mol'> False\n",
      "<rdkit.Chem.rdchem.Mol object at 0x10aacb3d0> <class 'rdkit.Chem.rdchem.Mol'> False\n",
      "<rdkit.Chem.rdchem.Mol object at 0x10aacb360> <class 'rdkit.Chem.rdchem.Mol'> False\n",
      "<rdkit.Chem.rdchem.Mol object at 0x10aacb2f0> <class 'rdkit.Chem.rdchem.Mol'> False\n",
      "<rdkit.Chem.rdchem.Mol object at 0x10aacb280> <class 'rdkit.Chem.rdchem.Mol'> False\n",
      "<rdkit.Chem.rdchem.Mol object at 0x10aacb210> <class 'rdkit.Chem.rdchem.Mol'> False\n",
      "<rdkit.Chem.rdchem.Mol object at 0x10aacb210> <class 'rdkit.Chem.rdchem.Mol'> False\n",
      "<rdkit.Chem.rdchem.Mol object at 0x10aacbad0> <class 'rdkit.Chem.rdchem.Mol'> False\n",
      "<rdkit.Chem.rdchem.Mol object at 0x10aacb050> <class 'rdkit.Chem.rdchem.Mol'> False\n",
      "<rdkit.Chem.rdchem.Mol object at 0x10aacb520> <class 'rdkit.Chem.rdchem.Mol'> False\n",
      "<rdkit.Chem.rdchem.Mol object at 0x10aacbf30> <class 'rdkit.Chem.rdchem.Mol'> False\n",
      "<rdkit.Chem.rdchem.Mol object at 0x10aacbfa0> <class 'rdkit.Chem.rdchem.Mol'> False\n",
      "<rdkit.Chem.rdchem.Mol object at 0x10aacb130> <class 'rdkit.Chem.rdchem.Mol'> False\n",
      "<rdkit.Chem.rdchem.Mol object at 0x10aacbb40> <class 'rdkit.Chem.rdchem.Mol'> False\n",
      "<rdkit.Chem.rdchem.Mol object at 0x10acd9130> <class 'rdkit.Chem.rdchem.Mol'> False\n",
      "<rdkit.Chem.rdchem.Mol object at 0x10acd91a0> <class 'rdkit.Chem.rdchem.Mol'> False\n",
      "<rdkit.Chem.rdchem.Mol object at 0x10acd9210> <class 'rdkit.Chem.rdchem.Mol'> False\n",
      "<rdkit.Chem.rdchem.Mol object at 0x10acd9210> <class 'rdkit.Chem.rdchem.Mol'> False\n",
      "<rdkit.Chem.rdchem.Mol object at 0x10acd9050> <class 'rdkit.Chem.rdchem.Mol'> False\n",
      "<rdkit.Chem.rdchem.Mol object at 0x10acd92f0> <class 'rdkit.Chem.rdchem.Mol'> False\n",
      "<rdkit.Chem.rdchem.Mol object at 0x10acd9360> <class 'rdkit.Chem.rdchem.Mol'> False\n",
      "<rdkit.Chem.rdchem.Mol object at 0x10acd93d0> <class 'rdkit.Chem.rdchem.Mol'> False\n",
      "<rdkit.Chem.rdchem.Mol object at 0x10acd9440> <class 'rdkit.Chem.rdchem.Mol'> False\n",
      "<rdkit.Chem.rdchem.Mol object at 0x10acd9440> <class 'rdkit.Chem.rdchem.Mol'> False\n",
      "<rdkit.Chem.rdchem.Mol object at 0x10acd90c0> <class 'rdkit.Chem.rdchem.Mol'> False\n",
      "<rdkit.Chem.rdchem.Mol object at 0x10acd9520> <class 'rdkit.Chem.rdchem.Mol'> False\n",
      "<rdkit.Chem.rdchem.Mol object at 0x10acd9590> <class 'rdkit.Chem.rdchem.Mol'> False\n",
      "<rdkit.Chem.rdchem.Mol object at 0x10acd9590> <class 'rdkit.Chem.rdchem.Mol'> False\n",
      "<rdkit.Chem.rdchem.Mol object at 0x10acd9590> <class 'rdkit.Chem.rdchem.Mol'> False\n",
      "<rdkit.Chem.rdchem.Mol object at 0x10acd9590> <class 'rdkit.Chem.rdchem.Mol'> False\n",
      "<rdkit.Chem.rdchem.Mol object at 0x10acd9590> <class 'rdkit.Chem.rdchem.Mol'> False\n",
      "<rdkit.Chem.rdchem.Mol object at 0x10acd9600> <class 'rdkit.Chem.rdchem.Mol'> False\n",
      "<rdkit.Chem.rdchem.Mol object at 0x10acd9670> <class 'rdkit.Chem.rdchem.Mol'> False\n",
      "<rdkit.Chem.rdchem.Mol object at 0x10acd96e0> <class 'rdkit.Chem.rdchem.Mol'> False\n",
      "<rdkit.Chem.rdchem.Mol object at 0x10acd96e0> <class 'rdkit.Chem.rdchem.Mol'> False\n",
      "<rdkit.Chem.rdchem.Mol object at 0x10acd94b0> <class 'rdkit.Chem.rdchem.Mol'> False\n",
      "<rdkit.Chem.rdchem.Mol object at 0x10acd97c0> <class 'rdkit.Chem.rdchem.Mol'> False\n",
      "<rdkit.Chem.rdchem.Mol object at 0x10acd9830> <class 'rdkit.Chem.rdchem.Mol'> False\n",
      "<rdkit.Chem.rdchem.Mol object at 0x10acd98a0> <class 'rdkit.Chem.rdchem.Mol'> False\n",
      "<rdkit.Chem.rdchem.Mol object at 0x10acd9910> <class 'rdkit.Chem.rdchem.Mol'> False\n",
      "<rdkit.Chem.rdchem.Mol object at 0x10acd9980> <class 'rdkit.Chem.rdchem.Mol'> False\n",
      "<rdkit.Chem.rdchem.Mol object at 0x10acd99f0> <class 'rdkit.Chem.rdchem.Mol'> False\n",
      "<rdkit.Chem.rdchem.Mol object at 0x10acd99f0> <class 'rdkit.Chem.rdchem.Mol'> False\n",
      "<rdkit.Chem.rdchem.Mol object at 0x10acd9280> <class 'rdkit.Chem.rdchem.Mol'> False\n",
      "<rdkit.Chem.rdchem.Mol object at 0x10acd9280> <class 'rdkit.Chem.rdchem.Mol'> False\n",
      "<rdkit.Chem.rdchem.Mol object at 0x10acd9750> <class 'rdkit.Chem.rdchem.Mol'> False\n",
      "<rdkit.Chem.rdchem.Mol object at 0x10acd9b40> <class 'rdkit.Chem.rdchem.Mol'> False\n"
     ]
    },
    {
     "name": "stdout",
     "output_type": "stream",
     "text": [
      "<rdkit.Chem.rdchem.Mol object at 0x10acd9bb0> <class 'rdkit.Chem.rdchem.Mol'> False\n",
      "<rdkit.Chem.rdchem.Mol object at 0x10acd9c20> <class 'rdkit.Chem.rdchem.Mol'> False\n",
      "<rdkit.Chem.rdchem.Mol object at 0x10acd9c90> <class 'rdkit.Chem.rdchem.Mol'> False\n",
      "<rdkit.Chem.rdchem.Mol object at 0x10acd9d00> <class 'rdkit.Chem.rdchem.Mol'> False\n",
      "<rdkit.Chem.rdchem.Mol object at 0x10acd9d00> <class 'rdkit.Chem.rdchem.Mol'> False\n",
      "<rdkit.Chem.rdchem.Mol object at 0x10acd9ad0> <class 'rdkit.Chem.rdchem.Mol'> False\n",
      "<rdkit.Chem.rdchem.Mol object at 0x10acd9de0> <class 'rdkit.Chem.rdchem.Mol'> False\n",
      "<rdkit.Chem.rdchem.Mol object at 0x10acd9e50> <class 'rdkit.Chem.rdchem.Mol'> False\n",
      "<rdkit.Chem.rdchem.Mol object at 0x10acd9ec0> <class 'rdkit.Chem.rdchem.Mol'> False\n",
      "<rdkit.Chem.rdchem.Mol object at 0x10acd9f30> <class 'rdkit.Chem.rdchem.Mol'> False\n",
      "<rdkit.Chem.rdchem.Mol object at 0x10acd9fa0> <class 'rdkit.Chem.rdchem.Mol'> False\n",
      "<rdkit.Chem.rdchem.Mol object at 0x10acd9fa0> <class 'rdkit.Chem.rdchem.Mol'> False\n",
      "<rdkit.Chem.rdchem.Mol object at 0x10acd9d70> <class 'rdkit.Chem.rdchem.Mol'> False\n",
      "<rdkit.Chem.rdchem.Mol object at 0x10acd9a60> <class 'rdkit.Chem.rdchem.Mol'> False\n",
      "<rdkit.Chem.rdchem.Mol object at 0x10aceb130> <class 'rdkit.Chem.rdchem.Mol'> False\n",
      "<rdkit.Chem.rdchem.Mol object at 0x10aceb1a0> <class 'rdkit.Chem.rdchem.Mol'> False\n",
      "<rdkit.Chem.rdchem.Mol object at 0x10aceb210> <class 'rdkit.Chem.rdchem.Mol'> False\n",
      "<rdkit.Chem.rdchem.Mol object at 0x10aceb210> <class 'rdkit.Chem.rdchem.Mol'> False\n",
      "<rdkit.Chem.rdchem.Mol object at 0x10aceb210> <class 'rdkit.Chem.rdchem.Mol'> False\n",
      "<rdkit.Chem.rdchem.Mol object at 0x10aceb280> <class 'rdkit.Chem.rdchem.Mol'> False\n",
      "<rdkit.Chem.rdchem.Mol object at 0x10aceb2f0> <class 'rdkit.Chem.rdchem.Mol'> False\n",
      "<rdkit.Chem.rdchem.Mol object at 0x10aceb2f0> <class 'rdkit.Chem.rdchem.Mol'> False\n",
      "<rdkit.Chem.rdchem.Mol object at 0x10aceb2f0> <class 'rdkit.Chem.rdchem.Mol'> False\n",
      "<rdkit.Chem.rdchem.Mol object at 0x10aceb360> <class 'rdkit.Chem.rdchem.Mol'> False\n",
      "<rdkit.Chem.rdchem.Mol object at 0x10aceb360> <class 'rdkit.Chem.rdchem.Mol'> False\n",
      "<rdkit.Chem.rdchem.Mol object at 0x10aceb360> <class 'rdkit.Chem.rdchem.Mol'> False\n",
      "<rdkit.Chem.rdchem.Mol object at 0x10aceb3d0> <class 'rdkit.Chem.rdchem.Mol'> False\n",
      "<rdkit.Chem.rdchem.Mol object at 0x10aceb440> <class 'rdkit.Chem.rdchem.Mol'> False\n",
      "<rdkit.Chem.rdchem.Mol object at 0x10aceb4b0> <class 'rdkit.Chem.rdchem.Mol'> False\n",
      "<rdkit.Chem.rdchem.Mol object at 0x10aceb520> <class 'rdkit.Chem.rdchem.Mol'> False\n",
      "<rdkit.Chem.rdchem.Mol object at 0x10aceb590> <class 'rdkit.Chem.rdchem.Mol'> False\n",
      "<rdkit.Chem.rdchem.Mol object at 0x10aceb590> <class 'rdkit.Chem.rdchem.Mol'> False\n",
      "<rdkit.Chem.rdchem.Mol object at 0x10aceb050> <class 'rdkit.Chem.rdchem.Mol'> False\n",
      "<rdkit.Chem.rdchem.Mol object at 0x10aceb670> <class 'rdkit.Chem.rdchem.Mol'> False\n",
      "<rdkit.Chem.rdchem.Mol object at 0x10aceb6e0> <class 'rdkit.Chem.rdchem.Mol'> False\n",
      "<rdkit.Chem.rdchem.Mol object at 0x10aceb750> <class 'rdkit.Chem.rdchem.Mol'> False\n",
      "<rdkit.Chem.rdchem.Mol object at 0x10aceb7c0> <class 'rdkit.Chem.rdchem.Mol'> False\n",
      "<rdkit.Chem.rdchem.Mol object at 0x10aceb830> <class 'rdkit.Chem.rdchem.Mol'> False\n",
      "<rdkit.Chem.rdchem.Mol object at 0x10aceb8a0> <class 'rdkit.Chem.rdchem.Mol'> False\n",
      "<rdkit.Chem.rdchem.Mol object at 0x10aceb910> <class 'rdkit.Chem.rdchem.Mol'> False\n",
      "<rdkit.Chem.rdchem.Mol object at 0x10aceb980> <class 'rdkit.Chem.rdchem.Mol'> False\n",
      "<rdkit.Chem.rdchem.Mol object at 0x10aceb9f0> <class 'rdkit.Chem.rdchem.Mol'> False\n",
      "<rdkit.Chem.rdchem.Mol object at 0x10aceba60> <class 'rdkit.Chem.rdchem.Mol'> False\n",
      "<rdkit.Chem.rdchem.Mol object at 0x10acebad0> <class 'rdkit.Chem.rdchem.Mol'> False\n",
      "<rdkit.Chem.rdchem.Mol object at 0x10acebad0> <class 'rdkit.Chem.rdchem.Mol'> False\n",
      "<rdkit.Chem.rdchem.Mol object at 0x10aceb600> <class 'rdkit.Chem.rdchem.Mol'> False\n",
      "<rdkit.Chem.rdchem.Mol object at 0x10aceb600> <class 'rdkit.Chem.rdchem.Mol'> False\n",
      "<rdkit.Chem.rdchem.Mol object at 0x10aceb0c0> <class 'rdkit.Chem.rdchem.Mol'> False\n",
      "<rdkit.Chem.rdchem.Mol object at 0x10acebc20> <class 'rdkit.Chem.rdchem.Mol'> False\n",
      "<rdkit.Chem.rdchem.Mol object at 0x10acebc90> <class 'rdkit.Chem.rdchem.Mol'> False\n",
      "<rdkit.Chem.rdchem.Mol object at 0x10acebd00> <class 'rdkit.Chem.rdchem.Mol'> False\n",
      "<rdkit.Chem.rdchem.Mol object at 0x10acebd00> <class 'rdkit.Chem.rdchem.Mol'> False\n",
      "<rdkit.Chem.rdchem.Mol object at 0x10acebd00> <class 'rdkit.Chem.rdchem.Mol'> False\n",
      "<rdkit.Chem.rdchem.Mol object at 0x10acebd70> <class 'rdkit.Chem.rdchem.Mol'> False\n",
      "<rdkit.Chem.rdchem.Mol object at 0x10acebde0> <class 'rdkit.Chem.rdchem.Mol'> False\n",
      "<rdkit.Chem.rdchem.Mol object at 0x10acebe50> <class 'rdkit.Chem.rdchem.Mol'> False\n",
      "<rdkit.Chem.rdchem.Mol object at 0x10acebec0> <class 'rdkit.Chem.rdchem.Mol'> False\n",
      "<rdkit.Chem.rdchem.Mol object at 0x10acebf30> <class 'rdkit.Chem.rdchem.Mol'> False\n",
      "<rdkit.Chem.rdchem.Mol object at 0x10acebfa0> <class 'rdkit.Chem.rdchem.Mol'> False\n",
      "<rdkit.Chem.rdchem.Mol object at 0x10acebb40> <class 'rdkit.Chem.rdchem.Mol'> False\n",
      "<rdkit.Chem.rdchem.Mol object at 0x10acebbb0> <class 'rdkit.Chem.rdchem.Mol'> False\n",
      "<rdkit.Chem.rdchem.Mol object at 0x10acebbb0> <class 'rdkit.Chem.rdchem.Mol'> False\n",
      "<rdkit.Chem.rdchem.Mol object at 0x10acfb130> <class 'rdkit.Chem.rdchem.Mol'> False\n",
      "<rdkit.Chem.rdchem.Mol object at 0x10acfb1a0> <class 'rdkit.Chem.rdchem.Mol'> False\n",
      "<rdkit.Chem.rdchem.Mol object at 0x10acfb210> <class 'rdkit.Chem.rdchem.Mol'> False\n",
      "<rdkit.Chem.rdchem.Mol object at 0x10acfb280> <class 'rdkit.Chem.rdchem.Mol'> False\n",
      "<rdkit.Chem.rdchem.Mol object at 0x10acfb2f0> <class 'rdkit.Chem.rdchem.Mol'> False\n",
      "<rdkit.Chem.rdchem.Mol object at 0x10acfb360> <class 'rdkit.Chem.rdchem.Mol'> False\n",
      "<rdkit.Chem.rdchem.Mol object at 0x10acfb3d0> <class 'rdkit.Chem.rdchem.Mol'> False\n",
      "<rdkit.Chem.rdchem.Mol object at 0x10acfb440> <class 'rdkit.Chem.rdchem.Mol'> False\n",
      "<rdkit.Chem.rdchem.Mol object at 0x10acfb4b0> <class 'rdkit.Chem.rdchem.Mol'> False\n",
      "<rdkit.Chem.rdchem.Mol object at 0x10acfb4b0> <class 'rdkit.Chem.rdchem.Mol'> False\n",
      "<rdkit.Chem.rdchem.Mol object at 0x10acfb0c0> <class 'rdkit.Chem.rdchem.Mol'> False\n",
      "<rdkit.Chem.rdchem.Mol object at 0x10acfb590> <class 'rdkit.Chem.rdchem.Mol'> False\n",
      "<rdkit.Chem.rdchem.Mol object at 0x10acfb600> <class 'rdkit.Chem.rdchem.Mol'> False\n",
      "<rdkit.Chem.rdchem.Mol object at 0x10acfb670> <class 'rdkit.Chem.rdchem.Mol'> False\n",
      "<rdkit.Chem.rdchem.Mol object at 0x10acfb670> <class 'rdkit.Chem.rdchem.Mol'> False\n",
      "<rdkit.Chem.rdchem.Mol object at 0x10acfb520> <class 'rdkit.Chem.rdchem.Mol'> False\n",
      "<rdkit.Chem.rdchem.Mol object at 0x10acfb750> <class 'rdkit.Chem.rdchem.Mol'> False\n",
      "<rdkit.Chem.rdchem.Mol object at 0x10acfb750> <class 'rdkit.Chem.rdchem.Mol'> False\n",
      "<rdkit.Chem.rdchem.Mol object at 0x10acfb6e0> <class 'rdkit.Chem.rdchem.Mol'> False\n",
      "<rdkit.Chem.rdchem.Mol object at 0x10acfb830> <class 'rdkit.Chem.rdchem.Mol'> False\n",
      "<rdkit.Chem.rdchem.Mol object at 0x10acfb8a0> <class 'rdkit.Chem.rdchem.Mol'> False\n",
      "<rdkit.Chem.rdchem.Mol object at 0x10acfb910> <class 'rdkit.Chem.rdchem.Mol'> False\n",
      "<rdkit.Chem.rdchem.Mol object at 0x10acfb980> <class 'rdkit.Chem.rdchem.Mol'> False\n",
      "<rdkit.Chem.rdchem.Mol object at 0x10acfb9f0> <class 'rdkit.Chem.rdchem.Mol'> False\n",
      "<rdkit.Chem.rdchem.Mol object at 0x10acfba60> <class 'rdkit.Chem.rdchem.Mol'> False\n",
      "<rdkit.Chem.rdchem.Mol object at 0x10acfbad0> <class 'rdkit.Chem.rdchem.Mol'> False\n",
      "<rdkit.Chem.rdchem.Mol object at 0x10acfbb40> <class 'rdkit.Chem.rdchem.Mol'> False\n",
      "<rdkit.Chem.rdchem.Mol object at 0x10acfbbb0> <class 'rdkit.Chem.rdchem.Mol'> False\n",
      "<rdkit.Chem.rdchem.Mol object at 0x10acfbbb0> <class 'rdkit.Chem.rdchem.Mol'> False\n",
      "<rdkit.Chem.rdchem.Mol object at 0x10acfb7c0> <class 'rdkit.Chem.rdchem.Mol'> False\n",
      "<rdkit.Chem.rdchem.Mol object at 0x10acfbc90> <class 'rdkit.Chem.rdchem.Mol'> False\n",
      "<rdkit.Chem.rdchem.Mol object at 0x10acfbc90> <class 'rdkit.Chem.rdchem.Mol'> False\n",
      "<rdkit.Chem.rdchem.Mol object at 0x10acfbc20> <class 'rdkit.Chem.rdchem.Mol'> False\n",
      "<rdkit.Chem.rdchem.Mol object at 0x10acfbd70> <class 'rdkit.Chem.rdchem.Mol'> False\n",
      "<rdkit.Chem.rdchem.Mol object at 0x10acfbde0> <class 'rdkit.Chem.rdchem.Mol'> False\n",
      "<rdkit.Chem.rdchem.Mol object at 0x10acfbe50> <class 'rdkit.Chem.rdchem.Mol'> False\n",
      "<rdkit.Chem.rdchem.Mol object at 0x10acfbec0> <class 'rdkit.Chem.rdchem.Mol'> False\n",
      "<rdkit.Chem.rdchem.Mol object at 0x10acfbf30> <class 'rdkit.Chem.rdchem.Mol'> False\n",
      "<rdkit.Chem.rdchem.Mol object at 0x10acfbfa0> <class 'rdkit.Chem.rdchem.Mol'> False\n",
      "<rdkit.Chem.rdchem.Mol object at 0x10acfbd00> <class 'rdkit.Chem.rdchem.Mol'> False\n",
      "<rdkit.Chem.rdchem.Mol object at 0x10acfb050> <class 'rdkit.Chem.rdchem.Mol'> False\n",
      "<rdkit.Chem.rdchem.Mol object at 0x10ad0a130> <class 'rdkit.Chem.rdchem.Mol'> False\n",
      "<rdkit.Chem.rdchem.Mol object at 0x10ad0a1a0> <class 'rdkit.Chem.rdchem.Mol'> False\n",
      "<rdkit.Chem.rdchem.Mol object at 0x10ad0a1a0> <class 'rdkit.Chem.rdchem.Mol'> False\n",
      "<rdkit.Chem.rdchem.Mol object at 0x10ad0a050> <class 'rdkit.Chem.rdchem.Mol'> False\n",
      "<rdkit.Chem.rdchem.Mol object at 0x10ad0a280> <class 'rdkit.Chem.rdchem.Mol'> False\n",
      "<rdkit.Chem.rdchem.Mol object at 0x10ad0a2f0> <class 'rdkit.Chem.rdchem.Mol'> False\n",
      "<rdkit.Chem.rdchem.Mol object at 0x10ad0a360> <class 'rdkit.Chem.rdchem.Mol'> False\n",
      "<rdkit.Chem.rdchem.Mol object at 0x10ad0a3d0> <class 'rdkit.Chem.rdchem.Mol'> False\n",
      "<rdkit.Chem.rdchem.Mol object at 0x10ad0a3d0> <class 'rdkit.Chem.rdchem.Mol'> False\n",
      "<rdkit.Chem.rdchem.Mol object at 0x10ad0a3d0> <class 'rdkit.Chem.rdchem.Mol'> False\n",
      "<rdkit.Chem.rdchem.Mol object at 0x10ad0a3d0> <class 'rdkit.Chem.rdchem.Mol'> False\n",
      "<rdkit.Chem.rdchem.Mol object at 0x10ad0a0c0> <class 'rdkit.Chem.rdchem.Mol'> False\n",
      "<rdkit.Chem.rdchem.Mol object at 0x10ad0a0c0> <class 'rdkit.Chem.rdchem.Mol'> False\n",
      "<rdkit.Chem.rdchem.Mol object at 0x10ad0a210> <class 'rdkit.Chem.rdchem.Mol'> False\n",
      "<rdkit.Chem.rdchem.Mol object at 0x10ad0a520> <class 'rdkit.Chem.rdchem.Mol'> False\n",
      "<rdkit.Chem.rdchem.Mol object at 0x10ad0a590> <class 'rdkit.Chem.rdchem.Mol'> False\n",
      "<rdkit.Chem.rdchem.Mol object at 0x10ad0a590> <class 'rdkit.Chem.rdchem.Mol'> False\n",
      "<rdkit.Chem.rdchem.Mol object at 0x10ad0a440> <class 'rdkit.Chem.rdchem.Mol'> False\n",
      "<rdkit.Chem.rdchem.Mol object at 0x10ad0a670> <class 'rdkit.Chem.rdchem.Mol'> False\n",
      "<rdkit.Chem.rdchem.Mol object at 0x10ad0a6e0> <class 'rdkit.Chem.rdchem.Mol'> False\n",
      "<rdkit.Chem.rdchem.Mol object at 0x10ad0a750> <class 'rdkit.Chem.rdchem.Mol'> False\n",
      "<rdkit.Chem.rdchem.Mol object at 0x10ad0a7c0> <class 'rdkit.Chem.rdchem.Mol'> False\n",
      "<rdkit.Chem.rdchem.Mol object at 0x10ad0a7c0> <class 'rdkit.Chem.rdchem.Mol'> False\n",
      "<rdkit.Chem.rdchem.Mol object at 0x10ad0a4b0> <class 'rdkit.Chem.rdchem.Mol'> False\n",
      "<rdkit.Chem.rdchem.Mol object at 0x10ad0a8a0> <class 'rdkit.Chem.rdchem.Mol'> False\n",
      "<rdkit.Chem.rdchem.Mol object at 0x10ad0a910> <class 'rdkit.Chem.rdchem.Mol'> False\n",
      "<rdkit.Chem.rdchem.Mol object at 0x10ad0a980> <class 'rdkit.Chem.rdchem.Mol'> False\n",
      "<rdkit.Chem.rdchem.Mol object at 0x10ad0a9f0> <class 'rdkit.Chem.rdchem.Mol'> False\n",
      "<rdkit.Chem.rdchem.Mol object at 0x10ad0aa60> <class 'rdkit.Chem.rdchem.Mol'> False\n",
      "<rdkit.Chem.rdchem.Mol object at 0x10ad0aad0> <class 'rdkit.Chem.rdchem.Mol'> False\n",
      "<rdkit.Chem.rdchem.Mol object at 0x10ad0aad0> <class 'rdkit.Chem.rdchem.Mol'> False\n",
      "<rdkit.Chem.rdchem.Mol object at 0x10ad0a600> <class 'rdkit.Chem.rdchem.Mol'> False\n",
      "<rdkit.Chem.rdchem.Mol object at 0x10ad0abb0> <class 'rdkit.Chem.rdchem.Mol'> False\n",
      "<rdkit.Chem.rdchem.Mol object at 0x10ad0abb0> <class 'rdkit.Chem.rdchem.Mol'> False\n",
      "<rdkit.Chem.rdchem.Mol object at 0x10ad0ab40> <class 'rdkit.Chem.rdchem.Mol'> False\n",
      "<rdkit.Chem.rdchem.Mol object at 0x10ad0ac90> <class 'rdkit.Chem.rdchem.Mol'> False\n",
      "<rdkit.Chem.rdchem.Mol object at 0x10ad0ad00> <class 'rdkit.Chem.rdchem.Mol'> False\n",
      "<rdkit.Chem.rdchem.Mol object at 0x10ad0ad70> <class 'rdkit.Chem.rdchem.Mol'> False\n",
      "<rdkit.Chem.rdchem.Mol object at 0x10ad0ade0> <class 'rdkit.Chem.rdchem.Mol'> False\n",
      "<rdkit.Chem.rdchem.Mol object at 0x10ad0ae50> <class 'rdkit.Chem.rdchem.Mol'> False\n",
      "<rdkit.Chem.rdchem.Mol object at 0x10ad0aec0> <class 'rdkit.Chem.rdchem.Mol'> False\n",
      "<rdkit.Chem.rdchem.Mol object at 0x10ad0aec0> <class 'rdkit.Chem.rdchem.Mol'> False\n",
      "<rdkit.Chem.rdchem.Mol object at 0x10ad0aec0> <class 'rdkit.Chem.rdchem.Mol'> False\n",
      "<rdkit.Chem.rdchem.Mol object at 0x10ad0af30> <class 'rdkit.Chem.rdchem.Mol'> False\n",
      "<rdkit.Chem.rdchem.Mol object at 0x10ad0afa0> <class 'rdkit.Chem.rdchem.Mol'> False\n",
      "<rdkit.Chem.rdchem.Mol object at 0x10ad0afa0> <class 'rdkit.Chem.rdchem.Mol'> False\n",
      "<rdkit.Chem.rdchem.Mol object at 0x10ad0a830> <class 'rdkit.Chem.rdchem.Mol'> False\n",
      "<rdkit.Chem.rdchem.Mol object at 0x10ad0ac20> <class 'rdkit.Chem.rdchem.Mol'> False\n",
      "<rdkit.Chem.rdchem.Mol object at 0x10ad0ac20> <class 'rdkit.Chem.rdchem.Mol'> False\n",
      "<rdkit.Chem.rdchem.Mol object at 0x10ad15130> <class 'rdkit.Chem.rdchem.Mol'> False\n",
      "<rdkit.Chem.rdchem.Mol object at 0x10ad151a0> <class 'rdkit.Chem.rdchem.Mol'> False\n",
      "<rdkit.Chem.rdchem.Mol object at 0x10ad15210> <class 'rdkit.Chem.rdchem.Mol'> False\n",
      "<rdkit.Chem.rdchem.Mol object at 0x10ad15280> <class 'rdkit.Chem.rdchem.Mol'> False\n",
      "<rdkit.Chem.rdchem.Mol object at 0x10ad15280> <class 'rdkit.Chem.rdchem.Mol'> False\n",
      "<rdkit.Chem.rdchem.Mol object at 0x10ad15050> <class 'rdkit.Chem.rdchem.Mol'> False\n",
      "<rdkit.Chem.rdchem.Mol object at 0x10ad15050> <class 'rdkit.Chem.rdchem.Mol'> False\n",
      "<rdkit.Chem.rdchem.Mol object at 0x10ad150c0> <class 'rdkit.Chem.rdchem.Mol'> False\n",
      "<rdkit.Chem.rdchem.Mol object at 0x10ad153d0> <class 'rdkit.Chem.rdchem.Mol'> False\n",
      "<rdkit.Chem.rdchem.Mol object at 0x10ad15440> <class 'rdkit.Chem.rdchem.Mol'> False\n",
      "<rdkit.Chem.rdchem.Mol object at 0x10ad154b0> <class 'rdkit.Chem.rdchem.Mol'> False\n",
      "<rdkit.Chem.rdchem.Mol object at 0x10ad15520> <class 'rdkit.Chem.rdchem.Mol'> False\n",
      "<rdkit.Chem.rdchem.Mol object at 0x10ad15590> <class 'rdkit.Chem.rdchem.Mol'> False\n",
      "<rdkit.Chem.rdchem.Mol object at 0x10ad15590> <class 'rdkit.Chem.rdchem.Mol'> False\n",
      "<rdkit.Chem.rdchem.Mol object at 0x10ad15360> <class 'rdkit.Chem.rdchem.Mol'> False\n",
      "<rdkit.Chem.rdchem.Mol object at 0x10ad15670> <class 'rdkit.Chem.rdchem.Mol'> False\n",
      "<rdkit.Chem.rdchem.Mol object at 0x10ad156e0> <class 'rdkit.Chem.rdchem.Mol'> False\n",
      "<rdkit.Chem.rdchem.Mol object at 0x10ad15750> <class 'rdkit.Chem.rdchem.Mol'> False\n",
      "<rdkit.Chem.rdchem.Mol object at 0x10ad15750> <class 'rdkit.Chem.rdchem.Mol'> False\n",
      "<rdkit.Chem.rdchem.Mol object at 0x10ad15600> <class 'rdkit.Chem.rdchem.Mol'> False\n",
      "<rdkit.Chem.rdchem.Mol object at 0x10ad15830> <class 'rdkit.Chem.rdchem.Mol'> False\n",
      "<rdkit.Chem.rdchem.Mol object at 0x10ad158a0> <class 'rdkit.Chem.rdchem.Mol'> False\n",
      "<rdkit.Chem.rdchem.Mol object at 0x10ad15910> <class 'rdkit.Chem.rdchem.Mol'> False\n",
      "<rdkit.Chem.rdchem.Mol object at 0x10ad15910> <class 'rdkit.Chem.rdchem.Mol'> False\n",
      "<rdkit.Chem.rdchem.Mol object at 0x10ad157c0> <class 'rdkit.Chem.rdchem.Mol'> False\n",
      "<rdkit.Chem.rdchem.Mol object at 0x10ad159f0> <class 'rdkit.Chem.rdchem.Mol'> False\n",
      "<rdkit.Chem.rdchem.Mol object at 0x10ad159f0> <class 'rdkit.Chem.rdchem.Mol'> False\n",
      "<rdkit.Chem.rdchem.Mol object at 0x10ad159f0> <class 'rdkit.Chem.rdchem.Mol'> False\n",
      "<rdkit.Chem.rdchem.Mol object at 0x10ad15a60> <class 'rdkit.Chem.rdchem.Mol'> False\n",
      "<rdkit.Chem.rdchem.Mol object at 0x10ad15ad0> <class 'rdkit.Chem.rdchem.Mol'> False\n",
      "<rdkit.Chem.rdchem.Mol object at 0x10ad15b40> <class 'rdkit.Chem.rdchem.Mol'> False\n",
      "<rdkit.Chem.rdchem.Mol object at 0x10ad15bb0> <class 'rdkit.Chem.rdchem.Mol'> False\n",
      "<rdkit.Chem.rdchem.Mol object at 0x10ad15c20> <class 'rdkit.Chem.rdchem.Mol'> False\n",
      "<rdkit.Chem.rdchem.Mol object at 0x10ad15c90> <class 'rdkit.Chem.rdchem.Mol'> False\n",
      "<rdkit.Chem.rdchem.Mol object at 0x10ad15d00> <class 'rdkit.Chem.rdchem.Mol'> False\n",
      "<rdkit.Chem.rdchem.Mol object at 0x10ad15d70> <class 'rdkit.Chem.rdchem.Mol'> False\n",
      "<rdkit.Chem.rdchem.Mol object at 0x10ad15d70> <class 'rdkit.Chem.rdchem.Mol'> False\n",
      "<rdkit.Chem.rdchem.Mol object at 0x10ad15d70> <class 'rdkit.Chem.rdchem.Mol'> False\n",
      "<rdkit.Chem.rdchem.Mol object at 0x10ad15d70> <class 'rdkit.Chem.rdchem.Mol'> False\n",
      "<rdkit.Chem.rdchem.Mol object at 0x10ad15d70> <class 'rdkit.Chem.rdchem.Mol'> False\n",
      "<rdkit.Chem.rdchem.Mol object at 0x10ad15de0> <class 'rdkit.Chem.rdchem.Mol'> False\n",
      "<rdkit.Chem.rdchem.Mol object at 0x10ad15de0> <class 'rdkit.Chem.rdchem.Mol'> False\n",
      "<rdkit.Chem.rdchem.Mol object at 0x10ad152f0> <class 'rdkit.Chem.rdchem.Mol'> False\n",
      "<rdkit.Chem.rdchem.Mol object at 0x10ad15ec0> <class 'rdkit.Chem.rdchem.Mol'> False\n",
      "<rdkit.Chem.rdchem.Mol object at 0x10ad15ec0> <class 'rdkit.Chem.rdchem.Mol'> False\n",
      "<rdkit.Chem.rdchem.Mol object at 0x10ad15e50> <class 'rdkit.Chem.rdchem.Mol'> False\n",
      "<rdkit.Chem.rdchem.Mol object at 0x10ad15e50> <class 'rdkit.Chem.rdchem.Mol'> False\n",
      "<rdkit.Chem.rdchem.Mol object at 0x10ad15980> <class 'rdkit.Chem.rdchem.Mol'> False\n",
      "<rdkit.Chem.rdchem.Mol object at 0x10ad15fa0> <class 'rdkit.Chem.rdchem.Mol'> False\n",
      "<rdkit.Chem.rdchem.Mol object at 0x10ad15f30> <class 'rdkit.Chem.rdchem.Mol'> False\n",
      "<rdkit.Chem.rdchem.Mol object at 0x10ad20130> <class 'rdkit.Chem.rdchem.Mol'> False\n",
      "<rdkit.Chem.rdchem.Mol object at 0x10ad20130> <class 'rdkit.Chem.rdchem.Mol'> False\n",
      "<rdkit.Chem.rdchem.Mol object at 0x10ad20130> <class 'rdkit.Chem.rdchem.Mol'> False\n",
      "<rdkit.Chem.rdchem.Mol object at 0x10ad201a0> <class 'rdkit.Chem.rdchem.Mol'> False\n",
      "<rdkit.Chem.rdchem.Mol object at 0x10ad201a0> <class 'rdkit.Chem.rdchem.Mol'> False\n",
      "<rdkit.Chem.rdchem.Mol object at 0x10ad200c0> <class 'rdkit.Chem.rdchem.Mol'> False\n",
      "<rdkit.Chem.rdchem.Mol object at 0x10ad20280> <class 'rdkit.Chem.rdchem.Mol'> False\n",
      "<rdkit.Chem.rdchem.Mol object at 0x10ad202f0> <class 'rdkit.Chem.rdchem.Mol'> False\n",
      "<rdkit.Chem.rdchem.Mol object at 0x10ad202f0> <class 'rdkit.Chem.rdchem.Mol'> False\n"
     ]
    },
    {
     "name": "stdout",
     "output_type": "stream",
     "text": [
      "<rdkit.Chem.rdchem.Mol object at 0x10ad20050> <class 'rdkit.Chem.rdchem.Mol'> False\n",
      "<rdkit.Chem.rdchem.Mol object at 0x10ad203d0> <class 'rdkit.Chem.rdchem.Mol'> False\n",
      "<rdkit.Chem.rdchem.Mol object at 0x10ad20440> <class 'rdkit.Chem.rdchem.Mol'> False\n",
      "<rdkit.Chem.rdchem.Mol object at 0x10ad204b0> <class 'rdkit.Chem.rdchem.Mol'> False\n",
      "<rdkit.Chem.rdchem.Mol object at 0x10ad20520> <class 'rdkit.Chem.rdchem.Mol'> False\n",
      "<rdkit.Chem.rdchem.Mol object at 0x10ad20590> <class 'rdkit.Chem.rdchem.Mol'> False\n",
      "<rdkit.Chem.rdchem.Mol object at 0x10ad20600> <class 'rdkit.Chem.rdchem.Mol'> False\n",
      "<rdkit.Chem.rdchem.Mol object at 0x10ad20670> <class 'rdkit.Chem.rdchem.Mol'> False\n",
      "<rdkit.Chem.rdchem.Mol object at 0x10ad20670> <class 'rdkit.Chem.rdchem.Mol'> False\n",
      "<rdkit.Chem.rdchem.Mol object at 0x10ad20360> <class 'rdkit.Chem.rdchem.Mol'> False\n",
      "<rdkit.Chem.rdchem.Mol object at 0x10ad20750> <class 'rdkit.Chem.rdchem.Mol'> False\n",
      "<rdkit.Chem.rdchem.Mol object at 0x10ad20750> <class 'rdkit.Chem.rdchem.Mol'> False\n",
      "<rdkit.Chem.rdchem.Mol object at 0x10ad206e0> <class 'rdkit.Chem.rdchem.Mol'> False\n",
      "<rdkit.Chem.rdchem.Mol object at 0x10ad20830> <class 'rdkit.Chem.rdchem.Mol'> False\n",
      "<rdkit.Chem.rdchem.Mol object at 0x10ad20830> <class 'rdkit.Chem.rdchem.Mol'> False\n",
      "<rdkit.Chem.rdchem.Mol object at 0x10ad207c0> <class 'rdkit.Chem.rdchem.Mol'> False\n",
      "<rdkit.Chem.rdchem.Mol object at 0x10ad20910> <class 'rdkit.Chem.rdchem.Mol'> False\n",
      "<rdkit.Chem.rdchem.Mol object at 0x10ad20980> <class 'rdkit.Chem.rdchem.Mol'> False\n",
      "<rdkit.Chem.rdchem.Mol object at 0x10ad209f0> <class 'rdkit.Chem.rdchem.Mol'> False\n",
      "<rdkit.Chem.rdchem.Mol object at 0x10ad20a60> <class 'rdkit.Chem.rdchem.Mol'> False\n",
      "<rdkit.Chem.rdchem.Mol object at 0x10ad20ad0> <class 'rdkit.Chem.rdchem.Mol'> False\n",
      "<rdkit.Chem.rdchem.Mol object at 0x10ad20b40> <class 'rdkit.Chem.rdchem.Mol'> False\n",
      "<rdkit.Chem.rdchem.Mol object at 0x10ad20bb0> <class 'rdkit.Chem.rdchem.Mol'> False\n",
      "<rdkit.Chem.rdchem.Mol object at 0x10ad20bb0> <class 'rdkit.Chem.rdchem.Mol'> False\n",
      "<rdkit.Chem.rdchem.Mol object at 0x10ad208a0> <class 'rdkit.Chem.rdchem.Mol'> False\n",
      "<rdkit.Chem.rdchem.Mol object at 0x10ad20c90> <class 'rdkit.Chem.rdchem.Mol'> False\n",
      "<rdkit.Chem.rdchem.Mol object at 0x10ad20d00> <class 'rdkit.Chem.rdchem.Mol'> False\n",
      "<rdkit.Chem.rdchem.Mol object at 0x10ad20d70> <class 'rdkit.Chem.rdchem.Mol'> False\n",
      "<rdkit.Chem.rdchem.Mol object at 0x10ad20de0> <class 'rdkit.Chem.rdchem.Mol'> False\n",
      "<rdkit.Chem.rdchem.Mol object at 0x10ad20e50> <class 'rdkit.Chem.rdchem.Mol'> False\n",
      "<rdkit.Chem.rdchem.Mol object at 0x10ad20ec0> <class 'rdkit.Chem.rdchem.Mol'> False\n",
      "<rdkit.Chem.rdchem.Mol object at 0x10ad20f30> <class 'rdkit.Chem.rdchem.Mol'> False\n",
      "<rdkit.Chem.rdchem.Mol object at 0x10ad20fa0> <class 'rdkit.Chem.rdchem.Mol'> False\n",
      "<rdkit.Chem.rdchem.Mol object at 0x10ad20c20> <class 'rdkit.Chem.rdchem.Mol'> False\n",
      "<rdkit.Chem.rdchem.Mol object at 0x10ad20210> <class 'rdkit.Chem.rdchem.Mol'> False\n",
      "<rdkit.Chem.rdchem.Mol object at 0x10ad2a130> <class 'rdkit.Chem.rdchem.Mol'> False\n",
      "<rdkit.Chem.rdchem.Mol object at 0x10ad2a130> <class 'rdkit.Chem.rdchem.Mol'> False\n",
      "<rdkit.Chem.rdchem.Mol object at 0x10ad2a050> <class 'rdkit.Chem.rdchem.Mol'> False\n",
      "<rdkit.Chem.rdchem.Mol object at 0x10ad2a210> <class 'rdkit.Chem.rdchem.Mol'> False\n",
      "<rdkit.Chem.rdchem.Mol object at 0x10ad2a280> <class 'rdkit.Chem.rdchem.Mol'> False\n",
      "<rdkit.Chem.rdchem.Mol object at 0x10ad2a2f0> <class 'rdkit.Chem.rdchem.Mol'> False\n",
      "<rdkit.Chem.rdchem.Mol object at 0x10ad2a360> <class 'rdkit.Chem.rdchem.Mol'> False\n",
      "<rdkit.Chem.rdchem.Mol object at 0x10ad2a3d0> <class 'rdkit.Chem.rdchem.Mol'> False\n",
      "<rdkit.Chem.rdchem.Mol object at 0x10ad2a440> <class 'rdkit.Chem.rdchem.Mol'> False\n",
      "<rdkit.Chem.rdchem.Mol object at 0x10ad2a4b0> <class 'rdkit.Chem.rdchem.Mol'> False\n",
      "<rdkit.Chem.rdchem.Mol object at 0x10ad2a520> <class 'rdkit.Chem.rdchem.Mol'> False\n",
      "<rdkit.Chem.rdchem.Mol object at 0x10ad2a590> <class 'rdkit.Chem.rdchem.Mol'> False\n",
      "<rdkit.Chem.rdchem.Mol object at 0x10ad2a600> <class 'rdkit.Chem.rdchem.Mol'> False\n",
      "<rdkit.Chem.rdchem.Mol object at 0x10ad2a670> <class 'rdkit.Chem.rdchem.Mol'> False\n",
      "<rdkit.Chem.rdchem.Mol object at 0x10ad2a6e0> <class 'rdkit.Chem.rdchem.Mol'> False\n",
      "<rdkit.Chem.rdchem.Mol object at 0x10ad2a750> <class 'rdkit.Chem.rdchem.Mol'> False\n",
      "<rdkit.Chem.rdchem.Mol object at 0x10ad2a7c0> <class 'rdkit.Chem.rdchem.Mol'> False\n",
      "<rdkit.Chem.rdchem.Mol object at 0x10ad2a7c0> <class 'rdkit.Chem.rdchem.Mol'> False\n",
      "<rdkit.Chem.rdchem.Mol object at 0x10ad2a0c0> <class 'rdkit.Chem.rdchem.Mol'> False\n",
      "<rdkit.Chem.rdchem.Mol object at 0x10ad2a8a0> <class 'rdkit.Chem.rdchem.Mol'> False\n",
      "<rdkit.Chem.rdchem.Mol object at 0x10ad2a910> <class 'rdkit.Chem.rdchem.Mol'> False\n",
      "<rdkit.Chem.rdchem.Mol object at 0x10ad2a910> <class 'rdkit.Chem.rdchem.Mol'> False\n",
      "<rdkit.Chem.rdchem.Mol object at 0x10ad2a1a0> <class 'rdkit.Chem.rdchem.Mol'> False\n",
      "<rdkit.Chem.rdchem.Mol object at 0x10ad2a9f0> <class 'rdkit.Chem.rdchem.Mol'> False\n",
      "<rdkit.Chem.rdchem.Mol object at 0x10ad2a9f0> <class 'rdkit.Chem.rdchem.Mol'> False\n",
      "<rdkit.Chem.rdchem.Mol object at 0x10ad2a980> <class 'rdkit.Chem.rdchem.Mol'> False\n",
      "<rdkit.Chem.rdchem.Mol object at 0x10ad2a980> <class 'rdkit.Chem.rdchem.Mol'> False\n",
      "<rdkit.Chem.rdchem.Mol object at 0x10ad2a830> <class 'rdkit.Chem.rdchem.Mol'> False\n",
      "<rdkit.Chem.rdchem.Mol object at 0x10ad2ab40> <class 'rdkit.Chem.rdchem.Mol'> False\n",
      "<rdkit.Chem.rdchem.Mol object at 0x10ad2ab40> <class 'rdkit.Chem.rdchem.Mol'> False\n",
      "<rdkit.Chem.rdchem.Mol object at 0x10ad2aad0> <class 'rdkit.Chem.rdchem.Mol'> False\n",
      "<rdkit.Chem.rdchem.Mol object at 0x10ad2ac20> <class 'rdkit.Chem.rdchem.Mol'> False\n",
      "<rdkit.Chem.rdchem.Mol object at 0x10ad2ac90> <class 'rdkit.Chem.rdchem.Mol'> False\n",
      "<rdkit.Chem.rdchem.Mol object at 0x10ad2ad00> <class 'rdkit.Chem.rdchem.Mol'> False\n",
      "<rdkit.Chem.rdchem.Mol object at 0x10ad2ad70> <class 'rdkit.Chem.rdchem.Mol'> False\n",
      "<rdkit.Chem.rdchem.Mol object at 0x10ad2ade0> <class 'rdkit.Chem.rdchem.Mol'> False\n",
      "<rdkit.Chem.rdchem.Mol object at 0x10ad2ae50> <class 'rdkit.Chem.rdchem.Mol'> False\n",
      "<rdkit.Chem.rdchem.Mol object at 0x10ad2aec0> <class 'rdkit.Chem.rdchem.Mol'> False\n",
      "<rdkit.Chem.rdchem.Mol object at 0x10ad2af30> <class 'rdkit.Chem.rdchem.Mol'> False\n",
      "<rdkit.Chem.rdchem.Mol object at 0x10ad2afa0> <class 'rdkit.Chem.rdchem.Mol'> False\n",
      "<rdkit.Chem.rdchem.Mol object at 0x10ad2aa60> <class 'rdkit.Chem.rdchem.Mol'> False\n",
      "<rdkit.Chem.rdchem.Mol object at 0x10ad2aa60> <class 'rdkit.Chem.rdchem.Mol'> False\n",
      "<rdkit.Chem.rdchem.Mol object at 0x10ad2abb0> <class 'rdkit.Chem.rdchem.Mol'> False\n",
      "<rdkit.Chem.rdchem.Mol object at 0x10ad3a130> <class 'rdkit.Chem.rdchem.Mol'> False\n",
      "<rdkit.Chem.rdchem.Mol object at 0x10ad3a1a0> <class 'rdkit.Chem.rdchem.Mol'> False\n",
      "<rdkit.Chem.rdchem.Mol object at 0x10ad3a210> <class 'rdkit.Chem.rdchem.Mol'> False\n",
      "<rdkit.Chem.rdchem.Mol object at 0x10ad3a280> <class 'rdkit.Chem.rdchem.Mol'> False\n",
      "<rdkit.Chem.rdchem.Mol object at 0x10ad3a2f0> <class 'rdkit.Chem.rdchem.Mol'> False\n",
      "<rdkit.Chem.rdchem.Mol object at 0x10ad3a360> <class 'rdkit.Chem.rdchem.Mol'> False\n",
      "<rdkit.Chem.rdchem.Mol object at 0x10ad3a3d0> <class 'rdkit.Chem.rdchem.Mol'> False\n",
      "<rdkit.Chem.rdchem.Mol object at 0x10ad3a440> <class 'rdkit.Chem.rdchem.Mol'> False\n",
      "<rdkit.Chem.rdchem.Mol object at 0x10ad3a440> <class 'rdkit.Chem.rdchem.Mol'> False\n",
      "<rdkit.Chem.rdchem.Mol object at 0x10ad3a050> <class 'rdkit.Chem.rdchem.Mol'> False\n",
      "<rdkit.Chem.rdchem.Mol object at 0x10ad3a520> <class 'rdkit.Chem.rdchem.Mol'> False\n",
      "<rdkit.Chem.rdchem.Mol object at 0x10ad3a590> <class 'rdkit.Chem.rdchem.Mol'> False\n",
      "<rdkit.Chem.rdchem.Mol object at 0x10ad3a590> <class 'rdkit.Chem.rdchem.Mol'> False\n",
      "<rdkit.Chem.rdchem.Mol object at 0x10ad3a0c0> <class 'rdkit.Chem.rdchem.Mol'> False\n",
      "<rdkit.Chem.rdchem.Mol object at 0x10ad3a670> <class 'rdkit.Chem.rdchem.Mol'> False\n",
      "<rdkit.Chem.rdchem.Mol object at 0x10ad3a6e0> <class 'rdkit.Chem.rdchem.Mol'> False\n",
      "<rdkit.Chem.rdchem.Mol object at 0x10ad3a750> <class 'rdkit.Chem.rdchem.Mol'> False\n",
      "<rdkit.Chem.rdchem.Mol object at 0x10ad3a7c0> <class 'rdkit.Chem.rdchem.Mol'> False\n",
      "<rdkit.Chem.rdchem.Mol object at 0x10ad3a830> <class 'rdkit.Chem.rdchem.Mol'> False\n",
      "<rdkit.Chem.rdchem.Mol object at 0x10ad3a830> <class 'rdkit.Chem.rdchem.Mol'> False\n",
      "<rdkit.Chem.rdchem.Mol object at 0x10ad3a830> <class 'rdkit.Chem.rdchem.Mol'> False\n",
      "<rdkit.Chem.rdchem.Mol object at 0x10ad3a8a0> <class 'rdkit.Chem.rdchem.Mol'> False\n",
      "<rdkit.Chem.rdchem.Mol object at 0x10ad3a8a0> <class 'rdkit.Chem.rdchem.Mol'> False\n",
      "<rdkit.Chem.rdchem.Mol object at 0x10ad3a8a0> <class 'rdkit.Chem.rdchem.Mol'> False\n",
      "<rdkit.Chem.rdchem.Mol object at 0x10ad3a8a0> <class 'rdkit.Chem.rdchem.Mol'> False\n",
      "<rdkit.Chem.rdchem.Mol object at 0x10ad3a8a0> <class 'rdkit.Chem.rdchem.Mol'> False\n",
      "<rdkit.Chem.rdchem.Mol object at 0x10ad3a910> <class 'rdkit.Chem.rdchem.Mol'> False\n",
      "<rdkit.Chem.rdchem.Mol object at 0x10ad3a980> <class 'rdkit.Chem.rdchem.Mol'> False\n",
      "<rdkit.Chem.rdchem.Mol object at 0x10ad3a980> <class 'rdkit.Chem.rdchem.Mol'> False\n",
      "<rdkit.Chem.rdchem.Mol object at 0x10ad3a4b0> <class 'rdkit.Chem.rdchem.Mol'> False\n",
      "<rdkit.Chem.rdchem.Mol object at 0x10ad3aa60> <class 'rdkit.Chem.rdchem.Mol'> False\n",
      "<rdkit.Chem.rdchem.Mol object at 0x10ad3aad0> <class 'rdkit.Chem.rdchem.Mol'> False\n",
      "<rdkit.Chem.rdchem.Mol object at 0x10ad3ab40> <class 'rdkit.Chem.rdchem.Mol'> False\n",
      "<rdkit.Chem.rdchem.Mol object at 0x10ad3abb0> <class 'rdkit.Chem.rdchem.Mol'> False\n",
      "<rdkit.Chem.rdchem.Mol object at 0x10ad3ac20> <class 'rdkit.Chem.rdchem.Mol'> False\n",
      "<rdkit.Chem.rdchem.Mol object at 0x10ad3ac90> <class 'rdkit.Chem.rdchem.Mol'> False\n",
      "<rdkit.Chem.rdchem.Mol object at 0x10ad3ad00> <class 'rdkit.Chem.rdchem.Mol'> False\n",
      "<rdkit.Chem.rdchem.Mol object at 0x10ad3ad70> <class 'rdkit.Chem.rdchem.Mol'> False\n",
      "<rdkit.Chem.rdchem.Mol object at 0x10ad3ad70> <class 'rdkit.Chem.rdchem.Mol'> False\n",
      "<rdkit.Chem.rdchem.Mol object at 0x10ad3a600> <class 'rdkit.Chem.rdchem.Mol'> False\n",
      "<rdkit.Chem.rdchem.Mol object at 0x10ad3ae50> <class 'rdkit.Chem.rdchem.Mol'> False\n",
      "<rdkit.Chem.rdchem.Mol object at 0x10ad3aec0> <class 'rdkit.Chem.rdchem.Mol'> False\n",
      "<rdkit.Chem.rdchem.Mol object at 0x10ad3aec0> <class 'rdkit.Chem.rdchem.Mol'> False\n",
      "<rdkit.Chem.rdchem.Mol object at 0x10ad3a9f0> <class 'rdkit.Chem.rdchem.Mol'> False\n",
      "<rdkit.Chem.rdchem.Mol object at 0x10ad3afa0> <class 'rdkit.Chem.rdchem.Mol'> False\n",
      "<rdkit.Chem.rdchem.Mol object at 0x10ad3ade0> <class 'rdkit.Chem.rdchem.Mol'> False\n",
      "<rdkit.Chem.rdchem.Mol object at 0x10ad3ade0> <class 'rdkit.Chem.rdchem.Mol'> False\n",
      "<rdkit.Chem.rdchem.Mol object at 0x10ad3af30> <class 'rdkit.Chem.rdchem.Mol'> False\n",
      "<rdkit.Chem.rdchem.Mol object at 0x10c0c0130> <class 'rdkit.Chem.rdchem.Mol'> False\n",
      "<rdkit.Chem.rdchem.Mol object at 0x10c0c01a0> <class 'rdkit.Chem.rdchem.Mol'> False\n",
      "<rdkit.Chem.rdchem.Mol object at 0x10c0c01a0> <class 'rdkit.Chem.rdchem.Mol'> False\n",
      "<rdkit.Chem.rdchem.Mol object at 0x10c0c00c0> <class 'rdkit.Chem.rdchem.Mol'> False\n",
      "<rdkit.Chem.rdchem.Mol object at 0x10c0c00c0> <class 'rdkit.Chem.rdchem.Mol'> False\n",
      "<rdkit.Chem.rdchem.Mol object at 0x10c0c0050> <class 'rdkit.Chem.rdchem.Mol'> False\n",
      "<rdkit.Chem.rdchem.Mol object at 0x10c0c0050> <class 'rdkit.Chem.rdchem.Mol'> False\n",
      "<rdkit.Chem.rdchem.Mol object at 0x10c0c0050> <class 'rdkit.Chem.rdchem.Mol'> False\n",
      "<rdkit.Chem.rdchem.Mol object at 0x10c0c02f0> <class 'rdkit.Chem.rdchem.Mol'> False\n",
      "<rdkit.Chem.rdchem.Mol object at 0x10c0c0360> <class 'rdkit.Chem.rdchem.Mol'> False\n",
      "<rdkit.Chem.rdchem.Mol object at 0x10c0c03d0> <class 'rdkit.Chem.rdchem.Mol'> False\n",
      "<rdkit.Chem.rdchem.Mol object at 0x10c0c0440> <class 'rdkit.Chem.rdchem.Mol'> False\n",
      "<rdkit.Chem.rdchem.Mol object at 0x10c0c0440> <class 'rdkit.Chem.rdchem.Mol'> False\n",
      "<rdkit.Chem.rdchem.Mol object at 0x10c0c0210> <class 'rdkit.Chem.rdchem.Mol'> False\n",
      "<rdkit.Chem.rdchem.Mol object at 0x10c0c0520> <class 'rdkit.Chem.rdchem.Mol'> False\n",
      "<rdkit.Chem.rdchem.Mol object at 0x10c0c0520> <class 'rdkit.Chem.rdchem.Mol'> False\n",
      "<rdkit.Chem.rdchem.Mol object at 0x10c0c04b0> <class 'rdkit.Chem.rdchem.Mol'> False\n",
      "<rdkit.Chem.rdchem.Mol object at 0x10c0c04b0> <class 'rdkit.Chem.rdchem.Mol'> False\n",
      "<rdkit.Chem.rdchem.Mol object at 0x10c0c04b0> <class 'rdkit.Chem.rdchem.Mol'> False\n",
      "<rdkit.Chem.rdchem.Mol object at 0x10c0c0600> <class 'rdkit.Chem.rdchem.Mol'> False\n",
      "<rdkit.Chem.rdchem.Mol object at 0x10c0c0600> <class 'rdkit.Chem.rdchem.Mol'> False\n",
      "<rdkit.Chem.rdchem.Mol object at 0x10c0c0600> <class 'rdkit.Chem.rdchem.Mol'> False\n",
      "<rdkit.Chem.rdchem.Mol object at 0x10c0c0670> <class 'rdkit.Chem.rdchem.Mol'> False\n",
      "<rdkit.Chem.rdchem.Mol object at 0x10c0c06e0> <class 'rdkit.Chem.rdchem.Mol'> False\n",
      "<rdkit.Chem.rdchem.Mol object at 0x10c0c0750> <class 'rdkit.Chem.rdchem.Mol'> False\n",
      "<rdkit.Chem.rdchem.Mol object at 0x10c0c07c0> <class 'rdkit.Chem.rdchem.Mol'> False\n",
      "<rdkit.Chem.rdchem.Mol object at 0x10c0c07c0> <class 'rdkit.Chem.rdchem.Mol'> False\n",
      "<rdkit.Chem.rdchem.Mol object at 0x10c0c07c0> <class 'rdkit.Chem.rdchem.Mol'> False\n",
      "<rdkit.Chem.rdchem.Mol object at 0x10c0c0830> <class 'rdkit.Chem.rdchem.Mol'> False\n",
      "<rdkit.Chem.rdchem.Mol object at 0x10c0c08a0> <class 'rdkit.Chem.rdchem.Mol'> False\n",
      "<rdkit.Chem.rdchem.Mol object at 0x10c0c08a0> <class 'rdkit.Chem.rdchem.Mol'> False\n",
      "<rdkit.Chem.rdchem.Mol object at 0x10c0c08a0> <class 'rdkit.Chem.rdchem.Mol'> False\n",
      "<rdkit.Chem.rdchem.Mol object at 0x10c0c0910> <class 'rdkit.Chem.rdchem.Mol'> False\n",
      "<rdkit.Chem.rdchem.Mol object at 0x10c0c0980> <class 'rdkit.Chem.rdchem.Mol'> False\n",
      "<rdkit.Chem.rdchem.Mol object at 0x10c0c09f0> <class 'rdkit.Chem.rdchem.Mol'> False\n",
      "<rdkit.Chem.rdchem.Mol object at 0x10c0c0a60> <class 'rdkit.Chem.rdchem.Mol'> False\n",
      "<rdkit.Chem.rdchem.Mol object at 0x10c0c0ad0> <class 'rdkit.Chem.rdchem.Mol'> False\n",
      "<rdkit.Chem.rdchem.Mol object at 0x10c0c0b40> <class 'rdkit.Chem.rdchem.Mol'> False\n",
      "<rdkit.Chem.rdchem.Mol object at 0x10c0c0b40> <class 'rdkit.Chem.rdchem.Mol'> False\n",
      "<rdkit.Chem.rdchem.Mol object at 0x10c0c0590> <class 'rdkit.Chem.rdchem.Mol'> False\n",
      "<rdkit.Chem.rdchem.Mol object at 0x10c0c0c20> <class 'rdkit.Chem.rdchem.Mol'> False\n",
      "<rdkit.Chem.rdchem.Mol object at 0x10c0c0c90> <class 'rdkit.Chem.rdchem.Mol'> False\n",
      "<rdkit.Chem.rdchem.Mol object at 0x10c0c0d00> <class 'rdkit.Chem.rdchem.Mol'> False\n",
      "<rdkit.Chem.rdchem.Mol object at 0x10c0c0d70> <class 'rdkit.Chem.rdchem.Mol'> False\n",
      "<rdkit.Chem.rdchem.Mol object at 0x10c0c0de0> <class 'rdkit.Chem.rdchem.Mol'> False\n",
      "<rdkit.Chem.rdchem.Mol object at 0x10c0c0e50> <class 'rdkit.Chem.rdchem.Mol'> False\n",
      "<rdkit.Chem.rdchem.Mol object at 0x10c0c0e50> <class 'rdkit.Chem.rdchem.Mol'> False\n",
      "<rdkit.Chem.rdchem.Mol object at 0x10c0c0e50> <class 'rdkit.Chem.rdchem.Mol'> False\n",
      "<rdkit.Chem.rdchem.Mol object at 0x10c0c0e50> <class 'rdkit.Chem.rdchem.Mol'> False\n",
      "<rdkit.Chem.rdchem.Mol object at 0x10c0c0280> <class 'rdkit.Chem.rdchem.Mol'> False\n",
      "<rdkit.Chem.rdchem.Mol object at 0x10c0c0280> <class 'rdkit.Chem.rdchem.Mol'> False\n",
      "<rdkit.Chem.rdchem.Mol object at 0x10c0c0280> <class 'rdkit.Chem.rdchem.Mol'> False\n",
      "<rdkit.Chem.rdchem.Mol object at 0x10c0c0f30> <class 'rdkit.Chem.rdchem.Mol'> False\n",
      "<rdkit.Chem.rdchem.Mol object at 0x10c0c0fa0> <class 'rdkit.Chem.rdchem.Mol'> False\n",
      "<rdkit.Chem.rdchem.Mol object at 0x10c0c0ec0> <class 'rdkit.Chem.rdchem.Mol'> False\n",
      "<rdkit.Chem.rdchem.Mol object at 0x10c0c0ec0> <class 'rdkit.Chem.rdchem.Mol'> False\n",
      "<rdkit.Chem.rdchem.Mol object at 0x10c0c0bb0> <class 'rdkit.Chem.rdchem.Mol'> False\n",
      "185\n",
      "197\n"
     ]
    }
   ],
   "source": [
    "# set transition state geometry for S- and R-isomer\n",
    "dist = 2.36\n",
    "##LIGAND_NAME = 'CVX'\n",
    "LIGAND_NAME = 'VX'\n",
    "\n",
    "s_isomers, r_isomers = vxc.get_transition_state_geometry(dist, p_id, s_id, pc_id, nh_id, po_id, poe_id)\n",
    "\n",
    "print len(s_isomers)\n",
    "print len(r_isomers)\n",
    "\n",
    "dummy = 1\n",
    "for test in s_isomers:\n",
    "    writer3 = Chem.SDWriter('S_'+LIGAND_NAME+'_'+str(p_s_dist)+'_'+str(dummy)+'.sdf')\n",
    "    writer3.write(test,confId=0)\n",
    "    dummy += 1\n",
    "    \n",
    "dummy = 1\n",
    "for test in r_isomers:\n",
    "    writer3 = Chem.SDWriter('R_'+LIGAND_NAME+'_'+str(p_s_dist)+'_'+str(dummy)+'.sdf')\n",
    "    writer3.write(test,confId=0)\n",
    "    dummy += 1\n",
    "writer3.close()"
   ]
  },
  {
   "cell_type": "code",
   "execution_count": 17,
   "metadata": {
    "extensions": {
     "jupyter_dashboards": {
      "version": 1,
      "views": {
       "grid_default": {
        "col": 0,
        "height": 4,
        "hidden": false,
        "row": 23,
        "width": 4
       },
       "report_default": {}
      }
     }
    }
   },
   "outputs": [
    {
     "data": {
      "image/png": "[encoded data removed]",
      "text/plain": [
       "<rdkit.Chem.rdchem.Mol at 0x10aac53d0>"
      ]
     },
     "execution_count": 17,
     "metadata": {},
     "output_type": "execute_result"
    }
   ],
   "source": [
    "vxc.write_aligned_to_file(r_isomers,(p_id,po_id,poe_id,pc_id),\"R_aligned_isomers\")\n",
    "vxc.write_aligned_to_file(s_isomers,(p_id,po_id,poe_id,pc_id),\"S_aligned_isomers\")"
   ]
  },
  {
   "cell_type": "markdown",
   "metadata": {
    "extensions": {
     "jupyter_dashboards": {
      "version": 1,
      "views": {
       "grid_default": {
        "col": 8,
        "height": 12,
        "hidden": false,
        "row": 23,
        "width": 4
       },
       "report_default": {}
      }
     }
    }
   },
   "source": [
    "# Add OH- to transition state model"
   ]
  },
  {
   "cell_type": "code",
   "execution_count": 18,
   "metadata": {
    "extensions": {
     "jupyter_dashboards": {
      "version": 1,
      "views": {
       "grid_default": {
        "col": 0,
        "height": 4,
        "hidden": false,
        "row": 27,
        "width": 4
       },
       "report_default": {}
      }
     }
    }
   },
   "outputs": [
    {
     "data": {
      "image/png": "[encoded data removed]",
      "text/plain": [
       "<rdkit.Chem.rdchem.Mol at 0x10acbc050>"
      ]
     },
     "execution_count": 18,
     "metadata": {},
     "output_type": "execute_result"
    }
   ],
   "source": [
    "# insert loop here later\n",
    "s_isomer_ = s_isomers[0]\n",
    "\n",
    "oh = '[OH-]'\n",
    "oh = Chem.MolFromSmiles(oh,sanitize=True)\n",
    "# oh = Chem.AddHs(ohh)\n",
    "oh.SetProp(\"_Name\",\"OH-\")\n",
    "AllChem.EmbedMolecule(oh, AllChem.ETKDG())\n",
    "DrawingOptions.includeAtomNumbers=True\n",
    "oh"
   ]
  },
  {
   "cell_type": "code",
   "execution_count": 19,
   "metadata": {
    "collapsed": true,
    "extensions": {
     "jupyter_dashboards": {
      "version": 1,
      "views": {
       "grid_default": {
        "hidden": true
       },
       "report_default": {}
      }
     }
    }
   },
   "outputs": [],
   "source": [
    "# Get x,y,z position of oxygen atom of hydroxide\n",
    "pos = oh.GetConformer().GetAtomPosition(0)"
   ]
  },
  {
   "cell_type": "code",
   "execution_count": 20,
   "metadata": {},
   "outputs": [],
   "source": [
    "import os\n",
    "prefix_ = \"TS_model_\"\n",
    "fls = os.listdir('.')\n",
    "for fl in fls:\n",
    "    if(fl.startswith(\"R_aligned_isomers\")):\n",
    "        conformer= Chem.MolFromMolFile(fl, True, False)\n",
    "        new_ts_model = vxc.add_hydroxide_to_transition_state_model(oh,p_id,s_id, conformer)\n",
    "        writer3 = Chem.SDWriter(prefix_+fl)\n",
    "        writer3.write(new_ts_model,confId=0)"
   ]
  }
 ],
 "metadata": {
  "extensions": {
   "jupyter_dashboards": {
    "activeView": "grid_default",
    "version": 1,
    "views": {
     "grid_default": {
      "cellMargin": 10,
      "defaultCellHeight": 20,
      "maxColumns": 12,
      "name": "grid",
      "type": "grid"
     },
     "report_default": {
      "name": "report",
      "type": "report"
     }
    }
   }
  },
  "kernelspec": {
   "display_name": "Python 2",
   "language": "python",
   "name": "python2"
  },
  "language_info": {
   "codemirror_mode": {
    "name": "ipython",
    "version": 2
   },
   "file_extension": ".py",
   "mimetype": "text/x-python",
   "name": "python",
   "nbconvert_exporter": "python",
   "pygments_lexer": "ipython2",
   "version": "2.7.13"
  },
  "toc": {
   "nav_menu": {},
   "number_sections": true,
   "sideBar": true,
   "skip_h1_title": false,
   "toc_cell": false,
   "toc_position": {},
   "toc_section_display": "block",
   "toc_window_display": false
  }
 },
 "nbformat": 4,
 "nbformat_minor": 2
}
