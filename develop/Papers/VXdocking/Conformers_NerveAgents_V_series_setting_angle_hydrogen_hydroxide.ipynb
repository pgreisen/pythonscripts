{
 "cells": [
  {
   "cell_type": "markdown",
   "metadata": {
    "extensions": {
     "jupyter_dashboards": {
      "version": 1,
      "views": {
       "grid_default": {
        "col": 0,
        "height": 4,
        "hidden": false,
        "row": 0,
        "width": 12
       },
       "report_default": {}
      }
     }
    }
   },
   "source": [
    "# Conformers of nerve agents of V-series\n",
    "\n",
    "## Generation of conformers for docking in Rosetta"
   ]
  },
  {
   "cell_type": "code",
   "execution_count": 1,
   "metadata": {
    "collapsed": true,
    "extensions": {
     "jupyter_dashboards": {
      "version": 1,
      "views": {
       "grid_default": {
        "hidden": true
       },
       "report_default": {}
      }
     }
    }
   },
   "outputs": [],
   "source": [
    "# remember to source before using RDkit\n",
    "# source activate my-rdkit-env \n",
    "# and open jupyter from this environment"
   ]
  },
  {
   "cell_type": "markdown",
   "metadata": {
    "extensions": {
     "jupyter_dashboards": {
      "version": 1,
      "views": {
       "grid_default": {
        "col": 0,
        "height": 4,
        "hidden": false,
        "row": 4,
        "width": 4
       },
       "report_default": {}
      }
     }
    }
   },
   "source": [
    "from IPython.display import HTML\n",
    "\n",
    "HTML('''<script>\n",
    "code_show=true; \n",
    "function code_toggle() {\n",
    " if (code_show){\n",
    " $('div.input').hide();\n",
    " } else {\n",
    " $('div.input').show();\n",
    " }\n",
    " code_show = !code_show\n",
    "} \n",
    "$( document ).ready(code_toggle);\n",
    "</script>\n",
    "<form action=\"javascript:code_toggle()\"><input type=\"submit\" value=\"Click here to toggle on/off the raw code.\"></form>''')"
   ]
  },
  {
   "cell_type": "code",
   "execution_count": 2,
   "metadata": {
    "collapsed": true
   },
   "outputs": [],
   "source": [
    "from rdkit import Chem\n",
    "from rdkit.Chem import AllChem\n",
    "from rdkit.Chem import rdMolTransforms as rdmt\n",
    "import numpy as np\n",
    "# from rdkit import Chem\n",
    "from rdkit.Chem.Draw import IPythonConsole\n",
    "from rdkit.Chem.Draw import MolDrawing, DrawingOptions\n",
    "from rdkit.Geometry import rdGeometry as geom\n",
    "import os"
   ]
  },
  {
   "cell_type": "code",
   "execution_count": 3,
   "metadata": {},
   "outputs": [],
   "source": [
    "import VXconformers\n",
    "vxc = VXconformers.VXconformers()"
   ]
  },
  {
   "cell_type": "markdown",
   "metadata": {
    "extensions": {
     "jupyter_dashboards": {
      "version": 1,
      "views": {
       "grid_default": {
        "col": 0,
        "height": 6,
        "hidden": false,
        "row": 8,
        "width": 12
       },
       "report_default": {}
      }
     }
    }
   },
   "source": [
    "## SMILES of the 3 nerve agents:\n",
    "\n",
    "* VX \n",
    "\n",
    "(CCOP(C)(=O)SCC\\[NH+\\](C(C)C)C(C)C)\n",
    "* Russian VX (RVX) \n",
    "\n",
    "CC\\[NH+\\](CC)CCSP(=O)(C)OCC(C)C\n",
    "* Chinese VX (CVX) \n",
    "\n",
    "O=P(OCCCC)(SCC\\[NH+\\](CC)CC)C\n",
    "\n",
    "### SMILES taken from pubchem except CVX build from RVX"
   ]
  },
  {
   "cell_type": "code",
   "execution_count": 4,
   "metadata": {
    "collapsed": true,
    "extensions": {
     "jupyter_dashboards": {
      "version": 1,
      "views": {
       "grid_default": {
        "hidden": true
       },
       "report_default": {}
      }
     }
    }
   },
   "outputs": [],
   "source": [
    "# SMILES from pubchem except CVX build from RVX\n",
    "nerve_agents = {'RVX' : 'CC[NH+](CC)CCSP(=O)(C)OCC(C)C',\n",
    "                'VX'  : 'CCOP(C)(=O)SCC[NH+](C(C)C)C(C)C',\n",
    "                'CVX' : 'O=P(OCCCC)(SCC[NH+](CC)CC)C'}"
   ]
  },
  {
   "cell_type": "code",
   "execution_count": 5,
   "metadata": {
    "collapsed": true,
    "extensions": {
     "jupyter_dashboards": {
      "version": 1,
      "views": {
       "grid_default": {
        "hidden": true
       },
       "report_default": {}
      }
     }
    }
   },
   "outputs": [],
   "source": [
    "mols = {}\n",
    "for name in nerve_agents.keys():\n",
    "    mols[name] = vxc.generate_molecule(name,nerve_agents[name])"
   ]
  },
  {
   "cell_type": "code",
   "execution_count": 6,
   "metadata": {
    "extensions": {
     "jupyter_dashboards": {
      "version": 1,
      "views": {
       "grid_default": {
        "col": 0,
        "height": 5,
        "hidden": false,
        "row": 14,
        "width": 4
       },
       "report_default": {}
      }
     }
    }
   },
   "outputs": [
    {
     "data": {
      "image/png": "[encoded data removed]",
      "text/plain": [
       "<rdkit.Chem.rdchem.Mol at 0x10b3ddd00>"
      ]
     },
     "execution_count": 6,
     "metadata": {},
     "output_type": "execute_result"
    }
   ],
   "source": [
    "mols['VX']"
   ]
  },
  {
   "cell_type": "code",
   "execution_count": 7,
   "metadata": {
    "extensions": {
     "jupyter_dashboards": {
      "version": 1,
      "views": {
       "grid_default": {
        "col": 4,
        "height": 5,
        "hidden": false,
        "row": 14,
        "width": 4
       },
       "report_default": {}
      }
     }
    }
   },
   "outputs": [
    {
     "data": {
      "image/png": "[encoded data removed]",
      "text/plain": [
       "<rdkit.Chem.rdchem.Mol at 0x10b3dd2f0>"
      ]
     },
     "execution_count": 7,
     "metadata": {},
     "output_type": "execute_result"
    }
   ],
   "source": [
    "mols['RVX']"
   ]
  },
  {
   "cell_type": "code",
   "execution_count": 8,
   "metadata": {
    "extensions": {
     "jupyter_dashboards": {
      "version": 1,
      "views": {
       "grid_default": {
        "col": 8,
        "height": 5,
        "hidden": false,
        "row": 14,
        "width": 4
       },
       "report_default": {}
      }
     }
    }
   },
   "outputs": [
    {
     "data": {
      "image/png": "[encoded data removed]",
      "text/plain": [
       "<rdkit.Chem.rdchem.Mol at 0x10b3dd280>"
      ]
     },
     "execution_count": 8,
     "metadata": {},
     "output_type": "execute_result"
    }
   ],
   "source": [
    "mols['CVX']"
   ]
  },
  {
   "cell_type": "markdown",
   "metadata": {},
   "source": [
    "# Generation of nucleophile OH-"
   ]
  },
  {
   "cell_type": "code",
   "execution_count": 9,
   "metadata": {},
   "outputs": [
    {
     "data": {
      "image/png": "[encoded data removed]",
      "text/plain": [
       "<rdkit.Chem.rdchem.Mol at 0x10b3dd360>"
      ]
     },
     "execution_count": 9,
     "metadata": {},
     "output_type": "execute_result"
    }
   ],
   "source": [
    "oh = '[OH-]'\n",
    "oh = Chem.MolFromSmiles(oh,sanitize=True)\n",
    "oh.SetProp(\"_Name\",\"OH-\")\n",
    "AllChem.EmbedMolecule(oh, AllChem.ETKDG())\n",
    "DrawingOptions.includeAtomNumbers=True\n",
    "oh"
   ]
  },
  {
   "cell_type": "markdown",
   "metadata": {
    "extensions": {
     "jupyter_dashboards": {
      "version": 1,
      "views": {
       "grid_default": {
        "col": 0,
        "height": 4,
        "hidden": false,
        "row": 19,
        "width": 12
       },
       "report_default": {}
      }
     }
    }
   },
   "source": [
    "## Setting parameters for the transition state model\n",
    "### Distance, angles etc"
   ]
  },
  {
   "cell_type": "markdown",
   "metadata": {},
   "source": [
    "# Add OH- to transition state model"
   ]
  },
  {
   "cell_type": "markdown",
   "metadata": {
    "collapsed": true
   },
   "source": [
    "OH_INDEX_OXYGEN = 0\n",
    "OH_INDEX_HYDROGEN = 0"
   ]
  },
  {
   "cell_type": "code",
   "execution_count": 10,
   "metadata": {},
   "outputs": [
    {
     "name": "stdout",
     "output_type": "stream",
     "text": [
      "Number of conformers for S-VX : 185\n",
      "Number of conformers for R-VX : 198\n",
      ":::::: <type 'list'>\n"
     ]
    },
    {
     "ename": "ArgumentError",
     "evalue": "Python argument types in\n    EditableMol.__init__(EditableMol, list)\ndid not match C++ signature:\n    __init__(_object*, RDKit::ROMol)",
     "output_type": "error",
     "traceback": [
      "\u001b[0;31m---------------------------------------------------------------------------\u001b[0m",
      "\u001b[0;31mArgumentError\u001b[0m                             Traceback (most recent call last)",
      "\u001b[0;32m<ipython-input-10-4e7de10b5e66>\u001b[0m in \u001b[0;36m<module>\u001b[0;34m()\u001b[0m\n\u001b[1;32m     36\u001b[0m     \u001b[0mget_ipython\u001b[0m\u001b[0;34m(\u001b[0m\u001b[0;34m)\u001b[0m\u001b[0;34m.\u001b[0m\u001b[0msystem\u001b[0m\u001b[0;34m(\u001b[0m\u001b[0;34mu'rm prune*sdf'\u001b[0m\u001b[0;34m)\u001b[0m\u001b[0;34m\u001b[0m\u001b[0m\n\u001b[1;32m     37\u001b[0m     \u001b[0;31m# setup and add nucleophile to transition state model\u001b[0m\u001b[0;34m\u001b[0m\u001b[0;34m\u001b[0m\u001b[0m\n\u001b[0;32m---> 38\u001b[0;31m     \u001b[0mvxc\u001b[0m\u001b[0;34m.\u001b[0m\u001b[0mwrite_hydroxide_transition_state_model\u001b[0m\u001b[0;34m(\u001b[0m\u001b[0moh\u001b[0m\u001b[0;34m,\u001b[0m \u001b[0mmolecule\u001b[0m\u001b[0;34m,\u001b[0m \u001b[0;34m'R'\u001b[0m\u001b[0;34m,\u001b[0m\u001b[0mo_ether_idx\u001b[0m\u001b[0;34m)\u001b[0m\u001b[0;34m\u001b[0m\u001b[0m\n\u001b[0m\u001b[1;32m     39\u001b[0m     \u001b[0mvxc\u001b[0m\u001b[0;34m.\u001b[0m\u001b[0mwrite_hydroxide_transition_state_model\u001b[0m\u001b[0;34m(\u001b[0m\u001b[0moh\u001b[0m\u001b[0;34m,\u001b[0m \u001b[0mmolecule\u001b[0m\u001b[0;34m,\u001b[0m \u001b[0;34m'S'\u001b[0m\u001b[0;34m,\u001b[0m\u001b[0mo_ether_idx\u001b[0m\u001b[0;34m)\u001b[0m\u001b[0;34m\u001b[0m\u001b[0m\n",
      "\u001b[0;32m/Users/pgreisen/pythonscripts/develop/Papers/VXdocking/VXconformers.py\u001b[0m in \u001b[0;36mwrite_hydroxide_transition_state_model\u001b[0;34m(self, oh, molecule_name, isomer_name, o_ether_idx)\u001b[0m\n\u001b[1;32m    492\u001b[0m             \u001b[0;32mif\u001b[0m \u001b[0;34m(\u001b[0m\u001b[0mfl\u001b[0m\u001b[0;34m.\u001b[0m\u001b[0mstartswith\u001b[0m\u001b[0;34m(\u001b[0m\u001b[0mid_fl\u001b[0m\u001b[0;34m)\u001b[0m\u001b[0;34m)\u001b[0m\u001b[0;34m:\u001b[0m\u001b[0;34m\u001b[0m\u001b[0m\n\u001b[1;32m    493\u001b[0m                 \u001b[0mconformer\u001b[0m \u001b[0;34m=\u001b[0m \u001b[0mChem\u001b[0m\u001b[0;34m.\u001b[0m\u001b[0mMolFromMolFile\u001b[0m\u001b[0;34m(\u001b[0m\u001b[0mfl\u001b[0m\u001b[0;34m,\u001b[0m \u001b[0mTrue\u001b[0m\u001b[0;34m,\u001b[0m \u001b[0mFalse\u001b[0m\u001b[0;34m)\u001b[0m\u001b[0;34m\u001b[0m\u001b[0m\n\u001b[0;32m--> 494\u001b[0;31m                 \u001b[0mnew_ts_model\u001b[0m \u001b[0;34m=\u001b[0m \u001b[0mself\u001b[0m\u001b[0;34m.\u001b[0m\u001b[0madd_hydroxide_to_transition_state_model\u001b[0m\u001b[0;34m(\u001b[0m\u001b[0moh\u001b[0m\u001b[0;34m,\u001b[0m \u001b[0mself\u001b[0m\u001b[0;34m.\u001b[0m\u001b[0mp_id\u001b[0m\u001b[0;34m,\u001b[0m \u001b[0mself\u001b[0m\u001b[0;34m.\u001b[0m\u001b[0ms_id\u001b[0m\u001b[0;34m,\u001b[0m \u001b[0mconformer\u001b[0m\u001b[0;34m,\u001b[0m \u001b[0mo_ether_idx\u001b[0m\u001b[0;34m)\u001b[0m\u001b[0;34m\u001b[0m\u001b[0m\n\u001b[0m\u001b[1;32m    495\u001b[0m                 \u001b[0;32mif\u001b[0m \u001b[0;34m(\u001b[0m\u001b[0mnew_ts_model\u001b[0m \u001b[0;34m!=\u001b[0m \u001b[0;34m-\u001b[0m\u001b[0;36m1\u001b[0m\u001b[0;34m)\u001b[0m\u001b[0;34m:\u001b[0m\u001b[0;34m\u001b[0m\u001b[0m\n\u001b[1;32m    496\u001b[0m                     \u001b[0mwriter3\u001b[0m \u001b[0;34m=\u001b[0m \u001b[0mChem\u001b[0m\u001b[0;34m.\u001b[0m\u001b[0mSDWriter\u001b[0m\u001b[0;34m(\u001b[0m\u001b[0mprefix_\u001b[0m \u001b[0;34m+\u001b[0m \u001b[0;34m\"_\"\u001b[0m \u001b[0;34m+\u001b[0m \u001b[0mfl\u001b[0m\u001b[0;34m)\u001b[0m\u001b[0;34m\u001b[0m\u001b[0m\n",
      "\u001b[0;32m/Users/pgreisen/pythonscripts/develop/Papers/VXdocking/VXconformers.py\u001b[0m in \u001b[0;36madd_hydroxide_to_transition_state_model\u001b[0;34m(self, nucleophile, p_id, s_id, conformer, o_ether_idx, bond_increase)\u001b[0m\n\u001b[1;32m    464\u001b[0m \u001b[0;34m\u001b[0m\u001b[0m\n\u001b[1;32m    465\u001b[0m         \u001b[0;31m# Add bond between P-S\u001b[0m\u001b[0;34m\u001b[0m\u001b[0;34m\u001b[0m\u001b[0m\n\u001b[0;32m--> 466\u001b[0;31m         \u001b[0medcombo\u001b[0m \u001b[0;34m=\u001b[0m \u001b[0mChem\u001b[0m\u001b[0;34m.\u001b[0m\u001b[0mEditableMol\u001b[0m\u001b[0;34m(\u001b[0m\u001b[0mback\u001b[0m\u001b[0;34m)\u001b[0m\u001b[0;34m\u001b[0m\u001b[0m\n\u001b[0m\u001b[1;32m    467\u001b[0m         \u001b[0medcombo\u001b[0m\u001b[0;34m.\u001b[0m\u001b[0mAddBond\u001b[0m\u001b[0;34m(\u001b[0m\u001b[0mp_id\u001b[0m\u001b[0;34m,\u001b[0m \u001b[0ms_id\u001b[0m\u001b[0;34m,\u001b[0m \u001b[0morder\u001b[0m\u001b[0;34m=\u001b[0m\u001b[0mChem\u001b[0m\u001b[0;34m.\u001b[0m\u001b[0mrdchem\u001b[0m\u001b[0;34m.\u001b[0m\u001b[0mBondType\u001b[0m\u001b[0;34m.\u001b[0m\u001b[0mSINGLE\u001b[0m\u001b[0;34m)\u001b[0m\u001b[0;34m\u001b[0m\u001b[0m\n\u001b[1;32m    468\u001b[0m         \u001b[0mback\u001b[0m \u001b[0;34m=\u001b[0m \u001b[0medcombo\u001b[0m\u001b[0;34m.\u001b[0m\u001b[0mGetMol\u001b[0m\u001b[0;34m(\u001b[0m\u001b[0;34m)\u001b[0m\u001b[0;34m\u001b[0m\u001b[0m\n",
      "\u001b[0;31mArgumentError\u001b[0m: Python argument types in\n    EditableMol.__init__(EditableMol, list)\ndid not match C++ signature:\n    __init__(_object*, RDKit::ROMol)"
     ]
    }
   ],
   "source": [
    "#Main of script\n",
    "\n",
    "# angle of attacking hydrogen\n",
    "ANGLE_HYDROGEN = 112\n",
    "# P-S bond distance\n",
    "p_s_dist = 2.36\n",
    "# Number of conformers\n",
    "nr_confs = 500\n",
    "# RMSD between the generated conformers\n",
    "rmsd_cutoff = 0.1\n",
    "# setup generation of conformers\n",
    "for molecule in mols.keys():\n",
    "    # Name of ligand\n",
    "    LIGAND_NAME = molecule\n",
    "    # Generate conformers for each molecule\n",
    "    cids = vxc.get_conformers(mols[molecule], nr_confs, rmsd_cutoff)\n",
    "    # Get index of atoms used to build molecule\n",
    "    p_id, s_id, pc_id, nh_id, po_id, poe_id = vxc.get_index_atms( mols[molecule] )\n",
    "    \n",
    "    ### TEST TEST ###\n",
    "    o_ether_idx = vxc.get_o_ether_carbon_atoms(mols[molecule],poe_id)\n",
    "    \n",
    "    rmslist = vxc.get_rmsd_after_minimization_conformers(mols[molecule],cids)\n",
    "    # Assign chiral centers to molecule\n",
    "    Chem.FindMolChiralCenters(mols[molecule], p_id, includeUnassigned=True)\n",
    "    # Remove conformers based on N-H ... P=O distance\n",
    "    vxc.prune_conformers(mols[molecule],cids)\n",
    "    #\n",
    "    s_isomers, r_isomers = vxc.get_transition_state_geometry(p_s_dist)\n",
    "    print \"Number of conformers for S-\"+str(molecule)+\" : \"+str(len(s_isomers))\n",
    "    print \"Number of conformers for R-\"+str(molecule)+\" : \"+str(len(r_isomers))\n",
    "    # write to file\n",
    "    vxc.write_aligned_to_file(r_isomers,(p_id,po_id,poe_id,pc_id),molecule+\"_R_aligned_isomers\")\n",
    "    vxc.write_aligned_to_file(s_isomers,(p_id,po_id,poe_id,pc_id),molecule+\"_S_aligned_isomers\")\n",
    "    # Remove pruned conformers\n",
    "    !rm prune*sdf\n",
    "    # setup and add nucleophile to transition state model\n",
    "    vxc.write_hydroxide_transition_state_model(oh, molecule, 'R',o_ether_idx)\n",
    "    vxc.write_hydroxide_transition_state_model(oh, molecule, 'S',o_ether_idx)"
   ]
  },
  {
   "cell_type": "markdown",
   "metadata": {},
   "source": [
    "rmsd cutoff = 0.25\n",
    "Number of conformers for S-VX : 204\n",
    "Number of conformers for R-VX : 178\n",
    "Number of conformers for S-RVX : 163\n",
    "Number of conformers for R-RVX : 158\n",
    "Number of conformers for S-CVX : 147\n",
    "Number of conformers for R-CVX : 158"
   ]
  },
  {
   "cell_type": "markdown",
   "metadata": {},
   "source": [
    "# Setting the geometry of the attacking hydrogen of the hydroxide"
   ]
  },
  {
   "cell_type": "code",
   "execution_count": null,
   "metadata": {
    "collapsed": true
   },
   "outputs": [],
   "source": [
    "##ANGLE = 112\n",
    "##set_angle_hydroxide(ANGLE)"
   ]
  },
  {
   "cell_type": "code",
   "execution_count": null,
   "metadata": {
    "collapsed": true
   },
   "outputs": [],
   "source": [
    "##help(Chem.MolFromMolFile)"
   ]
  },
  {
   "cell_type": "code",
   "execution_count": null,
   "metadata": {},
   "outputs": [],
   "source": [
    "# Add dummy atoms between the P-S bond\n",
    "m = Chem.MolFromMolFile(\"TS_model_RVX_S_aligned_isomers_139.sdf\", False, False, False)\n",
    "\n",
    "p_id, s_id = get_index_atms_hydroxide(m)\n",
    "bond = m.GetBondBetweenAtoms(p_id, s_id)\n",
    "print p_id,s_id\n",
    "new_m = Chem.FragmentOnBonds(m, [bond.GetIdx()], addDummies=True, dummyLabels=[(1, 1)])\n",
    "\n",
    "\n",
    "atom1 = new_m.GetAtomWithIdx(OH_INDEX_OXYGEN)\n",
    "atom1.SetFormalCharge(0)\n",
    "\n",
    "# Chem.SanitizeMol(new_m)\n",
    "\n",
    "#writer3 = Chem.SDWriter('out_long_2.sdf')\n",
    "#writer3.write(new_m,confId=0)\n",
    "#rdmt.SetAngleDeg(new_m.GetConformer(0),8,43,44,90)\n",
    "\n",
    "writer3 = Chem.SDWriter('out_long_2.sdf')\n",
    "writer3.write(new_m,confId=0)\n",
    "\n",
    "\n",
    "\n"
   ]
  }
 ],
 "metadata": {
  "extensions": {
   "jupyter_dashboards": {
    "activeView": "grid_default",
    "version": 1,
    "views": {
     "grid_default": {
      "cellMargin": 10,
      "defaultCellHeight": 20,
      "maxColumns": 12,
      "name": "grid",
      "type": "grid"
     },
     "report_default": {
      "name": "report",
      "type": "report"
     }
    }
   }
  },
  "kernelspec": {
   "display_name": "Python 2",
   "language": "python",
   "name": "python2"
  },
  "language_info": {
   "codemirror_mode": {
    "name": "ipython",
    "version": 2
   },
   "file_extension": ".py",
   "mimetype": "text/x-python",
   "name": "python",
   "nbconvert_exporter": "python",
   "pygments_lexer": "ipython2",
   "version": "2.7.13"
  },
  "toc": {
   "nav_menu": {},
   "number_sections": true,
   "sideBar": true,
   "skip_h1_title": false,
   "toc_cell": false,
   "toc_position": {},
   "toc_section_display": "block",
   "toc_window_display": false
  }
 },
 "nbformat": 4,
 "nbformat_minor": 2
}
