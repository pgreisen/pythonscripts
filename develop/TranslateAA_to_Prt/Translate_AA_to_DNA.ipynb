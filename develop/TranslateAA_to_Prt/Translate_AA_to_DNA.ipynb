{
 "cells": [
  {
   "cell_type": "code",
   "execution_count": 1,
   "metadata": {},
   "outputs": [],
   "source": [
    "import pandas as pd\n",
    "import random\n",
    "random.seed(42)"
   ]
  },
  {
   "cell_type": "code",
   "execution_count": 2,
   "metadata": {},
   "outputs": [],
   "source": [
    "aa_table = {\n",
    "    'A' : \"Ala\",\n",
    "    'R' : \"Arg\",\n",
    "    'N' : \"Asn\",\n",
    "    'D' : \"Asp\",\n",
    "    'C' : \"Cys\",\n",
    "    'Q' : \"Gln\",\n",
    "    'E' : \"Glu\",\n",
    "    'G' : \"Gly\",\n",
    "    'H' : \"His\",\n",
    "    'I' : \"Ile\",\n",
    "    'L' : \"Leu\",\n",
    "    'K' : \"Lys\",\n",
    "    'M' : \"Met\",\n",
    "    'F' : \"Phe\",\n",
    "    'P' : \"Pro\",\n",
    "    'S' : \"Ser\",\n",
    "    'T' : \"Thr\",\n",
    "    'W' : \"Trp\",\n",
    "    'Y' : \"Tyr\",\n",
    "    'V' : \"Val\",\n",
    "    '-' : \"Del\"}"
   ]
  },
  {
   "cell_type": "code",
   "execution_count": 3,
   "metadata": {},
   "outputs": [],
   "source": [
    "df = pd.read_csv(\"yeast_codon_table.tsv\",delim_whitespace=True)"
   ]
  },
  {
   "cell_type": "code",
   "execution_count": 4,
   "metadata": {},
   "outputs": [
    {
     "data": {
      "text/html": [
       "<div>\n",
       "<style scoped>\n",
       "    .dataframe tbody tr th:only-of-type {\n",
       "        vertical-align: middle;\n",
       "    }\n",
       "\n",
       "    .dataframe tbody tr th {\n",
       "        vertical-align: top;\n",
       "    }\n",
       "\n",
       "    .dataframe thead th {\n",
       "        text-align: right;\n",
       "    }\n",
       "</style>\n",
       "<table border=\"1\" class=\"dataframe\">\n",
       "  <thead>\n",
       "    <tr style=\"text-align: right;\">\n",
       "      <th></th>\n",
       "      <th>AmAcid</th>\n",
       "      <th>Codon</th>\n",
       "      <th>Number</th>\n",
       "      <th>/1000</th>\n",
       "      <th>Fraction</th>\n",
       "      <th>..</th>\n",
       "    </tr>\n",
       "  </thead>\n",
       "  <tbody>\n",
       "    <tr>\n",
       "      <th>0</th>\n",
       "      <td>Gly</td>\n",
       "      <td>GGG</td>\n",
       "      <td>39359.0</td>\n",
       "      <td>6.02</td>\n",
       "      <td>0.0</td>\n",
       "      <td>NaN</td>\n",
       "    </tr>\n",
       "    <tr>\n",
       "      <th>1</th>\n",
       "      <td>Gly</td>\n",
       "      <td>GGA</td>\n",
       "      <td>71216.0</td>\n",
       "      <td>10.90</td>\n",
       "      <td>0.0</td>\n",
       "      <td>NaN</td>\n",
       "    </tr>\n",
       "    <tr>\n",
       "      <th>2</th>\n",
       "      <td>Gly</td>\n",
       "      <td>GGT</td>\n",
       "      <td>156109.0</td>\n",
       "      <td>23.89</td>\n",
       "      <td>0.0</td>\n",
       "      <td>NaN</td>\n",
       "    </tr>\n",
       "    <tr>\n",
       "      <th>3</th>\n",
       "      <td>Gly</td>\n",
       "      <td>GGC</td>\n",
       "      <td>63903.0</td>\n",
       "      <td>9.78</td>\n",
       "      <td>0.0</td>\n",
       "      <td>NaN</td>\n",
       "    </tr>\n",
       "    <tr>\n",
       "      <th>4</th>\n",
       "      <td>Glu</td>\n",
       "      <td>GAG</td>\n",
       "      <td>125717.0</td>\n",
       "      <td>19.24</td>\n",
       "      <td>0.0</td>\n",
       "      <td>NaN</td>\n",
       "    </tr>\n",
       "  </tbody>\n",
       "</table>\n",
       "</div>"
      ],
      "text/plain": [
       "  AmAcid Codon    Number  /1000  Fraction  ..\n",
       "0    Gly   GGG   39359.0   6.02       0.0 NaN\n",
       "1    Gly   GGA   71216.0  10.90       0.0 NaN\n",
       "2    Gly   GGT  156109.0  23.89       0.0 NaN\n",
       "3    Gly   GGC   63903.0   9.78       0.0 NaN\n",
       "4    Glu   GAG  125717.0  19.24       0.0 NaN"
      ]
     },
     "execution_count": 4,
     "metadata": {},
     "output_type": "execute_result"
    }
   ],
   "source": [
    "df.head()"
   ]
  },
  {
   "cell_type": "code",
   "execution_count": 5,
   "metadata": {},
   "outputs": [],
   "source": [
    "counts = df.groupby(by='AmAcid')[\"Number\"].sum()\n",
    "df[\"Probability\"] = 0.0"
   ]
  },
  {
   "cell_type": "code",
   "execution_count": 6,
   "metadata": {},
   "outputs": [],
   "source": [
    "df.drop(labels=['..',\"Fraction\"],axis=1,inplace=True)"
   ]
  },
  {
   "cell_type": "code",
   "execution_count": 7,
   "metadata": {},
   "outputs": [],
   "source": [
    "for i,j,k in zip(df.index, df[\"AmAcid\"],df[\"Number\"]):\n",
    "    df.iloc[i,df.columns.get_loc(\"Probability\")] = k/counts[j] "
   ]
  },
  {
   "cell_type": "code",
   "execution_count": 8,
   "metadata": {},
   "outputs": [],
   "source": [
    "df = df.sort_values(by='AmAcid').reset_index()"
   ]
  },
  {
   "cell_type": "code",
   "execution_count": 9,
   "metadata": {},
   "outputs": [],
   "source": [
    "df = df.drop(labels=\"index\",axis=1)"
   ]
  },
  {
   "cell_type": "code",
   "execution_count": 10,
   "metadata": {},
   "outputs": [],
   "source": [
    "aa = \"\"\n",
    "df[\"range_of_prb\"] = 0.0\n",
    "for i,j,k in zip(df.index, df[\"AmAcid\"], df[\"Probability\"]):\n",
    "    if(j != aa):\n",
    "        prb_ = 0\n",
    "        aa = j\n",
    "    prb_ += k\n",
    "    df.iloc[i,df.columns.get_loc(\"range_of_prb\")] = prb_"
   ]
  },
  {
   "cell_type": "code",
   "execution_count": 11,
   "metadata": {},
   "outputs": [
    {
     "data": {
      "text/html": [
       "<div>\n",
       "<style scoped>\n",
       "    .dataframe tbody tr th:only-of-type {\n",
       "        vertical-align: middle;\n",
       "    }\n",
       "\n",
       "    .dataframe tbody tr th {\n",
       "        vertical-align: top;\n",
       "    }\n",
       "\n",
       "    .dataframe thead th {\n",
       "        text-align: right;\n",
       "    }\n",
       "</style>\n",
       "<table border=\"1\" class=\"dataframe\">\n",
       "  <thead>\n",
       "    <tr style=\"text-align: right;\">\n",
       "      <th></th>\n",
       "      <th>AmAcid</th>\n",
       "      <th>Codon</th>\n",
       "      <th>Number</th>\n",
       "      <th>/1000</th>\n",
       "      <th>Probability</th>\n",
       "      <th>range_of_prb</th>\n",
       "    </tr>\n",
       "  </thead>\n",
       "  <tbody>\n",
       "    <tr>\n",
       "      <th>0</th>\n",
       "      <td>Ala</td>\n",
       "      <td>GCC</td>\n",
       "      <td>82357.0</td>\n",
       "      <td>12.60</td>\n",
       "      <td>0.224416</td>\n",
       "      <td>0.224416</td>\n",
       "    </tr>\n",
       "    <tr>\n",
       "      <th>1</th>\n",
       "      <td>Ala</td>\n",
       "      <td>GCT</td>\n",
       "      <td>138358.0</td>\n",
       "      <td>21.17</td>\n",
       "      <td>0.377015</td>\n",
       "      <td>0.601431</td>\n",
       "    </tr>\n",
       "    <tr>\n",
       "      <th>2</th>\n",
       "      <td>Ala</td>\n",
       "      <td>GCA</td>\n",
       "      <td>105910.0</td>\n",
       "      <td>16.21</td>\n",
       "      <td>0.288596</td>\n",
       "      <td>0.890028</td>\n",
       "    </tr>\n",
       "    <tr>\n",
       "      <th>3</th>\n",
       "      <td>Ala</td>\n",
       "      <td>GCG</td>\n",
       "      <td>40358.0</td>\n",
       "      <td>6.18</td>\n",
       "      <td>0.109972</td>\n",
       "      <td>1.000000</td>\n",
       "    </tr>\n",
       "  </tbody>\n",
       "</table>\n",
       "</div>"
      ],
      "text/plain": [
       "  AmAcid Codon    Number  /1000  Probability  range_of_prb\n",
       "0    Ala   GCC   82357.0  12.60     0.224416      0.224416\n",
       "1    Ala   GCT  138358.0  21.17     0.377015      0.601431\n",
       "2    Ala   GCA  105910.0  16.21     0.288596      0.890028\n",
       "3    Ala   GCG   40358.0   6.18     0.109972      1.000000"
      ]
     },
     "execution_count": 11,
     "metadata": {},
     "output_type": "execute_result"
    }
   ],
   "source": [
    "df.head(4)"
   ]
  },
  {
   "cell_type": "code",
   "execution_count": 12,
   "metadata": {},
   "outputs": [],
   "source": [
    "def get_codon(df, aa, nr):\n",
    "    tmpdf = df[df[\"AmAcid\"] == aa]\n",
    "    for i,j in zip(tmpdf[\"range_of_prb\"],tmpdf[\"Codon\"]):\n",
    "        if(nr <= i ):\n",
    "            return j"
   ]
  },
  {
   "cell_type": "code",
   "execution_count": 13,
   "metadata": {},
   "outputs": [],
   "source": [
    "# te\n",
    "seq = 'ACGHFKKRRGDFHY'\n",
    "new_seq = ''\n",
    "for i in seq:\n",
    "    test = get_codon(df, aa_table[i],random.random() )\n",
    "    new_seq += test"
   ]
  },
  {
   "cell_type": "code",
   "execution_count": 19,
   "metadata": {},
   "outputs": [],
   "source": [
    "seqs = {}\n",
    "with open(\"Mohak_is_great_w_RPA.FASTA\", 'r') as f:\n",
    "    for line in f:\n",
    "        if(line[0] == \">\"):\n",
    "            key=line[1:].strip()\n",
    "            seqs[key] = \"\"\n",
    "        else:\n",
    "            seqs[key] += line.strip()"
   ]
  },
  {
   "cell_type": "code",
   "execution_count": 20,
   "metadata": {},
   "outputs": [],
   "source": [
    "dfdna = pd.DataFrame.from_dict(seqs,orient='index').reset_index()"
   ]
  },
  {
   "cell_type": "code",
   "execution_count": 21,
   "metadata": {},
   "outputs": [],
   "source": [
    "dfdna.rename(columns={'index' : \"Name\", 0 : 'AA_sequence'},inplace=True)"
   ]
  },
  {
   "cell_type": "code",
   "execution_count": 22,
   "metadata": {},
   "outputs": [],
   "source": [
    "dfdna[\"DNA_sequence\"] = \"\"\n",
    "dfdna[\"bsaI_site\"] = 0\n",
    "\n",
    "for i,seq in zip(dfdna.index, dfdna[\"AA_sequence\"]):\n",
    "    dna_ = \"\"\n",
    "    for aa in seq:  \n",
    "        codon_ = get_codon(df, aa_table[aa],random.random() )\n",
    "        dna_ += codon_\n",
    "    \n",
    "    dfdna.iloc[i,dfdna.columns.get_loc(\"DNA_sequence\")] = dna_\n",
    "    if(\"GGTCTC\" in dna_ or \"GAGACC\" in dna_):\n",
    "        dfdna.iloc[i,dfdna.columns.get_loc(\"bsaI_site\")] = 1"
   ]
  },
  {
   "cell_type": "code",
   "execution_count": 23,
   "metadata": {},
   "outputs": [],
   "source": [
    "dfdna.to_excel(\"20190621_yeast_MAGE.xlsx\")"
   ]
  },
  {
   "cell_type": "code",
   "execution_count": 25,
   "metadata": {},
   "outputs": [
    {
     "name": "stdout",
     "output_type": "stream",
     "text": [
      "<class 'pandas.core.frame.DataFrame'>\n",
      "RangeIndex: 7446 entries, 0 to 7445\n",
      "Data columns (total 4 columns):\n",
      "Name            7446 non-null object\n",
      "AA_sequence     7446 non-null object\n",
      "DNA_sequence    7446 non-null object\n",
      "bsaI_site       7446 non-null int64\n",
      "dtypes: int64(1), object(3)\n",
      "memory usage: 232.8+ KB\n"
     ]
    }
   ],
   "source": [
    "dfdna.info()"
   ]
  },
  {
   "cell_type": "code",
   "execution_count": null,
   "metadata": {},
   "outputs": [],
   "source": []
  }
 ],
 "metadata": {
  "kernelspec": {
   "display_name": "Python 3",
   "language": "python",
   "name": "python3"
  },
  "language_info": {
   "codemirror_mode": {
    "name": "ipython",
    "version": 3
   },
   "file_extension": ".py",
   "mimetype": "text/x-python",
   "name": "python",
   "nbconvert_exporter": "python",
   "pygments_lexer": "ipython3",
   "version": "3.6.8"
  }
 },
 "nbformat": 4,
 "nbformat_minor": 2
}
