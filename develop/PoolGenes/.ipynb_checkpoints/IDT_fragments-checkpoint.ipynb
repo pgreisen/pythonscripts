{
 "cells": [
  {
   "cell_type": "code",
   "execution_count": 1,
   "metadata": {},
   "outputs": [],
   "source": [
    "import numpy as np"
   ]
  },
  {
   "cell_type": "code",
   "execution_count": 2,
   "metadata": {},
   "outputs": [],
   "source": [
    "# the length of the synthesized gene\n",
    "gene_construct_length = 500\n",
    "gene_length = 1500"
   ]
  },
  {
   "cell_type": "code",
   "execution_count": 3,
   "metadata": {},
   "outputs": [],
   "source": [
    "def get_fastafile(fastafile):\n",
    "    fasta = {}\n",
    "    with open(fastafile,'r') as f:\n",
    "        for line in f:\n",
    "            if(line[0] == \">\"):\n",
    "                tmpname = line[1:].strip()\n",
    "                fasta[tmpname] = \"\"\n",
    "            else:\n",
    "                fasta[tmpname] += line.strip()\n",
    "    return fasta"
   ]
  },
  {
   "cell_type": "code",
   "execution_count": 4,
   "metadata": {},
   "outputs": [],
   "source": [
    "def get_min_max_gene_length(fastadictionary):\n",
    "    var_min_max = {}\n",
    "    for key in fastadictionary.keys():\n",
    "        min_max_ = []\n",
    "        for i in key.split('_'):\n",
    "            # convert to DNA\n",
    "            min_max_.append(int(i[1:-1])) \n",
    "        var_min_max[key] = (3*min(min_max_),3*max(min_max_))\n",
    "    return var_min_max"
   ]
  },
  {
   "cell_type": "code",
   "execution_count": 5,
   "metadata": {},
   "outputs": [],
   "source": [
    "def remove_variants(clusters,seqs_to_remove):\n",
    "    keys_ = clusters.keys()\n",
    "    newcluster = clusters.copy()\n",
    "    for seq in seqs_to_remove:\n",
    "        if seq in keys_:\n",
    "            newcluster.pop(seq, None)\n",
    "    print(len(newcluster.keys()), len(clusters.keys()))\n",
    "    return newcluster"
   ]
  },
  {
   "cell_type": "code",
   "execution_count": 6,
   "metadata": {},
   "outputs": [],
   "source": [
    "def get_clusters(gene_length,gene_construct_length,variants_w_min_max):\n",
    "    cluster_of_vars = {}\n",
    "    # Adam loop (but greedy smarter and faster)\n",
    "    for i in range(gene_length):\n",
    "        gene_mn = i\n",
    "        gene_mx = i+gene_construct_length\n",
    "        for var_ in variants_w_min_max:\n",
    "            var_mn = variants_w_min_max[var_][0]\n",
    "            var_mx = variants_w_min_max[var_][1]\n",
    "            if( var_mn >= gene_mn and var_mx <= gene_mx ):\n",
    "                tmpname = \"cluster_\"+str(gene_mn)+\"_\"+str(gene_mx)\n",
    "                if tmpname not in cluster_of_vars.keys():\n",
    "                    cluster_of_vars[tmpname] = []\n",
    "                cluster_of_vars[tmpname].append(var_.strip())\n",
    "    clusters = []\n",
    "    listofTuples = sorted(cluster_of_vars.items() ,  key=lambda x: len (x ))\n",
    "    for elem in listofTuples :\n",
    "        clusters.append( (elem[0] ,elem[1], len(elem[1]))  )\n",
    "    # sort list of clusters:\n",
    "    sorted_by_second = sorted(clusters, key=lambda tup: tup[2],reverse=True)\n",
    "    return sorted_by_second"
   ]
  },
  {
   "cell_type": "code",
   "execution_count": 49,
   "metadata": {},
   "outputs": [
    {
     "name": "stdout",
     "output_type": "stream",
     "text": [
      "#######:  150\n",
      "#######:  250\n",
      "80 94\n",
      "63 80\n",
      "0 63\n"
     ]
    }
   ],
   "source": [
    "# loop over gene size fragment\n",
    "gene_construct_length_list = [150,250, 500, 750,1250]\n",
    "clusters = {}\n",
    "# generates and give you the dictionary\n",
    "fasta_seqs = get_fastafile(\"20190604_synlogics_DNA_library_94_variants.fasta\")\n",
    "# get min/max for initial round of variants\n",
    "min_max = get_min_max_gene_length(fasta_seqs)\n",
    "cluster_size = 10\n",
    "for tmplength in gene_construct_length_list:\n",
    "    index = 0\n",
    "    # get cluster for a gene length\n",
    "    cl_gene_length = get_clusters(gene_length,tmplength,min_max)\n",
    "    ##print(cl_gene_length)\n",
    "    ##print(cl_gene_length[0][2])\n",
    "    ##assert 1 == 0\n",
    "    ## Remove clusters based on size of cluster\n",
    "    if(len(cl_gene_length) != 0 and cl_gene_length[index][2] >= cluster_size ):\n",
    "        # this get the cluster size for \n",
    "        # the first cluster cl_gene_length[index][2]\n",
    "        while( len(cl_gene_length) != 0 and cl_gene_length[index][2] >= cluster_size ):\n",
    "            # Now remove these sequences from the cluster and iterate\n",
    "            # Assign cluster1 to dictionary for the specified length\n",
    "            clusters[cl_gene_length[index][0]] = (cl_gene_length[index][1],cl_gene_length[index][2])\n",
    "            fasta_seqs = remove_variants(fasta_seqs, cl_gene_length[index][1])\n",
    "            min_max = get_min_max_gene_length(fasta_seqs)\n",
    "            cl_gene_length = get_clusters(gene_length,tmplength,min_max)\n",
    "            index += 1\n",
    "        if(index == 2):\n",
    "            break\n",
    "    else:\n",
    "        print(\"#######: \", tmplength)"
   ]
  },
  {
   "cell_type": "code",
   "execution_count": 50,
   "metadata": {},
   "outputs": [
    {
     "name": "stdout",
     "output_type": "stream",
     "text": [
      "{'cluster_832_1332': (['M354H_I332N', 'N386P_M354H_A426P', 'N386P_N438H_A425H', 'N386P_L444M_N337D', 'A433P_L444M_T322Y', 'M354H_A425H_F353Y', 'M354H_T322Y_F353H', 'A426P_A425H_L444M', 'A426P_F353Y_N337D', 'N438H_F353Y_L444M', 'N438H_N337D_I332N', 'F353Y_N337D_N438H', 'M354H_A426P_T322Y_L444M', 'T322Y_N386P_N438H_N337D'], 14), 'cluster_582_1332': (['L199M_N337D', 'N386P_T322Y_N253P', 'A433P_L199M_A426P', 'A433P_N203D_N438H', 'A433P_N337D_N253P', 'L199M_M354H_N203D', 'L199M_F353Y_N253P', 'N203D_A425H_N337D', 'N203D_L444M_I332N', 'N438H_N253P_F353H', 'F353Y_L199M', 'N203D_N337D', 'N438H_N203D_L199M_F353H', 'A433P_L444M_N253P_N386P', 'M354H_N203D_N337D_I332N', 'F353H_A425H_T322Y_N203D', 'F353H_L199M_N253P_N438H'], 17), 'cluster_82_1332': (['N386P_L91D_L199M', 'N386P_N203D_Y61M', 'N386P_L113N_A163P', 'N386P_Y61I_F353Y', 'N386P_L91H_F353H', 'A433P_L91D_M354H', 'A433P_Y61M_A425H', 'A433P_L113N_Y61I', 'A433P_A163P_F353Y', 'A433P_L91H_I332N', 'L91D_A426P_N203D', 'L91D_A425H_A163P', 'L91D_L113N_F353Y', 'L91D_L444M_N253P', 'L91D_N337D_T322Y', 'L91D_F353H_I332N', 'L199M_Y61M_N438H', 'L199M_A425H_Y61I', 'L199M_L113N_L444M', 'L199M_A163P_T322Y', 'M354H_Y61M_L113N', 'M354H_N438H_A163P', 'M354H_Y61I_N337D', 'M354H_L444M_L91H', 'A426P_Y61M_A163P', 'A426P_N438H_L113N', 'A426P_Y61I_N253P', 'N203D_L113N_T322Y', 'N203D_A163P_Y61I', 'N203D_N253P_L91H', 'Y61M_F353Y_T322Y', 'Y61M_N337D_F353H', 'Y61M_N253P_I332N', 'N438H_Y61I_T322Y', 'A425H_T322Y_L91H', 'L113N_N337D_L91H', 'A163P_L444M_F353H', 'L91D_N438H', 'F353H_L91H', 'F353H_N337D_Y61M', 'F353H_N438H_Y61I', 'F353Y_Y61M_N203D', 'F353Y_Y61I_L91D', 'N337D_L91H_Y61I', 'N337D_L199M_L91D', 'Y61M_N438H_L199M', 'L91H_N203D_L199M', 'N438H_N203D_F353Y_L91H', 'L199M_F353H_Y61M_L91D', 'A433P_M354H_F353H_Y61M', 'A433P_A426P_A425H_A163P', 'A433P_T322Y_L91H_L199M', 'A433P_N203D_L113N_N438H', 'M354H_A425H_L91H_N253P', 'M354H_A163P_L199M_N386P', 'F353H_A426P_L91H_N386P', 'F353H_A163P_L444M_L113N', 'Y61M_A426P_L199M_N203D', 'Y61M_A425H_L444M_N438H', 'Y61M_A163P_T322Y_N253P', 'Y61M_L91H_L113N_N337D', 'A426P_N253P_L113N_I332N', 'A163P_L91H_N438H_I332N'], 63)}\n"
     ]
    }
   ],
   "source": [
    "print(clusters)"
   ]
  },
  {
   "cell_type": "code",
   "execution_count": 9,
   "metadata": {},
   "outputs": [
    {
     "name": "stdout",
     "output_type": "stream",
     "text": [
      "94\n",
      "0 94\n"
     ]
    }
   ],
   "source": [
    "clusters = {}\n",
    "# generates and give you the dictionary\n",
    "fasta_seqs = get_fastafile(\"20190604_synlogics_DNA_library_94_variants.fasta\")\n",
    "# get min/max\n",
    "min_max = get_min_max_gene_length(fasta_seqs)\n",
    "# get cluster for a gene length\n",
    "cl_gene_length = get_clusters(gene_length,gene_construct_length,min_max)\n",
    "# Now remove these sequences from the cluster and iterate\n",
    "clusters[cl_gene_length[0][0]] = (cl_gene_length[0][1],cl_gene_length[0][2])\n",
    "## Remove clusters\n",
    "newfasta = remove_variants(fasta_seqs, cl_gene_length[0][1])"
   ]
  },
  {
   "cell_type": "code",
   "execution_count": 8,
   "metadata": {},
   "outputs": [
    {
     "ename": "IndexError",
     "evalue": "list index out of range",
     "output_type": "error",
     "traceback": [
      "\u001b[0;31m---------------------------------------------------------------------------\u001b[0m",
      "\u001b[0;31mIndexError\u001b[0m                                Traceback (most recent call last)",
      "\u001b[0;32m<ipython-input-8-e21123ac24a2>\u001b[0m in \u001b[0;36m<module>\u001b[0;34m\u001b[0m\n\u001b[1;32m      4\u001b[0m \u001b[0;31m##assert 1 == 0\u001b[0m\u001b[0;34m\u001b[0m\u001b[0;34m\u001b[0m\u001b[0;34m\u001b[0m\u001b[0m\n\u001b[1;32m      5\u001b[0m \u001b[0;31m# Now remove these sequences from the cluster and iterate\u001b[0m\u001b[0;34m\u001b[0m\u001b[0;34m\u001b[0m\u001b[0;34m\u001b[0m\u001b[0m\n\u001b[0;32m----> 6\u001b[0;31m \u001b[0mclusters\u001b[0m\u001b[0;34m[\u001b[0m\u001b[0mcl_gene_length\u001b[0m\u001b[0;34m[\u001b[0m\u001b[0;36m0\u001b[0m\u001b[0;34m]\u001b[0m\u001b[0;34m[\u001b[0m\u001b[0;36m0\u001b[0m\u001b[0;34m]\u001b[0m\u001b[0;34m]\u001b[0m \u001b[0;34m=\u001b[0m \u001b[0;34m(\u001b[0m\u001b[0mcl_gene_length\u001b[0m\u001b[0;34m[\u001b[0m\u001b[0;36m0\u001b[0m\u001b[0;34m]\u001b[0m\u001b[0;34m[\u001b[0m\u001b[0;36m1\u001b[0m\u001b[0;34m]\u001b[0m\u001b[0;34m,\u001b[0m\u001b[0mcl_gene_length\u001b[0m\u001b[0;34m[\u001b[0m\u001b[0;36m0\u001b[0m\u001b[0;34m]\u001b[0m\u001b[0;34m[\u001b[0m\u001b[0;36m2\u001b[0m\u001b[0;34m]\u001b[0m\u001b[0;34m)\u001b[0m\u001b[0;34m\u001b[0m\u001b[0;34m\u001b[0m\u001b[0m\n\u001b[0m\u001b[1;32m      7\u001b[0m \u001b[0;31m## Remove clusters\u001b[0m\u001b[0;34m\u001b[0m\u001b[0;34m\u001b[0m\u001b[0;34m\u001b[0m\u001b[0m\n\u001b[1;32m      8\u001b[0m \u001b[0mnewfasta\u001b[0m \u001b[0;34m=\u001b[0m \u001b[0mremove_variants\u001b[0m\u001b[0;34m(\u001b[0m\u001b[0mnewfasta\u001b[0m\u001b[0;34m,\u001b[0m \u001b[0mcl_gene_length\u001b[0m\u001b[0;34m[\u001b[0m\u001b[0;36m0\u001b[0m\u001b[0;34m]\u001b[0m\u001b[0;34m[\u001b[0m\u001b[0;36m1\u001b[0m\u001b[0;34m]\u001b[0m\u001b[0;34m)\u001b[0m\u001b[0;34m\u001b[0m\u001b[0;34m\u001b[0m\u001b[0m\n",
      "\u001b[0;31mIndexError\u001b[0m: list index out of range"
     ]
    }
   ],
   "source": [
    "min_max = get_min_max_gene_length(newfasta)\n",
    "# get cluster for a gene length\n",
    "cl_gene_length = get_clusters(gene_length,gene_construct_length,min_max)\n",
    "##assert 1 == 0\n",
    "# Now remove these sequences from the cluster and iterate\n",
    "clusters[cl_gene_length[0][0]] = (cl_gene_length[0][1],cl_gene_length[0][2])\n",
    "## Remove clusters\n",
    "newfasta = remove_variants(newfasta, cl_gene_length[0][1])"
   ]
  },
  {
   "cell_type": "code",
   "execution_count": null,
   "metadata": {},
   "outputs": [],
   "source": [
    "min_max = get_min_max_gene_length(newfasta)\n",
    "# get cluster for a gene length\n",
    "cl_gene_length = get_clusters(gene_length,gene_construct_length,min_max)\n",
    "##assert 1 == 0\n",
    "# Now remove these sequences from the cluster and iterate\n",
    "clusters[cl_gene_length[0][0]] = (cl_gene_length[0][1],cl_gene_length[0][2])\n",
    "## Remove clusters\n",
    "newfasta = remove_variants(newfasta, cl_gene_length[0][1])"
   ]
  },
  {
   "cell_type": "code",
   "execution_count": null,
   "metadata": {},
   "outputs": [],
   "source": [
    "min_max = get_min_max_gene_length(newfasta)\n",
    "# get cluster for a gene length\n",
    "cl_gene_length = get_clusters(gene_length,gene_construct_length,min_max)\n",
    "##assert 1 == 0\n",
    "# Now remove these sequences from the cluster and iterate\n",
    "clusters[cl_gene_length[0][0]] = (cl_gene_length[0][1],cl_gene_length[0][2])\n",
    "## Remove clusters\n",
    "newfasta = remove_variants(newfasta, cl_gene_length[0][1])"
   ]
  },
  {
   "cell_type": "code",
   "execution_count": null,
   "metadata": {},
   "outputs": [],
   "source": [
    "clusters = []\n",
    "listofTuples = sorted(cluster_of_vars.items() ,  key=lambda x: len (x ))\n",
    "for elem in listofTuples :\n",
    "    clusters.append( (elem[0] ,elem[1], len(elem[1]))  )\n",
    "    \n",
    "# sort list of clusters:\n",
    "sorted_by_second = sorted(clusters, key=lambda tup: tup[2],reverse=True)\n",
    "idt_order = []\n",
    "idt_order.append(sorted_by_second[0])\n",
    "\n"
   ]
  },
  {
   "cell_type": "code",
   "execution_count": null,
   "metadata": {},
   "outputs": [],
   "source": []
  },
  {
   "cell_type": "code",
   "execution_count": null,
   "metadata": {},
   "outputs": [],
   "source": []
  },
  {
   "cell_type": "code",
   "execution_count": null,
   "metadata": {},
   "outputs": [],
   "source": [
    "cluster_of_vars = {}\n",
    "# Adam loop (but greedy smarter and faster)\n",
    "for i in range(gene_length):\n",
    "    gene_mn = i\n",
    "    gene_mx = i+gene_construct_length\n",
    "    for var_ in var_min_max:\n",
    "        var_mn = var_min_max[var_][0]\n",
    "        var_mx = var_min_max[var_][1]\n",
    "        if( var_mn >= gene_mn and var_mx <= gene_mx ):\n",
    "            tmpname = \"cluster_\"+str(gene_mn)+\"_\"+str(gene_mx)\n",
    "            # print(tmpname, var_mn, var_mx,var_mn <= gene_mn, var_mx <= gene_mx )\n",
    "            if tmpname not in cluster_of_vars.keys():\n",
    "                cluster_of_vars[tmpname] = []\n",
    "            cluster_of_vars[tmpname].append(var_.strip())"
   ]
  },
  {
   "cell_type": "code",
   "execution_count": null,
   "metadata": {},
   "outputs": [],
   "source": [
    "var_min_max = get_min_max_gene_length(\"20190604_synlogics_DNA_library_94_variants.fasta\")"
   ]
  },
  {
   "cell_type": "code",
   "execution_count": null,
   "metadata": {},
   "outputs": [],
   "source": [
    "cluster_of_vars = {}\n",
    "# Adam loop (but greedy smarter and faster)\n",
    "for i in range(gene_length):\n",
    "    gene_mn = i\n",
    "    gene_mx = i+gene_construct_length\n",
    "    for var_ in var_min_max:\n",
    "        var_mn = var_min_max[var_][0]\n",
    "        var_mx = var_min_max[var_][1]\n",
    "        if( var_mn >= gene_mn and var_mx <= gene_mx ):\n",
    "            tmpname = \"cluster_\"+str(gene_mn)+\"_\"+str(gene_mx)\n",
    "            # print(tmpname, var_mn, var_mx,var_mn <= gene_mn, var_mx <= gene_mx )\n",
    "            if tmpname not in cluster_of_vars.keys():\n",
    "                cluster_of_vars[tmpname] = []\n",
    "            cluster_of_vars[tmpname].append(var_.strip())"
   ]
  },
  {
   "cell_type": "code",
   "execution_count": null,
   "metadata": {},
   "outputs": [],
   "source": [
    "clusters = []\n",
    "listofTuples = sorted(cluster_of_vars.items() ,  key=lambda x: len (x ))\n",
    "for elem in listofTuples :\n",
    "    clusters.append( (elem[0] ,elem[1], len(elem[1]))  )"
   ]
  },
  {
   "cell_type": "code",
   "execution_count": null,
   "metadata": {},
   "outputs": [],
   "source": [
    "# sort list of clusters:\n",
    "sorted_by_second = sorted(clusters, key=lambda tup: tup[2],reverse=True)"
   ]
  },
  {
   "cell_type": "code",
   "execution_count": null,
   "metadata": {},
   "outputs": [],
   "source": [
    "idt_order = []\n",
    "idt_order.append(sorted_by_second[0])\n",
    "\n",
    "\n",
    "\n"
   ]
  },
  {
   "cell_type": "code",
   "execution_count": null,
   "metadata": {},
   "outputs": [],
   "source": []
  }
 ],
 "metadata": {
  "kernelspec": {
   "display_name": "Python 3",
   "language": "python",
   "name": "python3"
  },
  "language_info": {
   "codemirror_mode": {
    "name": "ipython",
    "version": 3
   },
   "file_extension": ".py",
   "mimetype": "text/x-python",
   "name": "python",
   "nbconvert_exporter": "python",
   "pygments_lexer": "ipython3",
   "version": "3.6.8"
  }
 },
 "nbformat": 4,
 "nbformat_minor": 2
}
