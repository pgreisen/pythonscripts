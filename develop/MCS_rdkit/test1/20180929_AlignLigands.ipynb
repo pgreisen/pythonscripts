{
 "cells": [
  {
   "cell_type": "code",
   "execution_count": 5,
   "metadata": {},
   "outputs": [],
   "source": [
    "from rdkit import Chem\n",
    "from rdkit.Chem import PandasTools"
   ]
  },
  {
   "cell_type": "code",
   "execution_count": 6,
   "metadata": {},
   "outputs": [],
   "source": [
    "SDFFile = \"Structure3D_CID_6057.sdf\"\n",
    "BRDLigs = PandasTools.LoadSDF(SDFFile)"
   ]
  },
  {
   "cell_type": "code",
   "execution_count": 10,
   "metadata": {},
   "outputs": [
    {
     "name": "stdout",
     "output_type": "stream",
     "text": [
      "Structure3D_CID_6057.sdf Untitled.ipynb\r\n",
      "Structure3D_CID_6305.sdf mcsAlign.py\r\n"
     ]
    }
   ],
   "source": [
    "!ls"
   ]
  },
  {
   "cell_type": "markdown",
   "metadata": {},
   "source": [
    "BRDLigs.append(PandasTools.LoadSDF('Structure3D_CID_6305.sdf') )"
   ]
  },
  {
   "cell_type": "code",
   "execution_count": 17,
   "metadata": {},
   "outputs": [],
   "source": [
    "tyrmol = BRDLigs[\"ROMol\"][0]\n",
    "#trpmol = BRDLigs[\"ROMol\"][1]"
   ]
  },
  {
   "cell_type": "code",
   "execution_count": 19,
   "metadata": {},
   "outputs": [
    {
     "name": "stdout",
     "output_type": "stream",
     "text": [
      "<class 'rdkit.Chem.rdchem.Mol'>\n"
     ]
    }
   ],
   "source": [
    "print(type(tyrmol))"
   ]
  },
  {
   "cell_type": "code",
   "execution_count": 41,
   "metadata": {},
   "outputs": [],
   "source": [
    "from rdkit.Chem.rdFMCS import FindMCS\n",
    "from rdkit import Chem\n",
    "from rdkit.Chem import rdMolAlign, rdShapeHelpers"
   ]
  },
  {
   "cell_type": "code",
   "execution_count": 26,
   "metadata": {},
   "outputs": [],
   "source": [
    "#m_mol = Chem.MolFromMolBlock(tyrmol, False, False)\n",
    "file = open(\"Structure3D_CID_6057.sdf\",'r')\n",
    "tyr_mol = Chem.MolFromMolBlock(file.read())\n",
    "\n",
    "file = open(\"Structure3D_CID_6305.sdf\",'r')\n",
    "trp_mol = Chem.MolFromMolBlock(file.read())"
   ]
  },
  {
   "cell_type": "code",
   "execution_count": 29,
   "metadata": {},
   "outputs": [],
   "source": [
    "mcs = FindMCS([tyr_mol, trp_mol])"
   ]
  },
  {
   "cell_type": "code",
   "execution_count": 30,
   "metadata": {},
   "outputs": [],
   "source": [
    "# backwards compatibility\n",
    "if hasattr(mcs, 'completed'):\n",
    "    mcs.canceled = not mcs.completed\n",
    "    mcs.smartsString = mcs.smarts\n",
    "\n",
    "if mcs.canceled:\n",
    "    raise CmdException('MCS search has timed out')"
   ]
  },
  {
   "cell_type": "code",
   "execution_count": 32,
   "metadata": {},
   "outputs": [],
   "source": [
    "# atom indices of match\n",
    "patt  = Chem.MolFromSmarts(mcs.smartsString)\n",
    "m_indices = tyr_mol.GetSubstructMatch(patt)\n",
    "t_indices = trp_mol.GetSubstructMatch(patt)"
   ]
  },
  {
   "cell_type": "code",
   "execution_count": 33,
   "metadata": {},
   "outputs": [
    {
     "data": {
      "text/plain": [
       "(0, 9, 2, 5, 3, 4, 6, 7, 10, 12, 11, 8)"
      ]
     },
     "execution_count": 33,
     "metadata": {},
     "output_type": "execute_result"
    }
   ],
   "source": [
    "m_indices"
   ]
  },
  {
   "cell_type": "code",
   "execution_count": 34,
   "metadata": {},
   "outputs": [
    {
     "data": {
      "text/plain": [
       "(0, 12, 1, 7, 3, 5, 4, 6, 8, 11, 14, 9)"
      ]
     },
     "execution_count": 34,
     "metadata": {},
     "output_type": "execute_result"
    }
   ],
   "source": [
    "t_indices"
   ]
  },
  {
   "cell_type": "code",
   "execution_count": 35,
   "metadata": {},
   "outputs": [],
   "source": [
    "from rdkit.Chem import rdMolAlign"
   ]
  },
  {
   "cell_type": "code",
   "execution_count": 53,
   "metadata": {},
   "outputs": [
    {
     "data": {
      "text/plain": [
       "0.303055488529676"
      ]
     },
     "execution_count": 53,
     "metadata": {},
     "output_type": "execute_result"
    }
   ],
   "source": [
    "test = rdMolAlign.GetO3A(trp_mol,tyr_mol)\n",
    "test.Align()"
   ]
  },
  {
   "cell_type": "code",
   "execution_count": 54,
   "metadata": {},
   "outputs": [
    {
     "data": {
      "text/plain": [
       "<bound method O3A.Score of <rdkit.Chem.rdMolAlign.O3A object at 0x11e15c670>>"
      ]
     },
     "execution_count": 54,
     "metadata": {},
     "output_type": "execute_result"
    }
   ],
   "source": [
    "test.Score"
   ]
  },
  {
   "cell_type": "code",
   "execution_count": 55,
   "metadata": {},
   "outputs": [
    {
     "data": {
      "text/plain": [
       "0.37092157985117347"
      ]
     },
     "execution_count": 55,
     "metadata": {},
     "output_type": "execute_result"
    }
   ],
   "source": [
    "rdShapeHelpers.ShapeTanimotoDist(tyr_mol, trp_mol)"
   ]
  },
  {
   "cell_type": "code",
   "execution_count": 56,
   "metadata": {},
   "outputs": [],
   "source": [
    "score = test.Score()"
   ]
  },
  {
   "cell_type": "code",
   "execution_count": 57,
   "metadata": {},
   "outputs": [
    {
     "name": "stdout",
     "output_type": "stream",
     "text": [
      "87.8746011098\n"
     ]
    }
   ],
   "source": [
    "print score\n"
   ]
  },
  {
   "cell_type": "code",
   "execution_count": 58,
   "metadata": {},
   "outputs": [],
   "source": [
    "#from Chem.rdmolfiles import SDWriter\n",
    "writer = Chem.rdmolfiles.MolToPDBFile(trp_mol,'out.pdb')"
   ]
  },
  {
   "cell_type": "code",
   "execution_count": null,
   "metadata": {},
   "outputs": [],
   "source": []
  }
 ],
 "metadata": {
  "kernelspec": {
   "display_name": "Python 2",
   "language": "python",
   "name": "python2"
  },
  "language_info": {
   "codemirror_mode": {
    "name": "ipython",
    "version": 2
   },
   "file_extension": ".py",
   "mimetype": "text/x-python",
   "name": "python",
   "nbconvert_exporter": "python",
   "pygments_lexer": "ipython2",
   "version": "2.7.15"
  }
 },
 "nbformat": 4,
 "nbformat_minor": 2
}
