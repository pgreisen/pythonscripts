{
 "cells": [
  {
   "cell_type": "markdown",
   "metadata": {},
   "source": [
    "# Setup and run AWS instances"
   ]
  },
  {
   "cell_type": "code",
   "execution_count": 1,
   "metadata": {},
   "outputs": [],
   "source": [
    "import boto3\n",
    "import pandas as pd\n",
    "import sys"
   ]
  },
  {
   "cell_type": "code",
   "execution_count": 18,
   "metadata": {},
   "outputs": [],
   "source": [
    "# see what is the spot prices in regions\n",
    "ec2 = boto3.client('ec2')\n",
    "response = ec2.describe_regions()"
   ]
  },
  {
   "cell_type": "code",
   "execution_count": 19,
   "metadata": {},
   "outputs": [
    {
     "name": "stdout",
     "output_type": "stream",
     "text": [
      "{u'Regions': [{u'Endpoint': 'ec2.ap-south-1.amazonaws.com', u'RegionName': 'ap-south-1'}, {u'Endpoint': 'ec2.eu-west-2.amazonaws.com', u'RegionName': 'eu-west-2'}, {u'Endpoint': 'ec2.eu-west-1.amazonaws.com', u'RegionName': 'eu-west-1'}, {u'Endpoint': 'ec2.ap-northeast-2.amazonaws.com', u'RegionName': 'ap-northeast-2'}, {u'Endpoint': 'ec2.ap-northeast-1.amazonaws.com', u'RegionName': 'ap-northeast-1'}, {u'Endpoint': 'ec2.sa-east-1.amazonaws.com', u'RegionName': 'sa-east-1'}, {u'Endpoint': 'ec2.ca-central-1.amazonaws.com', u'RegionName': 'ca-central-1'}, {u'Endpoint': 'ec2.ap-southeast-1.amazonaws.com', u'RegionName': 'ap-southeast-1'}, {u'Endpoint': 'ec2.ap-southeast-2.amazonaws.com', u'RegionName': 'ap-southeast-2'}, {u'Endpoint': 'ec2.eu-central-1.amazonaws.com', u'RegionName': 'eu-central-1'}, {u'Endpoint': 'ec2.us-east-1.amazonaws.com', u'RegionName': 'us-east-1'}, {u'Endpoint': 'ec2.us-east-2.amazonaws.com', u'RegionName': 'us-east-2'}, {u'Endpoint': 'ec2.us-west-1.amazonaws.com', u'RegionName': 'us-west-1'}, {u'Endpoint': 'ec2.us-west-2.amazonaws.com', u'RegionName': 'us-west-2'}], 'ResponseMetadata': {'RetryAttempts': 0, 'HTTPStatusCode': 200, 'RequestId': '8eef6a06-a6d2-43fe-9380-b9f8454dc425', 'HTTPHeaders': {'transfer-encoding': 'chunked', 'vary': 'Accept-Encoding', 'server': 'AmazonEC2', 'content-type': 'text/xml;charset=UTF-8', 'date': 'Mon, 06 Nov 2017 20:33:07 GMT'}}}\n"
     ]
    }
   ],
   "source": []
  },
  {
   "cell_type": "code",
   "execution_count": 34,
   "metadata": {},
   "outputs": [
    {
     "name": "stdout",
     "output_type": "stream",
     "text": [
      "Key already exists ec2.KeyPair(name='6TestKey')\n"
     ]
    }
   ],
   "source": [
    "# create keys\n",
    "# need to set these from the above information\n",
    "# works but a time off set between file\n",
    "# us-east-2c\n",
    "\n",
    "rg_name = 'us-east-2'\n",
    "av_zone = 'us-east-2c'\n",
    "\n",
    "subnet = 'subnet-0b8ec121'\n",
    "\n",
    "kname = '6TestKey'\n",
    "ec2 = boto3.resource('ec2', region_name=rg_name)\n",
    "pth= '/Users/pgreisen/AWS/tmp_keys/'\n",
    "projectname_key = pth+kname+'.pem'\n",
    "\n",
    "\n",
    "try:\n",
    "    key_pair = ec2.create_key_pair(KeyName=kname)\n",
    "except:\n",
    "    print \"Key already exists\",key_pair\n",
    "    \n",
    "KeyPairOut = str(key_pair.key_material)\n",
    "\n",
    "# dump to file\n",
    "with open(projectname_key,'w') as f:\n",
    "    f.write(KeyPairOut)"
   ]
  },
  {
   "cell_type": "code",
   "execution_count": 35,
   "metadata": {},
   "outputs": [],
   "source": [
    "ImageId='ami-c7ee5ca8'"
   ]
  },
  {
   "cell_type": "code",
   "execution_count": 36,
   "metadata": {},
   "outputs": [
    {
     "name": "stdout",
     "output_type": "stream",
     "text": [
      "[]\n"
     ]
    }
   ],
   "source": [
    "filters = [{'Name':'tag:Name', 'Values':['VPN*']}]\n",
    "vpcs = list(ec2.vpcs.filter(Filters=filters))\n",
    "print vpcs"
   ]
  },
  {
   "cell_type": "code",
   "execution_count": 37,
   "metadata": {
    "collapsed": true
   },
   "outputs": [],
   "source": [
    "import boto.vpc\n",
    "import time\n",
    "REGION_NAME = rg_name\n",
    "AMI_ID = ImageId  # Amazon Linux AMI  \n",
    "conn = boto.vpc.connect_to_region(REGION_NAME)"
   ]
  },
  {
   "cell_type": "code",
   "execution_count": 33,
   "metadata": {},
   "outputs": [
    {
     "name": "stdout",
     "output_type": "stream",
     "text": [
      "<bound method ec2.vpcsCollectionManager.all of ec2.vpcsCollectionManager(ec2.ServiceResource(), ec2.Vpc)>\n",
      "<bound method ec2.vpcsCollectionManager.limit of ec2.vpcsCollectionManager(ec2.ServiceResource(), ec2.Vpc)>\n",
      "<bound method ec2.vpcsCollectionManager.filter of ec2.vpcsCollectionManager(ec2.ServiceResource(), ec2.Vpc)>\n",
      "<bound method VPCConnection.describe_vpc_attribute of VPCConnection:ec2.us-east-2.amazonaws.com>\n"
     ]
    }
   ],
   "source": [
    "# List VPCs\n",
    "filters = [{'Name':'tag:Name', 'Values':['VPN*']}]\n",
    "vpcs = list(ec2.vpcs.filter(Filters=filters))\n",
    "\n",
    "print ec2.vpcs.all\n",
    "print ec2.vpcs.limit\n",
    "print ec2.vpcs.filter\n",
    "\n",
    "print conn.describe_vpc_attribute\n",
    "\n",
    "for vpc in vpcs:\n",
    "    response = conn.describe_vpcs(\n",
    "        VpcIds=[\n",
    "            vpc.id,\n",
    "        ]\n",
    "    )\n",
    "    print(json.dumps(response, sort_keys=True, indent=4))"
   ]
  },
  {
   "cell_type": "code",
   "execution_count": 38,
   "metadata": {},
   "outputs": [
    {
     "ename": "EC2ResponseError",
     "evalue": "EC2ResponseError: 400 Bad Request\n<?xml version=\"1.0\" encoding=\"UTF-8\"?>\n<Response><Errors><Error><Code>InvalidSubnetID.NotFound</Code><Message>The subnet ID 'Subnet:subnet-1b2dce73' does not exist</Message></Error></Errors><RequestID>627f4e31-f98d-4286-b3d7-725e1819d255</RequestID></Response>",
     "output_type": "error",
     "traceback": [
      "\u001b[0;31m---------------------------------------------------------------------------\u001b[0m",
      "\u001b[0;31mEC2ResponseError\u001b[0m                          Traceback (most recent call last)",
      "\u001b[0;32m<ipython-input-38-f1bce4eab6b9>\u001b[0m in \u001b[0;36m<module>\u001b[0;34m()\u001b[0m\n\u001b[1;32m     28\u001b[0m \u001b[0;34m\u001b[0m\u001b[0m\n\u001b[1;32m     29\u001b[0m \u001b[0;31m# Associate Route Table with our subnet\u001b[0m\u001b[0;34m\u001b[0m\u001b[0;34m\u001b[0m\u001b[0m\n\u001b[0;32m---> 30\u001b[0;31m \u001b[0mconn\u001b[0m\u001b[0;34m.\u001b[0m\u001b[0massociate_route_table\u001b[0m\u001b[0;34m(\u001b[0m\u001b[0mroute_table\u001b[0m\u001b[0;34m.\u001b[0m\u001b[0mid\u001b[0m\u001b[0;34m,\u001b[0m \u001b[0msubnet\u001b[0m\u001b[0;34m)\u001b[0m \u001b[0;31m# subnet.id)\u001b[0m\u001b[0;34m\u001b[0m\u001b[0m\n\u001b[0m\u001b[1;32m     31\u001b[0m \u001b[0;34m\u001b[0m\u001b[0m\n\u001b[1;32m     32\u001b[0m \u001b[0;31m# Create a Route from our Internet Gateway to the internet\u001b[0m\u001b[0;34m\u001b[0m\u001b[0;34m\u001b[0m\u001b[0m\n",
      "\u001b[0;32m/Users/pgreisen/anaconda2/lib/python2.7/site-packages/boto/vpc/__init__.pyc\u001b[0m in \u001b[0;36massociate_route_table\u001b[0;34m(self, route_table_id, subnet_id, dry_run)\u001b[0m\n\u001b[1;32m    248\u001b[0m         \u001b[0;32mif\u001b[0m \u001b[0mdry_run\u001b[0m\u001b[0;34m:\u001b[0m\u001b[0;34m\u001b[0m\u001b[0m\n\u001b[1;32m    249\u001b[0m             \u001b[0mparams\u001b[0m\u001b[0;34m[\u001b[0m\u001b[0;34m'DryRun'\u001b[0m\u001b[0;34m]\u001b[0m \u001b[0;34m=\u001b[0m \u001b[0;34m'true'\u001b[0m\u001b[0;34m\u001b[0m\u001b[0m\n\u001b[0;32m--> 250\u001b[0;31m         \u001b[0mresult\u001b[0m \u001b[0;34m=\u001b[0m \u001b[0mself\u001b[0m\u001b[0;34m.\u001b[0m\u001b[0mget_object\u001b[0m\u001b[0;34m(\u001b[0m\u001b[0;34m'AssociateRouteTable'\u001b[0m\u001b[0;34m,\u001b[0m \u001b[0mparams\u001b[0m\u001b[0;34m,\u001b[0m \u001b[0mResultSet\u001b[0m\u001b[0;34m)\u001b[0m\u001b[0;34m\u001b[0m\u001b[0m\n\u001b[0m\u001b[1;32m    251\u001b[0m         \u001b[0;32mreturn\u001b[0m \u001b[0mresult\u001b[0m\u001b[0;34m.\u001b[0m\u001b[0massociationId\u001b[0m\u001b[0;34m\u001b[0m\u001b[0m\n\u001b[1;32m    252\u001b[0m \u001b[0;34m\u001b[0m\u001b[0m\n",
      "\u001b[0;32m/Users/pgreisen/anaconda2/lib/python2.7/site-packages/boto/connection.pyc\u001b[0m in \u001b[0;36mget_object\u001b[0;34m(self, action, params, cls, path, parent, verb)\u001b[0m\n\u001b[1;32m   1206\u001b[0m             \u001b[0mboto\u001b[0m\u001b[0;34m.\u001b[0m\u001b[0mlog\u001b[0m\u001b[0;34m.\u001b[0m\u001b[0merror\u001b[0m\u001b[0;34m(\u001b[0m\u001b[0;34m'%s %s'\u001b[0m \u001b[0;34m%\u001b[0m \u001b[0;34m(\u001b[0m\u001b[0mresponse\u001b[0m\u001b[0;34m.\u001b[0m\u001b[0mstatus\u001b[0m\u001b[0;34m,\u001b[0m \u001b[0mresponse\u001b[0m\u001b[0;34m.\u001b[0m\u001b[0mreason\u001b[0m\u001b[0;34m)\u001b[0m\u001b[0;34m)\u001b[0m\u001b[0;34m\u001b[0m\u001b[0m\n\u001b[1;32m   1207\u001b[0m             \u001b[0mboto\u001b[0m\u001b[0;34m.\u001b[0m\u001b[0mlog\u001b[0m\u001b[0;34m.\u001b[0m\u001b[0merror\u001b[0m\u001b[0;34m(\u001b[0m\u001b[0;34m'%s'\u001b[0m \u001b[0;34m%\u001b[0m \u001b[0mbody\u001b[0m\u001b[0;34m)\u001b[0m\u001b[0;34m\u001b[0m\u001b[0m\n\u001b[0;32m-> 1208\u001b[0;31m             \u001b[0;32mraise\u001b[0m \u001b[0mself\u001b[0m\u001b[0;34m.\u001b[0m\u001b[0mResponseError\u001b[0m\u001b[0;34m(\u001b[0m\u001b[0mresponse\u001b[0m\u001b[0;34m.\u001b[0m\u001b[0mstatus\u001b[0m\u001b[0;34m,\u001b[0m \u001b[0mresponse\u001b[0m\u001b[0;34m.\u001b[0m\u001b[0mreason\u001b[0m\u001b[0;34m,\u001b[0m \u001b[0mbody\u001b[0m\u001b[0;34m)\u001b[0m\u001b[0;34m\u001b[0m\u001b[0m\n\u001b[0m\u001b[1;32m   1209\u001b[0m \u001b[0;34m\u001b[0m\u001b[0m\n\u001b[1;32m   1210\u001b[0m     \u001b[0;32mdef\u001b[0m \u001b[0mget_status\u001b[0m\u001b[0;34m(\u001b[0m\u001b[0mself\u001b[0m\u001b[0;34m,\u001b[0m \u001b[0maction\u001b[0m\u001b[0;34m,\u001b[0m \u001b[0mparams\u001b[0m\u001b[0;34m,\u001b[0m \u001b[0mpath\u001b[0m\u001b[0;34m=\u001b[0m\u001b[0;34m'/'\u001b[0m\u001b[0;34m,\u001b[0m \u001b[0mparent\u001b[0m\u001b[0;34m=\u001b[0m\u001b[0mNone\u001b[0m\u001b[0;34m,\u001b[0m \u001b[0mverb\u001b[0m\u001b[0;34m=\u001b[0m\u001b[0;34m'GET'\u001b[0m\u001b[0;34m)\u001b[0m\u001b[0;34m:\u001b[0m\u001b[0;34m\u001b[0m\u001b[0m\n",
      "\u001b[0;31mEC2ResponseError\u001b[0m: EC2ResponseError: 400 Bad Request\n<?xml version=\"1.0\" encoding=\"UTF-8\"?>\n<Response><Errors><Error><Code>InvalidSubnetID.NotFound</Code><Message>The subnet ID 'Subnet:subnet-1b2dce73' does not exist</Message></Error></Errors><RequestID>627f4e31-f98d-4286-b3d7-725e1819d255</RequestID></Response>"
     ]
    }
   ],
   "source": [
    "import boto.vpc\n",
    "import time\n",
    "\n",
    "REGION_NAME = rg_name\n",
    "AMI_ID = ImageId  # Amazon Linux AMI  \n",
    "  \n",
    "conn = boto.vpc.connect_to_region(REGION_NAME)\n",
    "\n",
    "\n",
    "# Create a VPC\n",
    "vpc = conn.create_vpc('10.0.0.0/16')\n",
    "  \n",
    "# Configure the VPC to support DNS resolution and hostname assignment\n",
    "conn.modify_vpc_attribute(vpc.id, enable_dns_support=True)\n",
    "conn.modify_vpc_attribute(vpc.id, enable_dns_hostnames=True)\n",
    "  \n",
    "# Create an Internet Gateway\n",
    "gateway = conn.create_internet_gateway()\n",
    "  \n",
    "# Attach the Internet Gateway to our VPC\n",
    "conn.attach_internet_gateway(gateway.id, vpc.id)\n",
    "  \n",
    "# Create a Route Table\n",
    "route_table = conn.create_route_table(vpc.id)\n",
    "  \n",
    "# Create a size /16 subnet\n",
    "subnet = conn.create_subnet(vpc.id, '10.0.0.0/24')\n",
    "  \n",
    "# Associate Route Table with our subnet\n",
    "conn.associate_route_table(route_table.id, subnet) # subnet.id)\n",
    "  \n",
    "# Create a Route from our Internet Gateway to the internet\n",
    "route = conn.create_route(route_table.id, '0.0.0.0/0', gateway.id)\n",
    "  \n",
    "# Create a new VPC security group\n",
    "sg = conn.create_security_group('test',\n",
    "                                'A test',\n",
    "                                vpc.id)\n",
    "\n",
    "# Authorize access to port 22 from anywhere\n",
    "sg.authorize(ip_protocol='tcp', from_port=22, to_port=22, cidr_ip='0.0.0.0/0')"
   ]
  },
  {
   "cell_type": "code",
   "execution_count": 28,
   "metadata": {},
   "outputs": [
    {
     "name": "stdout",
     "output_type": "stream",
     "text": [
      "igw-4e89c127\n"
     ]
    }
   ],
   "source": [
    "print gateway.id"
   ]
  },
  {
   "cell_type": "code",
   "execution_count": 29,
   "metadata": {},
   "outputs": [
    {
     "ename": "ClientError",
     "evalue": "An error occurred (InvalidParameterValue) when calling the RunInstances operation: Value (us-east-2c) for parameter availabilityZone is invalid. Subnet 'subnet-20658548' is in the availability zone us-east-2a",
     "output_type": "error",
     "traceback": [
      "\u001b[0;31m---------------------------------------------------------------------------\u001b[0m",
      "\u001b[0;31mClientError\u001b[0m                               Traceback (most recent call last)",
      "\u001b[0;32m<ipython-input-29-0d934db43869>\u001b[0m in \u001b[0;36m<module>\u001b[0;34m()\u001b[0m\n\u001b[1;32m     15\u001b[0m     \u001b[0mSecurityGroupIds\u001b[0m\u001b[0;34m=\u001b[0m\u001b[0;34m[\u001b[0m\u001b[0msg\u001b[0m\u001b[0;34m.\u001b[0m\u001b[0mid\u001b[0m\u001b[0;34m]\u001b[0m\u001b[0;34m,\u001b[0m\u001b[0;34m\u001b[0m\u001b[0m\n\u001b[1;32m     16\u001b[0m     \u001b[0mSubnetId\u001b[0m\u001b[0;34m=\u001b[0m\u001b[0msubnet\u001b[0m\u001b[0;34m.\u001b[0m\u001b[0mid\u001b[0m\u001b[0;34m,\u001b[0m\u001b[0;34m\u001b[0m\u001b[0m\n\u001b[0;32m---> 17\u001b[0;31m     InstanceType='t2.nano')\n\u001b[0m\u001b[1;32m     18\u001b[0m \u001b[0;32mprint\u001b[0m \u001b[0minstance\u001b[0m\u001b[0;34m[\u001b[0m\u001b[0;36m0\u001b[0m\u001b[0;34m]\u001b[0m\u001b[0;34m.\u001b[0m\u001b[0mid\u001b[0m\u001b[0;34m\u001b[0m\u001b[0m\n",
      "\u001b[0;32m/Users/pgreisen/anaconda2/lib/python2.7/site-packages/boto3/resources/factory.pyc\u001b[0m in \u001b[0;36mdo_action\u001b[0;34m(self, *args, **kwargs)\u001b[0m\n\u001b[1;32m    518\u001b[0m             \u001b[0;31m# instance via ``self``.\u001b[0m\u001b[0;34m\u001b[0m\u001b[0;34m\u001b[0m\u001b[0m\n\u001b[1;32m    519\u001b[0m             \u001b[0;32mdef\u001b[0m \u001b[0mdo_action\u001b[0m\u001b[0;34m(\u001b[0m\u001b[0mself\u001b[0m\u001b[0;34m,\u001b[0m \u001b[0;34m*\u001b[0m\u001b[0margs\u001b[0m\u001b[0;34m,\u001b[0m \u001b[0;34m**\u001b[0m\u001b[0mkwargs\u001b[0m\u001b[0;34m)\u001b[0m\u001b[0;34m:\u001b[0m\u001b[0;34m\u001b[0m\u001b[0m\n\u001b[0;32m--> 520\u001b[0;31m                 \u001b[0mresponse\u001b[0m \u001b[0;34m=\u001b[0m \u001b[0maction\u001b[0m\u001b[0;34m(\u001b[0m\u001b[0mself\u001b[0m\u001b[0;34m,\u001b[0m \u001b[0;34m*\u001b[0m\u001b[0margs\u001b[0m\u001b[0;34m,\u001b[0m \u001b[0;34m**\u001b[0m\u001b[0mkwargs\u001b[0m\u001b[0;34m)\u001b[0m\u001b[0;34m\u001b[0m\u001b[0m\n\u001b[0m\u001b[1;32m    521\u001b[0m \u001b[0;34m\u001b[0m\u001b[0m\n\u001b[1;32m    522\u001b[0m                 \u001b[0;32mif\u001b[0m \u001b[0mhasattr\u001b[0m\u001b[0;34m(\u001b[0m\u001b[0mself\u001b[0m\u001b[0;34m,\u001b[0m \u001b[0;34m'load'\u001b[0m\u001b[0;34m)\u001b[0m\u001b[0;34m:\u001b[0m\u001b[0;34m\u001b[0m\u001b[0m\n",
      "\u001b[0;32m/Users/pgreisen/anaconda2/lib/python2.7/site-packages/boto3/resources/action.pyc\u001b[0m in \u001b[0;36m__call__\u001b[0;34m(self, parent, *args, **kwargs)\u001b[0m\n\u001b[1;32m     81\u001b[0m                     operation_name, params)\n\u001b[1;32m     82\u001b[0m \u001b[0;34m\u001b[0m\u001b[0m\n\u001b[0;32m---> 83\u001b[0;31m         \u001b[0mresponse\u001b[0m \u001b[0;34m=\u001b[0m \u001b[0mgetattr\u001b[0m\u001b[0;34m(\u001b[0m\u001b[0mparent\u001b[0m\u001b[0;34m.\u001b[0m\u001b[0mmeta\u001b[0m\u001b[0;34m.\u001b[0m\u001b[0mclient\u001b[0m\u001b[0;34m,\u001b[0m \u001b[0moperation_name\u001b[0m\u001b[0;34m)\u001b[0m\u001b[0;34m(\u001b[0m\u001b[0;34m**\u001b[0m\u001b[0mparams\u001b[0m\u001b[0;34m)\u001b[0m\u001b[0;34m\u001b[0m\u001b[0m\n\u001b[0m\u001b[1;32m     84\u001b[0m \u001b[0;34m\u001b[0m\u001b[0m\n\u001b[1;32m     85\u001b[0m         \u001b[0mlogger\u001b[0m\u001b[0;34m.\u001b[0m\u001b[0mdebug\u001b[0m\u001b[0;34m(\u001b[0m\u001b[0;34m'Response: %r'\u001b[0m\u001b[0;34m,\u001b[0m \u001b[0mresponse\u001b[0m\u001b[0;34m)\u001b[0m\u001b[0;34m\u001b[0m\u001b[0m\n",
      "\u001b[0;32m/Users/pgreisen/anaconda2/lib/python2.7/site-packages/botocore/client.pyc\u001b[0m in \u001b[0;36m_api_call\u001b[0;34m(self, *args, **kwargs)\u001b[0m\n\u001b[1;32m    310\u001b[0m                     \"%s() only accepts keyword arguments.\" % py_operation_name)\n\u001b[1;32m    311\u001b[0m             \u001b[0;31m# The \"self\" in this scope is referring to the BaseClient.\u001b[0m\u001b[0;34m\u001b[0m\u001b[0;34m\u001b[0m\u001b[0m\n\u001b[0;32m--> 312\u001b[0;31m             \u001b[0;32mreturn\u001b[0m \u001b[0mself\u001b[0m\u001b[0;34m.\u001b[0m\u001b[0m_make_api_call\u001b[0m\u001b[0;34m(\u001b[0m\u001b[0moperation_name\u001b[0m\u001b[0;34m,\u001b[0m \u001b[0mkwargs\u001b[0m\u001b[0;34m)\u001b[0m\u001b[0;34m\u001b[0m\u001b[0m\n\u001b[0m\u001b[1;32m    313\u001b[0m \u001b[0;34m\u001b[0m\u001b[0m\n\u001b[1;32m    314\u001b[0m         \u001b[0m_api_call\u001b[0m\u001b[0;34m.\u001b[0m\u001b[0m__name__\u001b[0m \u001b[0;34m=\u001b[0m \u001b[0mstr\u001b[0m\u001b[0;34m(\u001b[0m\u001b[0mpy_operation_name\u001b[0m\u001b[0;34m)\u001b[0m\u001b[0;34m\u001b[0m\u001b[0m\n",
      "\u001b[0;32m/Users/pgreisen/anaconda2/lib/python2.7/site-packages/botocore/client.pyc\u001b[0m in \u001b[0;36m_make_api_call\u001b[0;34m(self, operation_name, api_params)\u001b[0m\n\u001b[1;32m    603\u001b[0m             \u001b[0merror_code\u001b[0m \u001b[0;34m=\u001b[0m \u001b[0mparsed_response\u001b[0m\u001b[0;34m.\u001b[0m\u001b[0mget\u001b[0m\u001b[0;34m(\u001b[0m\u001b[0;34m\"Error\"\u001b[0m\u001b[0;34m,\u001b[0m \u001b[0;34m{\u001b[0m\u001b[0;34m}\u001b[0m\u001b[0;34m)\u001b[0m\u001b[0;34m.\u001b[0m\u001b[0mget\u001b[0m\u001b[0;34m(\u001b[0m\u001b[0;34m\"Code\"\u001b[0m\u001b[0;34m)\u001b[0m\u001b[0;34m\u001b[0m\u001b[0m\n\u001b[1;32m    604\u001b[0m             \u001b[0merror_class\u001b[0m \u001b[0;34m=\u001b[0m \u001b[0mself\u001b[0m\u001b[0;34m.\u001b[0m\u001b[0mexceptions\u001b[0m\u001b[0;34m.\u001b[0m\u001b[0mfrom_code\u001b[0m\u001b[0;34m(\u001b[0m\u001b[0merror_code\u001b[0m\u001b[0;34m)\u001b[0m\u001b[0;34m\u001b[0m\u001b[0m\n\u001b[0;32m--> 605\u001b[0;31m             \u001b[0;32mraise\u001b[0m \u001b[0merror_class\u001b[0m\u001b[0;34m(\u001b[0m\u001b[0mparsed_response\u001b[0m\u001b[0;34m,\u001b[0m \u001b[0moperation_name\u001b[0m\u001b[0;34m)\u001b[0m\u001b[0;34m\u001b[0m\u001b[0m\n\u001b[0m\u001b[1;32m    606\u001b[0m         \u001b[0;32melse\u001b[0m\u001b[0;34m:\u001b[0m\u001b[0;34m\u001b[0m\u001b[0m\n\u001b[1;32m    607\u001b[0m             \u001b[0;32mreturn\u001b[0m \u001b[0mparsed_response\u001b[0m\u001b[0;34m\u001b[0m\u001b[0m\n",
      "\u001b[0;31mClientError\u001b[0m: An error occurred (InvalidParameterValue) when calling the RunInstances operation: Value (us-east-2c) for parameter availabilityZone is invalid. Subnet 'subnet-20658548' is in the availability zone us-east-2a"
     ]
    }
   ],
   "source": [
    "# Ubuntu Server 16.04 LTS (HVM), SSD Volume Type - ami-cd0f5cb6\n",
    "# Amazon Linux AMI 2017.09.0 (HVM), SSD Volume Type - ami-8c1be5f6\n",
    "# Deep Learning AMI Ubuntu Version 2.4_Oct2017 - ami-37bb714d\n",
    "# Deep Learning AMI Amazon Linux Version 3.3_Oct2017 - ami-78994d02\n",
    "import boto3\n",
    "# ec2 = boto3.resource('ec2')\n",
    "ec2 = boto3.resource('ec2', region_name=rg_name)\n",
    "\n",
    "instance = ec2.create_instances(\n",
    "    ImageId=\"ami-c5062ba0\", #ImageId,\n",
    "    MinCount=1,\n",
    "    MaxCount=1,\n",
    "    KeyName=kname,\n",
    "    Placement={'AvailabilityZone': av_zone },\n",
    "    SecurityGroupIds=[sg.id],\n",
    "    SubnetId=subnet.id,\n",
    "    InstanceType='t2.nano')\n",
    "print instance[0].id"
   ]
  },
  {
   "cell_type": "code",
   "execution_count": 19,
   "metadata": {},
   "outputs": [
    {
     "name": "stdout",
     "output_type": "stream",
     "text": [
      "52.54.56.231\n"
     ]
    }
   ],
   "source": [
    "import boto3\n",
    "client = boto3.client('ec2')\n",
    "addresses_dict = client.describe_addresses()\n",
    "for eip_dict in addresses_dict['Addresses']:\n",
    "    print eip_dict['PublicIp']"
   ]
  },
  {
   "cell_type": "code",
   "execution_count": 18,
   "metadata": {
    "collapsed": true
   },
   "outputs": [],
   "source": [
    "from collections import defaultdict\n",
    "\n",
    "import boto3\n",
    "\n",
    "\"\"\"\n",
    "A tool for retrieving basic information from the running EC2 instances.\n",
    "\"\"\"\n",
    "\n",
    "# Connect to EC2\n",
    "ec2 = boto3.resource('ec2')\n",
    "\n",
    "# Get information for all running instances\n",
    "running_instances = ec2.instances.filter(Filters=[{\n",
    "    'Name': 'instance-state-name',\n",
    "    'Values': ['running']}])\n",
    "\n",
    "\n",
    "ec2info = defaultdict()\n",
    "for instance in running_instances:\n",
    "    for tag in instance.tags:\n",
    "        if 'Name'in tag['Key']:\n",
    "            name = tag['Value']\n",
    "    # Add instance info to a dictionary         \n",
    "    ec2info[instance.id] = {\n",
    "        'Name': name,\n",
    "        'Type': instance.instance_type,\n",
    "        'State': instance.state['Name'],\n",
    "        'Private IP': instance.private_ip_address,\n",
    "        'Public IP': instance.public_ip_address,\n",
    "        'Launch Time': instance.launch_time\n",
    "        }\n",
    "attributes = ['Name', 'Type', 'State', 'Private IP', 'Public IP', 'Launch Time']\n",
    "\n",
    "for instance_id, instance in ec2info.items():\n",
    "    for key in attributes:\n",
    "        print(\"{0}: {1}\".format(key, instance[key]))\n",
    "    print(\"------\")"
   ]
  },
  {
   "cell_type": "code",
   "execution_count": 30,
   "metadata": {},
   "outputs": [
    {
     "name": "stdout",
     "output_type": "stream",
     "text": [
      "(ec2.Vpc(id='vpc-88f051ef'), 'all:', ec2.Subnet(id='subnet-0b8ec121'))\n",
      "(ec2.Vpc(id='vpc-88f051ef'), 'all:', ec2.Subnet(id='subnet-c9784df4'))\n",
      "(ec2.Vpc(id='vpc-88f051ef'), 'all:', ec2.Subnet(id='subnet-4ef8b016'))\n",
      "(ec2.Vpc(id='vpc-88f051ef'), 'all:', ec2.Subnet(id='subnet-4aaf903c'))\n",
      "(ec2.Vpc(id='vpc-88f051ef'), 'all:', ec2.Subnet(id='subnet-28dc6424'))\n",
      "(ec2.Vpc(id='vpc-88f051ef'), 'all:', ec2.Subnet(id='subnet-86bb27e3'))\n",
      "(ec2.Vpc(id='vpc-88f051ef'), 'us-east-1a', 'filter:', ec2.Subnet(id='subnet-86bb27e3'))\n",
      "(ec2.Vpc(id='vpc-88f051ef'), 'us-east-1b', 'filter:', ec2.Subnet(id='subnet-0b8ec121'))\n",
      "(ec2.Vpc(id='vpc-88f051ef'), 'us-east-1c', 'filter:', ec2.Subnet(id='subnet-4aaf903c'))\n",
      "(ec2.Vpc(id='vpc-88f051ef'), 'us-east-1d', 'filter:', ec2.Subnet(id='subnet-4ef8b016'))\n",
      "(ec2.Vpc(id='vpc-88f051ef'), 'us-east-1e', 'filter:', ec2.Subnet(id='subnet-c9784df4'))\n",
      "(ec2.Vpc(id='vpc-88f051ef'), 'us-east-1f', 'filter:', ec2.Subnet(id='subnet-28dc6424'))\n",
      "(ec2.Vpc(id='vpc-f4250793'), 'all:', ec2.Subnet(id='subnet-7ee51753'))\n",
      "(ec2.Vpc(id='vpc-f4250793'), 'us-east-1b', 'filter:', ec2.Subnet(id='subnet-7ee51753'))\n"
     ]
    }
   ],
   "source": [
    "ec2 = boto3.resource(\"ec2\")\n",
    "for vpc in ec2.vpcs.all():\n",
    "    for subnet in vpc.subnets.all():\n",
    "        print(vpc, \"all:\", subnet)\n",
    "    for az in ec2.meta.client.describe_availability_zones()[\"AvailabilityZones\"]:\n",
    "        for subnet in vpc.subnets.filter(Filters=[{\"Name\": \"availabilityZone\", \"Values\": [az[\"ZoneName\"]]}]):\n",
    "            print(vpc, az[\"ZoneName\"], \"filter:\", subnet)"
   ]
  },
  {
   "cell_type": "code",
   "execution_count": null,
   "metadata": {
    "collapsed": true
   },
   "outputs": [],
   "source": [
    "ClientError: An error occurred (InvalidParameterValue) when calling the RunInstances operation: Value (eu-west-2a) for parameter availabilityZone is invalid. Subnet 'subnet-296efd64' is in the availability zone eu-west-2b\n"
   ]
  }
 ],
 "metadata": {
  "kernelspec": {
   "display_name": "Python 2",
   "language": "python",
   "name": "python2"
  },
  "language_info": {
   "codemirror_mode": {
    "name": "ipython",
    "version": 2
   },
   "file_extension": ".py",
   "mimetype": "text/x-python",
   "name": "python",
   "nbconvert_exporter": "python",
   "pygments_lexer": "ipython2",
   "version": "2.7.13"
  }
 },
 "nbformat": 4,
 "nbformat_minor": 2
}
