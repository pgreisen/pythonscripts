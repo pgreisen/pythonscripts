{
 "cells": [
  {
   "cell_type": "markdown",
   "metadata": {},
   "source": [
    "## Method for computing enrichment ratios\n",
    "\n",
    "A frequency of a variant in a time point is defined as the counts of the variant in that time point\n",
    " ($c_{\\nu,t}$) divided by the number of read sequences ($N_{t}$).\n",
    "<br>\n",
    "$\n",
    "f_{\\nu,t} = \\frac{c_{\\nu,t}}{N_{t}}\n",
    "$\n",
    "\n",
    "and the change in ratio frequencies is \n",
    "\n",
    "$\n",
    "r_{\\nu,t} = \\frac{f_{\\nu,t}}{f_{\\nu,0}}\n",
    "$\n",
    "\n",
    "Instead of using this raw change in variant frequency, we divide each variant's ratio with WT ratio (in this case the unsorted population)\n",
    "\n",
    "$\n",
    "\\frac{r_{\\nu,t}}{r_{wt,t}} = \\frac{c_{\\nu,t}c_{wt,0}}{ c_{\\nu,0}c_{wt,t}  }\n",
    "$\n",
    "\n",
    "A 1/2 is added to each count to compensate for small numbers of counts and the logorithm2 is taken of the fraction\n",
    "\n",
    "$\n",
    "L_{\\nu,t} = log_2( \\frac{(c_{\\nu,t}+1/2)(c_{wt,0}+1/2)}{(c_{\\nu,0}+1/2)(c_{wt,t} + 1/2)}\n",
    "$"
   ]
  },
  {
   "cell_type": "markdown",
   "metadata": {},
   "source": [
    "The regression \n",
    "weight for $M_{\\nu,t}$ is $V^{-1}_{\\nu,t}$ where $V_{\\nu,t}$ (based on Poisson assumption of events)<br><br>\n",
    "\n",
    "$\n",
    "V_{\\nu,t} = \\frac{1}{c_{\\nu,t}+1/2} + \\frac{1}{c_{wt,t}+1/2}\n",
    "$\n",
    "\n",
    "We compute the standard error ($SE_{\\nu}$) for the enrichment score $L_{\\nu}$ under the Poisson assumptions\n",
    "<br><br>\n",
    "$\n",
    "SE_{\\nu} = \\sqrt{ \\frac{1}{c_{\\nu,0}+1/2}+ \\frac{1}{c_{wt,0}+1/2}+ \\frac{1}{c_{\\nu,sel}+1/2}+\\frac{1}{c_{wt,sel}+1/2} }\n",
    "$\n",
    "<br><br>\n",
    "Setting a cutoff of the SE using 2% of the maximum value. \n",
    "\n",
    "We compute a raw-pvalue and z-score for the variants\n",
    "<br><br>\n",
    "$\n",
    "z = \\frac{log_{\\nu} - log_{WT}} {\\sqrt{SE_{\\nu}^2+SE_{WT}^2} }\n",
    "$\n",
    "<br><br>\n",
    "a a raw pvalue is computed\n",
    "<br><br>"
   ]
  },
  {
   "cell_type": "code",
   "execution_count": null,
   "metadata": {},
   "outputs": [],
   "source": []
  }
 ],
 "metadata": {
  "kernelspec": {
   "display_name": "Python 3",
   "language": "python",
   "name": "python3"
  },
  "language_info": {
   "codemirror_mode": {
    "name": "ipython",
    "version": 3
   },
   "file_extension": ".py",
   "mimetype": "text/x-python",
   "name": "python",
   "nbconvert_exporter": "python",
   "pygments_lexer": "ipython3",
   "version": "3.6.8"
  }
 },
 "nbformat": 4,
 "nbformat_minor": 2
}
