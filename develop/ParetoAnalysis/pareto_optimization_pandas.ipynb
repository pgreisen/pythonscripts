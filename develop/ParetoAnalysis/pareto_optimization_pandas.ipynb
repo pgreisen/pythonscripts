{
 "cells": [
  {
   "cell_type": "code",
   "execution_count": 1,
   "metadata": {
    "collapsed": true
   },
   "outputs": [],
   "source": [
    "%%capture\n",
    "!pip install arsenal"
   ]
  },
  {
   "cell_type": "code",
   "execution_count": 2,
   "metadata": {
    "collapsed": true
   },
   "outputs": [],
   "source": [
    "%matplotlib inline\n",
    "import pylab as pl\n",
    "import numpy as np\n",
    "from arsenal.terminal import yellow\n",
    "from arsenal.iterextras import window"
   ]
  },
  {
   "cell_type": "code",
   "execution_count": 4,
   "metadata": {
    "collapsed": true
   },
   "outputs": [],
   "source": [
    "def pareto_ix(X, Y, *a, **kw):\n",
    "    \"Determine Pareto frontier, returns list of indices\"\n",
    "    return pareto_frontier(X, Y, *a, **kw)"
   ]
  },
  {
   "cell_type": "code",
   "execution_count": 5,
   "metadata": {
    "collapsed": true
   },
   "outputs": [],
   "source": [
    "def show_frontier(X, Y, maxX=False, maxY=True, dots=False,XMIN=None, XMAX=None,YMIN=None, YMAX=None,\\\n",
    "                  ax=None, label=None,interpolation='pessimistic', **style):\n",
    "    \"\"\"Plot Pareto frontier.\n",
    "\n",
    "    Args:\n",
    "\n",
    "      X, Y: data.\n",
    "\n",
    "      maxX, maxY: (bool) whether to maximize or minimize along respective\n",
    "        coordinate.\n",
    "\n",
    "      dots: (bool) highlight points on the frontier (will use same color as\n",
    "        `style`).\n",
    "\n",
    "      ax: use an existing axis if non-null.\n",
    "\n",
    "      style: keyword arguments, which will be passed to lines connecting the\n",
    "        points on the Pareto frontier.\n",
    "\n",
    "      XMAX: max value along x-axis\n",
    "      YMIN: min value along y-axis\n",
    "\n",
    "    \"\"\"\n",
    "    if ax is None:\n",
    "        ax = pl.gca()\n",
    "    sty = {'c': 'b', 'alpha': 0.3, 'zorder': 0}\n",
    "    sty.update(style)\n",
    "\n",
    "    if interpolation == 'linear-convex':\n",
    "        # Convex hull by itself doesn't work, but what we have is ok because its\n",
    "        # the intersection of the convex hull with the pareto frontier, which is\n",
    "        # handled below.\n",
    "        from scipy.spatial import ConvexHull\n",
    "        X = np.array(X)\n",
    "        Y = np.array(Y)\n",
    "        hull = ConvexHull(np.array([X,Y]).T)\n",
    "        X = X[hull.vertices]\n",
    "        Y = Y[hull.vertices]\n",
    "\n",
    "    f = pareto_frontier(X, Y, maxX=maxX, maxY=maxY)\n",
    "    if not f:\n",
    "        print yellow % '[warn] Empty frontier'\n",
    "        return\n",
    "    if dots:\n",
    "        xs, ys = zip(*f)\n",
    "        ax.scatter(xs, ys, lw=0, alpha=0.5, c=sty['c'])\n",
    "        \n",
    "    XMIN = min(min(X), XMIN) if XMIN is not None else min(X)\n",
    "    XMAX = max(max(X), XMAX) if XMAX is not None else max(X)\n",
    "    YMIN = min(min(Y), YMIN) if YMIN is not None else min(Y)\n",
    "    YMAX = max(max(Y), YMAX) if YMAX is not None else max(Y)\n",
    "    # Connect corners of frontier. The first and last points on frontier have\n",
    "    # lines which surround the point cloud.\n",
    "    \n",
    "    if maxX and maxY:\n",
    "        f = [(XMAX, YMIN)] + f + [(XMIN, YMAX)]\n",
    "    elif not maxX and maxY:\n",
    "        f = [(XMIN, YMIN)] + f + [(XMAX, YMAX)]\n",
    "    elif maxX and not maxY:\n",
    "        f = [(XMAX, YMAX)] + f + [(XMIN, YMIN)]\n",
    "    else:\n",
    "        f = [(XMIN, YMAX)] + f + [(XMAX, YMIN)]\n",
    "\n",
    "    if interpolation == 'pessimistic':\n",
    "        # Make line segments from adjacent points\n",
    "        pts = np.array([x for ((a,b), (c,d)) in window(f, 2) for x in [[a,b], [c,b], [c,b], [c,d]]])\n",
    "    elif interpolation in {'linear','linear-convex'}:\n",
    "        # Make line segments from adjacent points\n",
    "        pts = np.array([x for ((a,b), (c,d)) in window(f, 2) for x in [[a,b], [c,d]]])\n",
    "\n",
    "    # Plot\n",
    "    ax.plot(pts[:,0], pts[:,1],label=label,**sty)\n",
    "    return pts"
   ]
  },
  {
   "cell_type": "code",
   "execution_count": 6,
   "metadata": {
    "collapsed": true
   },
   "outputs": [],
   "source": [
    "class Pareto(object):\n",
    "\n",
    "    def __init__(self, df, xcol, ycol, ax=None):\n",
    "        self.df = df\n",
    "        self.xcol = xcol\n",
    "        self.ycol = ycol\n",
    "        self.ax = ax\n",
    "        self.frontier = pareto_ix(df[xcol], df[ycol])\n",
    "        assert np.isfinite(df[xcol]).all() and np.isfinite(df[ycol]).all(), \\\n",
    "            'Pareto: `DataFrame` contains non-finite values.'\n",
    "\n",
    "    def scatter(self, **plot_kwargs):\n",
    "        if self.ax is None:\n",
    "            self.ax = pl.gca()\n",
    "        kwargs = dict(lw=0)\n",
    "        kwargs.update(plot_kwargs)\n",
    "        self.ax.scatter(self.df[self.xcol], self.df[self.ycol], **kwargs)\n",
    "\n",
    "    def show_frontier(self, **plot_kwargs):\n",
    "        if self.ax is None:\n",
    "            self.ax = pl.gca()\n",
    "        show_frontier(self.df[self.xcol], self.df[self.ycol], ax=self.ax, **plot_kwargs)\n",
    "\n",
    "    def lookup_x(self, x):\n",
    "        \"\"\"\n",
    "        Find Pareto point constrained by x.\n",
    "            argmax    p.y\n",
    "         p: p.x <= x\n",
    "        \"\"\"\n",
    "        s = self.df\n",
    "        s = s[s[self.xcol] <= x]    # filter\n",
    "        if s.empty:\n",
    "            return np.nan\n",
    "        yy = s[self.ycol].argmax()\n",
    "        return s.ix[yy][self.ycol]\n",
    "\n",
    "    def lookup_y(self, y):\n",
    "        \"\"\"\n",
    "        Find Pareto point constrained by y.\n",
    "            argmax    p.x\n",
    "         p: p.x >= y\n",
    "        \"\"\"\n",
    "        s = self.df\n",
    "        s = s[s[self.ycol] >= y]    # filter\n",
    "        if s.empty:\n",
    "            return np.nan\n",
    "        xx = s[self.xcol].argmin()\n",
    "        return s.ix[xx][self.xcol]"
   ]
  },
  {
   "cell_type": "code",
   "execution_count": 7,
   "metadata": {
    "collapsed": true
   },
   "outputs": [],
   "source": [
    "def test():\n",
    "    if 0:\n",
    "        from pandas import DataFrame\n",
    "        X = np.linspace(0.01, 1.0, 10)\n",
    "        Y = np.log(X)\n",
    "        Y -= Y.min()\n",
    "        Y /= Y.max()\n",
    "        Y *= 0.95\n",
    "\n",
    "        df = DataFrame({'X': X, 'Y': Y})\n",
    "        P = Pareto(df, 'X', 'Y')\n",
    "\n",
    "        data = []\n",
    "        for val in np.linspace(0,1,15):\n",
    "            data.append(dict(val=val, x=P.lookup_x(val), y=P.lookup_y(val)))\n",
    "            pl.axvline(val, alpha=.5)\n",
    "            pl.axhline(val, alpha=.5)\n",
    "        dd = DataFrame(data)\n",
    "        pl.scatter(dd.y, dd.val, lw=0, c='r')\n",
    "        pl.scatter(dd.val, dd.x, lw=0, c='g')\n",
    "        print dd\n",
    "\n",
    "        #P.scatter(c='r', lw=0)\n",
    "        P.show_frontier(c='r', lw=4)\n",
    "        pl.show()\n",
    "\n",
    "    X,Y = np.random.normal(0,1,size=(2, 30))\n",
    "\n",
    "    for maxX in [0,1]:\n",
    "        for maxY in [0,1]:\n",
    "            pl.figure()\n",
    "            pl.title('max x: %s, max y: %s' % (maxX, maxY))\n",
    "            pl.scatter(X,Y,lw=0)\n",
    "            show_frontier(X, Y, maxX=maxX, maxY=maxY)\n",
    "            pl.show()\n",
    "\n",
    "#if __name__ == '__main__':\n",
    "#    test()"
   ]
  },
  {
   "cell_type": "code",
   "execution_count": 8,
   "metadata": {},
   "outputs": [
    {
     "ename": "IOError",
     "evalue": "File px.dat does not exist",
     "output_type": "error",
     "traceback": [
      "\u001b[0;31m---------------------------------------------------------------------------\u001b[0m",
      "\u001b[0;31mIOError\u001b[0m                                   Traceback (most recent call last)",
      "\u001b[0;32m<ipython-input-8-6e08e9c5d9ca>\u001b[0m in \u001b[0;36m<module>\u001b[0;34m()\u001b[0m\n\u001b[1;32m      1\u001b[0m \u001b[0;32mfrom\u001b[0m \u001b[0mpandas\u001b[0m \u001b[0;32mimport\u001b[0m \u001b[0;34m*\u001b[0m\u001b[0;34m\u001b[0m\u001b[0m\n\u001b[0;32m----> 2\u001b[0;31m \u001b[0mdf1_\u001b[0m \u001b[0;34m=\u001b[0m \u001b[0mread_csv\u001b[0m\u001b[0;34m(\u001b[0m\u001b[0;34m\"px.dat\"\u001b[0m\u001b[0;34m,\u001b[0m \u001b[0mnames\u001b[0m\u001b[0;34m=\u001b[0m\u001b[0;34m[\u001b[0m\u001b[0;34m\"PDBID\"\u001b[0m\u001b[0;34m,\u001b[0m\u001b[0;34m\"V1\"\u001b[0m\u001b[0;34m]\u001b[0m\u001b[0;34m,\u001b[0m\u001b[0msep\u001b[0m\u001b[0;34m=\u001b[0m\u001b[0;34m\":\"\u001b[0m\u001b[0;34m)\u001b[0m\u001b[0;34m\u001b[0m\u001b[0m\n\u001b[0m\u001b[1;32m      3\u001b[0m \u001b[0mdf2_\u001b[0m \u001b[0;34m=\u001b[0m \u001b[0mread_csv\u001b[0m\u001b[0;34m(\u001b[0m\u001b[0;34m\"py.dat\"\u001b[0m\u001b[0;34m,\u001b[0m \u001b[0mnames\u001b[0m\u001b[0;34m=\u001b[0m\u001b[0;34m[\u001b[0m\u001b[0;34m\"PDBID\"\u001b[0m\u001b[0;34m,\u001b[0m\u001b[0;34m\"V2\"\u001b[0m\u001b[0;34m]\u001b[0m\u001b[0;34m,\u001b[0m\u001b[0msep\u001b[0m\u001b[0;34m=\u001b[0m\u001b[0;34m\":\"\u001b[0m\u001b[0;34m)\u001b[0m\u001b[0;34m\u001b[0m\u001b[0m\n\u001b[1;32m      4\u001b[0m \u001b[0mdf_\u001b[0m \u001b[0;34m=\u001b[0m \u001b[0mmerge\u001b[0m\u001b[0;34m(\u001b[0m\u001b[0mright\u001b[0m\u001b[0;34m=\u001b[0m\u001b[0mdf1_\u001b[0m\u001b[0;34m,\u001b[0m \u001b[0mright_on\u001b[0m\u001b[0;34m=\u001b[0m\u001b[0;34m\"PDBID\"\u001b[0m\u001b[0;34m,\u001b[0m \u001b[0mleft\u001b[0m\u001b[0;34m=\u001b[0m\u001b[0mdf2_\u001b[0m\u001b[0;34m,\u001b[0m\u001b[0mleft_on\u001b[0m\u001b[0;34m=\u001b[0m\u001b[0;34m\"PDBID\"\u001b[0m\u001b[0;34m)\u001b[0m\u001b[0;34m\u001b[0m\u001b[0m\n\u001b[1;32m      5\u001b[0m \u001b[0;31m#df2_.sort_values(by=\"V2\",ascending=0)\u001b[0m\u001b[0;34m\u001b[0m\u001b[0;34m\u001b[0m\u001b[0m\n",
      "\u001b[0;32m/Users/pgreisen/anaconda2/lib/python2.7/site-packages/pandas/io/parsers.pyc\u001b[0m in \u001b[0;36mparser_f\u001b[0;34m(filepath_or_buffer, sep, delimiter, header, names, index_col, usecols, squeeze, prefix, mangle_dupe_cols, dtype, engine, converters, true_values, false_values, skipinitialspace, skiprows, nrows, na_values, keep_default_na, na_filter, verbose, skip_blank_lines, parse_dates, infer_datetime_format, keep_date_col, date_parser, dayfirst, iterator, chunksize, compression, thousands, decimal, lineterminator, quotechar, quoting, escapechar, comment, encoding, dialect, tupleize_cols, error_bad_lines, warn_bad_lines, skipfooter, skip_footer, doublequote, delim_whitespace, as_recarray, compact_ints, use_unsigned, low_memory, buffer_lines, memory_map, float_precision)\u001b[0m\n\u001b[1;32m    653\u001b[0m                     skip_blank_lines=skip_blank_lines)\n\u001b[1;32m    654\u001b[0m \u001b[0;34m\u001b[0m\u001b[0m\n\u001b[0;32m--> 655\u001b[0;31m         \u001b[0;32mreturn\u001b[0m \u001b[0m_read\u001b[0m\u001b[0;34m(\u001b[0m\u001b[0mfilepath_or_buffer\u001b[0m\u001b[0;34m,\u001b[0m \u001b[0mkwds\u001b[0m\u001b[0;34m)\u001b[0m\u001b[0;34m\u001b[0m\u001b[0m\n\u001b[0m\u001b[1;32m    656\u001b[0m \u001b[0;34m\u001b[0m\u001b[0m\n\u001b[1;32m    657\u001b[0m     \u001b[0mparser_f\u001b[0m\u001b[0;34m.\u001b[0m\u001b[0m__name__\u001b[0m \u001b[0;34m=\u001b[0m \u001b[0mname\u001b[0m\u001b[0;34m\u001b[0m\u001b[0m\n",
      "\u001b[0;32m/Users/pgreisen/anaconda2/lib/python2.7/site-packages/pandas/io/parsers.pyc\u001b[0m in \u001b[0;36m_read\u001b[0;34m(filepath_or_buffer, kwds)\u001b[0m\n\u001b[1;32m    403\u001b[0m \u001b[0;34m\u001b[0m\u001b[0m\n\u001b[1;32m    404\u001b[0m     \u001b[0;31m# Create the parser.\u001b[0m\u001b[0;34m\u001b[0m\u001b[0;34m\u001b[0m\u001b[0m\n\u001b[0;32m--> 405\u001b[0;31m     \u001b[0mparser\u001b[0m \u001b[0;34m=\u001b[0m \u001b[0mTextFileReader\u001b[0m\u001b[0;34m(\u001b[0m\u001b[0mfilepath_or_buffer\u001b[0m\u001b[0;34m,\u001b[0m \u001b[0;34m**\u001b[0m\u001b[0mkwds\u001b[0m\u001b[0;34m)\u001b[0m\u001b[0;34m\u001b[0m\u001b[0m\n\u001b[0m\u001b[1;32m    406\u001b[0m \u001b[0;34m\u001b[0m\u001b[0m\n\u001b[1;32m    407\u001b[0m     \u001b[0;32mif\u001b[0m \u001b[0mchunksize\u001b[0m \u001b[0;32mor\u001b[0m \u001b[0miterator\u001b[0m\u001b[0;34m:\u001b[0m\u001b[0;34m\u001b[0m\u001b[0m\n",
      "\u001b[0;32m/Users/pgreisen/anaconda2/lib/python2.7/site-packages/pandas/io/parsers.pyc\u001b[0m in \u001b[0;36m__init__\u001b[0;34m(self, f, engine, **kwds)\u001b[0m\n\u001b[1;32m    762\u001b[0m             \u001b[0mself\u001b[0m\u001b[0;34m.\u001b[0m\u001b[0moptions\u001b[0m\u001b[0;34m[\u001b[0m\u001b[0;34m'has_index_names'\u001b[0m\u001b[0;34m]\u001b[0m \u001b[0;34m=\u001b[0m \u001b[0mkwds\u001b[0m\u001b[0;34m[\u001b[0m\u001b[0;34m'has_index_names'\u001b[0m\u001b[0;34m]\u001b[0m\u001b[0;34m\u001b[0m\u001b[0m\n\u001b[1;32m    763\u001b[0m \u001b[0;34m\u001b[0m\u001b[0m\n\u001b[0;32m--> 764\u001b[0;31m         \u001b[0mself\u001b[0m\u001b[0;34m.\u001b[0m\u001b[0m_make_engine\u001b[0m\u001b[0;34m(\u001b[0m\u001b[0mself\u001b[0m\u001b[0;34m.\u001b[0m\u001b[0mengine\u001b[0m\u001b[0;34m)\u001b[0m\u001b[0;34m\u001b[0m\u001b[0m\n\u001b[0m\u001b[1;32m    765\u001b[0m \u001b[0;34m\u001b[0m\u001b[0m\n\u001b[1;32m    766\u001b[0m     \u001b[0;32mdef\u001b[0m \u001b[0mclose\u001b[0m\u001b[0;34m(\u001b[0m\u001b[0mself\u001b[0m\u001b[0;34m)\u001b[0m\u001b[0;34m:\u001b[0m\u001b[0;34m\u001b[0m\u001b[0m\n",
      "\u001b[0;32m/Users/pgreisen/anaconda2/lib/python2.7/site-packages/pandas/io/parsers.pyc\u001b[0m in \u001b[0;36m_make_engine\u001b[0;34m(self, engine)\u001b[0m\n\u001b[1;32m    983\u001b[0m     \u001b[0;32mdef\u001b[0m \u001b[0m_make_engine\u001b[0m\u001b[0;34m(\u001b[0m\u001b[0mself\u001b[0m\u001b[0;34m,\u001b[0m \u001b[0mengine\u001b[0m\u001b[0;34m=\u001b[0m\u001b[0;34m'c'\u001b[0m\u001b[0;34m)\u001b[0m\u001b[0;34m:\u001b[0m\u001b[0;34m\u001b[0m\u001b[0m\n\u001b[1;32m    984\u001b[0m         \u001b[0;32mif\u001b[0m \u001b[0mengine\u001b[0m \u001b[0;34m==\u001b[0m \u001b[0;34m'c'\u001b[0m\u001b[0;34m:\u001b[0m\u001b[0;34m\u001b[0m\u001b[0m\n\u001b[0;32m--> 985\u001b[0;31m             \u001b[0mself\u001b[0m\u001b[0;34m.\u001b[0m\u001b[0m_engine\u001b[0m \u001b[0;34m=\u001b[0m \u001b[0mCParserWrapper\u001b[0m\u001b[0;34m(\u001b[0m\u001b[0mself\u001b[0m\u001b[0;34m.\u001b[0m\u001b[0mf\u001b[0m\u001b[0;34m,\u001b[0m \u001b[0;34m**\u001b[0m\u001b[0mself\u001b[0m\u001b[0;34m.\u001b[0m\u001b[0moptions\u001b[0m\u001b[0;34m)\u001b[0m\u001b[0;34m\u001b[0m\u001b[0m\n\u001b[0m\u001b[1;32m    986\u001b[0m         \u001b[0;32melse\u001b[0m\u001b[0;34m:\u001b[0m\u001b[0;34m\u001b[0m\u001b[0m\n\u001b[1;32m    987\u001b[0m             \u001b[0;32mif\u001b[0m \u001b[0mengine\u001b[0m \u001b[0;34m==\u001b[0m \u001b[0;34m'python'\u001b[0m\u001b[0;34m:\u001b[0m\u001b[0;34m\u001b[0m\u001b[0m\n",
      "\u001b[0;32m/Users/pgreisen/anaconda2/lib/python2.7/site-packages/pandas/io/parsers.pyc\u001b[0m in \u001b[0;36m__init__\u001b[0;34m(self, src, **kwds)\u001b[0m\n\u001b[1;32m   1603\u001b[0m         \u001b[0mkwds\u001b[0m\u001b[0;34m[\u001b[0m\u001b[0;34m'allow_leading_cols'\u001b[0m\u001b[0;34m]\u001b[0m \u001b[0;34m=\u001b[0m \u001b[0mself\u001b[0m\u001b[0;34m.\u001b[0m\u001b[0mindex_col\u001b[0m \u001b[0;32mis\u001b[0m \u001b[0;32mnot\u001b[0m \u001b[0mFalse\u001b[0m\u001b[0;34m\u001b[0m\u001b[0m\n\u001b[1;32m   1604\u001b[0m \u001b[0;34m\u001b[0m\u001b[0m\n\u001b[0;32m-> 1605\u001b[0;31m         \u001b[0mself\u001b[0m\u001b[0;34m.\u001b[0m\u001b[0m_reader\u001b[0m \u001b[0;34m=\u001b[0m \u001b[0mparsers\u001b[0m\u001b[0;34m.\u001b[0m\u001b[0mTextReader\u001b[0m\u001b[0;34m(\u001b[0m\u001b[0msrc\u001b[0m\u001b[0;34m,\u001b[0m \u001b[0;34m**\u001b[0m\u001b[0mkwds\u001b[0m\u001b[0;34m)\u001b[0m\u001b[0;34m\u001b[0m\u001b[0m\n\u001b[0m\u001b[1;32m   1606\u001b[0m \u001b[0;34m\u001b[0m\u001b[0m\n\u001b[1;32m   1607\u001b[0m         \u001b[0;31m# XXX\u001b[0m\u001b[0;34m\u001b[0m\u001b[0;34m\u001b[0m\u001b[0m\n",
      "\u001b[0;32mpandas/_libs/parsers.pyx\u001b[0m in \u001b[0;36mpandas._libs.parsers.TextReader.__cinit__ (pandas/_libs/parsers.c:4209)\u001b[0;34m()\u001b[0m\n",
      "\u001b[0;32mpandas/_libs/parsers.pyx\u001b[0m in \u001b[0;36mpandas._libs.parsers.TextReader._setup_parser_source (pandas/_libs/parsers.c:8873)\u001b[0;34m()\u001b[0m\n",
      "\u001b[0;31mIOError\u001b[0m: File px.dat does not exist"
     ]
    }
   ],
   "source": [
    "from pandas import *\n",
    "df1_ = read_csv(\"px.dat\", names=[\"PDBID\",\"V1\"],sep=\":\")\n",
    "df2_ = read_csv(\"py.dat\", names=[\"PDBID\",\"V2\"],sep=\":\")\n",
    "df_ = merge(right=df1_, right_on=\"PDBID\", left=df2_,left_on=\"PDBID\")\n",
    "#df2_.sort_values(by=\"V2\",ascending=0)\n",
    "#df1_.sort_values(by=\"V1\",ascending=0)"
   ]
  },
  {
   "cell_type": "code",
   "execution_count": null,
   "metadata": {},
   "outputs": [],
   "source": [
    "# print list(df_)\n",
    "# ['Mutation', 'mean', 'median', 'max', 'min']\n",
    "Z = df_[\"PDBID\"]\n",
    "X = df_[\"V1\"]\n",
    "Y = df_[\"V2\"]\n",
    "P = Pareto(df_, 'V1', 'V2')\n",
    "index_of_hits = pareto_frontier(X,Y,False,True,True)\n",
    "data = []\n",
    "for val in np.linspace(0,1,15):\n",
    "    data.append(dict(val=val, x=P.lookup_x(val), y=P.lookup_y(val)))\n",
    "dd = DataFrame(data)\n",
    "pl.figure()\n",
    "pl.scatter(X,Y,lw=0)\n",
    "show_frontier(X, Y, maxX=1, maxY=1)\n",
    "pl.show()"
   ]
  },
  {
   "cell_type": "code",
   "execution_count": null,
   "metadata": {},
   "outputs": [],
   "source": [
    "%matplotlib inline\n",
    "import plotly\n",
    "plotly.offline.init_notebook_mode() # run at the start of every ipython notebook\n",
    "import plotly.offline as offline\n",
    "import plotly.graph_objs as go\n",
    "import plotly.plotly as py\n",
    "import matplotlib.pyplot as plt\n",
    "import plotly.figure_factory as ff\n",
    "trace0 = go.Scatter(x=X,y=Y,mode='markers')\n",
    "trace1 = go.Scatter(x=X[index_of_hits],y=Y[index_of_hits],\\\n",
    "                    mode='markers',text=Z[index_of_hits])\n",
    "data = go.Data([trace0,trace1])\n",
    "layout = go.Layout(title=\"test\")\n",
    "fig = go.Figure(data=data,layout=layout)\n",
    "offline.iplot(fig, filename=\"scatter.html\")"
   ]
  },
  {
   "cell_type": "code",
   "execution_count": null,
   "metadata": {
    "collapsed": true
   },
   "outputs": [],
   "source": []
  }
 ],
 "metadata": {
  "kernelspec": {
   "display_name": "Python 2",
   "language": "python",
   "name": "python2"
  },
  "language_info": {
   "codemirror_mode": {
    "name": "ipython",
    "version": 2
   },
   "file_extension": ".py",
   "mimetype": "text/x-python",
   "name": "python",
   "nbconvert_exporter": "python",
   "pygments_lexer": "ipython2",
   "version": "2.7.13"
  },
  "toc": {
   "nav_menu": {},
   "number_sections": true,
   "sideBar": true,
   "skip_h1_title": false,
   "toc_cell": false,
   "toc_position": {},
   "toc_section_display": "block",
   "toc_window_display": false
  }
 },
 "nbformat": 4,
 "nbformat_minor": 2
}
