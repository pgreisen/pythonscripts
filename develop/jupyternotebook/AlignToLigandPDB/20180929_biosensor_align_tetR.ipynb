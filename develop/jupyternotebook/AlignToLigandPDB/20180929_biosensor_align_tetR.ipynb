{
 "cells": [
  {
   "cell_type": "markdown",
   "metadata": {
    "extensions": {
     "jupyter_dashboards": {
      "version": 1,
      "views": {
       "grid_default": {
        "col": 0,
        "height": 8,
        "hidden": false,
        "row": 0,
        "width": 12
       },
       "report_default": {}
      }
     }
    },
    "slideshow": {
     "slide_type": "slide"
    }
   },
   "source": [
    "# Design of biosensors\n",
    "## Design of TetR (PDB ID: 4AC0)\n",
    "\n",
    "* (4aS,7S,7aS) -nepetalactone\n",
    "* (4aS,7S,7aR) - nepetalactone\n",
    "* trans-cinnamic acid\n",
    "* THC\n"
   ]
  },
  {
   "cell_type": "code",
   "execution_count": 4,
   "metadata": {},
   "outputs": [],
   "source": [
    "from rdkit.Chem import PandasTools\n",
    "from rdkit.Chem.rdFMCS import FindMCS\n",
    "from rdkit import Chem\n",
    "from rdkit.Chem import rdMolAlign, rdShapeHelpers"
   ]
  },
  {
   "cell_type": "code",
   "execution_count": 5,
   "metadata": {},
   "outputs": [],
   "source": [
    "# Read in molecule from TeTR crystal structure\n",
    "file = open(\"/Users/pgreisen/Projects/Enevolv/biosensors/aTF_xtals/4AC0/MYI_xtal.pdb\",'r')\n",
    "myi_mol = Chem.MolFromPDBFile(\"/Users/pgreisen/Projects/Enevolv/biosensors/aTF_xtals/4AC0/MYI_xtal.pdb\")\n",
    "if myi_mol is None:\n",
    "    print(\"Error\")"
   ]
  },
  {
   "cell_type": "code",
   "execution_count": 9,
   "metadata": {},
   "outputs": [],
   "source": [
    "def align_ligands(path_to_molecule,name):\n",
    "    # print path_to_molecule\n",
    "    from rdkit.Chem import rdMolAlign\n",
    "    mol_ = Chem.MolFromPDBFile(path_to_molecule)\n",
    "    align_molecules = rdMolAlign.GetO3A(mol_,myi_mol)\n",
    "    align_molecules.Align()\n",
    "    print(name+\" molecule name \"+str(rdShapeHelpers.ShapeTanimotoDist(mol_, myi_mol)))\n",
    "    writer = Chem.rdmolfiles.MolToPDBFile(mol_,name+'_aligned_xtal.pdb')"
   ]
  },
  {
   "cell_type": "code",
   "execution_count": 10,
   "metadata": {},
   "outputs": [],
   "source": [
    "# ligands \n",
    "pth= \"/Users/pgreisen/Projects/Enevolv/biosensors\"\n",
    "thc_pth_mol= pth+\"/THC/THC.fa.pdb\"\n",
    "sne_pth_mol= pth+\"/SNE/SNE.fa.pdb\"\n",
    "rne_pth_mol= pth+\"/RNE/RNE.fa.pdb\"\n",
    "\n",
    "tca_pth_mol= pth+\"/TCA/TCA.fa.pdb\"\n",
    "molecules = {\n",
    "    \"THC\" : thc_pth_mol,\n",
    "    \"SNE\" : sne_pth_mol,\n",
    "    \"RNE\" : rne_pth_mol,\n",
    "    \"TCA\" : tca_pth_mol\n",
    "}"
   ]
  },
  {
   "cell_type": "code",
   "execution_count": 11,
   "metadata": {},
   "outputs": [
    {
     "name": "stdout",
     "output_type": "stream",
     "text": [
      "SNE molecule name 0.684339564818\n",
      "THC molecule name 0.552952531368\n",
      "RNE molecule name 0.688241858578\n",
      "TCA molecule name 0.69518882566\n"
     ]
    }
   ],
   "source": [
    "for i,j in molecules.iteritems():\n",
    "    align_ligands(j,i)"
   ]
  },
  {
   "cell_type": "code",
   "execution_count": null,
   "metadata": {},
   "outputs": [],
   "source": []
  }
 ],
 "metadata": {
  "extensions": {
   "jupyter_dashboards": {
    "activeView": "grid_default",
    "version": 1,
    "views": {
     "grid_default": {
      "cellMargin": 10,
      "defaultCellHeight": 20,
      "maxColumns": 12,
      "name": "grid",
      "type": "grid"
     },
     "report_default": {
      "name": "report",
      "type": "report"
     }
    }
   }
  },
  "kernelspec": {
   "display_name": "Python 2",
   "language": "python",
   "name": "python2"
  },
  "language_info": {
   "codemirror_mode": {
    "name": "ipython",
    "version": 2
   },
   "file_extension": ".py",
   "mimetype": "text/x-python",
   "name": "python",
   "nbconvert_exporter": "python",
   "pygments_lexer": "ipython2",
   "version": "2.7.15"
  },
  "toc": {
   "nav_menu": {},
   "number_sections": true,
   "sideBar": true,
   "skip_h1_title": false,
   "toc_cell": false,
   "toc_position": {},
   "toc_section_display": "block",
   "toc_window_display": false
  }
 },
 "nbformat": 4,
 "nbformat_minor": 2
}
