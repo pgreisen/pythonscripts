{
 "cells": [
  {
   "cell_type": "code",
   "execution_count": 4,
   "metadata": {
    "collapsed": false
   },
   "outputs": [
    {
     "name": "stdout",
     "output_type": "stream",
     "text": [
      "Requirement already satisfied: brewer2mpl in /Users/pgreisen/anaconda2/lib/python2.7/site-packages\r\n"
     ]
    }
   ],
   "source": [
    "import brewer2mpl\n",
    "!pip install brewer2mpl\n",
    "import numpy as np\n",
    "import pandas as pd\n",
    "import matplotlib\n",
    "import matplotlib.pyplot as plt\n",
    "import matplotlib.gridspec as gridspec\n",
    "import scipy.spatial.distance as distance\n",
    "import scipy.cluster.hierarchy as sch\n",
    "\n",
    "%matplotlib inline  \n",
    "np.random.seed(5)"
   ]
  },
  {
   "cell_type": "code",
   "execution_count": 5,
   "metadata": {
    "collapsed": true
   },
   "outputs": [],
   "source": [
    "# font size for figures\n",
    "matplotlib.rcParams.update({'font.size': 16})\n",
    "# Arial font\n",
    "matplotlib.rc('font',**{'family':'sans-serif','sans-serif':['Arial']})"
   ]
  },
  {
   "cell_type": "code",
   "execution_count": 6,
   "metadata": {
    "collapsed": true
   },
   "outputs": [],
   "source": [
    "# helper for cleaning up axes by removing ticks, tick labels, frame, etc.\n",
    "def clean_axis(ax):\n",
    "    \"\"\"Remove ticks, tick labels, and frame from axis\"\"\"\n",
    "    ax.get_xaxis().set_ticks([])\n",
    "    ax.get_yaxis().set_ticks([])\n",
    "    for sp in ax.spines.values():\n",
    "        sp.set_visible(False)"
   ]
  },
  {
   "cell_type": "code",
   "execution_count": 7,
   "metadata": {
    "collapsed": true
   },
   "outputs": [],
   "source": [
    "# test data\n",
    "testL = []\n",
    "# 5 samples from one group\n",
    "for i in range(5):\n",
    "    # 20 measurements from normal with mean 10, stdev 2\n",
    "    testL.append(np.random.normal(10,2,20))\n",
    "# 8 samples from another group\n",
    "for i in range(8):\n",
    "    # 20 measurements from normal with mean 4, stdev 4\n",
    "    testL.append(np.random.normal(4,4,20))"
   ]
  },
  {
   "cell_type": "code",
   "execution_count": 9,
   "metadata": {
    "collapsed": false
   },
   "outputs": [],
   "source": [
    "#print testL\n",
    "# permute test data and make dataframe\n",
    "testA = np.array(testL)[np.random.permutation(range(len(testL)))]\n",
    "testDF = pd.DataFrame(testA)"
   ]
  },
  {
   "cell_type": "code",
   "execution_count": 12,
   "metadata": {
    "collapsed": false
   },
   "outputs": [
    {
     "name": "stderr",
     "output_type": "stream",
     "text": [
      "/Users/pgreisen/anaconda2/lib/python2.7/site-packages/matplotlib/artist.py:233: MatplotlibDeprecationWarning: get_axes has been deprecated in mpl 1.5, please use the\n",
      "axes property.  A removal date has not been set.\n",
      "  stacklevel=1)\n"
     ]
    },
    {
     "data": {
      "image/png": "[encoded data removed]",
      "text/plain": [
       "<matplotlib.figure.Figure at 0x110ee9f10>"
      ]
     },
     "metadata": {},
     "output_type": "display_data"
    }
   ],
   "source": [
    "testDF.shape\n",
    "# print testDF\n",
    "# matrix with values\n",
    "# look at raw data\n",
    "axi = plt.imshow(testDF,interpolation='nearest',cmap=matplotlib.cm.RdBu)\n",
    "ax = axi.get_axes()\n",
    "clean_axis(ax)"
   ]
  },
  {
   "cell_type": "code",
   "execution_count": 13,
   "metadata": {
    "collapsed": false
   },
   "outputs": [
    {
     "name": "stdout",
     "output_type": "stream",
     "text": [
      "Number of rows: 13\n",
      "Size of distance matrix: (13, 13)\n"
     ]
    }
   ],
   "source": [
    "# calculate pairwise distances for rows\n",
    "pairwise_dists = distance.squareform(distance.pdist(testDF))\n",
    "print 'Number of rows: {0}'.format(testDF.shape[0])\n",
    "print 'Size of distance matrix: {0}'.format(pairwise_dists.shape)"
   ]
  },
  {
   "cell_type": "code",
   "execution_count": 14,
   "metadata": {
    "collapsed": true
   },
   "outputs": [],
   "source": [
    "# cluster\n",
    "clusters = sch.linkage(pairwise_dists,method='complete')"
   ]
  },
  {
   "cell_type": "code",
   "execution_count": 15,
   "metadata": {
    "collapsed": false
   },
   "outputs": [
    {
     "data": {
      "image/png": "[encoded data removed]",
      "text/plain": [
       "<matplotlib.figure.Figure at 0x1142d67d0>"
      ]
     },
     "metadata": {},
     "output_type": "display_data"
    }
   ],
   "source": [
    "# dendrogram\n",
    "den = sch.dendrogram(clusters)"
   ]
  },
  {
   "cell_type": "code",
   "execution_count": 16,
   "metadata": {
    "collapsed": false
   },
   "outputs": [
    {
     "data": {
      "image/png": "[encoded data removed]",
      "text/plain": [
       "<matplotlib.figure.Figure at 0x114383d90>"
      ]
     },
     "metadata": {},
     "output_type": "display_data"
    }
   ],
   "source": [
    "# make dendrograms black rather than letting scipy color them\n",
    "sch.set_link_color_palette(['black'])\n",
    "# or \n",
    "den = sch.dendrogram(clusters,color_threshold=np.inf)"
   ]
  },
  {
   "cell_type": "code",
   "execution_count": 17,
   "metadata": {
    "collapsed": true
   },
   "outputs": [],
   "source": [
    "# dendrogram without plot\n",
    "den = sch.dendrogram(clusters,color_threshold=np.inf,no_plot=True)"
   ]
  },
  {
   "cell_type": "code",
   "execution_count": 18,
   "metadata": {
    "collapsed": false
   },
   "outputs": [
    {
     "data": {
      "text/plain": [
       "[11, 1, 4, 7, 12, 10, 2, 8, 6, 9, 0, 3, 5]"
      ]
     },
     "execution_count": 18,
     "metadata": {},
     "output_type": "execute_result"
    }
   ],
   "source": [
    "den['leaves']"
   ]
  },
  {
   "cell_type": "code",
   "execution_count": 19,
   "metadata": {
    "collapsed": false
   },
   "outputs": [
    {
     "data": {
      "image/png": "[encoded data removed]",
      "text/plain": [
       "<matplotlib.figure.Figure at 0x11490be90>"
      ]
     },
     "metadata": {},
     "output_type": "display_data"
    }
   ],
   "source": [
    "axi = plt.imshow(testDF.ix[den['leaves']],interpolation='nearest',cmap=matplotlib.cm.RdBu)\n",
    "ax = axi.get_axes()\n",
    "clean_axis(ax)"
   ]
  },
  {
   "cell_type": "code",
   "execution_count": 20,
   "metadata": {
    "collapsed": false
   },
   "outputs": [
    {
     "data": {
      "text/plain": [
       "<matplotlib.figure.Figure at 0x114959e10>"
      ]
     },
     "metadata": {},
     "output_type": "display_data"
    }
   ],
   "source": [
    "fig = plt.figure()\n",
    "heatmapGS = gridspec.GridSpec(1,2,wspace=0.0,hspace=0.0,width_ratios=[0.25,1])"
   ]
  },
  {
   "cell_type": "code",
   "execution_count": 21,
   "metadata": {
    "collapsed": false
   },
   "outputs": [
    {
     "data": {
      "image/png": "[encoded data removed]",
      "text/plain": [
       "<matplotlib.figure.Figure at 0x114979ad0>"
      ]
     },
     "metadata": {},
     "output_type": "display_data"
    }
   ],
   "source": [
    "### row dendrogram ###\n",
    "denAX = fig.add_subplot(heatmapGS[0,0])\n",
    "denD = sch.dendrogram(clusters,color_threshold=np.inf,orientation='right')\n",
    "clean_axis(denAX)"
   ]
  },
  {
   "cell_type": "code",
   "execution_count": 22,
   "metadata": {
    "collapsed": true
   },
   "outputs": [],
   "source": [
    "### heatmap ###\n",
    "heatmapAX = fig.add_subplot(heatmapGS[0,1])\n",
    "axi = heatmapAX.imshow(testDF.ix[den['leaves']],interpolation='nearest',aspect='auto',origin='lower',cmap=matplotlib.cm.RdBu)\n",
    "clean_axis(heatmapAX)"
   ]
  },
  {
   "cell_type": "code",
   "execution_count": 40,
   "metadata": {
    "collapsed": false
   },
   "outputs": [
    {
     "name": "stdout",
     "output_type": "stream",
     "text": [
      "[[  1.          10.          16.01038092   2.        ]\n",
      " [ 15.          19.          16.66735436   2.        ]\n",
      " [  5.          13.          18.88195351   2.        ]\n",
      " [  2.          20.          19.27789777   3.        ]\n",
      " [ 11.          23.          19.76247617   4.        ]\n",
      " [  3.           8.          20.2772304    2.        ]\n",
      " [  4.           7.          20.90538615   2.        ]\n",
      " [  0.          16.          22.05145025   2.        ]\n",
      " [ 21.          24.          23.54954231   6.        ]\n",
      " [  6.          22.          23.59994024   3.        ]\n",
      " [ 14.          18.          24.06229643   2.        ]\n",
      " [ 12.          29.          25.47126568   4.        ]\n",
      " [  9.          17.          26.10232997   2.        ]\n",
      " [ 25.          26.          29.59004236   4.        ]\n",
      " [ 28.          30.          29.59563096   8.        ]\n",
      " [ 31.          33.          31.26286574   8.        ]\n",
      " [ 27.          34.          32.70786195  10.        ]\n",
      " [ 32.          35.          43.94991066  10.        ]\n",
      " [ 36.          37.          48.70931317  20.        ]]\n"
     ]
    }
   ],
   "source": [
    "# rename row clusters\n",
    "row_clusters = clusters\n",
    "# calculate pairwise distances for columns\n",
    "col_pairwise_dists = distance.squareform(distance.pdist(testDF.T))\n",
    "# cluster\n",
    "col_clusters = sch.linkage(col_pairwise_dists,method='complete')\n"
   ]
  },
  {
   "cell_type": "code",
   "execution_count": 43,
   "metadata": {
    "collapsed": false
   },
   "outputs": [
    {
     "name": "stdout",
     "output_type": "stream",
     "text": [
      "                        cc0        cc1        cc2        cc3        cc4  \\\n",
      "Sample Sample 11   9.128592  11.944359   9.518578   8.351753  11.136265   \n",
      "Sample Sample 1   10.882455   9.338260  14.861542   9.495816  10.219220   \n",
      "Sample Sample 4   14.177029  10.693839  11.491454  11.553815  12.036842   \n",
      "Sample Sample 7    9.388294   9.044537  10.201476  10.710877  10.539225   \n",
      "Sample Sample 12   8.038784   8.286294   8.256242   9.154984  11.992880   \n",
      "Sample Sample 10   7.169690   4.683058  -3.014963   6.521186   5.993317   \n",
      "Sample Sample 2    3.509880   0.769028   3.069775   9.340601   2.214173   \n",
      "Sample Sample 8    5.998472  -0.606177   1.557934  -2.815542   4.777750   \n",
      "Sample Sample 6   10.953795   9.860820   8.849134   1.461390  -2.398794   \n",
      "Sample Sample 9    9.802934   6.427481   2.497517  -1.687698  -3.124605   \n",
      "Sample Sample 0    1.414574   6.194271   4.842170   5.386007   1.731795   \n",
      "Sample Sample 3    7.825047   1.445958   3.427494   3.103241  -0.153981   \n",
      "Sample Sample 5    2.497170   4.138576   4.180313   0.945012   2.747446   \n",
      "\n",
      "                        cc5        cc6        cc7        cc8        cc9  \\\n",
      "Sample Sample 11  10.025517  12.378121   9.852813   4.280624  11.578733   \n",
      "Sample Sample 1   13.164962   8.181535   8.816727  10.375206   9.340260   \n",
      "Sample Sample 4   12.122703   8.579067   9.569624   8.478479   8.577674   \n",
      "Sample Sample 7   12.583927  12.278686  10.988881   9.327327   9.798771   \n",
      "Sample Sample 12  11.424843  10.118288   9.273378  10.006578   9.788139   \n",
      "Sample Sample 10   8.072550   0.614126  14.083231  -0.929544   6.907813   \n",
      "Sample Sample 2    3.800845   2.525821   3.233042   7.278720   6.126535   \n",
      "Sample Sample 8    4.112965   7.730242   4.848173   2.528222  12.445954   \n",
      "Sample Sample 6    7.508611   3.624670   3.777316   0.442317  -1.203806   \n",
      "Sample Sample 9    1.008377   2.526362  -4.996473  -2.774700   5.214594   \n",
      "Sample Sample 0    5.654715   1.958976   6.069037   2.795979  -0.473626   \n",
      "Sample Sample 3    3.313164   5.905385   2.343287  -1.056333   1.707138   \n",
      "Sample Sample 5    1.572042  -3.238205   2.977929   1.224803   5.676791   \n",
      "\n",
      "                       cc10       cc11       cc12       cc13      cc14  \\\n",
      "Sample Sample 11   6.244518  13.077512  13.642729   9.145937  7.670596   \n",
      "Sample Sample 1    7.614471   9.590247   9.282342  11.206943  6.670423   \n",
      "Sample Sample 4   12.283015   8.996489   9.841697   8.614347  8.813194   \n",
      "Sample Sample 7   12.826796  10.442508   7.378454   8.620870  8.844974   \n",
      "Sample Sample 12  11.586107   8.736857   9.987610   9.797865  9.895384   \n",
      "Sample Sample 10   4.183821   2.051469   7.264529   2.874280 -5.342487   \n",
      "Sample Sample 2    2.633540   0.276398   3.463132   7.330374  3.930587   \n",
      "Sample Sample 8   -0.118294  -1.345121   1.557731   6.098777  2.602767   \n",
      "Sample Sample 6    9.608666   5.860404  -0.260130   5.561682  5.222401   \n",
      "Sample Sample 9    2.364031   0.980678   2.369923   0.749501  7.710065   \n",
      "Sample Sample 0    5.994094   1.175625   9.775524   5.771825  5.870821   \n",
      "Sample Sample 3    4.999269   8.588808   7.343776   5.149615  0.017615   \n",
      "Sample Sample 5    3.419199   7.855205   6.784888   7.597622  8.833512   \n",
      "\n",
      "                       cc15       cc16       cc17       cc18       cc19  \n",
      "Sample Sample 11   7.205852  11.745309   9.595764   8.803280   9.513161  \n",
      "Sample Sample 1    8.599642  12.302782  13.714662   6.977641  11.289695  \n",
      "Sample Sample 4   11.576476   9.109140   9.035760  10.987115  11.000975  \n",
      "Sample Sample 7   12.304410   9.785672  14.520214  11.313239  10.249614  \n",
      "Sample Sample 12  10.498435  10.395320  12.669697   9.826249  13.123065  \n",
      "Sample Sample 10  -0.669114   5.830632  12.951862  -1.925037   3.932219  \n",
      "Sample Sample 2    3.489367  -3.231666   7.975876  -1.964515  -1.128430  \n",
      "Sample Sample 8    2.237046  -0.485150   9.891379   1.506511  -0.322808  \n",
      "Sample Sample 6    6.087398  12.933083   3.861192  -1.118493   4.146171  \n",
      "Sample Sample 9   10.559816  12.294462   6.839191   6.988610   9.852382  \n",
      "Sample Sample 0    4.405379   3.762592  -5.546791   8.888682   0.744352  \n",
      "Sample Sample 3    7.627558   4.096843   3.040073   7.640442   6.471379  \n",
      "Sample Sample 5    6.773015   3.334558   9.412452   0.285494   3.858110  \n"
     ]
    },
    {
     "data": {
      "image/png": "[encoded data removed]",
      "text/plain": [
       "<matplotlib.figure.Figure at 0x115b4f750>"
      ]
     },
     "metadata": {},
     "output_type": "display_data"
    }
   ],
   "source": [
    "# plot the results\n",
    "fig = plt.figure()\n",
    "heatmapGS = gridspec.GridSpec(2,2,wspace=0.0,hspace=0.0,width_ratios=[0.25,1],height_ratios=[0.25,1])\n",
    "\n",
    "### col dendrogram ####\n",
    "col_denAX = fig.add_subplot(heatmapGS[0,1])\n",
    "col_denD = sch.dendrogram(col_clusters,color_threshold=np.inf)\n",
    "clean_axis(col_denAX)\n",
    "\n",
    "### row dendrogram ###\n",
    "row_denAX = fig.add_subplot(heatmapGS[1,0])\n",
    "row_denD = sch.dendrogram(row_clusters,color_threshold=np.inf,orientation='left')\n",
    "clean_axis(row_denAX)\n",
    "\n",
    "### heatmap ###\n",
    "heatmapAX = fig.add_subplot(heatmapGS[1,1])\n",
    "axi = heatmapAX.imshow(testDF.ix[den['leaves'],col_denD['leaves']],interpolation='nearest',aspect='auto',origin='lower',cmap=matplotlib.cm.RdBu)\n",
    "clean_axis(heatmapAX)\n",
    "\n",
    "fig.tight_layout()"
   ]
  },
  {
   "cell_type": "code",
   "execution_count": 36,
   "metadata": {
    "collapsed": false
   },
   "outputs": [
    {
     "data": {
      "text/plain": [
       "Index([u'cc0', u'cc1', u'cc2', u'cc3', u'cc4', u'cc5', u'cc6', u'cc7', u'cc8',\n",
       "       u'cc9', u'cc10', u'cc11', u'cc12', u'cc13', u'cc14', u'cc15', u'cc16',\n",
       "       u'cc17', u'cc18', u'cc19'],\n",
       "      dtype='object')"
      ]
     },
     "execution_count": 36,
     "metadata": {},
     "output_type": "execute_result"
    }
   ],
   "source": [
    "testDF.index = [ 'Sample ' + str(x) for x in testDF.index ]\n",
    "testDF.columns = [ 'c' + str(x) for x in testDF.columns ]\n",
    "testDF.columns"
   ]
  },
  {
   "cell_type": "code",
   "execution_count": 27,
   "metadata": {
    "collapsed": false
   },
   "outputs": [
    {
     "data": {
      "text/plain": [
       "Index([u'Sample 11', u'Sample 1', u'Sample 4', u'Sample 7', u'Sample 12',\n",
       "       u'Sample 10', u'Sample 2', u'Sample 8', u'Sample 6', u'Sample 9',\n",
       "       u'Sample 0', u'Sample 3', u'Sample 5'],\n",
       "      dtype='object')"
      ]
     },
     "execution_count": 27,
     "metadata": {},
     "output_type": "execute_result"
    }
   ],
   "source": [
    "testDF.index[row_denD['leaves']]"
   ]
  },
  {
   "cell_type": "code",
   "execution_count": 44,
   "metadata": {
    "collapsed": true
   },
   "outputs": [],
   "source": [
    "heatmapAX.yaxis.set_ticks_position('right')"
   ]
  },
  {
   "cell_type": "code",
   "execution_count": 45,
   "metadata": {
    "collapsed": false
   },
   "outputs": [
    {
     "data": {
      "text/plain": [
       "[<matplotlib.axis.YTick at 0x1151ee610>,\n",
       " <matplotlib.axis.YTick at 0x1151eed10>,\n",
       " <matplotlib.axis.YTick at 0x11516ff10>,\n",
       " <matplotlib.axis.YTick at 0x11573bdd0>,\n",
       " <matplotlib.axis.YTick at 0x1157e2fd0>,\n",
       " <matplotlib.axis.YTick at 0x1157b2ed0>,\n",
       " <matplotlib.axis.YTick at 0x115780750>,\n",
       " <matplotlib.axis.YTick at 0x1158143d0>,\n",
       " <matplotlib.axis.YTick at 0x1151a5f90>,\n",
       " <matplotlib.axis.YTick at 0x114f16650>,\n",
       " <matplotlib.axis.YTick at 0x11510cf10>,\n",
       " <matplotlib.axis.YTick at 0x114f30f50>,\n",
       " <matplotlib.axis.YTick at 0x114f30110>]"
      ]
     },
     "execution_count": 45,
     "metadata": {},
     "output_type": "execute_result"
    }
   ],
   "source": [
    "from pylab import *\n",
    "heatmapAX.set_yticks(arange(testDF.shape[0]))"
   ]
  },
  {
   "cell_type": "code",
   "execution_count": 47,
   "metadata": {
    "collapsed": false
   },
   "outputs": [
    {
     "data": {
      "image/png": "[encoded data removed]",
      "text/plain": [
       "<matplotlib.figure.Figure at 0x1152e2dd0>"
      ]
     },
     "metadata": {},
     "output_type": "display_data"
    }
   ],
   "source": [
    "# heatmap with row names\n",
    "fig = plt.figure()\n",
    "heatmapGS = gridspec.GridSpec(2,2,wspace=0.0,hspace=0.0,width_ratios=[0.25,1],height_ratios=[0.25,1])\n",
    "\n",
    "### col dendrogram ###\n",
    "col_denAX = fig.add_subplot(heatmapGS[0,1])\n",
    "col_denD = sch.dendrogram(col_clusters,color_threshold=np.inf)\n",
    "clean_axis(col_denAX)\n",
    "\n",
    "### row dendrogram ###\n",
    "row_denAX = fig.add_subplot(heatmapGS[1,0])\n",
    "row_denD = sch.dendrogram(row_clusters,color_threshold=np.inf,orientation='left')\n",
    "clean_axis(row_denAX)\n",
    "\n",
    "### heatmap ###\n",
    "heatmapAX = fig.add_subplot(heatmapGS[1,1])\n",
    "axi = heatmapAX.imshow(testDF.ix[den['leaves'],col_denD['leaves']],interpolation='nearest',aspect='auto',origin='lower',cmap=matplotlib.cm.RdBu)\n",
    "clean_axis(heatmapAX)\n",
    "\n",
    "## row labels ##\n",
    "heatmapAX.set_yticks(np.arange(testDF.shape[0]))\n",
    "heatmapAX.yaxis.set_ticks_position('right')\n",
    "heatmapAX.set_yticklabels(testDF.index[row_denD['leaves']])\n",
    "# remove the tick lines - line near text\n",
    "for l in heatmapAX.get_xticklines() + heatmapAX.get_yticklines(): \n",
    "    l.set_markersize(0)\n",
    "\n",
    "fig.tight_layout()"
   ]
  },
  {
   "cell_type": "code",
   "execution_count": 35,
   "metadata": {
    "collapsed": false
   },
   "outputs": [
    {
     "data": {
      "image/png": "[encoded data removed]",
      "text/plain": [
       "<matplotlib.figure.Figure at 0x1154d5d10>"
      ]
     },
     "metadata": {},
     "output_type": "display_data"
    }
   ],
   "source": [
    "# heatmap with row names\n",
    "fig = plt.figure()\n",
    "heatmapGS = gridspec.GridSpec(2,2,wspace=0.0,hspace=0.0,width_ratios=[0.25,1],height_ratios=[0.25,1])\n",
    "\n",
    "### col dendrogram ###\n",
    "col_denAX = fig.add_subplot(heatmapGS[0,1])\n",
    "col_denD = sch.dendrogram(col_clusters,color_threshold=np.inf)\n",
    "clean_axis(col_denAX)\n",
    "\n",
    "### row dendrogram ###\n",
    "row_denAX = fig.add_subplot(heatmapGS[1,0])\n",
    "row_denD = sch.dendrogram(row_clusters,color_threshold=np.inf,orientation='left')\n",
    "clean_axis(row_denAX)\n",
    "\n",
    "### heatmap ####\n",
    "heatmapAX = fig.add_subplot(heatmapGS[1,1])\n",
    "axi = heatmapAX.imshow(testDF.ix[row_denD['leaves'],col_denD['leaves']],interpolation='nearest',aspect='auto',origin='lower',cmap=matplotlib.cm.RdBu)\n",
    "clean_axis(heatmapAX)\n",
    "\n",
    "## row labels ##\n",
    "heatmapAX.set_yticks(np.arange(testDF.shape[0]))\n",
    "heatmapAX.yaxis.set_ticks_position('right')\n",
    "heatmapAX.set_yticklabels(testDF.index[row_denD['leaves']])\n",
    "\n",
    "## col labels ##\n",
    "heatmapAX.set_xticks(np.arange(testDF.shape[1]))\n",
    "xlabelsL = heatmapAX.set_xticklabels(testDF.columns[col_denD['leaves']])\n",
    "# rotate labels 90 degrees\n",
    "for label in xlabelsL:\n",
    "    label.set_rotation(90)\n",
    "# remove the tick lines\n",
    "for l in heatmapAX.get_xticklines() + heatmapAX.get_yticklines(): \n",
    "    l.set_markersize(0)\n",
    "\n",
    "fig.tight_layout()"
   ]
  },
  {
   "cell_type": "code",
   "execution_count": null,
   "metadata": {
    "collapsed": true
   },
   "outputs": [],
   "source": []
  }
 ],
 "metadata": {
  "kernelspec": {
   "display_name": "Python 2",
   "language": "python",
   "name": "python2"
  },
  "language_info": {
   "codemirror_mode": {
    "name": "ipython",
    "version": 2
   },
   "file_extension": ".py",
   "mimetype": "text/x-python",
   "name": "python",
   "nbconvert_exporter": "python",
   "pygments_lexer": "ipython2",
   "version": "2.7.13"
  }
 },
 "nbformat": 4,
 "nbformat_minor": 2
}
