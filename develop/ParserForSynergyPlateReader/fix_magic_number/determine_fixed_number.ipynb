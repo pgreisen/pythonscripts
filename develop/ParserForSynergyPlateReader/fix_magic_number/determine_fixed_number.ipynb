{
 "cells": [
  {
   "cell_type": "code",
   "execution_count": 1,
   "metadata": {},
   "outputs": [],
   "source": [
    "import pandas as pd\n",
    "import seaborn as sns\n",
    "import numpy as np\n",
    "import matplotlib.pyplot as plt\n",
    "%matplotlib inline"
   ]
  },
  {
   "cell_type": "code",
   "execution_count": 2,
   "metadata": {},
   "outputs": [
    {
     "data": {
      "text/html": [
       "<div>\n",
       "<style scoped>\n",
       "    .dataframe tbody tr th:only-of-type {\n",
       "        vertical-align: middle;\n",
       "    }\n",
       "\n",
       "    .dataframe tbody tr th {\n",
       "        vertical-align: top;\n",
       "    }\n",
       "\n",
       "    .dataframe thead th {\n",
       "        text-align: right;\n",
       "    }\n",
       "</style>\n",
       "<table border=\"1\" class=\"dataframe\">\n",
       "  <thead>\n",
       "    <tr style=\"text-align: right;\">\n",
       "      <th></th>\n",
       "      <th>0</th>\n",
       "      <th>1</th>\n",
       "      <th>2</th>\n",
       "      <th>3</th>\n",
       "      <th>4</th>\n",
       "      <th>5</th>\n",
       "      <th>6</th>\n",
       "      <th>7</th>\n",
       "      <th>8</th>\n",
       "      <th>9</th>\n",
       "      <th>10</th>\n",
       "      <th>11</th>\n",
       "      <th>12</th>\n",
       "      <th>13</th>\n",
       "      <th>14</th>\n",
       "    </tr>\n",
       "  </thead>\n",
       "  <tbody>\n",
       "    <tr>\n",
       "      <th>0</th>\n",
       "      <td>Software Version</td>\n",
       "      <td>2.06.10</td>\n",
       "      <td>NaN</td>\n",
       "      <td>NaN</td>\n",
       "      <td>NaN</td>\n",
       "      <td>NaN</td>\n",
       "      <td>NaN</td>\n",
       "      <td>NaN</td>\n",
       "      <td>NaN</td>\n",
       "      <td>NaN</td>\n",
       "      <td>NaN</td>\n",
       "      <td>NaN</td>\n",
       "      <td>NaN</td>\n",
       "      <td>NaN</td>\n",
       "      <td>NaN</td>\n",
       "    </tr>\n",
       "    <tr>\n",
       "      <th>1</th>\n",
       "      <td>Experiment File Path:</td>\n",
       "      <td>NaN</td>\n",
       "      <td>NaN</td>\n",
       "      <td>NaN</td>\n",
       "      <td>NaN</td>\n",
       "      <td>NaN</td>\n",
       "      <td>NaN</td>\n",
       "      <td>NaN</td>\n",
       "      <td>NaN</td>\n",
       "      <td>NaN</td>\n",
       "      <td>NaN</td>\n",
       "      <td>NaN</td>\n",
       "      <td>NaN</td>\n",
       "      <td>NaN</td>\n",
       "      <td>NaN</td>\n",
       "    </tr>\n",
       "    <tr>\n",
       "      <th>2</th>\n",
       "      <td>Protocol File Path:</td>\n",
       "      <td>NaN</td>\n",
       "      <td>NaN</td>\n",
       "      <td>NaN</td>\n",
       "      <td>NaN</td>\n",
       "      <td>NaN</td>\n",
       "      <td>NaN</td>\n",
       "      <td>NaN</td>\n",
       "      <td>NaN</td>\n",
       "      <td>NaN</td>\n",
       "      <td>NaN</td>\n",
       "      <td>NaN</td>\n",
       "      <td>NaN</td>\n",
       "      <td>NaN</td>\n",
       "      <td>NaN</td>\n",
       "    </tr>\n",
       "    <tr>\n",
       "      <th>3</th>\n",
       "      <td>Plate Number</td>\n",
       "      <td>Plate 4</td>\n",
       "      <td>NaN</td>\n",
       "      <td>NaN</td>\n",
       "      <td>NaN</td>\n",
       "      <td>NaN</td>\n",
       "      <td>NaN</td>\n",
       "      <td>NaN</td>\n",
       "      <td>NaN</td>\n",
       "      <td>NaN</td>\n",
       "      <td>NaN</td>\n",
       "      <td>NaN</td>\n",
       "      <td>NaN</td>\n",
       "      <td>NaN</td>\n",
       "      <td>NaN</td>\n",
       "    </tr>\n",
       "    <tr>\n",
       "      <th>4</th>\n",
       "      <td>Date</td>\n",
       "      <td>2018-10-31 00:00:00</td>\n",
       "      <td>NaN</td>\n",
       "      <td>NaN</td>\n",
       "      <td>NaN</td>\n",
       "      <td>NaN</td>\n",
       "      <td>NaN</td>\n",
       "      <td>NaN</td>\n",
       "      <td>NaN</td>\n",
       "      <td>NaN</td>\n",
       "      <td>NaN</td>\n",
       "      <td>NaN</td>\n",
       "      <td>NaN</td>\n",
       "      <td>NaN</td>\n",
       "      <td>NaN</td>\n",
       "    </tr>\n",
       "  </tbody>\n",
       "</table>\n",
       "</div>"
      ],
      "text/plain": [
       "                      0                    1   2   3   4   5   6   7   8   9   \\\n",
       "0       Software Version              2.06.10 NaN NaN NaN NaN NaN NaN NaN NaN   \n",
       "1  Experiment File Path:                  NaN NaN NaN NaN NaN NaN NaN NaN NaN   \n",
       "2    Protocol File Path:                  NaN NaN NaN NaN NaN NaN NaN NaN NaN   \n",
       "3           Plate Number              Plate 4 NaN NaN NaN NaN NaN NaN NaN NaN   \n",
       "4                   Date  2018-10-31 00:00:00 NaN NaN NaN NaN NaN NaN NaN NaN   \n",
       "\n",
       "   10  11  12  13   14  \n",
       "0 NaN NaN NaN NaN  NaN  \n",
       "1 NaN NaN NaN NaN  NaN  \n",
       "2 NaN NaN NaN NaN  NaN  \n",
       "3 NaN NaN NaN NaN  NaN  \n",
       "4 NaN NaN NaN NaN  NaN  "
      ]
     },
     "execution_count": 2,
     "metadata": {},
     "output_type": "execute_result"
    }
   ],
   "source": [
    "#df1 = pd.read_excel(\"CDA_E1036.xlsx\", sheet_name=1,header=None)\n",
    "df1 = pd.read_excel(\"CDA_E1036_mod.xlsx\",header=None, sheet_name=1)\n",
    "df1.dropna(how=\"all\", inplace=True)\n",
    "df1.reset_index(inplace=True,drop=True)\n",
    "df1.head()"
   ]
  },
  {
   "cell_type": "code",
   "execution_count": 3,
   "metadata": {},
   "outputs": [],
   "source": [
    "metadata_index = 0\n",
    "for i,j in zip(df1.index,df1[0]):\n",
    "    if(j == 'Actual Temperature:'):\n",
    "        metadata_index = i+1"
   ]
  },
  {
   "cell_type": "code",
   "execution_count": 4,
   "metadata": {},
   "outputs": [
    {
     "name": "stdout",
     "output_type": "stream",
     "text": [
      "Software Version 2.06.10\n",
      "Experiment File Path: nan\n",
      "Protocol File Path: nan\n",
      "Plate Number Plate 4\n",
      "Date 2018-10-31 00:00:00\n",
      "Time 09:45:43\n",
      "Reader Type: Synergy H1\n",
      "Reader Serial Number: 1411074\n",
      "Reading Type Reader\n",
      "Procedure Details nan\n",
      "Plate Type 96 WELL PLATE\n",
      "Read Absorbance Endpoint\n",
      "nan Full Plate\n",
      "nan Wavelengths:  600\n",
      "nan Read Speed: Normal,  Delay: 100 msec,  Measurements/Data Point: 8\n",
      "Read Fluorescence Endpoint\n",
      "nan Full Plate\n",
      "nan Filter Set 1\n",
      "nan     Excitation: 485,  Emission: 515\n",
      "nan     Optics: Top,  Gain: 60\n",
      "nan Light Source: Xenon Flash,  Lamp Energy: High\n",
      "nan Read Speed: Normal,  Delay: 100 msec,  Measurements/Data Point: 10\n",
      "nan Read Height: 7 mm\n",
      "Results nan\n",
      "Actual Temperature: 21.7\n",
      "Actual Temperature: 21.7\n"
     ]
    }
   ],
   "source": [
    "# get the json information\n",
    "#metadata_index=27\n",
    "jsondic = {}\n",
    "for i, j in zip(df1[:metadata_index][0], df1[:metadata_index][1]):\n",
    "    print(i,j)\n",
    "    if (i not in jsondic.keys() and not pd.isna(i)):\n",
    "        key = i\n",
    "        jsondic[key] = []\n",
    "    jsondic[key].append(j)"
   ]
  },
  {
   "cell_type": "code",
   "execution_count": 5,
   "metadata": {},
   "outputs": [
    {
     "name": "stdout",
     "output_type": "stream",
     "text": [
      "{'Software Version': ['2.06.10'], 'Experiment File Path:': [nan], 'Protocol File Path:': [nan], 'Plate Number': ['Plate 4'], 'Date': [datetime.datetime(2018, 10, 31, 0, 0)], 'Time': [datetime.time(9, 45, 43)], 'Reader Type:': ['Synergy H1'], 'Reader Serial Number:': [1411074], 'Reading Type': ['Reader'], 'Procedure Details': [nan], 'Plate Type': ['96 WELL PLATE'], 'Read': ['Absorbance Endpoint', 'Full Plate', 'Wavelengths:  600', 'Read Speed: Normal,  Delay: 100 msec,  Measurements/Data Point: 8', 'Fluorescence Endpoint', 'Full Plate', 'Filter Set 1', '    Excitation: 485,  Emission: 515', '    Optics: Top,  Gain: 60', 'Light Source: Xenon Flash,  Lamp Energy: High', 'Read Speed: Normal,  Delay: 100 msec,  Measurements/Data Point: 10', 'Read Height: 7 mm'], 'Results': [nan], 'Actual Temperature:': [21.7, 21.7]}\n"
     ]
    }
   ],
   "source": [
    "print(jsondic)"
   ]
  },
  {
   "cell_type": "code",
   "execution_count": 6,
   "metadata": {},
   "outputs": [
    {
     "name": "stdout",
     "output_type": "stream",
     "text": [
      "26\n"
     ]
    }
   ],
   "source": [
    "print(metadata_index)"
   ]
  },
  {
   "cell_type": "code",
   "execution_count": null,
   "metadata": {},
   "outputs": [],
   "source": []
  }
 ],
 "metadata": {
  "kernelspec": {
   "display_name": "Python 3",
   "language": "python",
   "name": "python3"
  },
  "language_info": {
   "codemirror_mode": {
    "name": "ipython",
    "version": 3
   },
   "file_extension": ".py",
   "mimetype": "text/x-python",
   "name": "python",
   "nbconvert_exporter": "python",
   "pygments_lexer": "ipython3",
   "version": "3.6.8"
  }
 },
 "nbformat": 4,
 "nbformat_minor": 2
}
