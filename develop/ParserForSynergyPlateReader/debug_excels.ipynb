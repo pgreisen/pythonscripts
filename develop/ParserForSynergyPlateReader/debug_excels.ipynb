{
 "cells": [
  {
   "cell_type": "code",
   "execution_count": 1,
   "metadata": {},
   "outputs": [],
   "source": [
    "import pandas as pd\n",
    "import seaborn as sns\n",
    "import numpy as np\n",
    "import matplotlib.pyplot as plt\n",
    "%matplotlib inline"
   ]
  },
  {
   "cell_type": "code",
   "execution_count": 2,
   "metadata": {},
   "outputs": [],
   "source": [
    "df = pd.read_excel(\"2019-08-30_format_parser_input.xlsx\")"
   ]
  },
  {
   "cell_type": "code",
   "execution_count": 10,
   "metadata": {},
   "outputs": [
    {
     "data": {
      "text/html": [
       "<div>\n",
       "<style scoped>\n",
       "    .dataframe tbody tr th:only-of-type {\n",
       "        vertical-align: middle;\n",
       "    }\n",
       "\n",
       "    .dataframe tbody tr th {\n",
       "        vertical-align: top;\n",
       "    }\n",
       "\n",
       "    .dataframe thead th {\n",
       "        text-align: right;\n",
       "    }\n",
       "</style>\n",
       "<table border=\"1\" class=\"dataframe\">\n",
       "  <thead>\n",
       "    <tr style=\"text-align: right;\">\n",
       "      <th></th>\n",
       "      <th>Plate_Number</th>\n",
       "      <th>Ligands</th>\n",
       "      <th>PlateID</th>\n",
       "      <th>plasmidID</th>\n",
       "      <th>PlatemapID</th>\n",
       "      <th>Read 1:600</th>\n",
       "      <th>Read 2:485,515</th>\n",
       "      <th>Conc (uM)</th>\n",
       "    </tr>\n",
       "  </thead>\n",
       "  <tbody>\n",
       "    <tr>\n",
       "      <th>0</th>\n",
       "      <td>Plate 1</td>\n",
       "      <td>TCA</td>\n",
       "      <td>Q</td>\n",
       "      <td>p1902</td>\n",
       "      <td>A1</td>\n",
       "      <td>0.826</td>\n",
       "      <td>2705</td>\n",
       "      <td>6.750</td>\n",
       "    </tr>\n",
       "    <tr>\n",
       "      <th>1</th>\n",
       "      <td>Plate 1</td>\n",
       "      <td>TCA</td>\n",
       "      <td>Q</td>\n",
       "      <td>p1902</td>\n",
       "      <td>B1</td>\n",
       "      <td>0.892</td>\n",
       "      <td>2013</td>\n",
       "      <td>3.380</td>\n",
       "    </tr>\n",
       "    <tr>\n",
       "      <th>2</th>\n",
       "      <td>Plate 1</td>\n",
       "      <td>TCA</td>\n",
       "      <td>Q</td>\n",
       "      <td>p1902</td>\n",
       "      <td>C1</td>\n",
       "      <td>0.905</td>\n",
       "      <td>1898</td>\n",
       "      <td>1.690</td>\n",
       "    </tr>\n",
       "    <tr>\n",
       "      <th>3</th>\n",
       "      <td>Plate 1</td>\n",
       "      <td>TCA</td>\n",
       "      <td>Q</td>\n",
       "      <td>p1902</td>\n",
       "      <td>D1</td>\n",
       "      <td>0.939</td>\n",
       "      <td>1784</td>\n",
       "      <td>0.844</td>\n",
       "    </tr>\n",
       "    <tr>\n",
       "      <th>4</th>\n",
       "      <td>Plate 1</td>\n",
       "      <td>TCA</td>\n",
       "      <td>Q</td>\n",
       "      <td>p1902</td>\n",
       "      <td>E1</td>\n",
       "      <td>0.932</td>\n",
       "      <td>1667</td>\n",
       "      <td>0.422</td>\n",
       "    </tr>\n",
       "  </tbody>\n",
       "</table>\n",
       "</div>"
      ],
      "text/plain": [
       "  Plate_Number Ligands PlateID plasmidID PlatemapID  Read 1:600  \\\n",
       "0      Plate 1     TCA       Q     p1902         A1       0.826   \n",
       "1      Plate 1     TCA       Q     p1902         B1       0.892   \n",
       "2      Plate 1     TCA       Q     p1902         C1       0.905   \n",
       "3      Plate 1     TCA       Q     p1902         D1       0.939   \n",
       "4      Plate 1     TCA       Q     p1902         E1       0.932   \n",
       "\n",
       "  Read 2:485,515  Conc (uM)  \n",
       "0           2705      6.750  \n",
       "1           2013      3.380  \n",
       "2           1898      1.690  \n",
       "3           1784      0.844  \n",
       "4           1667      0.422  "
      ]
     },
     "execution_count": 10,
     "metadata": {},
     "output_type": "execute_result"
    }
   ],
   "source": [
    "df.head()"
   ]
  },
  {
   "cell_type": "code",
   "execution_count": 12,
   "metadata": {},
   "outputs": [],
   "source": [
    "# df.astype(float)\n",
    "df['Read 2:485,515'] = pd.to_numeric(df['Read 2:485,515'],errors='coerce')"
   ]
  },
  {
   "cell_type": "code",
   "execution_count": 14,
   "metadata": {},
   "outputs": [],
   "source": [
    "df.to_excel(\"test2.xlsx\")"
   ]
  },
  {
   "cell_type": "code",
   "execution_count": null,
   "metadata": {},
   "outputs": [],
   "source": []
  }
 ],
 "metadata": {
  "kernelspec": {
   "display_name": "Python 3",
   "language": "python",
   "name": "python3"
  },
  "language_info": {
   "codemirror_mode": {
    "name": "ipython",
    "version": 3
   },
   "file_extension": ".py",
   "mimetype": "text/x-python",
   "name": "python",
   "nbconvert_exporter": "python",
   "pygments_lexer": "ipython3",
   "version": "3.6.8"
  }
 },
 "nbformat": 4,
 "nbformat_minor": 2
}
