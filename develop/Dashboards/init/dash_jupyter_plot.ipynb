{
 "cells": [
  {
   "cell_type": "markdown",
   "metadata": {},
   "source": [
    "## Example of jupyterlab-dash extension"
   ]
  },
  {
   "cell_type": "code",
   "execution_count": 5,
   "metadata": {},
   "outputs": [],
   "source": [
    "# Imports\n",
    "import dash\n",
    "import dash_core_components as dcc\n",
    "import dash_html_components as html\n",
    "import pandas as pd\n",
    "import plotly.graph_objs as go"
   ]
  },
  {
   "cell_type": "code",
   "execution_count": 1,
   "metadata": {},
   "outputs": [],
   "source": [
    "import pandas as pd\n",
    "import seaborn as sns\n",
    "import numpy as np\n",
    "from scipy.stats import gmean\n",
    "import matplotlib.pyplot as plt\n",
    "import math\n",
    "import datetime\n",
    "date = str(datetime.date.today())\n",
    "from datetime import datetime as dt\n",
    "import numpy as np\n",
    "import pandas as pd\n",
    "from ipywidgets import widgets\n",
    "#from _plotly_future_ import v4_subplots\n",
    "from plotly.subplots import make_subplots\n",
    "import plotly\n",
    "from plotly.graph_objs import Scatter, Layout\n",
    "import plotly\n",
    "import plotly.offline as offline\n",
    "import plotly.graph_objs as go\n",
    "import plotly.plotly as py\n",
    "import plotly.figure_factory as ff"
   ]
  },
  {
   "cell_type": "code",
   "execution_count": 7,
   "metadata": {},
   "outputs": [],
   "source": [
    "# Build AppViewer \n",
    "from jupyterlab_dash import AppViewer\n",
    "viewer = AppViewer()"
   ]
  },
  {
   "cell_type": "code",
   "execution_count": 8,
   "metadata": {},
   "outputs": [],
   "source": [
    "# Inputfile name                                                                                      \n",
    "inp_file = \"2020-01-02_20191219_APassay_protease_challenge_AP-HT_variantsrepeat_project_KineticMeasurements.csv\"\n",
    "\n",
    "# names for output file                                                                               \n",
    "exp=\"elanco_20191219_APassay_protease_challenge_AP-HT_variantsrepeat\"\n",
    "read = 2\n",
    "\n",
    "run=\"run_\"+str(read)+\"_\"\n",
    "pth = \"/Users/pgreisen/Projects/Enevolv/elanco/20200102_AP_R3R4_HT/\"\n",
    "\n",
    "df_reformat = pd.read_csv(pth+inp_file)\n",
    "df_reformat = df_reformat[df_reformat['read'] == read]\n",
    "\n",
    "cols_to_keep = ['temperature', 'well', 'fluorescence', 'time_s']\n",
    "df_reformat = df_reformat[cols_to_keep]\n",
    "\n",
    "\n",
    "# In[4]:\n",
    "df_reformat['fluorescence']  = df_reformat['fluorescence'].replace('OVRFLW',0)\n",
    "df_reformat['fluorescence'] = df_reformat['fluorescence'].astype(float)\n",
    "\n",
    "\n",
    "# In[5]:\n",
    "df = df_reformat.pivot_table(index=['time_s', 'temperature'],columns=['well'])\n",
    "df.columns = df.columns.droplevel(0)\n",
    "df = df.rename_axis(None, axis=1)\n",
    "df = df.reset_index()\n",
    "df = df.drop(labels=['temperature'],axis=1)\n",
    "order_of_output_columns = sorted(list(df.columns), key=lambda x: (x[0], x[1:-1]))\n",
    "# this has been changed to seconds and is converted into minutes here                                 \n",
    "df[\"time_min\"] = df['time_s'] / 60\n",
    "df.fillna(value=0.0,inplace=True)\n",
    "dataframes = df"
   ]
  },
  {
   "cell_type": "code",
   "execution_count": 4,
   "metadata": {},
   "outputs": [
    {
     "ename": "NameError",
     "evalue": "name 'dash' is not defined",
     "output_type": "error",
     "traceback": [
      "\u001b[0;31m---------------------------------------------------------------------------\u001b[0m",
      "\u001b[0;31mNameError\u001b[0m                                 Traceback (most recent call last)",
      "\u001b[0;32m<ipython-input-4-47c81d7538ed>\u001b[0m in \u001b[0;36m<module>\u001b[0;34m\u001b[0m\n\u001b[1;32m      1\u001b[0m \u001b[0;31m# Build App\u001b[0m\u001b[0;34m\u001b[0m\u001b[0;34m\u001b[0m\u001b[0;34m\u001b[0m\u001b[0m\n\u001b[1;32m      2\u001b[0m \u001b[0mexternal_stylesheets\u001b[0m \u001b[0;34m=\u001b[0m \u001b[0;34m[\u001b[0m\u001b[0;34m'https://codepen.io/chriddyp/pen/bWLwgP.css'\u001b[0m\u001b[0;34m]\u001b[0m\u001b[0;34m\u001b[0m\u001b[0;34m\u001b[0m\u001b[0m\n\u001b[0;32m----> 3\u001b[0;31m \u001b[0mapp\u001b[0m \u001b[0;34m=\u001b[0m \u001b[0mdash\u001b[0m\u001b[0;34m.\u001b[0m\u001b[0mDash\u001b[0m\u001b[0;34m(\u001b[0m\u001b[0m__name__\u001b[0m\u001b[0;34m,\u001b[0m \u001b[0mexternal_stylesheets\u001b[0m\u001b[0;34m=\u001b[0m\u001b[0mexternal_stylesheets\u001b[0m\u001b[0;34m)\u001b[0m\u001b[0;34m\u001b[0m\u001b[0;34m\u001b[0m\u001b[0m\n\u001b[0m\u001b[1;32m      4\u001b[0m \u001b[0;34m\u001b[0m\u001b[0m\n\u001b[1;32m      5\u001b[0m app.layout = html.Div([\n",
      "\u001b[0;31mNameError\u001b[0m: name 'dash' is not defined"
     ]
    }
   ],
   "source": [
    "# Build App\n",
    "external_stylesheets = ['https://codepen.io/chriddyp/pen/bWLwgP.css']\n",
    "app = dash.Dash(__name__, external_stylesheets=external_stylesheets)\n",
    "\n",
    "app.layout = html.Div([\n",
    "    html.Div([\n",
    "        html.Div([\n",
    "            dcc.Dropdown(\n",
    "                id='xaxis',\n",
    "                options=[{'label': i, 'value': i} for i in ['time_s','time_min']],\n",
    "                value='time_s'\n",
    "            )\n",
    "        ],\n",
    "        style={'width': '48%', 'display': 'inline-block'}),\n",
    "        html.Div([\n",
    "            dcc.Dropdown(\n",
    "                id='yaxis',\n",
    "                options=[{'label': i, 'value': i} for i in list(df.columns)],\n",
    "                value='A1'\n",
    "            ),],style={'width': '48%', 'float': 'right', 'display': 'inline-block'})\n",
    "    ]),\n",
    "\n",
    "    dcc.Graph(id='indicator-graphic'),\n",
    "    # Adding more to the dashboard\n",
    "    ])\n",
    "\n",
    "# Callbacks\n",
    "@app.callback(\n",
    "    dash.dependencies.Output('indicator-graphic', 'figure'),\n",
    "    [dash.dependencies.Input('xaxis', 'value'),\n",
    "     dash.dependencies.Input('yaxis', 'value')])\n",
    "\n",
    "def update_graph(xaxis_column_name, yaxis_column_name):\n",
    "    dff = df\n",
    "    return {\n",
    "        'data': [go.Scatter(\n",
    "            x=dff[xaxis_column_name],\n",
    "            y=dff[yaxis_column_name],\n",
    "            mode='lines+markers',\n",
    "        )],\n",
    "        'layout': go.Layout(\n",
    "            xaxis={\n",
    "                'title': xaxis_column_name},\n",
    "            yaxis={\n",
    "                'title': yaxis_column_name,},\n",
    "            margin={'l': 40, 'b': 40, 't': 10, 'r': 0},\n",
    "            hovermode='closest',\n",
    "        )\n",
    "    }\n",
    "# to view inside the lab\n",
    "#viewer.show(app)"
   ]
  },
  {
   "cell_type": "code",
   "execution_count": 21,
   "metadata": {},
   "outputs": [
    {
     "name": "stdout",
     "output_type": "stream",
     "text": [
      "Running on http://127.0.0.1:8050/\n",
      "Running on http://127.0.0.1:8050/\n",
      "Running on http://127.0.0.1:8050/\n",
      "Running on http://127.0.0.1:8050/\n",
      "Running on http://127.0.0.1:8050/\n",
      "Running on http://127.0.0.1:8050/\n",
      "Running on http://127.0.0.1:8050/\n",
      "Running on http://127.0.0.1:8050/\n",
      "Debugger PIN: 367-484-145\n",
      "Debugger PIN: 367-484-145\n",
      "Debugger PIN: 367-484-145\n",
      "Debugger PIN: 367-484-145\n",
      "Debugger PIN: 367-484-145\n",
      "Debugger PIN: 367-484-145\n",
      "Debugger PIN: 367-484-145\n",
      "Debugger PIN: 367-484-145\n",
      " * Serving Flask app \"__main__\" (lazy loading)\n",
      " * Environment: production\n",
      "   WARNING: This is a development server. Do not use it in a production deployment.\n",
      "   Use a production WSGI server instead.\n",
      " * Debug mode: on\n"
     ]
    },
    {
     "ename": "SystemExit",
     "evalue": "1",
     "output_type": "error",
     "traceback": [
      "An exception has occurred, use %tb to see the full traceback.\n",
      "\u001b[0;31mSystemExit\u001b[0m\u001b[0;31m:\u001b[0m 1\n"
     ]
    },
    {
     "name": "stderr",
     "output_type": "stream",
     "text": [
      "/Users/pgreisen/anaconda3/lib/python3.6/site-packages/IPython/core/interactiveshell.py:3275: UserWarning:\n",
      "\n",
      "To exit: use 'exit', 'quit', or Ctrl-D.\n",
      "\n"
     ]
    }
   ],
   "source": [
    "if __name__ == '__main__':\n",
    "    app.run_server(debug=True)"
   ]
  },
  {
   "cell_type": "code",
   "execution_count": null,
   "metadata": {},
   "outputs": [],
   "source": []
  }
 ],
 "metadata": {
  "kernelspec": {
   "display_name": "Python 3",
   "language": "python",
   "name": "python3"
  },
  "language_info": {
   "codemirror_mode": {
    "name": "ipython",
    "version": 3
   },
   "file_extension": ".py",
   "mimetype": "text/x-python",
   "name": "python",
   "nbconvert_exporter": "python",
   "pygments_lexer": "ipython3",
   "version": "3.6.8"
  }
 },
 "nbformat": 4,
 "nbformat_minor": 2
}
